{
 "cells": [
  {
   "cell_type": "code",
   "execution_count": 2,
   "id": "d9ea7a4e",
   "metadata": {},
   "outputs": [
    {
     "data": {
      "text/html": [
       "        <script type=\"text/javascript\">\n",
       "        window.PlotlyConfig = {MathJaxConfig: 'local'};\n",
       "        if (window.MathJax && window.MathJax.Hub && window.MathJax.Hub.Config) {window.MathJax.Hub.Config({SVG: {font: \"STIX-Web\"}});}\n",
       "        if (typeof require !== 'undefined') {\n",
       "        require.undef(\"plotly\");\n",
       "        requirejs.config({\n",
       "            paths: {\n",
       "                'plotly': ['https://cdn.plot.ly/plotly-2.18.2.min']\n",
       "            }\n",
       "        });\n",
       "        require(['plotly'], function(Plotly) {\n",
       "            window._Plotly = Plotly;\n",
       "        });\n",
       "        }\n",
       "        </script>\n",
       "        "
      ]
     },
     "metadata": {},
     "output_type": "display_data"
    }
   ],
   "source": [
    "import orjson, json\n",
    "import timeit\n",
    "import time\n",
    "import math\n",
    "import numba as nb\n",
    "import numpy as np\n",
    "import numexpr as ne\n",
    "import pandas as pd\n",
    "import plotly.express as px\n",
    "from plotly.offline import init_notebook_mode\n",
    "init_notebook_mode(connected = True)"
   ]
  },
  {
   "cell_type": "code",
   "execution_count": 4,
   "id": "88ba64ca",
   "metadata": {},
   "outputs": [],
   "source": [
    "def py_damped_sine_func(x, A, lbda, omega, phi):\n",
    "    return A * math.exp(-lbda * x) * math.sin(omega * x + phi)\n",
    "\n",
    "def f_py_external(x_list, A, lbda, omega, phi, y_list):\n",
    "    for i in range(len(x_list)):\n",
    "        y_list[i] = py_damped_sine_func(x_list[i], A, lbda, omega, phi)"
   ]
  },
  {
   "cell_type": "code",
   "execution_count": 3,
   "id": "28319a50",
   "metadata": {},
   "outputs": [],
   "source": [
    "def f_numpy(x_array, A, lbda, omega, phi, y_array):\n",
    "    return A * np.exp(-lbda * x_array) * np.sin(omega * x_array + phi)\n",
    "    #np.sin(x_array, out=y_array)"
   ]
  },
  {
   "cell_type": "code",
   "execution_count": 4,
   "id": "b4b6ac1c",
   "metadata": {},
   "outputs": [],
   "source": [
    "@nb.jit(nopython=True, nogil=True, cache=True)\n",
    "def numba_damped_sine_func(x, A, lbda, omega, phi):\n",
    "    return A * np.exp(-lbda * x) * np.sin(omega * x + phi)              \n",
    "\n",
    "@nb.jit(nopython=True, nogil=True, cache=True)\n",
    "def f_numba(x_array, A, lbda, omega, phi, y_array):\n",
    "    for i in range(x_array.size):\n",
    "        y_array[i] = A * np.exp(-lbda * x_array[i]) * np.sin(omega * x_array[i] + phi)   \n",
    "        \n",
    "@nb.jit(nopython=True, nogil=True, cache=True)\n",
    "def f_numba_external(x_array, A, lbda, omega, phi, y_array):\n",
    "    for i in nb.prange(x_array.size):\n",
    "        y_array[i] = numba_damped_sine_func(x_array[i], A, lbda, omega, phi)\n",
    "        \n",
    "@nb.jit(parallel=True, nopython=True, nogil=True, cache=True)\n",
    "def f_numba_external_parall(x_array, A, lbda, omega, phi, y_array):\n",
    "    for i in nb.prange(x_array.size):\n",
    "        y_array[i] = numba_damped_sine_func(x_array[i], A, lbda, omega, phi)"
   ]
  },
  {
   "cell_type": "code",
   "execution_count": 916,
   "id": "d43c3376",
   "metadata": {},
   "outputs": [],
   "source": [
    "def f_numexpr(x_array, A, lbda, omega, phi, y_array):\n",
    "    ne.evaluate(\"A * exp(-lbda * x_array) * sin(omega * x_array + phi)\", out=y_array)"
   ]
  },
  {
   "cell_type": "code",
   "execution_count": 917,
   "id": "6eca5b88",
   "metadata": {},
   "outputs": [],
   "source": [
    "funcs = [f_py_external, f_numpy, f_numba, f_numba_external_parall, f_numexpr]\n",
    "sizes = [1, 1, 5, 10, 100, 500, 1_000, 2_000, 3_000, 5_000, 10_000, 20_000, 50_000, 100_000, 200_000, 500_000, 1_000_000]"
   ]
  },
  {
   "cell_type": "code",
   "execution_count": 918,
   "id": "c36bed1c",
   "metadata": {},
   "outputs": [],
   "source": [
    "funcs = [f_numpy, f_numba, f_numba_external_parall, f_numexpr]\n",
    "sizes = [100, 200, 400, 600, 800, 1_000, 2_000, 3_000, 4_000, 5_000, 6_000, 7_000, 8_000, 9_000, 10_000, 12_000, 15_000]"
   ]
  },
  {
   "cell_type": "code",
   "execution_count": 919,
   "id": "9c902735",
   "metadata": {},
   "outputs": [],
   "source": [
    "times = np.zeros((len(sizes), len(funcs)))\n",
    "compl_times = np.zeros(len(funcs))"
   ]
  },
  {
   "cell_type": "code",
   "execution_count": 920,
   "id": "c8dfe6e4",
   "metadata": {},
   "outputs": [],
   "source": [
    "A = 1.3\n",
    "lbda = 1.7\n",
    "omega = 8 * np.pi\n",
    "phi = 0.5 * np.pi"
   ]
  },
  {
   "cell_type": "code",
   "execution_count": 921,
   "id": "dd18938f",
   "metadata": {},
   "outputs": [],
   "source": [
    "REPEAT = 7\n",
    "NUMBER_NOPY = 4_000\n",
    "NUMBER_PY = 2\n",
    "DTYPE = np.float64"
   ]
  },
  {
   "cell_type": "code",
   "execution_count": 922,
   "id": "a438f5a8",
   "metadata": {},
   "outputs": [
    {
     "name": "stdout",
     "output_type": "stream",
     "text": [
      "f_numpy: 0.0\n",
      "f_numba: 0.005063636002887506\n",
      "f_numba_external_parall: 0.005088444999273634\n",
      "f_numexpr: 0.0\n"
     ]
    }
   ],
   "source": [
    "# Compilation (1st run)\n",
    "for j, f in enumerate(funcs):\n",
    "    x_array = np.linspace(0, 1, num=1, dtype=DTYPE)\n",
    "    y_array = np.empty_like(x_array)     \n",
    "    if f.__name__.startswith('f_numba'):\n",
    "        res = timeit.timeit(lambda: f(x_array, A, lbda, omega, phi, y_array), number=1)\n",
    "    else:\n",
    "        res = 0.0\n",
    "    print(f'{f.__name__}: {res}')\n",
    "    compl_times[j] = res"
   ]
  },
  {
   "cell_type": "code",
   "execution_count": 923,
   "id": "24a85780",
   "metadata": {},
   "outputs": [
    {
     "name": "stdout",
     "output_type": "stream",
     "text": [
      "....100\n",
      "....200\n",
      "....400\n",
      "....600\n",
      "....800\n",
      "....1000\n",
      "....2000\n",
      "....3000\n",
      "....4000\n",
      "....5000\n",
      "....6000\n",
      "....7000\n",
      "....8000\n",
      "....9000\n",
      "....10000\n",
      "....12000\n",
      "....15000\n"
     ]
    }
   ],
   "source": [
    "# Now, without compilation (multiple runs)    \n",
    "for i, s in enumerate(sizes):\n",
    "    for j, f in enumerate(funcs):\n",
    "        x_array = np.linspace(0, 1, num=s, dtype=DTYPE)\n",
    "        y_array = np.empty_like(x_array)     \n",
    "        N = NUMBER_NOPY\n",
    "        if f.__name__.startswith('f_py'):\n",
    "            x_array = x_array.tolist()\n",
    "            y_array = y_array.tolist()\n",
    "            N = NUMBER_PY\n",
    "        res = timeit.repeat(lambda: f(x_array, A, lbda, omega, phi, y_array), repeat=REPEAT, number=N)\n",
    "        times[i, j] = np.sum(res) / REPEAT / NUMBER\n",
    "        print(\".\", end=\"\")\n",
    "    print(s)"
   ]
  },
  {
   "cell_type": "code",
   "execution_count": 924,
   "id": "e771226a",
   "metadata": {},
   "outputs": [],
   "source": [
    "l = [pd.DataFrame({'name': f.__name__, \n",
    "                   'x': sizes, \n",
    "                   'y': times[:, j],\n",
    "                   'y_full': times[:, j] + compl_times[j]\n",
    "                  }) \n",
    "     for j, f in enumerate(funcs)]\n",
    "df = pd.concat(l)"
   ]
  },
  {
   "cell_type": "code",
   "execution_count": 930,
   "id": "75a800ab",
   "metadata": {},
   "outputs": [
    {
     "data": {
      "application/vnd.plotly.v1+json": {
       "config": {
        "plotlyServerURL": "https://plot.ly"
       },
       "data": [
        {
         "hovertemplate": "name=f_numpy<br>x=%{x}<br>y=%{y}<extra></extra>",
         "legendgroup": "f_numpy",
         "line": {
          "color": "#636efa",
          "dash": "solid"
         },
         "marker": {
          "symbol": "circle"
         },
         "mode": "markers+lines",
         "name": "f_numpy",
         "orientation": "v",
         "showlegend": true,
         "type": "scatter",
         "x": [
          100,
          200,
          400,
          600,
          800,
          1000,
          2000,
          3000,
          4000,
          5000,
          6000,
          7000,
          8000,
          9000,
          10000,
          12000,
          15000
         ],
         "xaxis": "x",
         "y": [
          0.002878076557161486,
          0.003925385685839241,
          0.00495392921423315,
          0.006876239242930231,
          0.008622976414231483,
          0.009670420699902545,
          0.015674216642842763,
          0.021849821257118103,
          0.030870845714265932,
          0.035518860857077277,
          0.04199182435721533,
          0.04816420818559501,
          0.05281229295708597,
          0.060544607814257946,
          0.06400810307142299,
          0.0820696097999254,
          0.09784755972858486
         ],
         "yaxis": "y"
        },
        {
         "hovertemplate": "name=f_numba<br>x=%{x}<br>y=%{y}<extra></extra>",
         "legendgroup": "f_numba",
         "line": {
          "color": "#EF553B",
          "dash": "solid"
         },
         "marker": {
          "symbol": "circle"
         },
         "mode": "markers+lines",
         "name": "f_numba",
         "orientation": "v",
         "showlegend": true,
         "type": "scatter",
         "x": [
          100,
          200,
          400,
          600,
          800,
          1000,
          2000,
          3000,
          4000,
          5000,
          6000,
          7000,
          8000,
          9000,
          10000,
          12000,
          15000
         ],
         "xaxis": "x",
         "y": [
          0.0008605103000653409,
          0.0016326826714378382,
          0.003114592099934401,
          0.004564959185622034,
          0.006454410785694822,
          0.007215937699999943,
          0.013620021000003493,
          0.02075925294286987,
          0.02696397469990188,
          0.03349015751425343,
          0.04038560458575376,
          0.04655375070007202,
          0.05205243602857601,
          0.05903177655709442,
          0.07003716167138399,
          0.07860578802849758,
          0.09961445022854605
         ],
         "yaxis": "y"
        },
        {
         "hovertemplate": "name=f_numba_external_parall<br>x=%{x}<br>y=%{y}<extra></extra>",
         "legendgroup": "f_numba_external_parall",
         "line": {
          "color": "#00cc96",
          "dash": "solid"
         },
         "marker": {
          "symbol": "circle"
         },
         "mode": "markers+lines",
         "name": "f_numba_external_parall",
         "orientation": "v",
         "showlegend": true,
         "type": "scatter",
         "x": [
          100,
          200,
          400,
          600,
          800,
          1000,
          2000,
          3000,
          4000,
          5000,
          6000,
          7000,
          8000,
          9000,
          10000,
          12000,
          15000
         ],
         "xaxis": "x",
         "y": [
          0.02906323574295259,
          0.02897081188571714,
          0.02995389084291154,
          0.03184091130003383,
          0.03333556265710545,
          0.03191018578576664,
          0.033325205042897973,
          0.03413789048572653,
          0.03858697171438377,
          0.03976256817139594,
          0.04124816667140944,
          0.04179134590002442,
          0.04585279358564419,
          0.041492106614272675,
          0.04596917348571879,
          0.05118626051428562,
          0.05700389345724294
         ],
         "yaxis": "y"
        },
        {
         "hovertemplate": "name=f_numexpr<br>x=%{x}<br>y=%{y}<extra></extra>",
         "legendgroup": "f_numexpr",
         "line": {
          "color": "#ab63fa",
          "dash": "solid"
         },
         "marker": {
          "symbol": "circle"
         },
         "mode": "markers+lines",
         "name": "f_numexpr",
         "orientation": "v",
         "showlegend": true,
         "type": "scatter",
         "x": [
          100,
          200,
          400,
          600,
          800,
          1000,
          2000,
          3000,
          4000,
          5000,
          6000,
          7000,
          8000,
          9000,
          10000,
          12000,
          15000
         ],
         "xaxis": "x",
         "y": [
          0.005806731285650001,
          0.006681638800052627,
          0.009047743342827224,
          0.011392160842816728,
          0.013093877557184896,
          0.014388737499965438,
          0.02156602355717041,
          0.04180136648574262,
          0.043963279271390224,
          0.045298289371411164,
          0.04787901689996943,
          0.04822578467148041,
          0.046353599371390636,
          0.04950286508574209,
          0.059452404471397005,
          0.05759664982859769,
          0.061043126871352014
         ],
         "yaxis": "y"
        }
       ],
       "layout": {
        "legend": {
         "title": {
          "text": "name"
         },
         "tracegroupgap": 0
        },
        "template": {
         "data": {
          "bar": [
           {
            "error_x": {
             "color": "#2a3f5f"
            },
            "error_y": {
             "color": "#2a3f5f"
            },
            "marker": {
             "line": {
              "color": "#E5ECF6",
              "width": 0.5
             },
             "pattern": {
              "fillmode": "overlay",
              "size": 10,
              "solidity": 0.2
             }
            },
            "type": "bar"
           }
          ],
          "barpolar": [
           {
            "marker": {
             "line": {
              "color": "#E5ECF6",
              "width": 0.5
             },
             "pattern": {
              "fillmode": "overlay",
              "size": 10,
              "solidity": 0.2
             }
            },
            "type": "barpolar"
           }
          ],
          "carpet": [
           {
            "aaxis": {
             "endlinecolor": "#2a3f5f",
             "gridcolor": "white",
             "linecolor": "white",
             "minorgridcolor": "white",
             "startlinecolor": "#2a3f5f"
            },
            "baxis": {
             "endlinecolor": "#2a3f5f",
             "gridcolor": "white",
             "linecolor": "white",
             "minorgridcolor": "white",
             "startlinecolor": "#2a3f5f"
            },
            "type": "carpet"
           }
          ],
          "choropleth": [
           {
            "colorbar": {
             "outlinewidth": 0,
             "ticks": ""
            },
            "type": "choropleth"
           }
          ],
          "contour": [
           {
            "colorbar": {
             "outlinewidth": 0,
             "ticks": ""
            },
            "colorscale": [
             [
              0,
              "#0d0887"
             ],
             [
              0.1111111111111111,
              "#46039f"
             ],
             [
              0.2222222222222222,
              "#7201a8"
             ],
             [
              0.3333333333333333,
              "#9c179e"
             ],
             [
              0.4444444444444444,
              "#bd3786"
             ],
             [
              0.5555555555555556,
              "#d8576b"
             ],
             [
              0.6666666666666666,
              "#ed7953"
             ],
             [
              0.7777777777777778,
              "#fb9f3a"
             ],
             [
              0.8888888888888888,
              "#fdca26"
             ],
             [
              1,
              "#f0f921"
             ]
            ],
            "type": "contour"
           }
          ],
          "contourcarpet": [
           {
            "colorbar": {
             "outlinewidth": 0,
             "ticks": ""
            },
            "type": "contourcarpet"
           }
          ],
          "heatmap": [
           {
            "colorbar": {
             "outlinewidth": 0,
             "ticks": ""
            },
            "colorscale": [
             [
              0,
              "#0d0887"
             ],
             [
              0.1111111111111111,
              "#46039f"
             ],
             [
              0.2222222222222222,
              "#7201a8"
             ],
             [
              0.3333333333333333,
              "#9c179e"
             ],
             [
              0.4444444444444444,
              "#bd3786"
             ],
             [
              0.5555555555555556,
              "#d8576b"
             ],
             [
              0.6666666666666666,
              "#ed7953"
             ],
             [
              0.7777777777777778,
              "#fb9f3a"
             ],
             [
              0.8888888888888888,
              "#fdca26"
             ],
             [
              1,
              "#f0f921"
             ]
            ],
            "type": "heatmap"
           }
          ],
          "heatmapgl": [
           {
            "colorbar": {
             "outlinewidth": 0,
             "ticks": ""
            },
            "colorscale": [
             [
              0,
              "#0d0887"
             ],
             [
              0.1111111111111111,
              "#46039f"
             ],
             [
              0.2222222222222222,
              "#7201a8"
             ],
             [
              0.3333333333333333,
              "#9c179e"
             ],
             [
              0.4444444444444444,
              "#bd3786"
             ],
             [
              0.5555555555555556,
              "#d8576b"
             ],
             [
              0.6666666666666666,
              "#ed7953"
             ],
             [
              0.7777777777777778,
              "#fb9f3a"
             ],
             [
              0.8888888888888888,
              "#fdca26"
             ],
             [
              1,
              "#f0f921"
             ]
            ],
            "type": "heatmapgl"
           }
          ],
          "histogram": [
           {
            "marker": {
             "pattern": {
              "fillmode": "overlay",
              "size": 10,
              "solidity": 0.2
             }
            },
            "type": "histogram"
           }
          ],
          "histogram2d": [
           {
            "colorbar": {
             "outlinewidth": 0,
             "ticks": ""
            },
            "colorscale": [
             [
              0,
              "#0d0887"
             ],
             [
              0.1111111111111111,
              "#46039f"
             ],
             [
              0.2222222222222222,
              "#7201a8"
             ],
             [
              0.3333333333333333,
              "#9c179e"
             ],
             [
              0.4444444444444444,
              "#bd3786"
             ],
             [
              0.5555555555555556,
              "#d8576b"
             ],
             [
              0.6666666666666666,
              "#ed7953"
             ],
             [
              0.7777777777777778,
              "#fb9f3a"
             ],
             [
              0.8888888888888888,
              "#fdca26"
             ],
             [
              1,
              "#f0f921"
             ]
            ],
            "type": "histogram2d"
           }
          ],
          "histogram2dcontour": [
           {
            "colorbar": {
             "outlinewidth": 0,
             "ticks": ""
            },
            "colorscale": [
             [
              0,
              "#0d0887"
             ],
             [
              0.1111111111111111,
              "#46039f"
             ],
             [
              0.2222222222222222,
              "#7201a8"
             ],
             [
              0.3333333333333333,
              "#9c179e"
             ],
             [
              0.4444444444444444,
              "#bd3786"
             ],
             [
              0.5555555555555556,
              "#d8576b"
             ],
             [
              0.6666666666666666,
              "#ed7953"
             ],
             [
              0.7777777777777778,
              "#fb9f3a"
             ],
             [
              0.8888888888888888,
              "#fdca26"
             ],
             [
              1,
              "#f0f921"
             ]
            ],
            "type": "histogram2dcontour"
           }
          ],
          "mesh3d": [
           {
            "colorbar": {
             "outlinewidth": 0,
             "ticks": ""
            },
            "type": "mesh3d"
           }
          ],
          "parcoords": [
           {
            "line": {
             "colorbar": {
              "outlinewidth": 0,
              "ticks": ""
             }
            },
            "type": "parcoords"
           }
          ],
          "pie": [
           {
            "automargin": true,
            "type": "pie"
           }
          ],
          "scatter": [
           {
            "fillpattern": {
             "fillmode": "overlay",
             "size": 10,
             "solidity": 0.2
            },
            "type": "scatter"
           }
          ],
          "scatter3d": [
           {
            "line": {
             "colorbar": {
              "outlinewidth": 0,
              "ticks": ""
             }
            },
            "marker": {
             "colorbar": {
              "outlinewidth": 0,
              "ticks": ""
             }
            },
            "type": "scatter3d"
           }
          ],
          "scattercarpet": [
           {
            "marker": {
             "colorbar": {
              "outlinewidth": 0,
              "ticks": ""
             }
            },
            "type": "scattercarpet"
           }
          ],
          "scattergeo": [
           {
            "marker": {
             "colorbar": {
              "outlinewidth": 0,
              "ticks": ""
             }
            },
            "type": "scattergeo"
           }
          ],
          "scattergl": [
           {
            "marker": {
             "colorbar": {
              "outlinewidth": 0,
              "ticks": ""
             }
            },
            "type": "scattergl"
           }
          ],
          "scattermapbox": [
           {
            "marker": {
             "colorbar": {
              "outlinewidth": 0,
              "ticks": ""
             }
            },
            "type": "scattermapbox"
           }
          ],
          "scatterpolar": [
           {
            "marker": {
             "colorbar": {
              "outlinewidth": 0,
              "ticks": ""
             }
            },
            "type": "scatterpolar"
           }
          ],
          "scatterpolargl": [
           {
            "marker": {
             "colorbar": {
              "outlinewidth": 0,
              "ticks": ""
             }
            },
            "type": "scatterpolargl"
           }
          ],
          "scatterternary": [
           {
            "marker": {
             "colorbar": {
              "outlinewidth": 0,
              "ticks": ""
             }
            },
            "type": "scatterternary"
           }
          ],
          "surface": [
           {
            "colorbar": {
             "outlinewidth": 0,
             "ticks": ""
            },
            "colorscale": [
             [
              0,
              "#0d0887"
             ],
             [
              0.1111111111111111,
              "#46039f"
             ],
             [
              0.2222222222222222,
              "#7201a8"
             ],
             [
              0.3333333333333333,
              "#9c179e"
             ],
             [
              0.4444444444444444,
              "#bd3786"
             ],
             [
              0.5555555555555556,
              "#d8576b"
             ],
             [
              0.6666666666666666,
              "#ed7953"
             ],
             [
              0.7777777777777778,
              "#fb9f3a"
             ],
             [
              0.8888888888888888,
              "#fdca26"
             ],
             [
              1,
              "#f0f921"
             ]
            ],
            "type": "surface"
           }
          ],
          "table": [
           {
            "cells": {
             "fill": {
              "color": "#EBF0F8"
             },
             "line": {
              "color": "white"
             }
            },
            "header": {
             "fill": {
              "color": "#C8D4E3"
             },
             "line": {
              "color": "white"
             }
            },
            "type": "table"
           }
          ]
         },
         "layout": {
          "annotationdefaults": {
           "arrowcolor": "#2a3f5f",
           "arrowhead": 0,
           "arrowwidth": 1
          },
          "autotypenumbers": "strict",
          "coloraxis": {
           "colorbar": {
            "outlinewidth": 0,
            "ticks": ""
           }
          },
          "colorscale": {
           "diverging": [
            [
             0,
             "#8e0152"
            ],
            [
             0.1,
             "#c51b7d"
            ],
            [
             0.2,
             "#de77ae"
            ],
            [
             0.3,
             "#f1b6da"
            ],
            [
             0.4,
             "#fde0ef"
            ],
            [
             0.5,
             "#f7f7f7"
            ],
            [
             0.6,
             "#e6f5d0"
            ],
            [
             0.7,
             "#b8e186"
            ],
            [
             0.8,
             "#7fbc41"
            ],
            [
             0.9,
             "#4d9221"
            ],
            [
             1,
             "#276419"
            ]
           ],
           "sequential": [
            [
             0,
             "#0d0887"
            ],
            [
             0.1111111111111111,
             "#46039f"
            ],
            [
             0.2222222222222222,
             "#7201a8"
            ],
            [
             0.3333333333333333,
             "#9c179e"
            ],
            [
             0.4444444444444444,
             "#bd3786"
            ],
            [
             0.5555555555555556,
             "#d8576b"
            ],
            [
             0.6666666666666666,
             "#ed7953"
            ],
            [
             0.7777777777777778,
             "#fb9f3a"
            ],
            [
             0.8888888888888888,
             "#fdca26"
            ],
            [
             1,
             "#f0f921"
            ]
           ],
           "sequentialminus": [
            [
             0,
             "#0d0887"
            ],
            [
             0.1111111111111111,
             "#46039f"
            ],
            [
             0.2222222222222222,
             "#7201a8"
            ],
            [
             0.3333333333333333,
             "#9c179e"
            ],
            [
             0.4444444444444444,
             "#bd3786"
            ],
            [
             0.5555555555555556,
             "#d8576b"
            ],
            [
             0.6666666666666666,
             "#ed7953"
            ],
            [
             0.7777777777777778,
             "#fb9f3a"
            ],
            [
             0.8888888888888888,
             "#fdca26"
            ],
            [
             1,
             "#f0f921"
            ]
           ]
          },
          "colorway": [
           "#636efa",
           "#EF553B",
           "#00cc96",
           "#ab63fa",
           "#FFA15A",
           "#19d3f3",
           "#FF6692",
           "#B6E880",
           "#FF97FF",
           "#FECB52"
          ],
          "font": {
           "color": "#2a3f5f"
          },
          "geo": {
           "bgcolor": "white",
           "lakecolor": "white",
           "landcolor": "#E5ECF6",
           "showlakes": true,
           "showland": true,
           "subunitcolor": "white"
          },
          "hoverlabel": {
           "align": "left"
          },
          "hovermode": "closest",
          "mapbox": {
           "style": "light"
          },
          "paper_bgcolor": "white",
          "plot_bgcolor": "#E5ECF6",
          "polar": {
           "angularaxis": {
            "gridcolor": "white",
            "linecolor": "white",
            "ticks": ""
           },
           "bgcolor": "#E5ECF6",
           "radialaxis": {
            "gridcolor": "white",
            "linecolor": "white",
            "ticks": ""
           }
          },
          "scene": {
           "xaxis": {
            "backgroundcolor": "#E5ECF6",
            "gridcolor": "white",
            "gridwidth": 2,
            "linecolor": "white",
            "showbackground": true,
            "ticks": "",
            "zerolinecolor": "white"
           },
           "yaxis": {
            "backgroundcolor": "#E5ECF6",
            "gridcolor": "white",
            "gridwidth": 2,
            "linecolor": "white",
            "showbackground": true,
            "ticks": "",
            "zerolinecolor": "white"
           },
           "zaxis": {
            "backgroundcolor": "#E5ECF6",
            "gridcolor": "white",
            "gridwidth": 2,
            "linecolor": "white",
            "showbackground": true,
            "ticks": "",
            "zerolinecolor": "white"
           }
          },
          "shapedefaults": {
           "line": {
            "color": "#2a3f5f"
           }
          },
          "ternary": {
           "aaxis": {
            "gridcolor": "white",
            "linecolor": "white",
            "ticks": ""
           },
           "baxis": {
            "gridcolor": "white",
            "linecolor": "white",
            "ticks": ""
           },
           "bgcolor": "#E5ECF6",
           "caxis": {
            "gridcolor": "white",
            "linecolor": "white",
            "ticks": ""
           }
          },
          "title": {
           "x": 0.05
          },
          "xaxis": {
           "automargin": true,
           "gridcolor": "white",
           "linecolor": "white",
           "ticks": "",
           "title": {
            "standoff": 15
           },
           "zerolinecolor": "white",
           "zerolinewidth": 2
          },
          "yaxis": {
           "automargin": true,
           "gridcolor": "white",
           "linecolor": "white",
           "ticks": "",
           "title": {
            "standoff": 15
           },
           "zerolinecolor": "white",
           "zerolinewidth": 2
          }
         }
        },
        "title": {
         "text": "Without compilation time"
        },
        "xaxis": {
         "anchor": "y",
         "domain": [
          0,
          1
         ],
         "range": [
          1.95,
          4.2
         ],
         "title": {
          "text": "x"
         },
         "type": "log"
        },
        "yaxis": {
         "anchor": "x",
         "domain": [
          0,
          1
         ],
         "title": {
          "text": "y"
         },
         "type": "log"
        }
       }
      },
      "text/html": [
       "<div>                            <div id=\"45161cf5-423a-47de-93d1-0ffb4a10b346\" class=\"plotly-graph-div\" style=\"height:525px; width:100%;\"></div>            <script type=\"text/javascript\">                require([\"plotly\"], function(Plotly) {                    window.PLOTLYENV=window.PLOTLYENV || {};                                    if (document.getElementById(\"45161cf5-423a-47de-93d1-0ffb4a10b346\")) {                    Plotly.newPlot(                        \"45161cf5-423a-47de-93d1-0ffb4a10b346\",                        [{\"hovertemplate\":\"name=f_numpy<br>x=%{x}<br>y=%{y}<extra></extra>\",\"legendgroup\":\"f_numpy\",\"line\":{\"color\":\"#636efa\",\"dash\":\"solid\"},\"marker\":{\"symbol\":\"circle\"},\"mode\":\"markers+lines\",\"name\":\"f_numpy\",\"orientation\":\"v\",\"showlegend\":true,\"x\":[100,200,400,600,800,1000,2000,3000,4000,5000,6000,7000,8000,9000,10000,12000,15000],\"xaxis\":\"x\",\"y\":[0.002878076557161486,0.003925385685839241,0.00495392921423315,0.006876239242930231,0.008622976414231483,0.009670420699902545,0.015674216642842763,0.021849821257118103,0.030870845714265932,0.035518860857077277,0.04199182435721533,0.04816420818559501,0.05281229295708597,0.060544607814257946,0.06400810307142299,0.0820696097999254,0.09784755972858486],\"yaxis\":\"y\",\"type\":\"scatter\"},{\"hovertemplate\":\"name=f_numba<br>x=%{x}<br>y=%{y}<extra></extra>\",\"legendgroup\":\"f_numba\",\"line\":{\"color\":\"#EF553B\",\"dash\":\"solid\"},\"marker\":{\"symbol\":\"circle\"},\"mode\":\"markers+lines\",\"name\":\"f_numba\",\"orientation\":\"v\",\"showlegend\":true,\"x\":[100,200,400,600,800,1000,2000,3000,4000,5000,6000,7000,8000,9000,10000,12000,15000],\"xaxis\":\"x\",\"y\":[0.0008605103000653409,0.0016326826714378382,0.003114592099934401,0.004564959185622034,0.006454410785694822,0.007215937699999943,0.013620021000003493,0.02075925294286987,0.02696397469990188,0.03349015751425343,0.04038560458575376,0.04655375070007202,0.05205243602857601,0.05903177655709442,0.07003716167138399,0.07860578802849758,0.09961445022854605],\"yaxis\":\"y\",\"type\":\"scatter\"},{\"hovertemplate\":\"name=f_numba_external_parall<br>x=%{x}<br>y=%{y}<extra></extra>\",\"legendgroup\":\"f_numba_external_parall\",\"line\":{\"color\":\"#00cc96\",\"dash\":\"solid\"},\"marker\":{\"symbol\":\"circle\"},\"mode\":\"markers+lines\",\"name\":\"f_numba_external_parall\",\"orientation\":\"v\",\"showlegend\":true,\"x\":[100,200,400,600,800,1000,2000,3000,4000,5000,6000,7000,8000,9000,10000,12000,15000],\"xaxis\":\"x\",\"y\":[0.02906323574295259,0.02897081188571714,0.02995389084291154,0.03184091130003383,0.03333556265710545,0.03191018578576664,0.033325205042897973,0.03413789048572653,0.03858697171438377,0.03976256817139594,0.04124816667140944,0.04179134590002442,0.04585279358564419,0.041492106614272675,0.04596917348571879,0.05118626051428562,0.05700389345724294],\"yaxis\":\"y\",\"type\":\"scatter\"},{\"hovertemplate\":\"name=f_numexpr<br>x=%{x}<br>y=%{y}<extra></extra>\",\"legendgroup\":\"f_numexpr\",\"line\":{\"color\":\"#ab63fa\",\"dash\":\"solid\"},\"marker\":{\"symbol\":\"circle\"},\"mode\":\"markers+lines\",\"name\":\"f_numexpr\",\"orientation\":\"v\",\"showlegend\":true,\"x\":[100,200,400,600,800,1000,2000,3000,4000,5000,6000,7000,8000,9000,10000,12000,15000],\"xaxis\":\"x\",\"y\":[0.005806731285650001,0.006681638800052627,0.009047743342827224,0.011392160842816728,0.013093877557184896,0.014388737499965438,0.02156602355717041,0.04180136648574262,0.043963279271390224,0.045298289371411164,0.04787901689996943,0.04822578467148041,0.046353599371390636,0.04950286508574209,0.059452404471397005,0.05759664982859769,0.061043126871352014],\"yaxis\":\"y\",\"type\":\"scatter\"}],                        {\"template\":{\"data\":{\"histogram2dcontour\":[{\"type\":\"histogram2dcontour\",\"colorbar\":{\"outlinewidth\":0,\"ticks\":\"\"},\"colorscale\":[[0.0,\"#0d0887\"],[0.1111111111111111,\"#46039f\"],[0.2222222222222222,\"#7201a8\"],[0.3333333333333333,\"#9c179e\"],[0.4444444444444444,\"#bd3786\"],[0.5555555555555556,\"#d8576b\"],[0.6666666666666666,\"#ed7953\"],[0.7777777777777778,\"#fb9f3a\"],[0.8888888888888888,\"#fdca26\"],[1.0,\"#f0f921\"]]}],\"choropleth\":[{\"type\":\"choropleth\",\"colorbar\":{\"outlinewidth\":0,\"ticks\":\"\"}}],\"histogram2d\":[{\"type\":\"histogram2d\",\"colorbar\":{\"outlinewidth\":0,\"ticks\":\"\"},\"colorscale\":[[0.0,\"#0d0887\"],[0.1111111111111111,\"#46039f\"],[0.2222222222222222,\"#7201a8\"],[0.3333333333333333,\"#9c179e\"],[0.4444444444444444,\"#bd3786\"],[0.5555555555555556,\"#d8576b\"],[0.6666666666666666,\"#ed7953\"],[0.7777777777777778,\"#fb9f3a\"],[0.8888888888888888,\"#fdca26\"],[1.0,\"#f0f921\"]]}],\"heatmap\":[{\"type\":\"heatmap\",\"colorbar\":{\"outlinewidth\":0,\"ticks\":\"\"},\"colorscale\":[[0.0,\"#0d0887\"],[0.1111111111111111,\"#46039f\"],[0.2222222222222222,\"#7201a8\"],[0.3333333333333333,\"#9c179e\"],[0.4444444444444444,\"#bd3786\"],[0.5555555555555556,\"#d8576b\"],[0.6666666666666666,\"#ed7953\"],[0.7777777777777778,\"#fb9f3a\"],[0.8888888888888888,\"#fdca26\"],[1.0,\"#f0f921\"]]}],\"heatmapgl\":[{\"type\":\"heatmapgl\",\"colorbar\":{\"outlinewidth\":0,\"ticks\":\"\"},\"colorscale\":[[0.0,\"#0d0887\"],[0.1111111111111111,\"#46039f\"],[0.2222222222222222,\"#7201a8\"],[0.3333333333333333,\"#9c179e\"],[0.4444444444444444,\"#bd3786\"],[0.5555555555555556,\"#d8576b\"],[0.6666666666666666,\"#ed7953\"],[0.7777777777777778,\"#fb9f3a\"],[0.8888888888888888,\"#fdca26\"],[1.0,\"#f0f921\"]]}],\"contourcarpet\":[{\"type\":\"contourcarpet\",\"colorbar\":{\"outlinewidth\":0,\"ticks\":\"\"}}],\"contour\":[{\"type\":\"contour\",\"colorbar\":{\"outlinewidth\":0,\"ticks\":\"\"},\"colorscale\":[[0.0,\"#0d0887\"],[0.1111111111111111,\"#46039f\"],[0.2222222222222222,\"#7201a8\"],[0.3333333333333333,\"#9c179e\"],[0.4444444444444444,\"#bd3786\"],[0.5555555555555556,\"#d8576b\"],[0.6666666666666666,\"#ed7953\"],[0.7777777777777778,\"#fb9f3a\"],[0.8888888888888888,\"#fdca26\"],[1.0,\"#f0f921\"]]}],\"surface\":[{\"type\":\"surface\",\"colorbar\":{\"outlinewidth\":0,\"ticks\":\"\"},\"colorscale\":[[0.0,\"#0d0887\"],[0.1111111111111111,\"#46039f\"],[0.2222222222222222,\"#7201a8\"],[0.3333333333333333,\"#9c179e\"],[0.4444444444444444,\"#bd3786\"],[0.5555555555555556,\"#d8576b\"],[0.6666666666666666,\"#ed7953\"],[0.7777777777777778,\"#fb9f3a\"],[0.8888888888888888,\"#fdca26\"],[1.0,\"#f0f921\"]]}],\"mesh3d\":[{\"type\":\"mesh3d\",\"colorbar\":{\"outlinewidth\":0,\"ticks\":\"\"}}],\"scatter\":[{\"fillpattern\":{\"fillmode\":\"overlay\",\"size\":10,\"solidity\":0.2},\"type\":\"scatter\"}],\"parcoords\":[{\"type\":\"parcoords\",\"line\":{\"colorbar\":{\"outlinewidth\":0,\"ticks\":\"\"}}}],\"scatterpolargl\":[{\"type\":\"scatterpolargl\",\"marker\":{\"colorbar\":{\"outlinewidth\":0,\"ticks\":\"\"}}}],\"bar\":[{\"error_x\":{\"color\":\"#2a3f5f\"},\"error_y\":{\"color\":\"#2a3f5f\"},\"marker\":{\"line\":{\"color\":\"#E5ECF6\",\"width\":0.5},\"pattern\":{\"fillmode\":\"overlay\",\"size\":10,\"solidity\":0.2}},\"type\":\"bar\"}],\"scattergeo\":[{\"type\":\"scattergeo\",\"marker\":{\"colorbar\":{\"outlinewidth\":0,\"ticks\":\"\"}}}],\"scatterpolar\":[{\"type\":\"scatterpolar\",\"marker\":{\"colorbar\":{\"outlinewidth\":0,\"ticks\":\"\"}}}],\"histogram\":[{\"marker\":{\"pattern\":{\"fillmode\":\"overlay\",\"size\":10,\"solidity\":0.2}},\"type\":\"histogram\"}],\"scattergl\":[{\"type\":\"scattergl\",\"marker\":{\"colorbar\":{\"outlinewidth\":0,\"ticks\":\"\"}}}],\"scatter3d\":[{\"type\":\"scatter3d\",\"line\":{\"colorbar\":{\"outlinewidth\":0,\"ticks\":\"\"}},\"marker\":{\"colorbar\":{\"outlinewidth\":0,\"ticks\":\"\"}}}],\"scattermapbox\":[{\"type\":\"scattermapbox\",\"marker\":{\"colorbar\":{\"outlinewidth\":0,\"ticks\":\"\"}}}],\"scatterternary\":[{\"type\":\"scatterternary\",\"marker\":{\"colorbar\":{\"outlinewidth\":0,\"ticks\":\"\"}}}],\"scattercarpet\":[{\"type\":\"scattercarpet\",\"marker\":{\"colorbar\":{\"outlinewidth\":0,\"ticks\":\"\"}}}],\"carpet\":[{\"aaxis\":{\"endlinecolor\":\"#2a3f5f\",\"gridcolor\":\"white\",\"linecolor\":\"white\",\"minorgridcolor\":\"white\",\"startlinecolor\":\"#2a3f5f\"},\"baxis\":{\"endlinecolor\":\"#2a3f5f\",\"gridcolor\":\"white\",\"linecolor\":\"white\",\"minorgridcolor\":\"white\",\"startlinecolor\":\"#2a3f5f\"},\"type\":\"carpet\"}],\"table\":[{\"cells\":{\"fill\":{\"color\":\"#EBF0F8\"},\"line\":{\"color\":\"white\"}},\"header\":{\"fill\":{\"color\":\"#C8D4E3\"},\"line\":{\"color\":\"white\"}},\"type\":\"table\"}],\"barpolar\":[{\"marker\":{\"line\":{\"color\":\"#E5ECF6\",\"width\":0.5},\"pattern\":{\"fillmode\":\"overlay\",\"size\":10,\"solidity\":0.2}},\"type\":\"barpolar\"}],\"pie\":[{\"automargin\":true,\"type\":\"pie\"}]},\"layout\":{\"autotypenumbers\":\"strict\",\"colorway\":[\"#636efa\",\"#EF553B\",\"#00cc96\",\"#ab63fa\",\"#FFA15A\",\"#19d3f3\",\"#FF6692\",\"#B6E880\",\"#FF97FF\",\"#FECB52\"],\"font\":{\"color\":\"#2a3f5f\"},\"hovermode\":\"closest\",\"hoverlabel\":{\"align\":\"left\"},\"paper_bgcolor\":\"white\",\"plot_bgcolor\":\"#E5ECF6\",\"polar\":{\"bgcolor\":\"#E5ECF6\",\"angularaxis\":{\"gridcolor\":\"white\",\"linecolor\":\"white\",\"ticks\":\"\"},\"radialaxis\":{\"gridcolor\":\"white\",\"linecolor\":\"white\",\"ticks\":\"\"}},\"ternary\":{\"bgcolor\":\"#E5ECF6\",\"aaxis\":{\"gridcolor\":\"white\",\"linecolor\":\"white\",\"ticks\":\"\"},\"baxis\":{\"gridcolor\":\"white\",\"linecolor\":\"white\",\"ticks\":\"\"},\"caxis\":{\"gridcolor\":\"white\",\"linecolor\":\"white\",\"ticks\":\"\"}},\"coloraxis\":{\"colorbar\":{\"outlinewidth\":0,\"ticks\":\"\"}},\"colorscale\":{\"sequential\":[[0.0,\"#0d0887\"],[0.1111111111111111,\"#46039f\"],[0.2222222222222222,\"#7201a8\"],[0.3333333333333333,\"#9c179e\"],[0.4444444444444444,\"#bd3786\"],[0.5555555555555556,\"#d8576b\"],[0.6666666666666666,\"#ed7953\"],[0.7777777777777778,\"#fb9f3a\"],[0.8888888888888888,\"#fdca26\"],[1.0,\"#f0f921\"]],\"sequentialminus\":[[0.0,\"#0d0887\"],[0.1111111111111111,\"#46039f\"],[0.2222222222222222,\"#7201a8\"],[0.3333333333333333,\"#9c179e\"],[0.4444444444444444,\"#bd3786\"],[0.5555555555555556,\"#d8576b\"],[0.6666666666666666,\"#ed7953\"],[0.7777777777777778,\"#fb9f3a\"],[0.8888888888888888,\"#fdca26\"],[1.0,\"#f0f921\"]],\"diverging\":[[0,\"#8e0152\"],[0.1,\"#c51b7d\"],[0.2,\"#de77ae\"],[0.3,\"#f1b6da\"],[0.4,\"#fde0ef\"],[0.5,\"#f7f7f7\"],[0.6,\"#e6f5d0\"],[0.7,\"#b8e186\"],[0.8,\"#7fbc41\"],[0.9,\"#4d9221\"],[1,\"#276419\"]]},\"xaxis\":{\"gridcolor\":\"white\",\"linecolor\":\"white\",\"ticks\":\"\",\"title\":{\"standoff\":15},\"zerolinecolor\":\"white\",\"automargin\":true,\"zerolinewidth\":2},\"yaxis\":{\"gridcolor\":\"white\",\"linecolor\":\"white\",\"ticks\":\"\",\"title\":{\"standoff\":15},\"zerolinecolor\":\"white\",\"automargin\":true,\"zerolinewidth\":2},\"scene\":{\"xaxis\":{\"backgroundcolor\":\"#E5ECF6\",\"gridcolor\":\"white\",\"linecolor\":\"white\",\"showbackground\":true,\"ticks\":\"\",\"zerolinecolor\":\"white\",\"gridwidth\":2},\"yaxis\":{\"backgroundcolor\":\"#E5ECF6\",\"gridcolor\":\"white\",\"linecolor\":\"white\",\"showbackground\":true,\"ticks\":\"\",\"zerolinecolor\":\"white\",\"gridwidth\":2},\"zaxis\":{\"backgroundcolor\":\"#E5ECF6\",\"gridcolor\":\"white\",\"linecolor\":\"white\",\"showbackground\":true,\"ticks\":\"\",\"zerolinecolor\":\"white\",\"gridwidth\":2}},\"shapedefaults\":{\"line\":{\"color\":\"#2a3f5f\"}},\"annotationdefaults\":{\"arrowcolor\":\"#2a3f5f\",\"arrowhead\":0,\"arrowwidth\":1},\"geo\":{\"bgcolor\":\"white\",\"landcolor\":\"#E5ECF6\",\"subunitcolor\":\"white\",\"showland\":true,\"showlakes\":true,\"lakecolor\":\"white\"},\"title\":{\"x\":0.05},\"mapbox\":{\"style\":\"light\"}}},\"xaxis\":{\"anchor\":\"y\",\"domain\":[0.0,1.0],\"title\":{\"text\":\"x\"},\"type\":\"log\",\"range\":[1.95,4.2]},\"yaxis\":{\"anchor\":\"x\",\"domain\":[0.0,1.0],\"title\":{\"text\":\"y\"},\"type\":\"log\"},\"legend\":{\"title\":{\"text\":\"name\"},\"tracegroupgap\":0},\"title\":{\"text\":\"Without compilation time\"}},                        {\"responsive\": true}                    ).then(function(){\n",
       "                            \n",
       "var gd = document.getElementById('45161cf5-423a-47de-93d1-0ffb4a10b346');\n",
       "var x = new MutationObserver(function (mutations, observer) {{\n",
       "        var display = window.getComputedStyle(gd).display;\n",
       "        if (!display || display === 'none') {{\n",
       "            console.log([gd, 'removed!']);\n",
       "            Plotly.purge(gd);\n",
       "            observer.disconnect();\n",
       "        }}\n",
       "}});\n",
       "\n",
       "// Listen for the removal of the full notebook cells\n",
       "var notebookContainer = gd.closest('#notebook-container');\n",
       "if (notebookContainer) {{\n",
       "    x.observe(notebookContainer, {childList: true});\n",
       "}}\n",
       "\n",
       "// Listen for the clearing of the current output cell\n",
       "var outputEl = gd.closest('.output');\n",
       "if (outputEl) {{\n",
       "    x.observe(outputEl, {childList: true});\n",
       "}}\n",
       "\n",
       "                        })                };                });            </script>        </div>"
      ]
     },
     "metadata": {},
     "output_type": "display_data"
    }
   ],
   "source": [
    "fig = px.line(df, x='x', y='y', color='name', \n",
    "              log_x=True, log_y=True, markers=True, title='Without compilation time')\n",
    "fig.update_xaxes(range=[1.95, 4.2])\n",
    "fig.show()"
   ]
  },
  {
   "cell_type": "code",
   "execution_count": 932,
   "id": "7e350542",
   "metadata": {},
   "outputs": [
    {
     "data": {
      "application/vnd.plotly.v1+json": {
       "config": {
        "plotlyServerURL": "https://plot.ly"
       },
       "data": [
        {
         "hovertemplate": "name=f_numpy<br>x=%{x}<br>y_full=%{y}<extra></extra>",
         "legendgroup": "f_numpy",
         "line": {
          "color": "#636efa",
          "dash": "solid"
         },
         "marker": {
          "symbol": "circle"
         },
         "mode": "markers+lines",
         "name": "f_numpy",
         "orientation": "v",
         "showlegend": true,
         "type": "scatter",
         "x": [
          100,
          200,
          400,
          600,
          800,
          1000,
          2000,
          3000,
          4000,
          5000,
          6000,
          7000,
          8000,
          9000,
          10000,
          12000,
          15000
         ],
         "xaxis": "x",
         "y": [
          0.002878076557161486,
          0.003925385685839241,
          0.00495392921423315,
          0.006876239242930231,
          0.008622976414231483,
          0.009670420699902545,
          0.015674216642842763,
          0.021849821257118103,
          0.030870845714265932,
          0.035518860857077277,
          0.04199182435721533,
          0.04816420818559501,
          0.05281229295708597,
          0.060544607814257946,
          0.06400810307142299,
          0.0820696097999254,
          0.09784755972858486
         ],
         "yaxis": "y"
        },
        {
         "hovertemplate": "name=f_numba<br>x=%{x}<br>y_full=%{y}<extra></extra>",
         "legendgroup": "f_numba",
         "line": {
          "color": "#EF553B",
          "dash": "solid"
         },
         "marker": {
          "symbol": "circle"
         },
         "mode": "markers+lines",
         "name": "f_numba",
         "orientation": "v",
         "showlegend": true,
         "type": "scatter",
         "x": [
          100,
          200,
          400,
          600,
          800,
          1000,
          2000,
          3000,
          4000,
          5000,
          6000,
          7000,
          8000,
          9000,
          10000,
          12000,
          15000
         ],
         "xaxis": "x",
         "y": [
          0.005924146302952847,
          0.006696318674325344,
          0.008178228102821906,
          0.00962859518850954,
          0.011518046788582328,
          0.012279573702887448,
          0.018683657002891,
          0.025822888945757377,
          0.03202761070278939,
          0.03855379351714094,
          0.04544924058864126,
          0.051617386702959525,
          0.057116072031463516,
          0.06409541255998193,
          0.0751007976742715,
          0.08366942403138508,
          0.10467808623143356
         ],
         "yaxis": "y"
        },
        {
         "hovertemplate": "name=f_numba_external_parall<br>x=%{x}<br>y_full=%{y}<extra></extra>",
         "legendgroup": "f_numba_external_parall",
         "line": {
          "color": "#00cc96",
          "dash": "solid"
         },
         "marker": {
          "symbol": "circle"
         },
         "mode": "markers+lines",
         "name": "f_numba_external_parall",
         "orientation": "v",
         "showlegend": true,
         "type": "scatter",
         "x": [
          100,
          200,
          400,
          600,
          800,
          1000,
          2000,
          3000,
          4000,
          5000,
          6000,
          7000,
          8000,
          9000,
          10000,
          12000,
          15000
         ],
         "xaxis": "x",
         "y": [
          0.03415168074222623,
          0.03405925688499077,
          0.03504233584218518,
          0.036929356299307464,
          0.038424007656379086,
          0.036998630785040273,
          0.03841365004217161,
          0.039226335485000166,
          0.043675416713657406,
          0.04485101317066957,
          0.04633661167068307,
          0.04687979089929805,
          0.05094123858491782,
          0.04658055161354631,
          0.05105761848499242,
          0.05627470551355925,
          0.06209233845651657
         ],
         "yaxis": "y"
        },
        {
         "hovertemplate": "name=f_numexpr<br>x=%{x}<br>y_full=%{y}<extra></extra>",
         "legendgroup": "f_numexpr",
         "line": {
          "color": "#ab63fa",
          "dash": "solid"
         },
         "marker": {
          "symbol": "circle"
         },
         "mode": "markers+lines",
         "name": "f_numexpr",
         "orientation": "v",
         "showlegend": true,
         "type": "scatter",
         "x": [
          100,
          200,
          400,
          600,
          800,
          1000,
          2000,
          3000,
          4000,
          5000,
          6000,
          7000,
          8000,
          9000,
          10000,
          12000,
          15000
         ],
         "xaxis": "x",
         "y": [
          0.005806731285650001,
          0.006681638800052627,
          0.009047743342827224,
          0.011392160842816728,
          0.013093877557184896,
          0.014388737499965438,
          0.02156602355717041,
          0.04180136648574262,
          0.043963279271390224,
          0.045298289371411164,
          0.04787901689996943,
          0.04822578467148041,
          0.046353599371390636,
          0.04950286508574209,
          0.059452404471397005,
          0.05759664982859769,
          0.061043126871352014
         ],
         "yaxis": "y"
        }
       ],
       "layout": {
        "legend": {
         "title": {
          "text": "name"
         },
         "tracegroupgap": 0
        },
        "template": {
         "data": {
          "bar": [
           {
            "error_x": {
             "color": "#2a3f5f"
            },
            "error_y": {
             "color": "#2a3f5f"
            },
            "marker": {
             "line": {
              "color": "#E5ECF6",
              "width": 0.5
             },
             "pattern": {
              "fillmode": "overlay",
              "size": 10,
              "solidity": 0.2
             }
            },
            "type": "bar"
           }
          ],
          "barpolar": [
           {
            "marker": {
             "line": {
              "color": "#E5ECF6",
              "width": 0.5
             },
             "pattern": {
              "fillmode": "overlay",
              "size": 10,
              "solidity": 0.2
             }
            },
            "type": "barpolar"
           }
          ],
          "carpet": [
           {
            "aaxis": {
             "endlinecolor": "#2a3f5f",
             "gridcolor": "white",
             "linecolor": "white",
             "minorgridcolor": "white",
             "startlinecolor": "#2a3f5f"
            },
            "baxis": {
             "endlinecolor": "#2a3f5f",
             "gridcolor": "white",
             "linecolor": "white",
             "minorgridcolor": "white",
             "startlinecolor": "#2a3f5f"
            },
            "type": "carpet"
           }
          ],
          "choropleth": [
           {
            "colorbar": {
             "outlinewidth": 0,
             "ticks": ""
            },
            "type": "choropleth"
           }
          ],
          "contour": [
           {
            "colorbar": {
             "outlinewidth": 0,
             "ticks": ""
            },
            "colorscale": [
             [
              0,
              "#0d0887"
             ],
             [
              0.1111111111111111,
              "#46039f"
             ],
             [
              0.2222222222222222,
              "#7201a8"
             ],
             [
              0.3333333333333333,
              "#9c179e"
             ],
             [
              0.4444444444444444,
              "#bd3786"
             ],
             [
              0.5555555555555556,
              "#d8576b"
             ],
             [
              0.6666666666666666,
              "#ed7953"
             ],
             [
              0.7777777777777778,
              "#fb9f3a"
             ],
             [
              0.8888888888888888,
              "#fdca26"
             ],
             [
              1,
              "#f0f921"
             ]
            ],
            "type": "contour"
           }
          ],
          "contourcarpet": [
           {
            "colorbar": {
             "outlinewidth": 0,
             "ticks": ""
            },
            "type": "contourcarpet"
           }
          ],
          "heatmap": [
           {
            "colorbar": {
             "outlinewidth": 0,
             "ticks": ""
            },
            "colorscale": [
             [
              0,
              "#0d0887"
             ],
             [
              0.1111111111111111,
              "#46039f"
             ],
             [
              0.2222222222222222,
              "#7201a8"
             ],
             [
              0.3333333333333333,
              "#9c179e"
             ],
             [
              0.4444444444444444,
              "#bd3786"
             ],
             [
              0.5555555555555556,
              "#d8576b"
             ],
             [
              0.6666666666666666,
              "#ed7953"
             ],
             [
              0.7777777777777778,
              "#fb9f3a"
             ],
             [
              0.8888888888888888,
              "#fdca26"
             ],
             [
              1,
              "#f0f921"
             ]
            ],
            "type": "heatmap"
           }
          ],
          "heatmapgl": [
           {
            "colorbar": {
             "outlinewidth": 0,
             "ticks": ""
            },
            "colorscale": [
             [
              0,
              "#0d0887"
             ],
             [
              0.1111111111111111,
              "#46039f"
             ],
             [
              0.2222222222222222,
              "#7201a8"
             ],
             [
              0.3333333333333333,
              "#9c179e"
             ],
             [
              0.4444444444444444,
              "#bd3786"
             ],
             [
              0.5555555555555556,
              "#d8576b"
             ],
             [
              0.6666666666666666,
              "#ed7953"
             ],
             [
              0.7777777777777778,
              "#fb9f3a"
             ],
             [
              0.8888888888888888,
              "#fdca26"
             ],
             [
              1,
              "#f0f921"
             ]
            ],
            "type": "heatmapgl"
           }
          ],
          "histogram": [
           {
            "marker": {
             "pattern": {
              "fillmode": "overlay",
              "size": 10,
              "solidity": 0.2
             }
            },
            "type": "histogram"
           }
          ],
          "histogram2d": [
           {
            "colorbar": {
             "outlinewidth": 0,
             "ticks": ""
            },
            "colorscale": [
             [
              0,
              "#0d0887"
             ],
             [
              0.1111111111111111,
              "#46039f"
             ],
             [
              0.2222222222222222,
              "#7201a8"
             ],
             [
              0.3333333333333333,
              "#9c179e"
             ],
             [
              0.4444444444444444,
              "#bd3786"
             ],
             [
              0.5555555555555556,
              "#d8576b"
             ],
             [
              0.6666666666666666,
              "#ed7953"
             ],
             [
              0.7777777777777778,
              "#fb9f3a"
             ],
             [
              0.8888888888888888,
              "#fdca26"
             ],
             [
              1,
              "#f0f921"
             ]
            ],
            "type": "histogram2d"
           }
          ],
          "histogram2dcontour": [
           {
            "colorbar": {
             "outlinewidth": 0,
             "ticks": ""
            },
            "colorscale": [
             [
              0,
              "#0d0887"
             ],
             [
              0.1111111111111111,
              "#46039f"
             ],
             [
              0.2222222222222222,
              "#7201a8"
             ],
             [
              0.3333333333333333,
              "#9c179e"
             ],
             [
              0.4444444444444444,
              "#bd3786"
             ],
             [
              0.5555555555555556,
              "#d8576b"
             ],
             [
              0.6666666666666666,
              "#ed7953"
             ],
             [
              0.7777777777777778,
              "#fb9f3a"
             ],
             [
              0.8888888888888888,
              "#fdca26"
             ],
             [
              1,
              "#f0f921"
             ]
            ],
            "type": "histogram2dcontour"
           }
          ],
          "mesh3d": [
           {
            "colorbar": {
             "outlinewidth": 0,
             "ticks": ""
            },
            "type": "mesh3d"
           }
          ],
          "parcoords": [
           {
            "line": {
             "colorbar": {
              "outlinewidth": 0,
              "ticks": ""
             }
            },
            "type": "parcoords"
           }
          ],
          "pie": [
           {
            "automargin": true,
            "type": "pie"
           }
          ],
          "scatter": [
           {
            "fillpattern": {
             "fillmode": "overlay",
             "size": 10,
             "solidity": 0.2
            },
            "type": "scatter"
           }
          ],
          "scatter3d": [
           {
            "line": {
             "colorbar": {
              "outlinewidth": 0,
              "ticks": ""
             }
            },
            "marker": {
             "colorbar": {
              "outlinewidth": 0,
              "ticks": ""
             }
            },
            "type": "scatter3d"
           }
          ],
          "scattercarpet": [
           {
            "marker": {
             "colorbar": {
              "outlinewidth": 0,
              "ticks": ""
             }
            },
            "type": "scattercarpet"
           }
          ],
          "scattergeo": [
           {
            "marker": {
             "colorbar": {
              "outlinewidth": 0,
              "ticks": ""
             }
            },
            "type": "scattergeo"
           }
          ],
          "scattergl": [
           {
            "marker": {
             "colorbar": {
              "outlinewidth": 0,
              "ticks": ""
             }
            },
            "type": "scattergl"
           }
          ],
          "scattermapbox": [
           {
            "marker": {
             "colorbar": {
              "outlinewidth": 0,
              "ticks": ""
             }
            },
            "type": "scattermapbox"
           }
          ],
          "scatterpolar": [
           {
            "marker": {
             "colorbar": {
              "outlinewidth": 0,
              "ticks": ""
             }
            },
            "type": "scatterpolar"
           }
          ],
          "scatterpolargl": [
           {
            "marker": {
             "colorbar": {
              "outlinewidth": 0,
              "ticks": ""
             }
            },
            "type": "scatterpolargl"
           }
          ],
          "scatterternary": [
           {
            "marker": {
             "colorbar": {
              "outlinewidth": 0,
              "ticks": ""
             }
            },
            "type": "scatterternary"
           }
          ],
          "surface": [
           {
            "colorbar": {
             "outlinewidth": 0,
             "ticks": ""
            },
            "colorscale": [
             [
              0,
              "#0d0887"
             ],
             [
              0.1111111111111111,
              "#46039f"
             ],
             [
              0.2222222222222222,
              "#7201a8"
             ],
             [
              0.3333333333333333,
              "#9c179e"
             ],
             [
              0.4444444444444444,
              "#bd3786"
             ],
             [
              0.5555555555555556,
              "#d8576b"
             ],
             [
              0.6666666666666666,
              "#ed7953"
             ],
             [
              0.7777777777777778,
              "#fb9f3a"
             ],
             [
              0.8888888888888888,
              "#fdca26"
             ],
             [
              1,
              "#f0f921"
             ]
            ],
            "type": "surface"
           }
          ],
          "table": [
           {
            "cells": {
             "fill": {
              "color": "#EBF0F8"
             },
             "line": {
              "color": "white"
             }
            },
            "header": {
             "fill": {
              "color": "#C8D4E3"
             },
             "line": {
              "color": "white"
             }
            },
            "type": "table"
           }
          ]
         },
         "layout": {
          "annotationdefaults": {
           "arrowcolor": "#2a3f5f",
           "arrowhead": 0,
           "arrowwidth": 1
          },
          "autotypenumbers": "strict",
          "coloraxis": {
           "colorbar": {
            "outlinewidth": 0,
            "ticks": ""
           }
          },
          "colorscale": {
           "diverging": [
            [
             0,
             "#8e0152"
            ],
            [
             0.1,
             "#c51b7d"
            ],
            [
             0.2,
             "#de77ae"
            ],
            [
             0.3,
             "#f1b6da"
            ],
            [
             0.4,
             "#fde0ef"
            ],
            [
             0.5,
             "#f7f7f7"
            ],
            [
             0.6,
             "#e6f5d0"
            ],
            [
             0.7,
             "#b8e186"
            ],
            [
             0.8,
             "#7fbc41"
            ],
            [
             0.9,
             "#4d9221"
            ],
            [
             1,
             "#276419"
            ]
           ],
           "sequential": [
            [
             0,
             "#0d0887"
            ],
            [
             0.1111111111111111,
             "#46039f"
            ],
            [
             0.2222222222222222,
             "#7201a8"
            ],
            [
             0.3333333333333333,
             "#9c179e"
            ],
            [
             0.4444444444444444,
             "#bd3786"
            ],
            [
             0.5555555555555556,
             "#d8576b"
            ],
            [
             0.6666666666666666,
             "#ed7953"
            ],
            [
             0.7777777777777778,
             "#fb9f3a"
            ],
            [
             0.8888888888888888,
             "#fdca26"
            ],
            [
             1,
             "#f0f921"
            ]
           ],
           "sequentialminus": [
            [
             0,
             "#0d0887"
            ],
            [
             0.1111111111111111,
             "#46039f"
            ],
            [
             0.2222222222222222,
             "#7201a8"
            ],
            [
             0.3333333333333333,
             "#9c179e"
            ],
            [
             0.4444444444444444,
             "#bd3786"
            ],
            [
             0.5555555555555556,
             "#d8576b"
            ],
            [
             0.6666666666666666,
             "#ed7953"
            ],
            [
             0.7777777777777778,
             "#fb9f3a"
            ],
            [
             0.8888888888888888,
             "#fdca26"
            ],
            [
             1,
             "#f0f921"
            ]
           ]
          },
          "colorway": [
           "#636efa",
           "#EF553B",
           "#00cc96",
           "#ab63fa",
           "#FFA15A",
           "#19d3f3",
           "#FF6692",
           "#B6E880",
           "#FF97FF",
           "#FECB52"
          ],
          "font": {
           "color": "#2a3f5f"
          },
          "geo": {
           "bgcolor": "white",
           "lakecolor": "white",
           "landcolor": "#E5ECF6",
           "showlakes": true,
           "showland": true,
           "subunitcolor": "white"
          },
          "hoverlabel": {
           "align": "left"
          },
          "hovermode": "closest",
          "mapbox": {
           "style": "light"
          },
          "paper_bgcolor": "white",
          "plot_bgcolor": "#E5ECF6",
          "polar": {
           "angularaxis": {
            "gridcolor": "white",
            "linecolor": "white",
            "ticks": ""
           },
           "bgcolor": "#E5ECF6",
           "radialaxis": {
            "gridcolor": "white",
            "linecolor": "white",
            "ticks": ""
           }
          },
          "scene": {
           "xaxis": {
            "backgroundcolor": "#E5ECF6",
            "gridcolor": "white",
            "gridwidth": 2,
            "linecolor": "white",
            "showbackground": true,
            "ticks": "",
            "zerolinecolor": "white"
           },
           "yaxis": {
            "backgroundcolor": "#E5ECF6",
            "gridcolor": "white",
            "gridwidth": 2,
            "linecolor": "white",
            "showbackground": true,
            "ticks": "",
            "zerolinecolor": "white"
           },
           "zaxis": {
            "backgroundcolor": "#E5ECF6",
            "gridcolor": "white",
            "gridwidth": 2,
            "linecolor": "white",
            "showbackground": true,
            "ticks": "",
            "zerolinecolor": "white"
           }
          },
          "shapedefaults": {
           "line": {
            "color": "#2a3f5f"
           }
          },
          "ternary": {
           "aaxis": {
            "gridcolor": "white",
            "linecolor": "white",
            "ticks": ""
           },
           "baxis": {
            "gridcolor": "white",
            "linecolor": "white",
            "ticks": ""
           },
           "bgcolor": "#E5ECF6",
           "caxis": {
            "gridcolor": "white",
            "linecolor": "white",
            "ticks": ""
           }
          },
          "title": {
           "x": 0.05
          },
          "xaxis": {
           "automargin": true,
           "gridcolor": "white",
           "linecolor": "white",
           "ticks": "",
           "title": {
            "standoff": 15
           },
           "zerolinecolor": "white",
           "zerolinewidth": 2
          },
          "yaxis": {
           "automargin": true,
           "gridcolor": "white",
           "linecolor": "white",
           "ticks": "",
           "title": {
            "standoff": 15
           },
           "zerolinecolor": "white",
           "zerolinewidth": 2
          }
         }
        },
        "title": {
         "text": "Including compilation time"
        },
        "xaxis": {
         "anchor": "y",
         "domain": [
          0,
          1
         ],
         "range": [
          1.95,
          4.2
         ],
         "title": {
          "text": "x"
         },
         "type": "log"
        },
        "yaxis": {
         "anchor": "x",
         "domain": [
          0,
          1
         ],
         "title": {
          "text": "y_full"
         },
         "type": "log"
        }
       }
      },
      "text/html": [
       "<div>                            <div id=\"2dfb8e9b-a5e9-4ccb-8f31-97580d4a1474\" class=\"plotly-graph-div\" style=\"height:525px; width:100%;\"></div>            <script type=\"text/javascript\">                require([\"plotly\"], function(Plotly) {                    window.PLOTLYENV=window.PLOTLYENV || {};                                    if (document.getElementById(\"2dfb8e9b-a5e9-4ccb-8f31-97580d4a1474\")) {                    Plotly.newPlot(                        \"2dfb8e9b-a5e9-4ccb-8f31-97580d4a1474\",                        [{\"hovertemplate\":\"name=f_numpy<br>x=%{x}<br>y_full=%{y}<extra></extra>\",\"legendgroup\":\"f_numpy\",\"line\":{\"color\":\"#636efa\",\"dash\":\"solid\"},\"marker\":{\"symbol\":\"circle\"},\"mode\":\"markers+lines\",\"name\":\"f_numpy\",\"orientation\":\"v\",\"showlegend\":true,\"x\":[100,200,400,600,800,1000,2000,3000,4000,5000,6000,7000,8000,9000,10000,12000,15000],\"xaxis\":\"x\",\"y\":[0.002878076557161486,0.003925385685839241,0.00495392921423315,0.006876239242930231,0.008622976414231483,0.009670420699902545,0.015674216642842763,0.021849821257118103,0.030870845714265932,0.035518860857077277,0.04199182435721533,0.04816420818559501,0.05281229295708597,0.060544607814257946,0.06400810307142299,0.0820696097999254,0.09784755972858486],\"yaxis\":\"y\",\"type\":\"scatter\"},{\"hovertemplate\":\"name=f_numba<br>x=%{x}<br>y_full=%{y}<extra></extra>\",\"legendgroup\":\"f_numba\",\"line\":{\"color\":\"#EF553B\",\"dash\":\"solid\"},\"marker\":{\"symbol\":\"circle\"},\"mode\":\"markers+lines\",\"name\":\"f_numba\",\"orientation\":\"v\",\"showlegend\":true,\"x\":[100,200,400,600,800,1000,2000,3000,4000,5000,6000,7000,8000,9000,10000,12000,15000],\"xaxis\":\"x\",\"y\":[0.005924146302952847,0.006696318674325344,0.008178228102821906,0.00962859518850954,0.011518046788582328,0.012279573702887448,0.018683657002891,0.025822888945757377,0.03202761070278939,0.03855379351714094,0.04544924058864126,0.051617386702959525,0.057116072031463516,0.06409541255998193,0.0751007976742715,0.08366942403138508,0.10467808623143356],\"yaxis\":\"y\",\"type\":\"scatter\"},{\"hovertemplate\":\"name=f_numba_external_parall<br>x=%{x}<br>y_full=%{y}<extra></extra>\",\"legendgroup\":\"f_numba_external_parall\",\"line\":{\"color\":\"#00cc96\",\"dash\":\"solid\"},\"marker\":{\"symbol\":\"circle\"},\"mode\":\"markers+lines\",\"name\":\"f_numba_external_parall\",\"orientation\":\"v\",\"showlegend\":true,\"x\":[100,200,400,600,800,1000,2000,3000,4000,5000,6000,7000,8000,9000,10000,12000,15000],\"xaxis\":\"x\",\"y\":[0.03415168074222623,0.03405925688499077,0.03504233584218518,0.036929356299307464,0.038424007656379086,0.036998630785040273,0.03841365004217161,0.039226335485000166,0.043675416713657406,0.04485101317066957,0.04633661167068307,0.04687979089929805,0.05094123858491782,0.04658055161354631,0.05105761848499242,0.05627470551355925,0.06209233845651657],\"yaxis\":\"y\",\"type\":\"scatter\"},{\"hovertemplate\":\"name=f_numexpr<br>x=%{x}<br>y_full=%{y}<extra></extra>\",\"legendgroup\":\"f_numexpr\",\"line\":{\"color\":\"#ab63fa\",\"dash\":\"solid\"},\"marker\":{\"symbol\":\"circle\"},\"mode\":\"markers+lines\",\"name\":\"f_numexpr\",\"orientation\":\"v\",\"showlegend\":true,\"x\":[100,200,400,600,800,1000,2000,3000,4000,5000,6000,7000,8000,9000,10000,12000,15000],\"xaxis\":\"x\",\"y\":[0.005806731285650001,0.006681638800052627,0.009047743342827224,0.011392160842816728,0.013093877557184896,0.014388737499965438,0.02156602355717041,0.04180136648574262,0.043963279271390224,0.045298289371411164,0.04787901689996943,0.04822578467148041,0.046353599371390636,0.04950286508574209,0.059452404471397005,0.05759664982859769,0.061043126871352014],\"yaxis\":\"y\",\"type\":\"scatter\"}],                        {\"template\":{\"data\":{\"histogram2dcontour\":[{\"type\":\"histogram2dcontour\",\"colorbar\":{\"outlinewidth\":0,\"ticks\":\"\"},\"colorscale\":[[0.0,\"#0d0887\"],[0.1111111111111111,\"#46039f\"],[0.2222222222222222,\"#7201a8\"],[0.3333333333333333,\"#9c179e\"],[0.4444444444444444,\"#bd3786\"],[0.5555555555555556,\"#d8576b\"],[0.6666666666666666,\"#ed7953\"],[0.7777777777777778,\"#fb9f3a\"],[0.8888888888888888,\"#fdca26\"],[1.0,\"#f0f921\"]]}],\"choropleth\":[{\"type\":\"choropleth\",\"colorbar\":{\"outlinewidth\":0,\"ticks\":\"\"}}],\"histogram2d\":[{\"type\":\"histogram2d\",\"colorbar\":{\"outlinewidth\":0,\"ticks\":\"\"},\"colorscale\":[[0.0,\"#0d0887\"],[0.1111111111111111,\"#46039f\"],[0.2222222222222222,\"#7201a8\"],[0.3333333333333333,\"#9c179e\"],[0.4444444444444444,\"#bd3786\"],[0.5555555555555556,\"#d8576b\"],[0.6666666666666666,\"#ed7953\"],[0.7777777777777778,\"#fb9f3a\"],[0.8888888888888888,\"#fdca26\"],[1.0,\"#f0f921\"]]}],\"heatmap\":[{\"type\":\"heatmap\",\"colorbar\":{\"outlinewidth\":0,\"ticks\":\"\"},\"colorscale\":[[0.0,\"#0d0887\"],[0.1111111111111111,\"#46039f\"],[0.2222222222222222,\"#7201a8\"],[0.3333333333333333,\"#9c179e\"],[0.4444444444444444,\"#bd3786\"],[0.5555555555555556,\"#d8576b\"],[0.6666666666666666,\"#ed7953\"],[0.7777777777777778,\"#fb9f3a\"],[0.8888888888888888,\"#fdca26\"],[1.0,\"#f0f921\"]]}],\"heatmapgl\":[{\"type\":\"heatmapgl\",\"colorbar\":{\"outlinewidth\":0,\"ticks\":\"\"},\"colorscale\":[[0.0,\"#0d0887\"],[0.1111111111111111,\"#46039f\"],[0.2222222222222222,\"#7201a8\"],[0.3333333333333333,\"#9c179e\"],[0.4444444444444444,\"#bd3786\"],[0.5555555555555556,\"#d8576b\"],[0.6666666666666666,\"#ed7953\"],[0.7777777777777778,\"#fb9f3a\"],[0.8888888888888888,\"#fdca26\"],[1.0,\"#f0f921\"]]}],\"contourcarpet\":[{\"type\":\"contourcarpet\",\"colorbar\":{\"outlinewidth\":0,\"ticks\":\"\"}}],\"contour\":[{\"type\":\"contour\",\"colorbar\":{\"outlinewidth\":0,\"ticks\":\"\"},\"colorscale\":[[0.0,\"#0d0887\"],[0.1111111111111111,\"#46039f\"],[0.2222222222222222,\"#7201a8\"],[0.3333333333333333,\"#9c179e\"],[0.4444444444444444,\"#bd3786\"],[0.5555555555555556,\"#d8576b\"],[0.6666666666666666,\"#ed7953\"],[0.7777777777777778,\"#fb9f3a\"],[0.8888888888888888,\"#fdca26\"],[1.0,\"#f0f921\"]]}],\"surface\":[{\"type\":\"surface\",\"colorbar\":{\"outlinewidth\":0,\"ticks\":\"\"},\"colorscale\":[[0.0,\"#0d0887\"],[0.1111111111111111,\"#46039f\"],[0.2222222222222222,\"#7201a8\"],[0.3333333333333333,\"#9c179e\"],[0.4444444444444444,\"#bd3786\"],[0.5555555555555556,\"#d8576b\"],[0.6666666666666666,\"#ed7953\"],[0.7777777777777778,\"#fb9f3a\"],[0.8888888888888888,\"#fdca26\"],[1.0,\"#f0f921\"]]}],\"mesh3d\":[{\"type\":\"mesh3d\",\"colorbar\":{\"outlinewidth\":0,\"ticks\":\"\"}}],\"scatter\":[{\"fillpattern\":{\"fillmode\":\"overlay\",\"size\":10,\"solidity\":0.2},\"type\":\"scatter\"}],\"parcoords\":[{\"type\":\"parcoords\",\"line\":{\"colorbar\":{\"outlinewidth\":0,\"ticks\":\"\"}}}],\"scatterpolargl\":[{\"type\":\"scatterpolargl\",\"marker\":{\"colorbar\":{\"outlinewidth\":0,\"ticks\":\"\"}}}],\"bar\":[{\"error_x\":{\"color\":\"#2a3f5f\"},\"error_y\":{\"color\":\"#2a3f5f\"},\"marker\":{\"line\":{\"color\":\"#E5ECF6\",\"width\":0.5},\"pattern\":{\"fillmode\":\"overlay\",\"size\":10,\"solidity\":0.2}},\"type\":\"bar\"}],\"scattergeo\":[{\"type\":\"scattergeo\",\"marker\":{\"colorbar\":{\"outlinewidth\":0,\"ticks\":\"\"}}}],\"scatterpolar\":[{\"type\":\"scatterpolar\",\"marker\":{\"colorbar\":{\"outlinewidth\":0,\"ticks\":\"\"}}}],\"histogram\":[{\"marker\":{\"pattern\":{\"fillmode\":\"overlay\",\"size\":10,\"solidity\":0.2}},\"type\":\"histogram\"}],\"scattergl\":[{\"type\":\"scattergl\",\"marker\":{\"colorbar\":{\"outlinewidth\":0,\"ticks\":\"\"}}}],\"scatter3d\":[{\"type\":\"scatter3d\",\"line\":{\"colorbar\":{\"outlinewidth\":0,\"ticks\":\"\"}},\"marker\":{\"colorbar\":{\"outlinewidth\":0,\"ticks\":\"\"}}}],\"scattermapbox\":[{\"type\":\"scattermapbox\",\"marker\":{\"colorbar\":{\"outlinewidth\":0,\"ticks\":\"\"}}}],\"scatterternary\":[{\"type\":\"scatterternary\",\"marker\":{\"colorbar\":{\"outlinewidth\":0,\"ticks\":\"\"}}}],\"scattercarpet\":[{\"type\":\"scattercarpet\",\"marker\":{\"colorbar\":{\"outlinewidth\":0,\"ticks\":\"\"}}}],\"carpet\":[{\"aaxis\":{\"endlinecolor\":\"#2a3f5f\",\"gridcolor\":\"white\",\"linecolor\":\"white\",\"minorgridcolor\":\"white\",\"startlinecolor\":\"#2a3f5f\"},\"baxis\":{\"endlinecolor\":\"#2a3f5f\",\"gridcolor\":\"white\",\"linecolor\":\"white\",\"minorgridcolor\":\"white\",\"startlinecolor\":\"#2a3f5f\"},\"type\":\"carpet\"}],\"table\":[{\"cells\":{\"fill\":{\"color\":\"#EBF0F8\"},\"line\":{\"color\":\"white\"}},\"header\":{\"fill\":{\"color\":\"#C8D4E3\"},\"line\":{\"color\":\"white\"}},\"type\":\"table\"}],\"barpolar\":[{\"marker\":{\"line\":{\"color\":\"#E5ECF6\",\"width\":0.5},\"pattern\":{\"fillmode\":\"overlay\",\"size\":10,\"solidity\":0.2}},\"type\":\"barpolar\"}],\"pie\":[{\"automargin\":true,\"type\":\"pie\"}]},\"layout\":{\"autotypenumbers\":\"strict\",\"colorway\":[\"#636efa\",\"#EF553B\",\"#00cc96\",\"#ab63fa\",\"#FFA15A\",\"#19d3f3\",\"#FF6692\",\"#B6E880\",\"#FF97FF\",\"#FECB52\"],\"font\":{\"color\":\"#2a3f5f\"},\"hovermode\":\"closest\",\"hoverlabel\":{\"align\":\"left\"},\"paper_bgcolor\":\"white\",\"plot_bgcolor\":\"#E5ECF6\",\"polar\":{\"bgcolor\":\"#E5ECF6\",\"angularaxis\":{\"gridcolor\":\"white\",\"linecolor\":\"white\",\"ticks\":\"\"},\"radialaxis\":{\"gridcolor\":\"white\",\"linecolor\":\"white\",\"ticks\":\"\"}},\"ternary\":{\"bgcolor\":\"#E5ECF6\",\"aaxis\":{\"gridcolor\":\"white\",\"linecolor\":\"white\",\"ticks\":\"\"},\"baxis\":{\"gridcolor\":\"white\",\"linecolor\":\"white\",\"ticks\":\"\"},\"caxis\":{\"gridcolor\":\"white\",\"linecolor\":\"white\",\"ticks\":\"\"}},\"coloraxis\":{\"colorbar\":{\"outlinewidth\":0,\"ticks\":\"\"}},\"colorscale\":{\"sequential\":[[0.0,\"#0d0887\"],[0.1111111111111111,\"#46039f\"],[0.2222222222222222,\"#7201a8\"],[0.3333333333333333,\"#9c179e\"],[0.4444444444444444,\"#bd3786\"],[0.5555555555555556,\"#d8576b\"],[0.6666666666666666,\"#ed7953\"],[0.7777777777777778,\"#fb9f3a\"],[0.8888888888888888,\"#fdca26\"],[1.0,\"#f0f921\"]],\"sequentialminus\":[[0.0,\"#0d0887\"],[0.1111111111111111,\"#46039f\"],[0.2222222222222222,\"#7201a8\"],[0.3333333333333333,\"#9c179e\"],[0.4444444444444444,\"#bd3786\"],[0.5555555555555556,\"#d8576b\"],[0.6666666666666666,\"#ed7953\"],[0.7777777777777778,\"#fb9f3a\"],[0.8888888888888888,\"#fdca26\"],[1.0,\"#f0f921\"]],\"diverging\":[[0,\"#8e0152\"],[0.1,\"#c51b7d\"],[0.2,\"#de77ae\"],[0.3,\"#f1b6da\"],[0.4,\"#fde0ef\"],[0.5,\"#f7f7f7\"],[0.6,\"#e6f5d0\"],[0.7,\"#b8e186\"],[0.8,\"#7fbc41\"],[0.9,\"#4d9221\"],[1,\"#276419\"]]},\"xaxis\":{\"gridcolor\":\"white\",\"linecolor\":\"white\",\"ticks\":\"\",\"title\":{\"standoff\":15},\"zerolinecolor\":\"white\",\"automargin\":true,\"zerolinewidth\":2},\"yaxis\":{\"gridcolor\":\"white\",\"linecolor\":\"white\",\"ticks\":\"\",\"title\":{\"standoff\":15},\"zerolinecolor\":\"white\",\"automargin\":true,\"zerolinewidth\":2},\"scene\":{\"xaxis\":{\"backgroundcolor\":\"#E5ECF6\",\"gridcolor\":\"white\",\"linecolor\":\"white\",\"showbackground\":true,\"ticks\":\"\",\"zerolinecolor\":\"white\",\"gridwidth\":2},\"yaxis\":{\"backgroundcolor\":\"#E5ECF6\",\"gridcolor\":\"white\",\"linecolor\":\"white\",\"showbackground\":true,\"ticks\":\"\",\"zerolinecolor\":\"white\",\"gridwidth\":2},\"zaxis\":{\"backgroundcolor\":\"#E5ECF6\",\"gridcolor\":\"white\",\"linecolor\":\"white\",\"showbackground\":true,\"ticks\":\"\",\"zerolinecolor\":\"white\",\"gridwidth\":2}},\"shapedefaults\":{\"line\":{\"color\":\"#2a3f5f\"}},\"annotationdefaults\":{\"arrowcolor\":\"#2a3f5f\",\"arrowhead\":0,\"arrowwidth\":1},\"geo\":{\"bgcolor\":\"white\",\"landcolor\":\"#E5ECF6\",\"subunitcolor\":\"white\",\"showland\":true,\"showlakes\":true,\"lakecolor\":\"white\"},\"title\":{\"x\":0.05},\"mapbox\":{\"style\":\"light\"}}},\"xaxis\":{\"anchor\":\"y\",\"domain\":[0.0,1.0],\"title\":{\"text\":\"x\"},\"type\":\"log\",\"range\":[1.95,4.2]},\"yaxis\":{\"anchor\":\"x\",\"domain\":[0.0,1.0],\"title\":{\"text\":\"y_full\"},\"type\":\"log\"},\"legend\":{\"title\":{\"text\":\"name\"},\"tracegroupgap\":0},\"title\":{\"text\":\"Including compilation time\"}},                        {\"responsive\": true}                    ).then(function(){\n",
       "                            \n",
       "var gd = document.getElementById('2dfb8e9b-a5e9-4ccb-8f31-97580d4a1474');\n",
       "var x = new MutationObserver(function (mutations, observer) {{\n",
       "        var display = window.getComputedStyle(gd).display;\n",
       "        if (!display || display === 'none') {{\n",
       "            console.log([gd, 'removed!']);\n",
       "            Plotly.purge(gd);\n",
       "            observer.disconnect();\n",
       "        }}\n",
       "}});\n",
       "\n",
       "// Listen for the removal of the full notebook cells\n",
       "var notebookContainer = gd.closest('#notebook-container');\n",
       "if (notebookContainer) {{\n",
       "    x.observe(notebookContainer, {childList: true});\n",
       "}}\n",
       "\n",
       "// Listen for the clearing of the current output cell\n",
       "var outputEl = gd.closest('.output');\n",
       "if (outputEl) {{\n",
       "    x.observe(outputEl, {childList: true});\n",
       "}}\n",
       "\n",
       "                        })                };                });            </script>        </div>"
      ]
     },
     "metadata": {},
     "output_type": "display_data"
    }
   ],
   "source": [
    "fig = px.line(df, x='x', y='y_full', color='name', \n",
    "              log_x=True, log_y=True, markers=True, title='Including compilation time')\n",
    "fig.update_xaxes(range=[1.95, 4.2])\n",
    "fig.show()"
   ]
  },
  {
   "cell_type": "code",
   "execution_count": 5,
   "id": "3ae65123",
   "metadata": {},
   "outputs": [
    {
     "name": "stdout",
     "output_type": "stream",
     "text": [
      "3 ms ± 73.4 µs per loop (mean ± std. dev. of 7 runs, 100 loops each)\n"
     ]
    }
   ],
   "source": [
    "x_array = np.linspace(0, 1, num=100_000, dtype=np.float64)\n",
    "%timeit x_array.tolist()"
   ]
  },
  {
   "cell_type": "code",
   "execution_count": 6,
   "id": "5983d7b9",
   "metadata": {},
   "outputs": [
    {
     "name": "stdout",
     "output_type": "stream",
     "text": [
      "2.84 ms ± 64.1 µs per loop (mean ± std. dev. of 7 runs, 100 loops each)\n"
     ]
    }
   ],
   "source": [
    "x_array = np.linspace(0, 1, num=100_000, dtype=np.float32)\n",
    "%timeit x_array.tolist()"
   ]
  },
  {
   "cell_type": "code",
   "execution_count": 940,
   "id": "6e9838b1",
   "metadata": {},
   "outputs": [
    {
     "name": "stdout",
     "output_type": "stream",
     "text": [
      "2.19 ms ± 126 µs per loop (mean ± std. dev. of 7 runs, 1,000 loops each)\n"
     ]
    }
   ],
   "source": [
    "x_array = np.linspace(0, 1, num=100_000, dtype=np.float16)\n",
    "%timeit x_array.tolist()"
   ]
  },
  {
   "cell_type": "code",
   "execution_count": 941,
   "id": "963f5bd0",
   "metadata": {},
   "outputs": [
    {
     "name": "stdout",
     "output_type": "stream",
     "text": [
      "217 µs ± 25.9 µs per loop (mean ± std. dev. of 7 runs, 10,000 loops each)\n"
     ]
    }
   ],
   "source": [
    "x_array = np.linspace(0, 1, num=10_000, dtype=np.float64)\n",
    "%timeit x_array.tolist()"
   ]
  },
  {
   "cell_type": "code",
   "execution_count": 943,
   "id": "7dc46343",
   "metadata": {},
   "outputs": [
    {
     "name": "stdout",
     "output_type": "stream",
     "text": [
      "161 µs ± 1.18 µs per loop (mean ± std. dev. of 7 runs, 10,000 loops each)\n"
     ]
    }
   ],
   "source": [
    "f'{x_array}'\n",
    "%timeit f'{x_array}'"
   ]
  },
  {
   "cell_type": "code",
   "execution_count": 944,
   "id": "e30834ba",
   "metadata": {},
   "outputs": [
    {
     "data": {
      "text/plain": [
       "'[0.00000000e+00 1.00010001e-04 2.00020002e-04 ... 9.99799980e-01\\n 9.99899990e-01 1.00000000e+00]'"
      ]
     },
     "execution_count": 944,
     "metadata": {},
     "output_type": "execute_result"
    }
   ],
   "source": [
    "np.array_str(x_array)"
   ]
  },
  {
   "cell_type": "code",
   "execution_count": 945,
   "id": "d4590596",
   "metadata": {},
   "outputs": [
    {
     "name": "stdout",
     "output_type": "stream",
     "text": [
      "164 µs ± 2.36 µs per loop (mean ± std. dev. of 7 runs, 10,000 loops each)\n"
     ]
    }
   ],
   "source": [
    "%timeit np.array_str(x_array)"
   ]
  },
  {
   "cell_type": "code",
   "execution_count": 946,
   "id": "40b8276e",
   "metadata": {},
   "outputs": [
    {
     "name": "stdout",
     "output_type": "stream",
     "text": [
      "164 µs ± 2.13 µs per loop (mean ± std. dev. of 7 runs, 10,000 loops each)\n"
     ]
    }
   ],
   "source": [
    "%timeit np.array_str(x_array).replace('\\n', '')"
   ]
  },
  {
   "cell_type": "code",
   "execution_count": 951,
   "id": "09bad693",
   "metadata": {},
   "outputs": [
    {
     "data": {
      "text/plain": [
       "'[0.     0.0001 0.0002 ... 0.9998 0.9999 1.    ]'"
      ]
     },
     "execution_count": 951,
     "metadata": {},
     "output_type": "execute_result"
    }
   ],
   "source": [
    "np.array_str(x_array, max_line_width=np.Inf, precision=4, suppress_small=True)"
   ]
  },
  {
   "cell_type": "code",
   "execution_count": 952,
   "id": "c226ebc8",
   "metadata": {},
   "outputs": [
    {
     "name": "stdout",
     "output_type": "stream",
     "text": [
      "156 µs ± 1.43 µs per loop (mean ± std. dev. of 7 runs, 10,000 loops each)\n"
     ]
    }
   ],
   "source": [
    "%timeit np.array_str(x_array, max_line_width=np.Inf, precision=4, suppress_small=True)"
   ]
  },
  {
   "cell_type": "code",
   "execution_count": 955,
   "id": "26bbb519",
   "metadata": {},
   "outputs": [
    {
     "name": "stdout",
     "output_type": "stream",
     "text": [
      "153 µs ± 2.4 µs per loop (mean ± std. dev. of 7 runs, 10,000 loops each)\n"
     ]
    }
   ],
   "source": [
    "%timeit np.array_str(x_array, max_line_width=np.Inf, precision=4, suppress_small=True).replace(' ', ',')"
   ]
  },
  {
   "cell_type": "code",
   "execution_count": 960,
   "id": "c940eb94",
   "metadata": {},
   "outputs": [
    {
     "ename": "TypeError",
     "evalue": "_array_str_dispatcher() got an unexpected keyword argument 'separator'",
     "output_type": "error",
     "traceback": [
      "\u001b[0;31m---------------------------------------------------------------------------\u001b[0m",
      "\u001b[0;31mTypeError\u001b[0m                                 Traceback (most recent call last)",
      "Cell \u001b[0;32mIn[960], line 1\u001b[0m\n\u001b[0;32m----> 1\u001b[0m \u001b[43mnp\u001b[49m\u001b[38;5;241;43m.\u001b[39;49m\u001b[43marray_str\u001b[49m\u001b[43m(\u001b[49m\u001b[43mx_array\u001b[49m\u001b[43m,\u001b[49m\u001b[43m \u001b[49m\u001b[43mseparator\u001b[49m\u001b[38;5;241;43m=\u001b[39;49m\u001b[38;5;124;43m'\u001b[39;49m\u001b[38;5;124;43m,\u001b[39;49m\u001b[38;5;124;43m'\u001b[39;49m\u001b[43m,\u001b[49m\u001b[43m \u001b[49m\u001b[43mmax_line_width\u001b[49m\u001b[38;5;241;43m=\u001b[39;49m\u001b[43mnp\u001b[49m\u001b[38;5;241;43m.\u001b[39;49m\u001b[43mInf\u001b[49m\u001b[43m,\u001b[49m\u001b[43m \u001b[49m\u001b[43mprecision\u001b[49m\u001b[38;5;241;43m=\u001b[39;49m\u001b[38;5;241;43m4\u001b[39;49m\u001b[43m,\u001b[49m\u001b[43m \u001b[49m\u001b[43msuppress_small\u001b[49m\u001b[38;5;241;43m=\u001b[39;49m\u001b[38;5;28;43;01mTrue\u001b[39;49;00m\u001b[43m)\u001b[49m\n",
      "File \u001b[0;32m<__array_function__ internals>:179\u001b[0m, in \u001b[0;36marray_str\u001b[0;34m(*args, **kwargs)\u001b[0m\n",
      "\u001b[0;31mTypeError\u001b[0m: _array_str_dispatcher() got an unexpected keyword argument 'separator'"
     ]
    }
   ],
   "source": [
    "np.array_str(x_array, max_line_width=np.Inf, precision=4, suppress_small=True)"
   ]
  },
  {
   "cell_type": "code",
   "execution_count": 964,
   "id": "6523ad59",
   "metadata": {},
   "outputs": [
    {
     "name": "stdout",
     "output_type": "stream",
     "text": [
      "152 µs ± 2.76 µs per loop (mean ± std. dev. of 7 runs, 10,000 loops each)\n"
     ]
    }
   ],
   "source": [
    "%timeit np.array2string(x_array, separator=',', max_line_width=np.Inf, precision=4, suppress_small=True)"
   ]
  },
  {
   "cell_type": "code",
   "execution_count": 7,
   "id": "3f726c29",
   "metadata": {},
   "outputs": [
    {
     "data": {
      "text/plain": [
       "'[0.0000,0.0000,0.0000,...,1.0000,1.0000,1.0000]'"
      ]
     },
     "execution_count": 7,
     "metadata": {},
     "output_type": "execute_result"
    }
   ],
   "source": [
    "np.array2string(x_array, separator=',', max_line_width=np.Inf, precision=4, suppress_small=True,floatmode='fixed')"
   ]
  },
  {
   "cell_type": "code",
   "execution_count": 11,
   "id": "ecc16ca8",
   "metadata": {},
   "outputs": [
    {
     "name": "stdout",
     "output_type": "stream",
     "text": [
      "2.9 s ± 241 ms per loop (mean ± std. dev. of 7 runs, 1 loop each)\n"
     ]
    }
   ],
   "source": [
    "%timeit np.array2string(x_array, separator=',', threshold=np.inf, max_line_width=np.inf, precision=4, suppress_small=True, floatmode='fixed')"
   ]
  },
  {
   "cell_type": "code",
   "execution_count": 10,
   "id": "9d19b4ec",
   "metadata": {},
   "outputs": [
    {
     "name": "stdout",
     "output_type": "stream",
     "text": [
      "166 µs ± 9.91 µs per loop (mean ± std. dev. of 7 runs, 10,000 loops each)\n"
     ]
    }
   ],
   "source": [
    "%timeit np.array2string(x_array, separator=',', max_line_width=np.inf, precision=4, suppress_small=True, floatmode='fixed')"
   ]
  },
  {
   "cell_type": "code",
   "execution_count": 12,
   "id": "c6016267",
   "metadata": {},
   "outputs": [
    {
     "name": "stdout",
     "output_type": "stream",
     "text": [
      "2.04 s ± 59.3 ms per loop (mean ± std. dev. of 7 runs, 1 loop each)\n"
     ]
    }
   ],
   "source": [
    "%timeit np.array2string(x_array, threshold=np.inf)"
   ]
  },
  {
   "cell_type": "code",
   "execution_count": 13,
   "id": "39962a18",
   "metadata": {},
   "outputs": [
    {
     "name": "stdout",
     "output_type": "stream",
     "text": [
      "166 µs ± 2.81 µs per loop (mean ± std. dev. of 7 runs, 10,000 loops each)\n"
     ]
    }
   ],
   "source": [
    "%timeit str(x_array)"
   ]
  },
  {
   "cell_type": "code",
   "execution_count": 14,
   "id": "da1c3e6e",
   "metadata": {},
   "outputs": [
    {
     "data": {
      "text/plain": [
       "'[0.00000e+00 1.00001e-05 2.00002e-05 ... 9.99980e-01 9.99990e-01\\n 1.00000e+00]'"
      ]
     },
     "execution_count": 14,
     "metadata": {},
     "output_type": "execute_result"
    }
   ],
   "source": [
    "str(x_array)"
   ]
  },
  {
   "cell_type": "code",
   "execution_count": 15,
   "id": "11b3e96b",
   "metadata": {},
   "outputs": [
    {
     "name": "stdout",
     "output_type": "stream",
     "text": [
      "2.7 ms ± 66.6 µs per loop (mean ± std. dev. of 7 runs, 100 loops each)\n"
     ]
    }
   ],
   "source": [
    "%timeit x_array.tolist()"
   ]
  },
  {
   "cell_type": "code",
   "execution_count": 16,
   "id": "4f07a2e7",
   "metadata": {},
   "outputs": [
    {
     "name": "stdout",
     "output_type": "stream",
     "text": [
      "104 ms ± 2.49 ms per loop (mean ± std. dev. of 7 runs, 10 loops each)\n"
     ]
    }
   ],
   "source": [
    "%timeit str(x_array.tolist())"
   ]
  },
  {
   "cell_type": "code",
   "execution_count": 19,
   "id": "14f8f20f",
   "metadata": {},
   "outputs": [
    {
     "name": "stdout",
     "output_type": "stream",
     "text": [
      "103 ms ± 411 µs per loop (mean ± std. dev. of 7 runs, 10 loops each)\n"
     ]
    }
   ],
   "source": [
    "%timeit f'{x_array.tolist()}'"
   ]
  },
  {
   "cell_type": "code",
   "execution_count": 21,
   "id": "0ff99348",
   "metadata": {},
   "outputs": [],
   "source": [
    "x_array = np.linspace(0, 1, num=5, dtype=np.float32)"
   ]
  },
  {
   "cell_type": "code",
   "execution_count": 22,
   "id": "b795075f",
   "metadata": {},
   "outputs": [
    {
     "data": {
      "text/plain": [
       "'[0.0000,0.2500,0.5000,0.7500,1.0000]'"
      ]
     },
     "execution_count": 22,
     "metadata": {},
     "output_type": "execute_result"
    }
   ],
   "source": [
    "np.array2string(x_array, separator=',', max_line_width=np.Inf, precision=4, suppress_small=True,floatmode='fixed')"
   ]
  },
  {
   "cell_type": "code",
   "execution_count": 63,
   "id": "98fbb95c",
   "metadata": {},
   "outputs": [],
   "source": [
    "x_array = np.linspace(0, 1, num=100, dtype=np.float32)\n",
    "def sss():\n",
    "    s = np.array2string(x_array, separator=',', threshold=np.inf, max_line_width=np.inf, precision=4, suppress_small=True,floatmode='fixed')\n",
    "    s = s.replace('[', '').replace(']', '') + ','\n",
    "    s = s*1000\n",
    "    s = f'[{s[:-1]}]'\n",
    "    return s\n",
    "def sss2():\n",
    "    s = np.array2string(x_array, separator=',', threshold=np.inf, max_line_width=np.inf, precision=4, suppress_small=True,floatmode='fixed')\n",
    "    s = s[1:]\n",
    "    s = s[:-1]\n",
    "    s = s + ','\n",
    "    s = s*1000\n",
    "    s = f'[{s[:-1]}]'\n",
    "    return s"
   ]
  },
  {
   "cell_type": "code",
   "execution_count": 64,
   "id": "0b83ff46",
   "metadata": {},
   "outputs": [
    {
     "name": "stdout",
     "output_type": "stream",
     "text": [
      "617 µs ± 16.2 µs per loop (mean ± std. dev. of 7 runs, 1,000 loops each)\n"
     ]
    }
   ],
   "source": [
    "%timeit sss()"
   ]
  },
  {
   "cell_type": "code",
   "execution_count": 65,
   "id": "c5821783",
   "metadata": {},
   "outputs": [
    {
     "name": "stdout",
     "output_type": "stream",
     "text": [
      "641 µs ± 70.3 µs per loop (mean ± std. dev. of 7 runs, 1,000 loops each)\n"
     ]
    }
   ],
   "source": [
    "%timeit sss2()"
   ]
  },
  {
   "cell_type": "code",
   "execution_count": 62,
   "id": "0d394774",
   "metadata": {},
   "outputs": [
    {
     "data": {
      "text/plain": [
       "'[0.0000,0.2500,0.5000,0.7500,1.0000,0.0000,0.2500,0.5000,0.7500,1.0000]'"
      ]
     },
     "execution_count": 62,
     "metadata": {},
     "output_type": "execute_result"
    }
   ],
   "source": [
    "sss2()"
   ]
  },
  {
   "cell_type": "code",
   "execution_count": 66,
   "id": "4fcc65cf",
   "metadata": {},
   "outputs": [
    {
     "data": {
      "text/plain": [
       "array([0.        , 0.01010101, 0.02020202, 0.03030303, 0.04040404,\n",
       "       0.05050505, 0.06060606, 0.07070707, 0.08080808, 0.09090909],\n",
       "      dtype=float32)"
      ]
     },
     "execution_count": 66,
     "metadata": {},
     "output_type": "execute_result"
    }
   ],
   "source": [
    "x_array[:10]"
   ]
  },
  {
   "cell_type": "code",
   "execution_count": 67,
   "id": "4a53261b",
   "metadata": {},
   "outputs": [
    {
     "data": {
      "text/plain": [
       "100"
      ]
     },
     "execution_count": 67,
     "metadata": {},
     "output_type": "execute_result"
    }
   ],
   "source": [
    "x_array.size"
   ]
  },
  {
   "cell_type": "code",
   "execution_count": null,
   "id": "01bb06e0",
   "metadata": {},
   "outputs": [],
   "source": []
  },
  {
   "cell_type": "code",
   "execution_count": 120,
   "id": "afb01e1d",
   "metadata": {},
   "outputs": [],
   "source": [
    "x_array = np.linspace(0, 1, num=20_000)"
   ]
  },
  {
   "cell_type": "code",
   "execution_count": 119,
   "id": "41299e8a",
   "metadata": {},
   "outputs": [
    {
     "data": {
      "text/plain": [
       "'[0.0,0.25,0.5,0.75,1.0]'"
      ]
     },
     "execution_count": 119,
     "metadata": {},
     "output_type": "execute_result"
    }
   ],
   "source": [
    "orjson.dumps(x_array, option=orjson.OPT_SERIALIZE_NUMPY).decode()"
   ]
  },
  {
   "cell_type": "code",
   "execution_count": 110,
   "id": "21c18c20",
   "metadata": {},
   "outputs": [
    {
     "data": {
      "text/plain": [
       "'redrawPlotWithNewCalculatedYJson({y:[[0.0,0.25,0.5,0.75,1.0]]})'"
      ]
     },
     "execution_count": 110,
     "metadata": {},
     "output_type": "execute_result"
    }
   ],
   "source": [
    "'redrawPlotWithNewCalculatedYJson({y:[' + orjson.dumps(x_array, option=orjson.OPT_SERIALIZE_NUMPY).decode() + ']})'"
   ]
  },
  {
   "cell_type": "code",
   "execution_count": 121,
   "id": "c9ecd5a5",
   "metadata": {},
   "outputs": [
    {
     "name": "stdout",
     "output_type": "stream",
     "text": [
      "666 µs ± 54.7 µs per loop (mean ± std. dev. of 7 runs, 1,000 loops each)\n"
     ]
    }
   ],
   "source": [
    "%timeit orjson.dumps(x_array, option=orjson.OPT_SERIALIZE_NUMPY).decode()"
   ]
  },
  {
   "cell_type": "code",
   "execution_count": 122,
   "id": "f2b2ce00",
   "metadata": {},
   "outputs": [
    {
     "name": "stdout",
     "output_type": "stream",
     "text": [
      "611 µs ± 6.37 µs per loop (mean ± std. dev. of 7 runs, 1,000 loops each)\n"
     ]
    }
   ],
   "source": [
    "%timeit 'redrawPlotWithNewCalculatedYJson({y:[' + orjson.dumps(x_array, option=orjson.OPT_SERIALIZE_NUMPY).decode() + ']})'"
   ]
  },
  {
   "cell_type": "code",
   "execution_count": null,
   "id": "f63dfa6c",
   "metadata": {},
   "outputs": [],
   "source": []
  },
  {
   "cell_type": "code",
   "execution_count": 115,
   "id": "a49f2a1c",
   "metadata": {},
   "outputs": [
    {
     "name": "stdout",
     "output_type": "stream",
     "text": [
      "4.39 ms ± 135 µs per loop (mean ± std. dev. of 7 runs, 100 loops each)\n"
     ]
    }
   ],
   "source": [
    "%timeit f'redrawPlotWithNewCalculatedYJson(y:[{orjson.dumps(x_array, option=orjson.OPT_SERIALIZE_NUMPY).decode()}])'"
   ]
  },
  {
   "cell_type": "code",
   "execution_count": 18,
   "id": "c3067871",
   "metadata": {},
   "outputs": [
    {
     "data": {
      "text/plain": [
       "b'{\"y\":[0.0,0.25,0.5,0.75,1.0]}'"
      ]
     },
     "execution_count": 18,
     "metadata": {},
     "output_type": "execute_result"
    }
   ],
   "source": [
    "orjson.dumps({'y': x_array}, option=orjson.OPT_SERIALIZE_NUMPY)"
   ]
  },
  {
   "cell_type": "code",
   "execution_count": 11,
   "id": "699cc6a6",
   "metadata": {},
   "outputs": [
    {
     "data": {
      "text/plain": [
       "{'numpy': [[1, 2], [3, 4]]}"
      ]
     },
     "execution_count": 11,
     "metadata": {},
     "output_type": "execute_result"
    }
   ],
   "source": [
    "data = {\n",
    "\"numpy\": np.array([[1, 2], [3, 4]])\n",
    "}\n",
    "json_byte = orjson.dumps(data, option=orjson.OPT_NAIVE_UTC | orjson.OPT_SERIALIZE_NUMPY)\n",
    "orjson.loads(json_byte)"
   ]
  },
  {
   "cell_type": "code",
   "execution_count": 16,
   "id": "350c1982",
   "metadata": {},
   "outputs": [
    {
     "data": {
      "text/plain": [
       "array([0.  , 0.25, 0.5 , 0.75, 1.  ])"
      ]
     },
     "execution_count": 16,
     "metadata": {},
     "output_type": "execute_result"
    }
   ],
   "source": [
    "x_array"
   ]
  },
  {
   "cell_type": "code",
   "execution_count": 14,
   "id": "bc95c4a8",
   "metadata": {},
   "outputs": [
    {
     "data": {
      "text/plain": [
       "array([1, 2])"
      ]
     },
     "execution_count": 14,
     "metadata": {},
     "output_type": "execute_result"
    }
   ],
   "source": [
    "np.array([1, 2])"
   ]
  },
  {
   "cell_type": "code",
   "execution_count": null,
   "id": "5b5fe2bc",
   "metadata": {},
   "outputs": [],
   "source": []
  },
  {
   "cell_type": "code",
   "execution_count": 100,
   "id": "dfcde252",
   "metadata": {},
   "outputs": [],
   "source": [
    "x_array = np.linspace(0, 1, num=5, dtype=np.float64)"
   ]
  },
  {
   "cell_type": "code",
   "execution_count": 101,
   "id": "1ccbe09c",
   "metadata": {},
   "outputs": [
    {
     "data": {
      "text/plain": [
       "array(['0.0', '0.25', '0.5', '0.75', '1.0'], dtype='<U32')"
      ]
     },
     "execution_count": 101,
     "metadata": {},
     "output_type": "execute_result"
    }
   ],
   "source": [
    "x_array.astype(str) #.tobytes().decode()"
   ]
  },
  {
   "cell_type": "code",
   "execution_count": 103,
   "id": "a0aa33c8",
   "metadata": {},
   "outputs": [
    {
     "ename": "TypeError",
     "evalue": "'dtype' is an invalid keyword argument for decode()",
     "output_type": "error",
     "traceback": [
      "\u001b[0;31m---------------------------------------------------------------------------\u001b[0m",
      "\u001b[0;31mTypeError\u001b[0m                                 Traceback (most recent call last)",
      "Cell \u001b[0;32mIn[103], line 1\u001b[0m\n\u001b[0;32m----> 1\u001b[0m \u001b[43mx_array\u001b[49m\u001b[38;5;241;43m.\u001b[39;49m\u001b[43mastype\u001b[49m\u001b[43m(\u001b[49m\u001b[38;5;28;43mstr\u001b[39;49m\u001b[43m)\u001b[49m\u001b[38;5;241;43m.\u001b[39;49m\u001b[43mtobytes\u001b[49m\u001b[43m(\u001b[49m\u001b[43m)\u001b[49m\u001b[38;5;241;43m.\u001b[39;49m\u001b[43mdecode\u001b[49m\u001b[43m(\u001b[49m\u001b[43mdtype\u001b[49m\u001b[38;5;241;43m=\u001b[39;49m\u001b[38;5;124;43m'\u001b[39;49m\u001b[38;5;124;43m<U32\u001b[39;49m\u001b[38;5;124;43m'\u001b[39;49m\u001b[43m)\u001b[49m\n",
      "\u001b[0;31mTypeError\u001b[0m: 'dtype' is an invalid keyword argument for decode()"
     ]
    }
   ],
   "source": [
    "x_array.astype(str).tobytes().decode(dtype='<U32')"
   ]
  },
  {
   "cell_type": "code",
   "execution_count": 95,
   "id": "0d29659d",
   "metadata": {},
   "outputs": [
    {
     "name": "stdout",
     "output_type": "stream",
     "text": [
      "100 ns ± 2.71 ns per loop (mean ± std. dev. of 7 runs, 10,000,000 loops each)\n"
     ]
    }
   ],
   "source": [
    "%timeit x_array.tobytes()"
   ]
  },
  {
   "cell_type": "code",
   "execution_count": 81,
   "id": "690ffb6c",
   "metadata": {},
   "outputs": [
    {
     "name": "stdout",
     "output_type": "stream",
     "text": [
      "92.5 ms ± 1.32 ms per loop (mean ± std. dev. of 7 runs, 10 loops each)\n"
     ]
    }
   ],
   "source": [
    "%timeit \",\".join(np.char.mod('%f', x_array))"
   ]
  },
  {
   "cell_type": "code",
   "execution_count": 84,
   "id": "85e663fb",
   "metadata": {},
   "outputs": [
    {
     "name": "stdout",
     "output_type": "stream",
     "text": [
      "3.2 ms ± 345 µs per loop (mean ± std. dev. of 7 runs, 100 loops each)\n"
     ]
    }
   ],
   "source": [
    "%timeit orjson.dumps({'y': x_array}, option=orjson.OPT_SERIALIZE_NUMPY)"
   ]
  },
  {
   "cell_type": "code",
   "execution_count": 86,
   "id": "e66124bb",
   "metadata": {},
   "outputs": [
    {
     "name": "stdout",
     "output_type": "stream",
     "text": [
      "7.36 ms ± 98.9 µs per loop (mean ± std. dev. of 7 runs, 100 loops each)\n"
     ]
    }
   ],
   "source": [
    "json_bytes = orjson.dumps({'y': x_array}, option=orjson.OPT_SERIALIZE_NUMPY)\n",
    "%timeit f'{json_bytes}'"
   ]
  },
  {
   "cell_type": "code",
   "execution_count": 90,
   "id": "1c0f273d",
   "metadata": {},
   "outputs": [],
   "source": [
    "json_bytes = orjson.dumps({'y': x_array}, option=orjson.OPT_SERIALIZE_NUMPY)\n",
    "%timeit json_bytes.decode() "
   ]
  },
  {
   "cell_type": "code",
   "execution_count": 91,
   "id": "62589926",
   "metadata": {},
   "outputs": [
    {
     "data": {
      "text/plain": [
       "'{\"y\":[0.0,0.1111111111111111,0.2222222222222222,0.3333333333333333,0.4444444444444444,0.5555555555555556,0.6666666666666666,0.7777777777777777,0.8888888888888888,1.0]}'"
      ]
     },
     "execution_count": 91,
     "metadata": {},
     "output_type": "execute_result"
    }
   ],
   "source": [
    "json_bytes.decode()"
   ]
  },
  {
   "cell_type": "code",
   "execution_count": 73,
   "id": "414828c8",
   "metadata": {},
   "outputs": [
    {
     "name": "stdout",
     "output_type": "stream",
     "text": [
      "8.47 ms ± 130 µs per loop (mean ± std. dev. of 7 runs, 100 loops each)\n"
     ]
    }
   ],
   "source": [
    "json_bytes = orjson.dumps({'y': x_array}, option=orjson.OPT_SERIALIZE_NUMPY)\n",
    "%timeit 'redrawPlotWithNewCalculatedYJson({y:[[' + f'{json_bytes})'[3:-3] + '})'"
   ]
  },
  {
   "cell_type": "code",
   "execution_count": 20,
   "id": "a2196169",
   "metadata": {},
   "outputs": [
    {
     "name": "stdout",
     "output_type": "stream",
     "text": [
      "1.97 ms ± 62.3 µs per loop (mean ± std. dev. of 7 runs, 100 loops each)\n"
     ]
    }
   ],
   "source": [
    "%timeit x_array.tolist()"
   ]
  },
  {
   "cell_type": "code",
   "execution_count": 21,
   "id": "f6ee4e7f",
   "metadata": {},
   "outputs": [
    {
     "name": "stdout",
     "output_type": "stream",
     "text": [
      "73.2 ms ± 11.5 ms per loop (mean ± std. dev. of 7 runs, 10 loops each)\n"
     ]
    }
   ],
   "source": [
    "%timeit f'{x_array.tolist()}'"
   ]
  },
  {
   "cell_type": "code",
   "execution_count": 43,
   "id": "de661905",
   "metadata": {},
   "outputs": [],
   "source": [
    "json_bytes = orjson.dumps({'y': x_array}, option=orjson.OPT_SERIALIZE_NUMPY)\n",
    "#json_bytes"
   ]
  },
  {
   "cell_type": "code",
   "execution_count": 40,
   "id": "cb78b1dc",
   "metadata": {},
   "outputs": [
    {
     "name": "stdout",
     "output_type": "stream",
     "text": [
      "8.33 ms ± 537 µs per loop (mean ± std. dev. of 7 runs, 100 loops each)\n"
     ]
    }
   ],
   "source": [
    "%timeit str(json_bytes)"
   ]
  },
  {
   "cell_type": "code",
   "execution_count": 39,
   "id": "a2a1ebc7",
   "metadata": {},
   "outputs": [
    {
     "name": "stdout",
     "output_type": "stream",
     "text": [
      "8.03 ms ± 148 µs per loop (mean ± std. dev. of 7 runs, 100 loops each)\n"
     ]
    }
   ],
   "source": [
    "%timeit f'{json_bytes}'"
   ]
  },
  {
   "cell_type": "code",
   "execution_count": 47,
   "id": "58917d3f",
   "metadata": {},
   "outputs": [
    {
     "data": {
      "text/plain": [
       "'\"y\":[0.0,0.1111111111111111,0.2222222222222222,0.3333333333333333,0.4444444444444444,0.5555555555555556,0.6666666666666666,0.7777777777777777,0.8888888888888888,1.0]}\\''"
      ]
     },
     "execution_count": 47,
     "metadata": {},
     "output_type": "execute_result"
    }
   ],
   "source": [
    "str(json_bytes)[3:]"
   ]
  },
  {
   "cell_type": "code",
   "execution_count": 48,
   "id": "8ac9214c",
   "metadata": {},
   "outputs": [
    {
     "data": {
      "text/plain": [
       "'\"y\":[0.0,0.1111111111111111,0.2222222222222222,0.3333333333333333,0.4444444444444444,0.5555555555555556,0.6666666666666666,0.7777777777777777,0.8888888888888888,1.0]}\\''"
      ]
     },
     "execution_count": 48,
     "metadata": {},
     "output_type": "execute_result"
    }
   ],
   "source": [
    "f'{json_bytes}'[3:]"
   ]
  },
  {
   "cell_type": "code",
   "execution_count": 51,
   "id": "be5b8148",
   "metadata": {},
   "outputs": [
    {
     "data": {
      "text/plain": [
       "'redrawPlotWithNewCalculatedYJson({\"y\":[0.0,0.1111111111111111,0.2222222222222222,0.3333333333333333,0.4444444444444444,0.5555555555555556,0.6666666666666666,0.7777777777777777,0.8888888888888888,1.0]})'"
      ]
     },
     "execution_count": 51,
     "metadata": {},
     "output_type": "execute_result"
    }
   ],
   "source": [
    "'redrawPlotWithNewCalculatedYJson(' + f'{json_bytes})'[2:-2] + ')'"
   ]
  },
  {
   "cell_type": "code",
   "execution_count": 53,
   "id": "d1432a1d",
   "metadata": {},
   "outputs": [],
   "source": [
    "json_bytes = orjson.dumps(x_array, option=orjson.OPT_SERIALIZE_NUMPY)"
   ]
  },
  {
   "cell_type": "code",
   "execution_count": 54,
   "id": "271d1e4e",
   "metadata": {},
   "outputs": [
    {
     "data": {
      "text/plain": [
       "b'[0.0,0.1111111111111111,0.2222222222222222,0.3333333333333333,0.4444444444444444,0.5555555555555556,0.6666666666666666,0.7777777777777777,0.8888888888888888,1.0]'"
      ]
     },
     "execution_count": 54,
     "metadata": {},
     "output_type": "execute_result"
    }
   ],
   "source": [
    "json_bytes"
   ]
  },
  {
   "cell_type": "code",
   "execution_count": 57,
   "id": "53331f59",
   "metadata": {},
   "outputs": [
    {
     "data": {
      "text/plain": [
       "'0.0,0.1111111111111111,0.2222222222222222,0.3333333333333333,0.4444444444444444,0.5555555555555556,0.6666666666666666,0.7777777777777777,0.8888888888888888,1.0'"
      ]
     },
     "execution_count": 57,
     "metadata": {},
     "output_type": "execute_result"
    }
   ],
   "source": [
    "f'{json_bytes}'[3:-2]"
   ]
  },
  {
   "cell_type": "code",
   "execution_count": 60,
   "id": "81d4ff86",
   "metadata": {},
   "outputs": [
    {
     "data": {
      "text/plain": [
       "'redrawPlotWithNewCalculatedYJson({y:[[0.0,0.1111111111111111,0.2222222222222222,0.3333333333333333,0.4444444444444444,0.5555555555555556,0.6666666666666666,0.7777777777777777,0.8888888888888888,1.0})'"
      ]
     },
     "execution_count": 60,
     "metadata": {},
     "output_type": "execute_result"
    }
   ],
   "source": [
    "'redrawPlotWithNewCalculatedYJson({y:[[' + f'{json_bytes})'[3:-3] + '})'"
   ]
  },
  {
   "cell_type": "code",
   "execution_count": 159,
   "id": "0b93a3b6",
   "metadata": {},
   "outputs": [],
   "source": [
    "x = [8, 7, 9]"
   ]
  },
  {
   "cell_type": "code",
   "execution_count": 160,
   "id": "e7a534e6",
   "metadata": {},
   "outputs": [],
   "source": [
    "def calc(x):\n",
    "    x[0] = 0"
   ]
  },
  {
   "cell_type": "code",
   "execution_count": 161,
   "id": "17e9a490",
   "metadata": {},
   "outputs": [],
   "source": [
    "def timing(f):\n",
    "    return timeit.timeit(lambda: f, number=1)"
   ]
  },
  {
   "cell_type": "code",
   "execution_count": 164,
   "id": "e87c33fd",
   "metadata": {},
   "outputs": [
    {
     "data": {
      "text/plain": [
       "9.350005711894482e-07"
      ]
     },
     "execution_count": 164,
     "metadata": {},
     "output_type": "execute_result"
    }
   ],
   "source": [
    "timing(calc(x))"
   ]
  },
  {
   "cell_type": "code",
   "execution_count": 142,
   "id": "30a9d2f5",
   "metadata": {},
   "outputs": [],
   "source": [
    "timeit.timeit(lambda: calc(x), number=1)"
   ]
  },
  {
   "cell_type": "code",
   "execution_count": 143,
   "id": "d2d11843",
   "metadata": {},
   "outputs": [
    {
     "data": {
      "text/plain": [
       "2.4900000425986946e-06"
      ]
     },
     "execution_count": 143,
     "metadata": {},
     "output_type": "execute_result"
    }
   ],
   "source": [
    "res"
   ]
  },
  {
   "cell_type": "code",
   "execution_count": 170,
   "id": "bd54b8bc",
   "metadata": {},
   "outputs": [
    {
     "data": {
      "text/plain": [
       "9.0"
      ]
     },
     "execution_count": 170,
     "metadata": {},
     "output_type": "execute_result"
    }
   ],
   "source": [
    "float(np.array(x).max())"
   ]
  },
  {
   "cell_type": "code",
   "execution_count": 171,
   "id": "e4c6679b",
   "metadata": {},
   "outputs": [
    {
     "data": {
      "text/plain": [
       "9"
      ]
     },
     "execution_count": 171,
     "metadata": {},
     "output_type": "execute_result"
    }
   ],
   "source": [
    "np.array(x).ptp()"
   ]
  },
  {
   "cell_type": "code",
   "execution_count": 172,
   "id": "62d6fdc5",
   "metadata": {},
   "outputs": [],
   "source": [
    "x_array = np.linspace(0, 1, num=100_000, dtype=np.float32)"
   ]
  },
  {
   "cell_type": "code",
   "execution_count": 176,
   "id": "274c797a",
   "metadata": {},
   "outputs": [
    {
     "name": "stdout",
     "output_type": "stream",
     "text": [
      "19.2 µs ± 863 ns per loop (mean ± std. dev. of 7 runs, 10,000 loops each)\n"
     ]
    }
   ],
   "source": [
    "%timeit x_array.min()"
   ]
  },
  {
   "cell_type": "code",
   "execution_count": 174,
   "id": "2782aa5c",
   "metadata": {},
   "outputs": [
    {
     "name": "stdout",
     "output_type": "stream",
     "text": [
      "39.3 µs ± 1.5 µs per loop (mean ± std. dev. of 7 runs, 10,000 loops each)\n"
     ]
    }
   ],
   "source": [
    "%timeit x_array.ptp()"
   ]
  },
  {
   "cell_type": "code",
   "execution_count": 175,
   "id": "c5469f79",
   "metadata": {},
   "outputs": [
    {
     "name": "stdout",
     "output_type": "stream",
     "text": [
      "37 µs ± 747 ns per loop (mean ± std. dev. of 7 runs, 10,000 loops each)\n"
     ]
    }
   ],
   "source": [
    "%timeit x_array.max() - x_array.min()"
   ]
  },
  {
   "cell_type": "code",
   "execution_count": 178,
   "id": "869c7a5e",
   "metadata": {},
   "outputs": [
    {
     "data": {
      "text/plain": [
       "100000"
      ]
     },
     "execution_count": 178,
     "metadata": {},
     "output_type": "execute_result"
    }
   ],
   "source": [
    "int(x_array.size)"
   ]
  },
  {
   "cell_type": "code",
   "execution_count": 182,
   "id": "8e716648",
   "metadata": {},
   "outputs": [],
   "source": [
    "dtype = x_array.dtype"
   ]
  },
  {
   "cell_type": "code",
   "execution_count": 183,
   "id": "b0f0606c",
   "metadata": {},
   "outputs": [
    {
     "ename": "TypeError",
     "evalue": "'numpy.dtype[float32]' object is not callable",
     "output_type": "error",
     "traceback": [
      "\u001b[0;31m---------------------------------------------------------------------------\u001b[0m",
      "\u001b[0;31mTypeError\u001b[0m                                 Traceback (most recent call last)",
      "Cell \u001b[0;32mIn[183], line 1\u001b[0m\n\u001b[0;32m----> 1\u001b[0m \u001b[43mdtype\u001b[49m\u001b[43m(\u001b[49m\u001b[38;5;241;43m0.2\u001b[39;49m\u001b[43m)\u001b[49m\n",
      "\u001b[0;31mTypeError\u001b[0m: 'numpy.dtype[float32]' object is not callable"
     ]
    }
   ],
   "source": [
    "dtype(0.2)"
   ]
  },
  {
   "cell_type": "code",
   "execution_count": 184,
   "id": "c2607bd8",
   "metadata": {},
   "outputs": [
    {
     "data": {
      "text/plain": [
       "0.2"
      ]
     },
     "execution_count": 184,
     "metadata": {},
     "output_type": "execute_result"
    }
   ],
   "source": [
    "np.float32(0.2)"
   ]
  },
  {
   "cell_type": "code",
   "execution_count": 186,
   "id": "fcde2261",
   "metadata": {},
   "outputs": [
    {
     "data": {
      "text/plain": [
       "0.2"
      ]
     },
     "execution_count": 186,
     "metadata": {},
     "output_type": "execute_result"
    }
   ],
   "source": [
    "x_array.dtype.type(0.2)"
   ]
  },
  {
   "cell_type": "code",
   "execution_count": 187,
   "id": "2c7074b2",
   "metadata": {},
   "outputs": [
    {
     "data": {
      "text/plain": [
       "0.3"
      ]
     },
     "execution_count": 187,
     "metadata": {},
     "output_type": "execute_result"
    }
   ],
   "source": [
    "dtype = x_array.dtype.type\n",
    "dtype(0.3)"
   ]
  },
  {
   "cell_type": "code",
   "execution_count": 188,
   "id": "ac48894e",
   "metadata": {},
   "outputs": [],
   "source": [
    "x_array = np.linspace(0, 1, num=100_000, dtype=np.float32)"
   ]
  },
  {
   "cell_type": "code",
   "execution_count": 192,
   "id": "2dd2fe1b",
   "metadata": {},
   "outputs": [
    {
     "name": "stdout",
     "output_type": "stream",
     "text": [
      "32.8 µs ± 6.98 µs per loop (mean ± std. dev. of 7 runs, 10,000 loops each)\n"
     ]
    }
   ],
   "source": [
    "s = 0.2\n",
    "b = 20\n",
    "%timeit s * x_array + b "
   ]
  },
  {
   "cell_type": "code",
   "execution_count": 193,
   "id": "51413a77",
   "metadata": {},
   "outputs": [
    {
     "name": "stdout",
     "output_type": "stream",
     "text": [
      "29.7 µs ± 224 ns per loop (mean ± std. dev. of 7 runs, 10,000 loops each)\n"
     ]
    }
   ],
   "source": [
    "s = 0.2\n",
    "b = 20\n",
    "%timeit x_array * s + b "
   ]
  },
  {
   "cell_type": "code",
   "execution_count": 194,
   "id": "b300af5d",
   "metadata": {},
   "outputs": [
    {
     "name": "stdout",
     "output_type": "stream",
     "text": [
      "28.2 µs ± 366 ns per loop (mean ± std. dev. of 7 runs, 10,000 loops each)\n"
     ]
    }
   ],
   "source": [
    "s = np.float32(0.2)\n",
    "b = np.float32(20)\n",
    "%timeit x_array * s + b"
   ]
  },
  {
   "cell_type": "code",
   "execution_count": 195,
   "id": "14989c06",
   "metadata": {},
   "outputs": [],
   "source": [
    "DATA = {\n",
    "    \"phases\": [\n",
    "      {\n",
    "        \"SrTiO3\": {\n",
    "          \"_space_group_name_H-M_alt\": \"P m -3 m\",\n",
    "          \"_cell_length_a\": 3.9,\n",
    "          \"_cell_length_b\": 3.9,\n",
    "          \"_cell_length_c\": 3.9,\n",
    "          \"_cell_angle_alpha\": 90,\n",
    "          \"_cell_angle_beta\": 90,\n",
    "          \"_cell_angle_gamma\": 90,\n",
    "          \"_atom_site\": [\n",
    "            {\n",
    "              \"_label\": \"Sr\",\n",
    "              \"_type_symbol\": \"Sr\",\n",
    "              \"_fract_x\": 0.5,\n",
    "              \"_fract_y\": 0.5,\n",
    "              \"_fract_z\": 0.5,\n",
    "              \"_occupancy\": 1,\n",
    "              \"_adp_type\": \"Biso\",\n",
    "              \"_B_iso_or_equiv\": 0.40\n",
    "            },\n",
    "            {\n",
    "              \"_label\": \"Ti\",\n",
    "              \"_type_symbol\": \"Ti\",\n",
    "              \"_fract_x\": 0,\n",
    "              \"_fract_y\": 0,\n",
    "              \"_fract_z\": 0,\n",
    "              \"_occupancy\": 1,\n",
    "              \"_adp_type\": \"Biso\",\n",
    "              \"_B_iso_or_equiv\": 0.50\n",
    "            },\n",
    "            {\n",
    "              \"_label\": \"O\",\n",
    "              \"_type_symbol\": \"O\",\n",
    "              \"_fract_x\": 0.5,\n",
    "              \"_fract_y\": 0,\n",
    "              \"_fract_z\": 0,\n",
    "              \"_occupancy\": 1,\n",
    "              \"_adp_type\": \"Biso\",\n",
    "              \"_B_iso_or_equiv\": 0.65\n",
    "            }\n",
    "          ]\n",
    "        }\n",
    "      }\n",
    "    ],\n",
    "    \"experiments\": [\n",
    "      {\n",
    "        \"NPD\": {\n",
    "          \"_diffrn_source\": \"nuclear reactor\",\n",
    "          \"_diffrn_radiation_probe\": \"neutron\",\n",
    "          \"_diffrn_radiation_wavelength\": 1.27,\n",
    "          \"_pd_instr_resolution_u\": 0.01,\n",
    "          \"_pd_instr_resolution_v\": -0.01,\n",
    "          \"_pd_instr_resolution_w\": 0.01,\n",
    "          \"_pd_instr_resolution_x\": 0.1,\n",
    "          \"_pd_instr_resolution_y\": 0,\n",
    "          \"_pd_instr_reflex_asymmetry_p1\": 0,\n",
    "          \"_pd_instr_reflex_asymmetry_p2\": 0,\n",
    "          \"_pd_instr_reflex_asymmetry_p3\": 0,\n",
    "          \"_pd_instr_reflex_asymmetry_p4\": 0,\n",
    "          \"_pd_meas_2theta_offset\": 0,\n",
    "          \"_pd_meas_2theta_range_min\": 0,\n",
    "          \"_pd_meas_2theta_range_max\": 180,\n",
    "          \"_pd_meas_2theta_range_inc\": 0.1,\n",
    "          \"_phase\": [\n",
    "            {\n",
    "              \"_label\": \"SrTiO3\",\n",
    "              \"_scale\": 0.01\n",
    "            }\n",
    "          ],\n",
    "          \"_pd_background\": [\n",
    "            {\n",
    "              \"_2theta\": 50,\n",
    "              \"_intensity\": 20\n",
    "            },\n",
    "            {\n",
    "              \"_2theta\": 90,\n",
    "              \"_intensity\": 0\n",
    "            },\n",
    "            {\n",
    "              \"_2theta\": 140,\n",
    "              \"_intensity\": 40\n",
    "            }\n",
    "          ]\n",
    "        }\n",
    "      }\n",
    "    ]\n",
    "}"
   ]
  },
  {
   "cell_type": "code",
   "execution_count": 196,
   "id": "20c01e05",
   "metadata": {},
   "outputs": [],
   "source": [
    "background = DATA['experiments'][0]['NPD']['_pd_background']"
   ]
  },
  {
   "cell_type": "code",
   "execution_count": 198,
   "id": "412995cd",
   "metadata": {},
   "outputs": [
    {
     "data": {
      "text/plain": [
       "[50, 90, 140]"
      ]
     },
     "execution_count": 198,
     "metadata": {},
     "output_type": "execute_result"
    }
   ],
   "source": [
    "[item['_2theta'] for item in background]"
   ]
  },
  {
   "cell_type": "code",
   "execution_count": null,
   "id": "34ffb7d8",
   "metadata": {},
   "outputs": [],
   "source": []
  }
 ],
 "metadata": {
  "kernelspec": {
   "display_name": "Python 3 (ipykernel)",
   "language": "python",
   "name": "python3"
  },
  "language_info": {
   "codemirror_mode": {
    "name": "ipython",
    "version": 3
   },
   "file_extension": ".py",
   "mimetype": "text/x-python",
   "name": "python",
   "nbconvert_exporter": "python",
   "pygments_lexer": "ipython3",
   "version": "3.9.10"
  }
 },
 "nbformat": 4,
 "nbformat_minor": 5
}
