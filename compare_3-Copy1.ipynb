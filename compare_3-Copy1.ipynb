{
 "cells": [
  {
   "cell_type": "code",
   "execution_count": 365,
   "id": "d9ea7a4e",
   "metadata": {},
   "outputs": [
    {
     "data": {
      "text/html": [
       "        <script type=\"text/javascript\">\n",
       "        window.PlotlyConfig = {MathJaxConfig: 'local'};\n",
       "        if (window.MathJax && window.MathJax.Hub && window.MathJax.Hub.Config) {window.MathJax.Hub.Config({SVG: {font: \"STIX-Web\"}});}\n",
       "        if (typeof require !== 'undefined') {\n",
       "        require.undef(\"plotly\");\n",
       "        requirejs.config({\n",
       "            paths: {\n",
       "                'plotly': ['https://cdn.plot.ly/plotly-2.18.2.min']\n",
       "            }\n",
       "        });\n",
       "        require(['plotly'], function(Plotly) {\n",
       "            window._Plotly = Plotly;\n",
       "        });\n",
       "        }\n",
       "        </script>\n",
       "        "
      ]
     },
     "metadata": {},
     "output_type": "display_data"
    }
   ],
   "source": [
    "import timeit\n",
    "import time\n",
    "import math\n",
    "import numba as nb\n",
    "import numpy as np\n",
    "import numexpr as ne\n",
    "import pandas as pd\n",
    "import plotly.express as px\n",
    "from plotly.offline import init_notebook_mode\n",
    "init_notebook_mode(connected = True)"
   ]
  },
  {
   "cell_type": "code",
   "execution_count": 366,
   "id": "ed0d0aa2",
   "metadata": {},
   "outputs": [
    {
     "name": "stdout",
     "output_type": "stream",
     "text": [
      "54.9 ns ± 4.16 ns per loop (mean ± std. dev. of 7 runs, 10,000,000 loops each)\n"
     ]
    }
   ],
   "source": [
    "x = 2.0\n",
    "%timeit x * 1.0"
   ]
  },
  {
   "cell_type": "code",
   "execution_count": 367,
   "id": "88ba64ca",
   "metadata": {},
   "outputs": [],
   "source": [
    "def f_py_append(x_list, y_list):\n",
    "    y_list = []\n",
    "    for x in x_list:\n",
    "        y_list.append(x * 2.0)\n",
    "    return y_list\n",
    "\n",
    "def f_py(x_list, y_list):\n",
    "    for i in range(len(x_list)):\n",
    "        y_list[i] = x_list[i] * 2.0\n",
    "    return y_list\n",
    "\n",
    "def f_py_listcompr(x_list, y_list):\n",
    "    return [x * 2.0 for x in x_list]"
   ]
  },
  {
   "cell_type": "code",
   "execution_count": 368,
   "id": "28319a50",
   "metadata": {},
   "outputs": [],
   "source": [
    "def f_numpy(x_array, y_array):\n",
    "    return x_array * 2.0"
   ]
  },
  {
   "cell_type": "code",
   "execution_count": 369,
   "id": "b4b6ac1c",
   "metadata": {},
   "outputs": [],
   "source": [
    "@nb.njit\n",
    "def f_numba(x_array, y_array):\n",
    "    for i in range(x_array.size):\n",
    "        y_array[i] = x_array[i] * 2.0\n",
    "    return y_array\n",
    "\n",
    "@nb.njit(parallel=True)\n",
    "def f_numba_parall(x_array, y_array):\n",
    "    for i in nb.prange(x_array.size):\n",
    "        y_array[i] = x_array[i] * 2.0\n",
    "    return y_array"
   ]
  },
  {
   "cell_type": "code",
   "execution_count": 370,
   "id": "d43c3376",
   "metadata": {},
   "outputs": [],
   "source": [
    "def f_numexpr(x_array, y_array):\n",
    "    return ne.evaluate(\"x_array * 2.0\")"
   ]
  },
  {
   "cell_type": "code",
   "execution_count": 377,
   "id": "6eca5b88",
   "metadata": {},
   "outputs": [],
   "source": [
    "funcs = [f_py_append, f_py, f_py_listcompr, f_numpy, f_numba, f_numba_parall, f_numexpr]\n",
    "sizes = [100, 200, 500, 1_000, 2_000, 3_000, 5_000, 10_000, 20_000, 50_000, 100_000, 200_000, 500_000, 1_000_000]"
   ]
  },
  {
   "cell_type": "code",
   "execution_count": 386,
   "id": "82a5aa83",
   "metadata": {},
   "outputs": [],
   "source": [
    "addons = [0.0, 0.00001, 0.0001, 0.001]"
   ]
  },
  {
   "cell_type": "code",
   "execution_count": 379,
   "id": "9c902735",
   "metadata": {},
   "outputs": [],
   "source": [
    "times = np.zeros((len(sizes), len(funcs)))"
   ]
  },
  {
   "cell_type": "code",
   "execution_count": 381,
   "id": "816ad927",
   "metadata": {},
   "outputs": [
    {
     "name": "stdout",
     "output_type": "stream",
     "text": [
      ".......100\n",
      ".......200\n",
      ".......500\n",
      ".......1000\n",
      ".......2000\n",
      ".......3000\n",
      ".......5000\n",
      ".......10000\n",
      ".......20000\n",
      ".......50000\n",
      ".......100000\n",
      ".......200000\n",
      ".......500000\n",
      ".......1000000\n"
     ]
    }
   ],
   "source": [
    "N = 50\n",
    "\n",
    "for i, s in enumerate(sizes):\n",
    "    for j, f in enumerate(funcs):\n",
    "        x_array = np.linspace(0, 1, num=s)\n",
    "        y_array = np.empty_like(x_array)     \n",
    "        if f.__name__.startswith('f_py'):\n",
    "            x_array = x_array.tolist()\n",
    "            y_array = y_array.tolist()\n",
    "        times[i, j] = timeit.timeit(\"f(x_array, y_array)\", globals=globals(), number=N) / N\n",
    "        print(\".\", end=\"\")\n",
    "    print(s)"
   ]
  },
  {
   "cell_type": "code",
   "execution_count": 382,
   "id": "e771226a",
   "metadata": {},
   "outputs": [],
   "source": [
    "l = [pd.DataFrame({'name': f.__name__, \n",
    "                   'x': sizes, \n",
    "                   'y': times[:, j]\n",
    "                  }) \n",
    "     for j, f in enumerate(funcs)]\n",
    "df = pd.concat(l)"
   ]
  },
  {
   "cell_type": "code",
   "execution_count": 383,
   "id": "80643d77",
   "metadata": {},
   "outputs": [
    {
     "data": {
      "application/vnd.plotly.v1+json": {
       "config": {
        "plotlyServerURL": "https://plot.ly"
       },
       "data": [
        {
         "hovertemplate": "name=f_py_append<br>x=%{x}<br>y=%{y}<extra></extra>",
         "legendgroup": "f_py_append",
         "line": {
          "color": "#636efa",
          "dash": "solid"
         },
         "marker": {
          "symbol": "circle"
         },
         "mode": "lines+markers",
         "name": "f_py_append",
         "orientation": "v",
         "showlegend": true,
         "type": "scatter",
         "x": [
          100,
          200,
          500,
          1000,
          2000,
          3000,
          5000,
          10000,
          20000,
          50000,
          100000,
          200000,
          500000,
          1000000
         ],
         "xaxis": "x",
         "y": [
          1.1054240021621808E-5,
          2.2268059983616694E-5,
          5.5840280037955384E-5,
          1.1445672003901564E-4,
          2.1841868001502008E-4,
          3.134432800288778E-4,
          5.128094599785982E-4,
          0.0010366538199741626,
          0.0020299317999888443,
          0.00525842085997283,
          0.011947187800033135,
          0.022552211840011296,
          0.06042144920000283,
          0.1249694217999786
         ],
         "yaxis": "y"
        },
        {
         "hovertemplate": "name=f_py<br>x=%{x}<br>y=%{y}<extra></extra>",
         "legendgroup": "f_py",
         "line": {
          "color": "#EF553B",
          "dash": "solid"
         },
         "marker": {
          "symbol": "circle"
         },
         "mode": "lines+markers",
         "name": "f_py",
         "orientation": "v",
         "showlegend": true,
         "type": "scatter",
         "x": [
          100,
          200,
          500,
          1000,
          2000,
          3000,
          5000,
          10000,
          20000,
          50000,
          100000,
          200000,
          500000,
          1000000
         ],
         "xaxis": "x",
         "y": [
          9.607780011720024E-6,
          2.64902799972333E-5,
          5.316449998645112E-5,
          1.0775399998237845E-4,
          2.232832200388657E-4,
          3.2585774002654946E-4,
          5.386856399854878E-4,
          0.001067559400034952,
          0.002159571680022054,
          0.005554858339964994,
          0.01106836202001432,
          0.021986819319936332,
          0.055277941539970926,
          0.11042412301998411
         ],
         "yaxis": "y"
        },
        {
         "hovertemplate": "name=f_py_listcompr<br>x=%{x}<br>y=%{y}<extra></extra>",
         "legendgroup": "f_py_listcompr",
         "line": {
          "color": "#00cc96",
          "dash": "solid"
         },
         "marker": {
          "symbol": "circle"
         },
         "mode": "lines+markers",
         "name": "f_py_listcompr",
         "orientation": "v",
         "showlegend": true,
         "type": "scatter",
         "x": [
          100,
          200,
          500,
          1000,
          2000,
          3000,
          5000,
          10000,
          20000,
          50000,
          100000,
          200000,
          500000,
          1000000
         ],
         "xaxis": "x",
         "y": [
          6.627580005442724E-6,
          1.3552439995692111E-5,
          3.5225399988121356E-5,
          6.623127999773715E-5,
          1.2948023999342695E-4,
          1.947969200409716E-4,
          3.314594000403304E-4,
          5.819545400299831E-4,
          0.002094960219983477,
          0.0031466580599953885,
          0.0072738695600128266,
          0.014115141500005847,
          0.04284195428001112,
          0.08276965381999617
         ],
         "yaxis": "y"
        },
        {
         "hovertemplate": "name=f_numpy<br>x=%{x}<br>y=%{y}<extra></extra>",
         "legendgroup": "f_numpy",
         "line": {
          "color": "#ab63fa",
          "dash": "solid"
         },
         "marker": {
          "symbol": "circle"
         },
         "mode": "lines+markers",
         "name": "f_numpy",
         "orientation": "v",
         "showlegend": true,
         "type": "scatter",
         "x": [
          100,
          200,
          500,
          1000,
          2000,
          3000,
          5000,
          10000,
          20000,
          50000,
          100000,
          200000,
          500000,
          1000000
         ],
         "xaxis": "x",
         "y": [
          1.6431199765065685E-6,
          1.8374399951426311E-6,
          1.9237400556448848E-6,
          2.2313999943435194E-6,
          2.608419963507913E-6,
          3.0254400189733133E-6,
          1.305749399762135E-4,
          5.573580056079663E-6,
          1.4908660014043561E-5,
          2.6385579985799268E-5,
          4.9384620069758967E-5,
          1.0397361998911947E-4,
          2.666415400017286E-4,
          0.0019449383999744895
         ],
         "yaxis": "y"
        },
        {
         "hovertemplate": "name=f_numba<br>x=%{x}<br>y=%{y}<extra></extra>",
         "legendgroup": "f_numba",
         "line": {
          "color": "#FFA15A",
          "dash": "solid"
         },
         "marker": {
          "symbol": "circle"
         },
         "mode": "lines+markers",
         "name": "f_numba",
         "orientation": "v",
         "showlegend": true,
         "type": "scatter",
         "x": [
          100,
          200,
          500,
          1000,
          2000,
          3000,
          5000,
          10000,
          20000,
          50000,
          100000,
          200000,
          500000,
          1000000
         ],
         "xaxis": "x",
         "y": [
          1.361459944746457E-6,
          1.3626200234284625E-6,
          1.4156999532133341E-6,
          1.558459989610128E-6,
          2.055360018857755E-6,
          2.313920049346052E-6,
          2.664720013854094E-6,
          4.420600016601384E-6,
          9.76620001893025E-6,
          2.4839380057528614E-5,
          4.818974004592747E-5,
          1.016660399909597E-4,
          2.518874999805121E-4,
          7.61634079972282E-4
         ],
         "yaxis": "y"
        },
        {
         "hovertemplate": "name=f_numba_parall<br>x=%{x}<br>y=%{y}<extra></extra>",
         "legendgroup": "f_numba_parall",
         "line": {
          "color": "#19d3f3",
          "dash": "solid"
         },
         "marker": {
          "symbol": "circle"
         },
         "mode": "lines+markers",
         "name": "f_numba_parall",
         "orientation": "v",
         "showlegend": true,
         "type": "scatter",
         "x": [
          100,
          200,
          500,
          1000,
          2000,
          3000,
          5000,
          10000,
          20000,
          50000,
          100000,
          200000,
          500000,
          1000000
         ],
         "xaxis": "x",
         "y": [
          1.4341123998747206E-4,
          1.2038291999488137E-4,
          1.2840456001868007E-4,
          1.2423370004398747E-4,
          1.1593923998589162E-4,
          9.819694001635071E-5,
          1.2067547999322414E-4,
          1.083874599862611E-4,
          1.084682799410075E-4,
          1.1986293997324537E-4,
          1.146019400039222E-4,
          1.287484799831873E-4,
          1.832795199879911E-4,
          7.101359799708007E-4
         ],
         "yaxis": "y"
        },
        {
         "hovertemplate": "name=f_numexpr<br>x=%{x}<br>y=%{y}<extra></extra>",
         "legendgroup": "f_numexpr",
         "line": {
          "color": "#FF6692",
          "dash": "solid"
         },
         "marker": {
          "symbol": "circle"
         },
         "mode": "lines+markers",
         "name": "f_numexpr",
         "orientation": "v",
         "showlegend": true,
         "type": "scatter",
         "x": [
          100,
          200,
          500,
          1000,
          2000,
          3000,
          5000,
          10000,
          20000,
          50000,
          100000,
          200000,
          500000,
          1000000
         ],
         "xaxis": "x",
         "y": [
          1.5130460014916026E-5,
          1.3637180018122308E-5,
          1.401659996190574E-5,
          2.054320000752341E-5,
          1.572396002302412E-5,
          1.0296717999153771E-4,
          1.350160800211597E-4,
          1.0594274004688487E-4,
          1.0746336003649049E-4,
          1.3115895999362692E-4,
          1.6727730006095952E-4,
          3.488489399751415E-4,
          8.611145599570591E-4,
          0.00170227911999973
         ],
         "yaxis": "y"
        }
       ],
       "layout": {
        "legend": {
         "title": {
          "text": "name"
         },
         "tracegroupgap": 0
        },
        "margin": {
         "t": 60
        },
        "template": {
         "data": {
          "bar": [
           {
            "error_x": {
             "color": "#2a3f5f"
            },
            "error_y": {
             "color": "#2a3f5f"
            },
            "marker": {
             "line": {
              "color": "#E5ECF6",
              "width": 0.5
             },
             "pattern": {
              "fillmode": "overlay",
              "size": 10,
              "solidity": 0.2
             }
            },
            "type": "bar"
           }
          ],
          "barpolar": [
           {
            "marker": {
             "line": {
              "color": "#E5ECF6",
              "width": 0.5
             },
             "pattern": {
              "fillmode": "overlay",
              "size": 10,
              "solidity": 0.2
             }
            },
            "type": "barpolar"
           }
          ],
          "carpet": [
           {
            "aaxis": {
             "endlinecolor": "#2a3f5f",
             "gridcolor": "white",
             "linecolor": "white",
             "minorgridcolor": "white",
             "startlinecolor": "#2a3f5f"
            },
            "baxis": {
             "endlinecolor": "#2a3f5f",
             "gridcolor": "white",
             "linecolor": "white",
             "minorgridcolor": "white",
             "startlinecolor": "#2a3f5f"
            },
            "type": "carpet"
           }
          ],
          "choropleth": [
           {
            "colorbar": {
             "outlinewidth": 0,
             "ticks": ""
            },
            "type": "choropleth"
           }
          ],
          "contour": [
           {
            "colorbar": {
             "outlinewidth": 0,
             "ticks": ""
            },
            "colorscale": [
             [
              0,
              "#0d0887"
             ],
             [
              0.1111111111111111,
              "#46039f"
             ],
             [
              0.2222222222222222,
              "#7201a8"
             ],
             [
              0.3333333333333333,
              "#9c179e"
             ],
             [
              0.4444444444444444,
              "#bd3786"
             ],
             [
              0.5555555555555556,
              "#d8576b"
             ],
             [
              0.6666666666666666,
              "#ed7953"
             ],
             [
              0.7777777777777778,
              "#fb9f3a"
             ],
             [
              0.8888888888888888,
              "#fdca26"
             ],
             [
              1,
              "#f0f921"
             ]
            ],
            "type": "contour"
           }
          ],
          "contourcarpet": [
           {
            "colorbar": {
             "outlinewidth": 0,
             "ticks": ""
            },
            "type": "contourcarpet"
           }
          ],
          "heatmap": [
           {
            "colorbar": {
             "outlinewidth": 0,
             "ticks": ""
            },
            "colorscale": [
             [
              0,
              "#0d0887"
             ],
             [
              0.1111111111111111,
              "#46039f"
             ],
             [
              0.2222222222222222,
              "#7201a8"
             ],
             [
              0.3333333333333333,
              "#9c179e"
             ],
             [
              0.4444444444444444,
              "#bd3786"
             ],
             [
              0.5555555555555556,
              "#d8576b"
             ],
             [
              0.6666666666666666,
              "#ed7953"
             ],
             [
              0.7777777777777778,
              "#fb9f3a"
             ],
             [
              0.8888888888888888,
              "#fdca26"
             ],
             [
              1,
              "#f0f921"
             ]
            ],
            "type": "heatmap"
           }
          ],
          "heatmapgl": [
           {
            "colorbar": {
             "outlinewidth": 0,
             "ticks": ""
            },
            "colorscale": [
             [
              0,
              "#0d0887"
             ],
             [
              0.1111111111111111,
              "#46039f"
             ],
             [
              0.2222222222222222,
              "#7201a8"
             ],
             [
              0.3333333333333333,
              "#9c179e"
             ],
             [
              0.4444444444444444,
              "#bd3786"
             ],
             [
              0.5555555555555556,
              "#d8576b"
             ],
             [
              0.6666666666666666,
              "#ed7953"
             ],
             [
              0.7777777777777778,
              "#fb9f3a"
             ],
             [
              0.8888888888888888,
              "#fdca26"
             ],
             [
              1,
              "#f0f921"
             ]
            ],
            "type": "heatmapgl"
           }
          ],
          "histogram": [
           {
            "marker": {
             "pattern": {
              "fillmode": "overlay",
              "size": 10,
              "solidity": 0.2
             }
            },
            "type": "histogram"
           }
          ],
          "histogram2d": [
           {
            "colorbar": {
             "outlinewidth": 0,
             "ticks": ""
            },
            "colorscale": [
             [
              0,
              "#0d0887"
             ],
             [
              0.1111111111111111,
              "#46039f"
             ],
             [
              0.2222222222222222,
              "#7201a8"
             ],
             [
              0.3333333333333333,
              "#9c179e"
             ],
             [
              0.4444444444444444,
              "#bd3786"
             ],
             [
              0.5555555555555556,
              "#d8576b"
             ],
             [
              0.6666666666666666,
              "#ed7953"
             ],
             [
              0.7777777777777778,
              "#fb9f3a"
             ],
             [
              0.8888888888888888,
              "#fdca26"
             ],
             [
              1,
              "#f0f921"
             ]
            ],
            "type": "histogram2d"
           }
          ],
          "histogram2dcontour": [
           {
            "colorbar": {
             "outlinewidth": 0,
             "ticks": ""
            },
            "colorscale": [
             [
              0,
              "#0d0887"
             ],
             [
              0.1111111111111111,
              "#46039f"
             ],
             [
              0.2222222222222222,
              "#7201a8"
             ],
             [
              0.3333333333333333,
              "#9c179e"
             ],
             [
              0.4444444444444444,
              "#bd3786"
             ],
             [
              0.5555555555555556,
              "#d8576b"
             ],
             [
              0.6666666666666666,
              "#ed7953"
             ],
             [
              0.7777777777777778,
              "#fb9f3a"
             ],
             [
              0.8888888888888888,
              "#fdca26"
             ],
             [
              1,
              "#f0f921"
             ]
            ],
            "type": "histogram2dcontour"
           }
          ],
          "mesh3d": [
           {
            "colorbar": {
             "outlinewidth": 0,
             "ticks": ""
            },
            "type": "mesh3d"
           }
          ],
          "parcoords": [
           {
            "line": {
             "colorbar": {
              "outlinewidth": 0,
              "ticks": ""
             }
            },
            "type": "parcoords"
           }
          ],
          "pie": [
           {
            "automargin": true,
            "type": "pie"
           }
          ],
          "scatter": [
           {
            "fillpattern": {
             "fillmode": "overlay",
             "size": 10,
             "solidity": 0.2
            },
            "type": "scatter"
           }
          ],
          "scatter3d": [
           {
            "line": {
             "colorbar": {
              "outlinewidth": 0,
              "ticks": ""
             }
            },
            "marker": {
             "colorbar": {
              "outlinewidth": 0,
              "ticks": ""
             }
            },
            "type": "scatter3d"
           }
          ],
          "scattercarpet": [
           {
            "marker": {
             "colorbar": {
              "outlinewidth": 0,
              "ticks": ""
             }
            },
            "type": "scattercarpet"
           }
          ],
          "scattergeo": [
           {
            "marker": {
             "colorbar": {
              "outlinewidth": 0,
              "ticks": ""
             }
            },
            "type": "scattergeo"
           }
          ],
          "scattergl": [
           {
            "marker": {
             "colorbar": {
              "outlinewidth": 0,
              "ticks": ""
             }
            },
            "type": "scattergl"
           }
          ],
          "scattermapbox": [
           {
            "marker": {
             "colorbar": {
              "outlinewidth": 0,
              "ticks": ""
             }
            },
            "type": "scattermapbox"
           }
          ],
          "scatterpolar": [
           {
            "marker": {
             "colorbar": {
              "outlinewidth": 0,
              "ticks": ""
             }
            },
            "type": "scatterpolar"
           }
          ],
          "scatterpolargl": [
           {
            "marker": {
             "colorbar": {
              "outlinewidth": 0,
              "ticks": ""
             }
            },
            "type": "scatterpolargl"
           }
          ],
          "scatterternary": [
           {
            "marker": {
             "colorbar": {
              "outlinewidth": 0,
              "ticks": ""
             }
            },
            "type": "scatterternary"
           }
          ],
          "surface": [
           {
            "colorbar": {
             "outlinewidth": 0,
             "ticks": ""
            },
            "colorscale": [
             [
              0,
              "#0d0887"
             ],
             [
              0.1111111111111111,
              "#46039f"
             ],
             [
              0.2222222222222222,
              "#7201a8"
             ],
             [
              0.3333333333333333,
              "#9c179e"
             ],
             [
              0.4444444444444444,
              "#bd3786"
             ],
             [
              0.5555555555555556,
              "#d8576b"
             ],
             [
              0.6666666666666666,
              "#ed7953"
             ],
             [
              0.7777777777777778,
              "#fb9f3a"
             ],
             [
              0.8888888888888888,
              "#fdca26"
             ],
             [
              1,
              "#f0f921"
             ]
            ],
            "type": "surface"
           }
          ],
          "table": [
           {
            "cells": {
             "fill": {
              "color": "#EBF0F8"
             },
             "line": {
              "color": "white"
             }
            },
            "header": {
             "fill": {
              "color": "#C8D4E3"
             },
             "line": {
              "color": "white"
             }
            },
            "type": "table"
           }
          ]
         },
         "layout": {
          "annotationdefaults": {
           "arrowcolor": "#2a3f5f",
           "arrowhead": 0,
           "arrowwidth": 1
          },
          "autotypenumbers": "strict",
          "coloraxis": {
           "colorbar": {
            "outlinewidth": 0,
            "ticks": ""
           }
          },
          "colorscale": {
           "diverging": [
            [
             0,
             "#8e0152"
            ],
            [
             0.1,
             "#c51b7d"
            ],
            [
             0.2,
             "#de77ae"
            ],
            [
             0.3,
             "#f1b6da"
            ],
            [
             0.4,
             "#fde0ef"
            ],
            [
             0.5,
             "#f7f7f7"
            ],
            [
             0.6,
             "#e6f5d0"
            ],
            [
             0.7,
             "#b8e186"
            ],
            [
             0.8,
             "#7fbc41"
            ],
            [
             0.9,
             "#4d9221"
            ],
            [
             1,
             "#276419"
            ]
           ],
           "sequential": [
            [
             0,
             "#0d0887"
            ],
            [
             0.1111111111111111,
             "#46039f"
            ],
            [
             0.2222222222222222,
             "#7201a8"
            ],
            [
             0.3333333333333333,
             "#9c179e"
            ],
            [
             0.4444444444444444,
             "#bd3786"
            ],
            [
             0.5555555555555556,
             "#d8576b"
            ],
            [
             0.6666666666666666,
             "#ed7953"
            ],
            [
             0.7777777777777778,
             "#fb9f3a"
            ],
            [
             0.8888888888888888,
             "#fdca26"
            ],
            [
             1,
             "#f0f921"
            ]
           ],
           "sequentialminus": [
            [
             0,
             "#0d0887"
            ],
            [
             0.1111111111111111,
             "#46039f"
            ],
            [
             0.2222222222222222,
             "#7201a8"
            ],
            [
             0.3333333333333333,
             "#9c179e"
            ],
            [
             0.4444444444444444,
             "#bd3786"
            ],
            [
             0.5555555555555556,
             "#d8576b"
            ],
            [
             0.6666666666666666,
             "#ed7953"
            ],
            [
             0.7777777777777778,
             "#fb9f3a"
            ],
            [
             0.8888888888888888,
             "#fdca26"
            ],
            [
             1,
             "#f0f921"
            ]
           ]
          },
          "colorway": [
           "#636efa",
           "#EF553B",
           "#00cc96",
           "#ab63fa",
           "#FFA15A",
           "#19d3f3",
           "#FF6692",
           "#B6E880",
           "#FF97FF",
           "#FECB52"
          ],
          "font": {
           "color": "#2a3f5f"
          },
          "geo": {
           "bgcolor": "white",
           "lakecolor": "white",
           "landcolor": "#E5ECF6",
           "showlakes": true,
           "showland": true,
           "subunitcolor": "white"
          },
          "hoverlabel": {
           "align": "left"
          },
          "hovermode": "closest",
          "mapbox": {
           "style": "light"
          },
          "paper_bgcolor": "white",
          "plot_bgcolor": "#E5ECF6",
          "polar": {
           "angularaxis": {
            "gridcolor": "white",
            "linecolor": "white",
            "ticks": ""
           },
           "bgcolor": "#E5ECF6",
           "radialaxis": {
            "gridcolor": "white",
            "linecolor": "white",
            "ticks": ""
           }
          },
          "scene": {
           "xaxis": {
            "backgroundcolor": "#E5ECF6",
            "gridcolor": "white",
            "gridwidth": 2,
            "linecolor": "white",
            "showbackground": true,
            "ticks": "",
            "zerolinecolor": "white"
           },
           "yaxis": {
            "backgroundcolor": "#E5ECF6",
            "gridcolor": "white",
            "gridwidth": 2,
            "linecolor": "white",
            "showbackground": true,
            "ticks": "",
            "zerolinecolor": "white"
           },
           "zaxis": {
            "backgroundcolor": "#E5ECF6",
            "gridcolor": "white",
            "gridwidth": 2,
            "linecolor": "white",
            "showbackground": true,
            "ticks": "",
            "zerolinecolor": "white"
           }
          },
          "shapedefaults": {
           "line": {
            "color": "#2a3f5f"
           }
          },
          "ternary": {
           "aaxis": {
            "gridcolor": "white",
            "linecolor": "white",
            "ticks": ""
           },
           "baxis": {
            "gridcolor": "white",
            "linecolor": "white",
            "ticks": ""
           },
           "bgcolor": "#E5ECF6",
           "caxis": {
            "gridcolor": "white",
            "linecolor": "white",
            "ticks": ""
           }
          },
          "title": {
           "x": 0.05
          },
          "xaxis": {
           "automargin": true,
           "gridcolor": "white",
           "linecolor": "white",
           "ticks": "",
           "title": {
            "standoff": 15
           },
           "zerolinecolor": "white",
           "zerolinewidth": 2
          },
          "yaxis": {
           "automargin": true,
           "gridcolor": "white",
           "linecolor": "white",
           "ticks": "",
           "title": {
            "standoff": 15
           },
           "zerolinecolor": "white",
           "zerolinewidth": 2
          }
         }
        },
        "xaxis": {
         "anchor": "y",
         "domain": [
          0,
          1
         ],
         "title": {
          "text": "x"
         },
         "type": "log"
        },
        "yaxis": {
         "anchor": "x",
         "domain": [
          0,
          1
         ],
         "title": {
          "text": "y"
         },
         "type": "log"
        }
       }
      },
      "text/html": [
       "<div>                            <div id=\"a7c05490-a4fb-4a3a-8586-28623ed32a08\" class=\"plotly-graph-div\" style=\"height:525px; width:100%;\"></div>            <script type=\"text/javascript\">                require([\"plotly\"], function(Plotly) {                    window.PLOTLYENV=window.PLOTLYENV || {};                                    if (document.getElementById(\"a7c05490-a4fb-4a3a-8586-28623ed32a08\")) {                    Plotly.newPlot(                        \"a7c05490-a4fb-4a3a-8586-28623ed32a08\",                        [{\"hovertemplate\":\"name=f_py_append<br>x=%{x}<br>y=%{y}<extra></extra>\",\"legendgroup\":\"f_py_append\",\"line\":{\"color\":\"#636efa\",\"dash\":\"solid\"},\"marker\":{\"symbol\":\"circle\"},\"mode\":\"lines+markers\",\"name\":\"f_py_append\",\"orientation\":\"v\",\"showlegend\":true,\"x\":[100,200,500,1000,2000,3000,5000,10000,20000,50000,100000,200000,500000,1000000],\"xaxis\":\"x\",\"y\":[1.1054240021621808e-05,2.2268059983616694e-05,5.5840280037955384e-05,0.00011445672003901564,0.00021841868001502008,0.0003134432800288778,0.0005128094599785982,0.0010366538199741626,0.0020299317999888443,0.00525842085997283,0.011947187800033135,0.022552211840011296,0.06042144920000283,0.1249694217999786],\"yaxis\":\"y\",\"type\":\"scatter\"},{\"hovertemplate\":\"name=f_py<br>x=%{x}<br>y=%{y}<extra></extra>\",\"legendgroup\":\"f_py\",\"line\":{\"color\":\"#EF553B\",\"dash\":\"solid\"},\"marker\":{\"symbol\":\"circle\"},\"mode\":\"lines+markers\",\"name\":\"f_py\",\"orientation\":\"v\",\"showlegend\":true,\"x\":[100,200,500,1000,2000,3000,5000,10000,20000,50000,100000,200000,500000,1000000],\"xaxis\":\"x\",\"y\":[9.607780011720024e-06,2.64902799972333e-05,5.316449998645112e-05,0.00010775399998237845,0.0002232832200388657,0.00032585774002654946,0.0005386856399854878,0.001067559400034952,0.002159571680022054,0.005554858339964994,0.01106836202001432,0.021986819319936332,0.055277941539970926,0.11042412301998411],\"yaxis\":\"y\",\"type\":\"scatter\"},{\"hovertemplate\":\"name=f_py_listcompr<br>x=%{x}<br>y=%{y}<extra></extra>\",\"legendgroup\":\"f_py_listcompr\",\"line\":{\"color\":\"#00cc96\",\"dash\":\"solid\"},\"marker\":{\"symbol\":\"circle\"},\"mode\":\"lines+markers\",\"name\":\"f_py_listcompr\",\"orientation\":\"v\",\"showlegend\":true,\"x\":[100,200,500,1000,2000,3000,5000,10000,20000,50000,100000,200000,500000,1000000],\"xaxis\":\"x\",\"y\":[6.627580005442724e-06,1.3552439995692111e-05,3.5225399988121356e-05,6.623127999773715e-05,0.00012948023999342695,0.0001947969200409716,0.0003314594000403304,0.0005819545400299831,0.002094960219983477,0.0031466580599953885,0.0072738695600128266,0.014115141500005847,0.04284195428001112,0.08276965381999617],\"yaxis\":\"y\",\"type\":\"scatter\"},{\"hovertemplate\":\"name=f_numpy<br>x=%{x}<br>y=%{y}<extra></extra>\",\"legendgroup\":\"f_numpy\",\"line\":{\"color\":\"#ab63fa\",\"dash\":\"solid\"},\"marker\":{\"symbol\":\"circle\"},\"mode\":\"lines+markers\",\"name\":\"f_numpy\",\"orientation\":\"v\",\"showlegend\":true,\"x\":[100,200,500,1000,2000,3000,5000,10000,20000,50000,100000,200000,500000,1000000],\"xaxis\":\"x\",\"y\":[1.6431199765065685e-06,1.8374399951426311e-06,1.9237400556448848e-06,2.2313999943435194e-06,2.608419963507913e-06,3.0254400189733133e-06,0.0001305749399762135,5.573580056079663e-06,1.4908660014043561e-05,2.6385579985799268e-05,4.9384620069758967e-05,0.00010397361998911947,0.0002666415400017286,0.0019449383999744895],\"yaxis\":\"y\",\"type\":\"scatter\"},{\"hovertemplate\":\"name=f_numba<br>x=%{x}<br>y=%{y}<extra></extra>\",\"legendgroup\":\"f_numba\",\"line\":{\"color\":\"#FFA15A\",\"dash\":\"solid\"},\"marker\":{\"symbol\":\"circle\"},\"mode\":\"lines+markers\",\"name\":\"f_numba\",\"orientation\":\"v\",\"showlegend\":true,\"x\":[100,200,500,1000,2000,3000,5000,10000,20000,50000,100000,200000,500000,1000000],\"xaxis\":\"x\",\"y\":[1.361459944746457e-06,1.3626200234284625e-06,1.4156999532133341e-06,1.558459989610128e-06,2.055360018857755e-06,2.313920049346052e-06,2.664720013854094e-06,4.420600016601384e-06,9.76620001893025e-06,2.4839380057528614e-05,4.818974004592747e-05,0.0001016660399909597,0.0002518874999805121,0.000761634079972282],\"yaxis\":\"y\",\"type\":\"scatter\"},{\"hovertemplate\":\"name=f_numba_parall<br>x=%{x}<br>y=%{y}<extra></extra>\",\"legendgroup\":\"f_numba_parall\",\"line\":{\"color\":\"#19d3f3\",\"dash\":\"solid\"},\"marker\":{\"symbol\":\"circle\"},\"mode\":\"lines+markers\",\"name\":\"f_numba_parall\",\"orientation\":\"v\",\"showlegend\":true,\"x\":[100,200,500,1000,2000,3000,5000,10000,20000,50000,100000,200000,500000,1000000],\"xaxis\":\"x\",\"y\":[0.00014341123998747206,0.00012038291999488137,0.00012840456001868007,0.00012423370004398747,0.00011593923998589162,9.819694001635071e-05,0.00012067547999322414,0.0001083874599862611,0.0001084682799410075,0.00011986293997324537,0.0001146019400039222,0.0001287484799831873,0.0001832795199879911,0.0007101359799708007],\"yaxis\":\"y\",\"type\":\"scatter\"},{\"hovertemplate\":\"name=f_numexpr<br>x=%{x}<br>y=%{y}<extra></extra>\",\"legendgroup\":\"f_numexpr\",\"line\":{\"color\":\"#FF6692\",\"dash\":\"solid\"},\"marker\":{\"symbol\":\"circle\"},\"mode\":\"lines+markers\",\"name\":\"f_numexpr\",\"orientation\":\"v\",\"showlegend\":true,\"x\":[100,200,500,1000,2000,3000,5000,10000,20000,50000,100000,200000,500000,1000000],\"xaxis\":\"x\",\"y\":[1.5130460014916026e-05,1.3637180018122308e-05,1.401659996190574e-05,2.054320000752341e-05,1.572396002302412e-05,0.00010296717999153771,0.0001350160800211597,0.00010594274004688487,0.00010746336003649049,0.00013115895999362692,0.00016727730006095952,0.0003488489399751415,0.0008611145599570591,0.00170227911999973],\"yaxis\":\"y\",\"type\":\"scatter\"}],                        {\"template\":{\"data\":{\"histogram2dcontour\":[{\"type\":\"histogram2dcontour\",\"colorbar\":{\"outlinewidth\":0,\"ticks\":\"\"},\"colorscale\":[[0.0,\"#0d0887\"],[0.1111111111111111,\"#46039f\"],[0.2222222222222222,\"#7201a8\"],[0.3333333333333333,\"#9c179e\"],[0.4444444444444444,\"#bd3786\"],[0.5555555555555556,\"#d8576b\"],[0.6666666666666666,\"#ed7953\"],[0.7777777777777778,\"#fb9f3a\"],[0.8888888888888888,\"#fdca26\"],[1.0,\"#f0f921\"]]}],\"choropleth\":[{\"type\":\"choropleth\",\"colorbar\":{\"outlinewidth\":0,\"ticks\":\"\"}}],\"histogram2d\":[{\"type\":\"histogram2d\",\"colorbar\":{\"outlinewidth\":0,\"ticks\":\"\"},\"colorscale\":[[0.0,\"#0d0887\"],[0.1111111111111111,\"#46039f\"],[0.2222222222222222,\"#7201a8\"],[0.3333333333333333,\"#9c179e\"],[0.4444444444444444,\"#bd3786\"],[0.5555555555555556,\"#d8576b\"],[0.6666666666666666,\"#ed7953\"],[0.7777777777777778,\"#fb9f3a\"],[0.8888888888888888,\"#fdca26\"],[1.0,\"#f0f921\"]]}],\"heatmap\":[{\"type\":\"heatmap\",\"colorbar\":{\"outlinewidth\":0,\"ticks\":\"\"},\"colorscale\":[[0.0,\"#0d0887\"],[0.1111111111111111,\"#46039f\"],[0.2222222222222222,\"#7201a8\"],[0.3333333333333333,\"#9c179e\"],[0.4444444444444444,\"#bd3786\"],[0.5555555555555556,\"#d8576b\"],[0.6666666666666666,\"#ed7953\"],[0.7777777777777778,\"#fb9f3a\"],[0.8888888888888888,\"#fdca26\"],[1.0,\"#f0f921\"]]}],\"heatmapgl\":[{\"type\":\"heatmapgl\",\"colorbar\":{\"outlinewidth\":0,\"ticks\":\"\"},\"colorscale\":[[0.0,\"#0d0887\"],[0.1111111111111111,\"#46039f\"],[0.2222222222222222,\"#7201a8\"],[0.3333333333333333,\"#9c179e\"],[0.4444444444444444,\"#bd3786\"],[0.5555555555555556,\"#d8576b\"],[0.6666666666666666,\"#ed7953\"],[0.7777777777777778,\"#fb9f3a\"],[0.8888888888888888,\"#fdca26\"],[1.0,\"#f0f921\"]]}],\"contourcarpet\":[{\"type\":\"contourcarpet\",\"colorbar\":{\"outlinewidth\":0,\"ticks\":\"\"}}],\"contour\":[{\"type\":\"contour\",\"colorbar\":{\"outlinewidth\":0,\"ticks\":\"\"},\"colorscale\":[[0.0,\"#0d0887\"],[0.1111111111111111,\"#46039f\"],[0.2222222222222222,\"#7201a8\"],[0.3333333333333333,\"#9c179e\"],[0.4444444444444444,\"#bd3786\"],[0.5555555555555556,\"#d8576b\"],[0.6666666666666666,\"#ed7953\"],[0.7777777777777778,\"#fb9f3a\"],[0.8888888888888888,\"#fdca26\"],[1.0,\"#f0f921\"]]}],\"surface\":[{\"type\":\"surface\",\"colorbar\":{\"outlinewidth\":0,\"ticks\":\"\"},\"colorscale\":[[0.0,\"#0d0887\"],[0.1111111111111111,\"#46039f\"],[0.2222222222222222,\"#7201a8\"],[0.3333333333333333,\"#9c179e\"],[0.4444444444444444,\"#bd3786\"],[0.5555555555555556,\"#d8576b\"],[0.6666666666666666,\"#ed7953\"],[0.7777777777777778,\"#fb9f3a\"],[0.8888888888888888,\"#fdca26\"],[1.0,\"#f0f921\"]]}],\"mesh3d\":[{\"type\":\"mesh3d\",\"colorbar\":{\"outlinewidth\":0,\"ticks\":\"\"}}],\"scatter\":[{\"fillpattern\":{\"fillmode\":\"overlay\",\"size\":10,\"solidity\":0.2},\"type\":\"scatter\"}],\"parcoords\":[{\"type\":\"parcoords\",\"line\":{\"colorbar\":{\"outlinewidth\":0,\"ticks\":\"\"}}}],\"scatterpolargl\":[{\"type\":\"scatterpolargl\",\"marker\":{\"colorbar\":{\"outlinewidth\":0,\"ticks\":\"\"}}}],\"bar\":[{\"error_x\":{\"color\":\"#2a3f5f\"},\"error_y\":{\"color\":\"#2a3f5f\"},\"marker\":{\"line\":{\"color\":\"#E5ECF6\",\"width\":0.5},\"pattern\":{\"fillmode\":\"overlay\",\"size\":10,\"solidity\":0.2}},\"type\":\"bar\"}],\"scattergeo\":[{\"type\":\"scattergeo\",\"marker\":{\"colorbar\":{\"outlinewidth\":0,\"ticks\":\"\"}}}],\"scatterpolar\":[{\"type\":\"scatterpolar\",\"marker\":{\"colorbar\":{\"outlinewidth\":0,\"ticks\":\"\"}}}],\"histogram\":[{\"marker\":{\"pattern\":{\"fillmode\":\"overlay\",\"size\":10,\"solidity\":0.2}},\"type\":\"histogram\"}],\"scattergl\":[{\"type\":\"scattergl\",\"marker\":{\"colorbar\":{\"outlinewidth\":0,\"ticks\":\"\"}}}],\"scatter3d\":[{\"type\":\"scatter3d\",\"line\":{\"colorbar\":{\"outlinewidth\":0,\"ticks\":\"\"}},\"marker\":{\"colorbar\":{\"outlinewidth\":0,\"ticks\":\"\"}}}],\"scattermapbox\":[{\"type\":\"scattermapbox\",\"marker\":{\"colorbar\":{\"outlinewidth\":0,\"ticks\":\"\"}}}],\"scatterternary\":[{\"type\":\"scatterternary\",\"marker\":{\"colorbar\":{\"outlinewidth\":0,\"ticks\":\"\"}}}],\"scattercarpet\":[{\"type\":\"scattercarpet\",\"marker\":{\"colorbar\":{\"outlinewidth\":0,\"ticks\":\"\"}}}],\"carpet\":[{\"aaxis\":{\"endlinecolor\":\"#2a3f5f\",\"gridcolor\":\"white\",\"linecolor\":\"white\",\"minorgridcolor\":\"white\",\"startlinecolor\":\"#2a3f5f\"},\"baxis\":{\"endlinecolor\":\"#2a3f5f\",\"gridcolor\":\"white\",\"linecolor\":\"white\",\"minorgridcolor\":\"white\",\"startlinecolor\":\"#2a3f5f\"},\"type\":\"carpet\"}],\"table\":[{\"cells\":{\"fill\":{\"color\":\"#EBF0F8\"},\"line\":{\"color\":\"white\"}},\"header\":{\"fill\":{\"color\":\"#C8D4E3\"},\"line\":{\"color\":\"white\"}},\"type\":\"table\"}],\"barpolar\":[{\"marker\":{\"line\":{\"color\":\"#E5ECF6\",\"width\":0.5},\"pattern\":{\"fillmode\":\"overlay\",\"size\":10,\"solidity\":0.2}},\"type\":\"barpolar\"}],\"pie\":[{\"automargin\":true,\"type\":\"pie\"}]},\"layout\":{\"autotypenumbers\":\"strict\",\"colorway\":[\"#636efa\",\"#EF553B\",\"#00cc96\",\"#ab63fa\",\"#FFA15A\",\"#19d3f3\",\"#FF6692\",\"#B6E880\",\"#FF97FF\",\"#FECB52\"],\"font\":{\"color\":\"#2a3f5f\"},\"hovermode\":\"closest\",\"hoverlabel\":{\"align\":\"left\"},\"paper_bgcolor\":\"white\",\"plot_bgcolor\":\"#E5ECF6\",\"polar\":{\"bgcolor\":\"#E5ECF6\",\"angularaxis\":{\"gridcolor\":\"white\",\"linecolor\":\"white\",\"ticks\":\"\"},\"radialaxis\":{\"gridcolor\":\"white\",\"linecolor\":\"white\",\"ticks\":\"\"}},\"ternary\":{\"bgcolor\":\"#E5ECF6\",\"aaxis\":{\"gridcolor\":\"white\",\"linecolor\":\"white\",\"ticks\":\"\"},\"baxis\":{\"gridcolor\":\"white\",\"linecolor\":\"white\",\"ticks\":\"\"},\"caxis\":{\"gridcolor\":\"white\",\"linecolor\":\"white\",\"ticks\":\"\"}},\"coloraxis\":{\"colorbar\":{\"outlinewidth\":0,\"ticks\":\"\"}},\"colorscale\":{\"sequential\":[[0.0,\"#0d0887\"],[0.1111111111111111,\"#46039f\"],[0.2222222222222222,\"#7201a8\"],[0.3333333333333333,\"#9c179e\"],[0.4444444444444444,\"#bd3786\"],[0.5555555555555556,\"#d8576b\"],[0.6666666666666666,\"#ed7953\"],[0.7777777777777778,\"#fb9f3a\"],[0.8888888888888888,\"#fdca26\"],[1.0,\"#f0f921\"]],\"sequentialminus\":[[0.0,\"#0d0887\"],[0.1111111111111111,\"#46039f\"],[0.2222222222222222,\"#7201a8\"],[0.3333333333333333,\"#9c179e\"],[0.4444444444444444,\"#bd3786\"],[0.5555555555555556,\"#d8576b\"],[0.6666666666666666,\"#ed7953\"],[0.7777777777777778,\"#fb9f3a\"],[0.8888888888888888,\"#fdca26\"],[1.0,\"#f0f921\"]],\"diverging\":[[0,\"#8e0152\"],[0.1,\"#c51b7d\"],[0.2,\"#de77ae\"],[0.3,\"#f1b6da\"],[0.4,\"#fde0ef\"],[0.5,\"#f7f7f7\"],[0.6,\"#e6f5d0\"],[0.7,\"#b8e186\"],[0.8,\"#7fbc41\"],[0.9,\"#4d9221\"],[1,\"#276419\"]]},\"xaxis\":{\"gridcolor\":\"white\",\"linecolor\":\"white\",\"ticks\":\"\",\"title\":{\"standoff\":15},\"zerolinecolor\":\"white\",\"automargin\":true,\"zerolinewidth\":2},\"yaxis\":{\"gridcolor\":\"white\",\"linecolor\":\"white\",\"ticks\":\"\",\"title\":{\"standoff\":15},\"zerolinecolor\":\"white\",\"automargin\":true,\"zerolinewidth\":2},\"scene\":{\"xaxis\":{\"backgroundcolor\":\"#E5ECF6\",\"gridcolor\":\"white\",\"linecolor\":\"white\",\"showbackground\":true,\"ticks\":\"\",\"zerolinecolor\":\"white\",\"gridwidth\":2},\"yaxis\":{\"backgroundcolor\":\"#E5ECF6\",\"gridcolor\":\"white\",\"linecolor\":\"white\",\"showbackground\":true,\"ticks\":\"\",\"zerolinecolor\":\"white\",\"gridwidth\":2},\"zaxis\":{\"backgroundcolor\":\"#E5ECF6\",\"gridcolor\":\"white\",\"linecolor\":\"white\",\"showbackground\":true,\"ticks\":\"\",\"zerolinecolor\":\"white\",\"gridwidth\":2}},\"shapedefaults\":{\"line\":{\"color\":\"#2a3f5f\"}},\"annotationdefaults\":{\"arrowcolor\":\"#2a3f5f\",\"arrowhead\":0,\"arrowwidth\":1},\"geo\":{\"bgcolor\":\"white\",\"landcolor\":\"#E5ECF6\",\"subunitcolor\":\"white\",\"showland\":true,\"showlakes\":true,\"lakecolor\":\"white\"},\"title\":{\"x\":0.05},\"mapbox\":{\"style\":\"light\"}}},\"xaxis\":{\"anchor\":\"y\",\"domain\":[0.0,1.0],\"title\":{\"text\":\"x\"},\"type\":\"log\"},\"yaxis\":{\"anchor\":\"x\",\"domain\":[0.0,1.0],\"title\":{\"text\":\"y\"},\"type\":\"log\"},\"legend\":{\"title\":{\"text\":\"name\"},\"tracegroupgap\":0},\"margin\":{\"t\":60}},                        {\"responsive\": true}                    ).then(function(){\n",
       "                            \n",
       "var gd = document.getElementById('a7c05490-a4fb-4a3a-8586-28623ed32a08');\n",
       "var x = new MutationObserver(function (mutations, observer) {{\n",
       "        var display = window.getComputedStyle(gd).display;\n",
       "        if (!display || display === 'none') {{\n",
       "            console.log([gd, 'removed!']);\n",
       "            Plotly.purge(gd);\n",
       "            observer.disconnect();\n",
       "        }}\n",
       "}});\n",
       "\n",
       "// Listen for the removal of the full notebook cells\n",
       "var notebookContainer = gd.closest('#notebook-container');\n",
       "if (notebookContainer) {{\n",
       "    x.observe(notebookContainer, {childList: true});\n",
       "}}\n",
       "\n",
       "// Listen for the clearing of the current output cell\n",
       "var outputEl = gd.closest('.output');\n",
       "if (outputEl) {{\n",
       "    x.observe(outputEl, {childList: true});\n",
       "}}\n",
       "\n",
       "                        })                };                });            </script>        </div>"
      ]
     },
     "metadata": {},
     "output_type": "display_data"
    }
   ],
   "source": [
    "fig = px.line(df, x='x', y='y', color='name', \n",
    "              log_x=True, log_y=True, markers=True)\n",
    "fig.show()"
   ]
  },
  {
   "cell_type": "code",
   "execution_count": 387,
   "id": "e125471d",
   "metadata": {},
   "outputs": [
    {
     "data": {
      "application/vnd.plotly.v1+json": {
       "config": {
        "plotlyServerURL": "https://plot.ly"
       },
       "data": [
        {
         "hovertemplate": "name=f_py_append<br>x=%{x}<br>y=%{y}<extra></extra>",
         "legendgroup": "f_py_append",
         "line": {
          "color": "#636efa",
          "dash": "solid"
         },
         "marker": {
          "symbol": "circle"
         },
         "mode": "lines+markers",
         "name": "f_py_append",
         "orientation": "v",
         "showlegend": true,
         "type": "scatter",
         "x": [
          100,
          200,
          500,
          1000,
          2000,
          3000,
          5000,
          10000,
          20000,
          50000,
          100000,
          200000,
          500000,
          1000000
         ],
         "xaxis": "x",
         "y": [
          1.1054240021621808E-5,
          2.2268059983616694E-5,
          5.5840280037955384E-5,
          1.1445672003901564E-4,
          2.1841868001502008E-4,
          3.134432800288778E-4,
          5.128094599785982E-4,
          0.0010366538199741626,
          0.0020299317999888443,
          0.00525842085997283,
          0.011947187800033135,
          0.022552211840011296,
          0.06042144920000283,
          0.1249694217999786
         ],
         "yaxis": "y"
        },
        {
         "hovertemplate": "name=f_py<br>x=%{x}<br>y=%{y}<extra></extra>",
         "legendgroup": "f_py",
         "line": {
          "color": "#EF553B",
          "dash": "solid"
         },
         "marker": {
          "symbol": "circle"
         },
         "mode": "lines+markers",
         "name": "f_py",
         "orientation": "v",
         "showlegend": true,
         "type": "scatter",
         "x": [
          100,
          200,
          500,
          1000,
          2000,
          3000,
          5000,
          10000,
          20000,
          50000,
          100000,
          200000,
          500000,
          1000000
         ],
         "xaxis": "x",
         "y": [
          9.607780011720024E-6,
          2.64902799972333E-5,
          5.316449998645112E-5,
          1.0775399998237845E-4,
          2.232832200388657E-4,
          3.2585774002654946E-4,
          5.386856399854878E-4,
          0.001067559400034952,
          0.002159571680022054,
          0.005554858339964994,
          0.01106836202001432,
          0.021986819319936332,
          0.055277941539970926,
          0.11042412301998411
         ],
         "yaxis": "y"
        },
        {
         "hovertemplate": "name=f_py_listcompr<br>x=%{x}<br>y=%{y}<extra></extra>",
         "legendgroup": "f_py_listcompr",
         "line": {
          "color": "#00cc96",
          "dash": "solid"
         },
         "marker": {
          "symbol": "circle"
         },
         "mode": "lines+markers",
         "name": "f_py_listcompr",
         "orientation": "v",
         "showlegend": true,
         "type": "scatter",
         "x": [
          100,
          200,
          500,
          1000,
          2000,
          3000,
          5000,
          10000,
          20000,
          50000,
          100000,
          200000,
          500000,
          1000000
         ],
         "xaxis": "x",
         "y": [
          6.627580005442724E-6,
          1.3552439995692111E-5,
          3.5225399988121356E-5,
          6.623127999773715E-5,
          1.2948023999342695E-4,
          1.947969200409716E-4,
          3.314594000403304E-4,
          5.819545400299831E-4,
          0.002094960219983477,
          0.0031466580599953885,
          0.0072738695600128266,
          0.014115141500005847,
          0.04284195428001112,
          0.08276965381999617
         ],
         "yaxis": "y"
        },
        {
         "hovertemplate": "name=f_numpy<br>x=%{x}<br>y=%{y}<extra></extra>",
         "legendgroup": "f_numpy",
         "line": {
          "color": "#ab63fa",
          "dash": "solid"
         },
         "marker": {
          "symbol": "circle"
         },
         "mode": "lines+markers",
         "name": "f_numpy",
         "orientation": "v",
         "showlegend": true,
         "type": "scatter",
         "x": [
          100,
          200,
          500,
          1000,
          2000,
          3000,
          5000,
          10000,
          20000,
          50000,
          100000,
          200000,
          500000,
          1000000
         ],
         "xaxis": "x",
         "y": [
          1.6431199765065685E-6,
          1.8374399951426311E-6,
          1.9237400556448848E-6,
          2.2313999943435194E-6,
          2.608419963507913E-6,
          3.0254400189733133E-6,
          1.305749399762135E-4,
          5.573580056079663E-6,
          1.4908660014043561E-5,
          2.6385579985799268E-5,
          4.9384620069758967E-5,
          1.0397361998911947E-4,
          2.666415400017286E-4,
          0.0019449383999744895
         ],
         "yaxis": "y"
        },
        {
         "hovertemplate": "name=f_numba<br>x=%{x}<br>y=%{y}<extra></extra>",
         "legendgroup": "f_numba",
         "line": {
          "color": "#FFA15A",
          "dash": "solid"
         },
         "marker": {
          "symbol": "circle"
         },
         "mode": "lines+markers",
         "name": "f_numba",
         "orientation": "v",
         "showlegend": true,
         "type": "scatter",
         "x": [
          100,
          200,
          500,
          1000,
          2000,
          3000,
          5000,
          10000,
          20000,
          50000,
          100000,
          200000,
          500000,
          1000000
         ],
         "xaxis": "x",
         "y": [
          1.361459944746457E-6,
          1.3626200234284625E-6,
          1.4156999532133341E-6,
          1.558459989610128E-6,
          2.055360018857755E-6,
          2.313920049346052E-6,
          2.664720013854094E-6,
          4.420600016601384E-6,
          9.76620001893025E-6,
          2.4839380057528614E-5,
          4.818974004592747E-5,
          1.016660399909597E-4,
          2.518874999805121E-4,
          7.61634079972282E-4
         ],
         "yaxis": "y"
        },
        {
         "hovertemplate": "name=f_numba_parall<br>x=%{x}<br>y=%{y}<extra></extra>",
         "legendgroup": "f_numba_parall",
         "line": {
          "color": "#19d3f3",
          "dash": "solid"
         },
         "marker": {
          "symbol": "circle"
         },
         "mode": "lines+markers",
         "name": "f_numba_parall",
         "orientation": "v",
         "showlegend": true,
         "type": "scatter",
         "x": [
          100,
          200,
          500,
          1000,
          2000,
          3000,
          5000,
          10000,
          20000,
          50000,
          100000,
          200000,
          500000,
          1000000
         ],
         "xaxis": "x",
         "y": [
          1.4341123998747206E-4,
          1.2038291999488137E-4,
          1.2840456001868007E-4,
          1.2423370004398747E-4,
          1.1593923998589162E-4,
          9.819694001635071E-5,
          1.2067547999322414E-4,
          1.083874599862611E-4,
          1.084682799410075E-4,
          1.1986293997324537E-4,
          1.146019400039222E-4,
          1.287484799831873E-4,
          1.832795199879911E-4,
          7.101359799708007E-4
         ],
         "yaxis": "y"
        },
        {
         "hovertemplate": "name=f_numexpr<br>x=%{x}<br>y=%{y}<extra></extra>",
         "legendgroup": "f_numexpr",
         "line": {
          "color": "#FF6692",
          "dash": "solid"
         },
         "marker": {
          "symbol": "circle"
         },
         "mode": "lines+markers",
         "name": "f_numexpr",
         "orientation": "v",
         "showlegend": true,
         "type": "scatter",
         "x": [
          100,
          200,
          500,
          1000,
          2000,
          3000,
          5000,
          10000,
          20000,
          50000,
          100000,
          200000,
          500000,
          1000000
         ],
         "xaxis": "x",
         "y": [
          1.5130460014916026E-5,
          1.3637180018122308E-5,
          1.401659996190574E-5,
          2.054320000752341E-5,
          1.572396002302412E-5,
          1.0296717999153771E-4,
          1.350160800211597E-4,
          1.0594274004688487E-4,
          1.0746336003649049E-4,
          1.3115895999362692E-4,
          1.6727730006095952E-4,
          3.488489399751415E-4,
          8.611145599570591E-4,
          0.00170227911999973
         ],
         "yaxis": "y"
        }
       ],
       "layout": {
        "legend": {
         "title": {
          "text": "name"
         },
         "tracegroupgap": 0
        },
        "template": {
         "data": {
          "bar": [
           {
            "error_x": {
             "color": "#2a3f5f"
            },
            "error_y": {
             "color": "#2a3f5f"
            },
            "marker": {
             "line": {
              "color": "#E5ECF6",
              "width": 0.5
             },
             "pattern": {
              "fillmode": "overlay",
              "size": 10,
              "solidity": 0.2
             }
            },
            "type": "bar"
           }
          ],
          "barpolar": [
           {
            "marker": {
             "line": {
              "color": "#E5ECF6",
              "width": 0.5
             },
             "pattern": {
              "fillmode": "overlay",
              "size": 10,
              "solidity": 0.2
             }
            },
            "type": "barpolar"
           }
          ],
          "carpet": [
           {
            "aaxis": {
             "endlinecolor": "#2a3f5f",
             "gridcolor": "white",
             "linecolor": "white",
             "minorgridcolor": "white",
             "startlinecolor": "#2a3f5f"
            },
            "baxis": {
             "endlinecolor": "#2a3f5f",
             "gridcolor": "white",
             "linecolor": "white",
             "minorgridcolor": "white",
             "startlinecolor": "#2a3f5f"
            },
            "type": "carpet"
           }
          ],
          "choropleth": [
           {
            "colorbar": {
             "outlinewidth": 0,
             "ticks": ""
            },
            "type": "choropleth"
           }
          ],
          "contour": [
           {
            "colorbar": {
             "outlinewidth": 0,
             "ticks": ""
            },
            "colorscale": [
             [
              0,
              "#0d0887"
             ],
             [
              0.1111111111111111,
              "#46039f"
             ],
             [
              0.2222222222222222,
              "#7201a8"
             ],
             [
              0.3333333333333333,
              "#9c179e"
             ],
             [
              0.4444444444444444,
              "#bd3786"
             ],
             [
              0.5555555555555556,
              "#d8576b"
             ],
             [
              0.6666666666666666,
              "#ed7953"
             ],
             [
              0.7777777777777778,
              "#fb9f3a"
             ],
             [
              0.8888888888888888,
              "#fdca26"
             ],
             [
              1,
              "#f0f921"
             ]
            ],
            "type": "contour"
           }
          ],
          "contourcarpet": [
           {
            "colorbar": {
             "outlinewidth": 0,
             "ticks": ""
            },
            "type": "contourcarpet"
           }
          ],
          "heatmap": [
           {
            "colorbar": {
             "outlinewidth": 0,
             "ticks": ""
            },
            "colorscale": [
             [
              0,
              "#0d0887"
             ],
             [
              0.1111111111111111,
              "#46039f"
             ],
             [
              0.2222222222222222,
              "#7201a8"
             ],
             [
              0.3333333333333333,
              "#9c179e"
             ],
             [
              0.4444444444444444,
              "#bd3786"
             ],
             [
              0.5555555555555556,
              "#d8576b"
             ],
             [
              0.6666666666666666,
              "#ed7953"
             ],
             [
              0.7777777777777778,
              "#fb9f3a"
             ],
             [
              0.8888888888888888,
              "#fdca26"
             ],
             [
              1,
              "#f0f921"
             ]
            ],
            "type": "heatmap"
           }
          ],
          "heatmapgl": [
           {
            "colorbar": {
             "outlinewidth": 0,
             "ticks": ""
            },
            "colorscale": [
             [
              0,
              "#0d0887"
             ],
             [
              0.1111111111111111,
              "#46039f"
             ],
             [
              0.2222222222222222,
              "#7201a8"
             ],
             [
              0.3333333333333333,
              "#9c179e"
             ],
             [
              0.4444444444444444,
              "#bd3786"
             ],
             [
              0.5555555555555556,
              "#d8576b"
             ],
             [
              0.6666666666666666,
              "#ed7953"
             ],
             [
              0.7777777777777778,
              "#fb9f3a"
             ],
             [
              0.8888888888888888,
              "#fdca26"
             ],
             [
              1,
              "#f0f921"
             ]
            ],
            "type": "heatmapgl"
           }
          ],
          "histogram": [
           {
            "marker": {
             "pattern": {
              "fillmode": "overlay",
              "size": 10,
              "solidity": 0.2
             }
            },
            "type": "histogram"
           }
          ],
          "histogram2d": [
           {
            "colorbar": {
             "outlinewidth": 0,
             "ticks": ""
            },
            "colorscale": [
             [
              0,
              "#0d0887"
             ],
             [
              0.1111111111111111,
              "#46039f"
             ],
             [
              0.2222222222222222,
              "#7201a8"
             ],
             [
              0.3333333333333333,
              "#9c179e"
             ],
             [
              0.4444444444444444,
              "#bd3786"
             ],
             [
              0.5555555555555556,
              "#d8576b"
             ],
             [
              0.6666666666666666,
              "#ed7953"
             ],
             [
              0.7777777777777778,
              "#fb9f3a"
             ],
             [
              0.8888888888888888,
              "#fdca26"
             ],
             [
              1,
              "#f0f921"
             ]
            ],
            "type": "histogram2d"
           }
          ],
          "histogram2dcontour": [
           {
            "colorbar": {
             "outlinewidth": 0,
             "ticks": ""
            },
            "colorscale": [
             [
              0,
              "#0d0887"
             ],
             [
              0.1111111111111111,
              "#46039f"
             ],
             [
              0.2222222222222222,
              "#7201a8"
             ],
             [
              0.3333333333333333,
              "#9c179e"
             ],
             [
              0.4444444444444444,
              "#bd3786"
             ],
             [
              0.5555555555555556,
              "#d8576b"
             ],
             [
              0.6666666666666666,
              "#ed7953"
             ],
             [
              0.7777777777777778,
              "#fb9f3a"
             ],
             [
              0.8888888888888888,
              "#fdca26"
             ],
             [
              1,
              "#f0f921"
             ]
            ],
            "type": "histogram2dcontour"
           }
          ],
          "mesh3d": [
           {
            "colorbar": {
             "outlinewidth": 0,
             "ticks": ""
            },
            "type": "mesh3d"
           }
          ],
          "parcoords": [
           {
            "line": {
             "colorbar": {
              "outlinewidth": 0,
              "ticks": ""
             }
            },
            "type": "parcoords"
           }
          ],
          "pie": [
           {
            "automargin": true,
            "type": "pie"
           }
          ],
          "scatter": [
           {
            "fillpattern": {
             "fillmode": "overlay",
             "size": 10,
             "solidity": 0.2
            },
            "type": "scatter"
           }
          ],
          "scatter3d": [
           {
            "line": {
             "colorbar": {
              "outlinewidth": 0,
              "ticks": ""
             }
            },
            "marker": {
             "colorbar": {
              "outlinewidth": 0,
              "ticks": ""
             }
            },
            "type": "scatter3d"
           }
          ],
          "scattercarpet": [
           {
            "marker": {
             "colorbar": {
              "outlinewidth": 0,
              "ticks": ""
             }
            },
            "type": "scattercarpet"
           }
          ],
          "scattergeo": [
           {
            "marker": {
             "colorbar": {
              "outlinewidth": 0,
              "ticks": ""
             }
            },
            "type": "scattergeo"
           }
          ],
          "scattergl": [
           {
            "marker": {
             "colorbar": {
              "outlinewidth": 0,
              "ticks": ""
             }
            },
            "type": "scattergl"
           }
          ],
          "scattermapbox": [
           {
            "marker": {
             "colorbar": {
              "outlinewidth": 0,
              "ticks": ""
             }
            },
            "type": "scattermapbox"
           }
          ],
          "scatterpolar": [
           {
            "marker": {
             "colorbar": {
              "outlinewidth": 0,
              "ticks": ""
             }
            },
            "type": "scatterpolar"
           }
          ],
          "scatterpolargl": [
           {
            "marker": {
             "colorbar": {
              "outlinewidth": 0,
              "ticks": ""
             }
            },
            "type": "scatterpolargl"
           }
          ],
          "scatterternary": [
           {
            "marker": {
             "colorbar": {
              "outlinewidth": 0,
              "ticks": ""
             }
            },
            "type": "scatterternary"
           }
          ],
          "surface": [
           {
            "colorbar": {
             "outlinewidth": 0,
             "ticks": ""
            },
            "colorscale": [
             [
              0,
              "#0d0887"
             ],
             [
              0.1111111111111111,
              "#46039f"
             ],
             [
              0.2222222222222222,
              "#7201a8"
             ],
             [
              0.3333333333333333,
              "#9c179e"
             ],
             [
              0.4444444444444444,
              "#bd3786"
             ],
             [
              0.5555555555555556,
              "#d8576b"
             ],
             [
              0.6666666666666666,
              "#ed7953"
             ],
             [
              0.7777777777777778,
              "#fb9f3a"
             ],
             [
              0.8888888888888888,
              "#fdca26"
             ],
             [
              1,
              "#f0f921"
             ]
            ],
            "type": "surface"
           }
          ],
          "table": [
           {
            "cells": {
             "fill": {
              "color": "#EBF0F8"
             },
             "line": {
              "color": "white"
             }
            },
            "header": {
             "fill": {
              "color": "#C8D4E3"
             },
             "line": {
              "color": "white"
             }
            },
            "type": "table"
           }
          ]
         },
         "layout": {
          "annotationdefaults": {
           "arrowcolor": "#2a3f5f",
           "arrowhead": 0,
           "arrowwidth": 1
          },
          "autotypenumbers": "strict",
          "coloraxis": {
           "colorbar": {
            "outlinewidth": 0,
            "ticks": ""
           }
          },
          "colorscale": {
           "diverging": [
            [
             0,
             "#8e0152"
            ],
            [
             0.1,
             "#c51b7d"
            ],
            [
             0.2,
             "#de77ae"
            ],
            [
             0.3,
             "#f1b6da"
            ],
            [
             0.4,
             "#fde0ef"
            ],
            [
             0.5,
             "#f7f7f7"
            ],
            [
             0.6,
             "#e6f5d0"
            ],
            [
             0.7,
             "#b8e186"
            ],
            [
             0.8,
             "#7fbc41"
            ],
            [
             0.9,
             "#4d9221"
            ],
            [
             1,
             "#276419"
            ]
           ],
           "sequential": [
            [
             0,
             "#0d0887"
            ],
            [
             0.1111111111111111,
             "#46039f"
            ],
            [
             0.2222222222222222,
             "#7201a8"
            ],
            [
             0.3333333333333333,
             "#9c179e"
            ],
            [
             0.4444444444444444,
             "#bd3786"
            ],
            [
             0.5555555555555556,
             "#d8576b"
            ],
            [
             0.6666666666666666,
             "#ed7953"
            ],
            [
             0.7777777777777778,
             "#fb9f3a"
            ],
            [
             0.8888888888888888,
             "#fdca26"
            ],
            [
             1,
             "#f0f921"
            ]
           ],
           "sequentialminus": [
            [
             0,
             "#0d0887"
            ],
            [
             0.1111111111111111,
             "#46039f"
            ],
            [
             0.2222222222222222,
             "#7201a8"
            ],
            [
             0.3333333333333333,
             "#9c179e"
            ],
            [
             0.4444444444444444,
             "#bd3786"
            ],
            [
             0.5555555555555556,
             "#d8576b"
            ],
            [
             0.6666666666666666,
             "#ed7953"
            ],
            [
             0.7777777777777778,
             "#fb9f3a"
            ],
            [
             0.8888888888888888,
             "#fdca26"
            ],
            [
             1,
             "#f0f921"
            ]
           ]
          },
          "colorway": [
           "#636efa",
           "#EF553B",
           "#00cc96",
           "#ab63fa",
           "#FFA15A",
           "#19d3f3",
           "#FF6692",
           "#B6E880",
           "#FF97FF",
           "#FECB52"
          ],
          "font": {
           "color": "#2a3f5f"
          },
          "geo": {
           "bgcolor": "white",
           "lakecolor": "white",
           "landcolor": "#E5ECF6",
           "showlakes": true,
           "showland": true,
           "subunitcolor": "white"
          },
          "hoverlabel": {
           "align": "left"
          },
          "hovermode": "closest",
          "mapbox": {
           "style": "light"
          },
          "paper_bgcolor": "white",
          "plot_bgcolor": "#E5ECF6",
          "polar": {
           "angularaxis": {
            "gridcolor": "white",
            "linecolor": "white",
            "ticks": ""
           },
           "bgcolor": "#E5ECF6",
           "radialaxis": {
            "gridcolor": "white",
            "linecolor": "white",
            "ticks": ""
           }
          },
          "scene": {
           "xaxis": {
            "backgroundcolor": "#E5ECF6",
            "gridcolor": "white",
            "gridwidth": 2,
            "linecolor": "white",
            "showbackground": true,
            "ticks": "",
            "zerolinecolor": "white"
           },
           "yaxis": {
            "backgroundcolor": "#E5ECF6",
            "gridcolor": "white",
            "gridwidth": 2,
            "linecolor": "white",
            "showbackground": true,
            "ticks": "",
            "zerolinecolor": "white"
           },
           "zaxis": {
            "backgroundcolor": "#E5ECF6",
            "gridcolor": "white",
            "gridwidth": 2,
            "linecolor": "white",
            "showbackground": true,
            "ticks": "",
            "zerolinecolor": "white"
           }
          },
          "shapedefaults": {
           "line": {
            "color": "#2a3f5f"
           }
          },
          "ternary": {
           "aaxis": {
            "gridcolor": "white",
            "linecolor": "white",
            "ticks": ""
           },
           "baxis": {
            "gridcolor": "white",
            "linecolor": "white",
            "ticks": ""
           },
           "bgcolor": "#E5ECF6",
           "caxis": {
            "gridcolor": "white",
            "linecolor": "white",
            "ticks": ""
           }
          },
          "title": {
           "x": 0.05
          },
          "xaxis": {
           "automargin": true,
           "gridcolor": "white",
           "linecolor": "white",
           "ticks": "",
           "title": {
            "standoff": 15
           },
           "zerolinecolor": "white",
           "zerolinewidth": 2
          },
          "yaxis": {
           "automargin": true,
           "gridcolor": "white",
           "linecolor": "white",
           "ticks": "",
           "title": {
            "standoff": 15
           },
           "zerolinecolor": "white",
           "zerolinewidth": 2
          }
         }
        },
        "title": {
         "text": "extra time per point: 0.0"
        },
        "xaxis": {
         "anchor": "y",
         "domain": [
          0,
          1
         ],
         "title": {
          "text": "x"
         },
         "type": "log"
        },
        "yaxis": {
         "anchor": "x",
         "domain": [
          0,
          1
         ],
         "title": {
          "text": "y"
         },
         "type": "log"
        }
       }
      },
      "text/html": [
       "<div>                            <div id=\"a6385b3c-20f5-4652-86e3-c6a0993f6a25\" class=\"plotly-graph-div\" style=\"height:525px; width:100%;\"></div>            <script type=\"text/javascript\">                require([\"plotly\"], function(Plotly) {                    window.PLOTLYENV=window.PLOTLYENV || {};                                    if (document.getElementById(\"a6385b3c-20f5-4652-86e3-c6a0993f6a25\")) {                    Plotly.newPlot(                        \"a6385b3c-20f5-4652-86e3-c6a0993f6a25\",                        [{\"hovertemplate\":\"name=f_py_append<br>x=%{x}<br>y=%{y}<extra></extra>\",\"legendgroup\":\"f_py_append\",\"line\":{\"color\":\"#636efa\",\"dash\":\"solid\"},\"marker\":{\"symbol\":\"circle\"},\"mode\":\"lines+markers\",\"name\":\"f_py_append\",\"orientation\":\"v\",\"showlegend\":true,\"x\":[100,200,500,1000,2000,3000,5000,10000,20000,50000,100000,200000,500000,1000000],\"xaxis\":\"x\",\"y\":[1.1054240021621808e-05,2.2268059983616694e-05,5.5840280037955384e-05,0.00011445672003901564,0.00021841868001502008,0.0003134432800288778,0.0005128094599785982,0.0010366538199741626,0.0020299317999888443,0.00525842085997283,0.011947187800033135,0.022552211840011296,0.06042144920000283,0.1249694217999786],\"yaxis\":\"y\",\"type\":\"scatter\"},{\"hovertemplate\":\"name=f_py<br>x=%{x}<br>y=%{y}<extra></extra>\",\"legendgroup\":\"f_py\",\"line\":{\"color\":\"#EF553B\",\"dash\":\"solid\"},\"marker\":{\"symbol\":\"circle\"},\"mode\":\"lines+markers\",\"name\":\"f_py\",\"orientation\":\"v\",\"showlegend\":true,\"x\":[100,200,500,1000,2000,3000,5000,10000,20000,50000,100000,200000,500000,1000000],\"xaxis\":\"x\",\"y\":[9.607780011720024e-06,2.64902799972333e-05,5.316449998645112e-05,0.00010775399998237845,0.0002232832200388657,0.00032585774002654946,0.0005386856399854878,0.001067559400034952,0.002159571680022054,0.005554858339964994,0.01106836202001432,0.021986819319936332,0.055277941539970926,0.11042412301998411],\"yaxis\":\"y\",\"type\":\"scatter\"},{\"hovertemplate\":\"name=f_py_listcompr<br>x=%{x}<br>y=%{y}<extra></extra>\",\"legendgroup\":\"f_py_listcompr\",\"line\":{\"color\":\"#00cc96\",\"dash\":\"solid\"},\"marker\":{\"symbol\":\"circle\"},\"mode\":\"lines+markers\",\"name\":\"f_py_listcompr\",\"orientation\":\"v\",\"showlegend\":true,\"x\":[100,200,500,1000,2000,3000,5000,10000,20000,50000,100000,200000,500000,1000000],\"xaxis\":\"x\",\"y\":[6.627580005442724e-06,1.3552439995692111e-05,3.5225399988121356e-05,6.623127999773715e-05,0.00012948023999342695,0.0001947969200409716,0.0003314594000403304,0.0005819545400299831,0.002094960219983477,0.0031466580599953885,0.0072738695600128266,0.014115141500005847,0.04284195428001112,0.08276965381999617],\"yaxis\":\"y\",\"type\":\"scatter\"},{\"hovertemplate\":\"name=f_numpy<br>x=%{x}<br>y=%{y}<extra></extra>\",\"legendgroup\":\"f_numpy\",\"line\":{\"color\":\"#ab63fa\",\"dash\":\"solid\"},\"marker\":{\"symbol\":\"circle\"},\"mode\":\"lines+markers\",\"name\":\"f_numpy\",\"orientation\":\"v\",\"showlegend\":true,\"x\":[100,200,500,1000,2000,3000,5000,10000,20000,50000,100000,200000,500000,1000000],\"xaxis\":\"x\",\"y\":[1.6431199765065685e-06,1.8374399951426311e-06,1.9237400556448848e-06,2.2313999943435194e-06,2.608419963507913e-06,3.0254400189733133e-06,0.0001305749399762135,5.573580056079663e-06,1.4908660014043561e-05,2.6385579985799268e-05,4.9384620069758967e-05,0.00010397361998911947,0.0002666415400017286,0.0019449383999744895],\"yaxis\":\"y\",\"type\":\"scatter\"},{\"hovertemplate\":\"name=f_numba<br>x=%{x}<br>y=%{y}<extra></extra>\",\"legendgroup\":\"f_numba\",\"line\":{\"color\":\"#FFA15A\",\"dash\":\"solid\"},\"marker\":{\"symbol\":\"circle\"},\"mode\":\"lines+markers\",\"name\":\"f_numba\",\"orientation\":\"v\",\"showlegend\":true,\"x\":[100,200,500,1000,2000,3000,5000,10000,20000,50000,100000,200000,500000,1000000],\"xaxis\":\"x\",\"y\":[1.361459944746457e-06,1.3626200234284625e-06,1.4156999532133341e-06,1.558459989610128e-06,2.055360018857755e-06,2.313920049346052e-06,2.664720013854094e-06,4.420600016601384e-06,9.76620001893025e-06,2.4839380057528614e-05,4.818974004592747e-05,0.0001016660399909597,0.0002518874999805121,0.000761634079972282],\"yaxis\":\"y\",\"type\":\"scatter\"},{\"hovertemplate\":\"name=f_numba_parall<br>x=%{x}<br>y=%{y}<extra></extra>\",\"legendgroup\":\"f_numba_parall\",\"line\":{\"color\":\"#19d3f3\",\"dash\":\"solid\"},\"marker\":{\"symbol\":\"circle\"},\"mode\":\"lines+markers\",\"name\":\"f_numba_parall\",\"orientation\":\"v\",\"showlegend\":true,\"x\":[100,200,500,1000,2000,3000,5000,10000,20000,50000,100000,200000,500000,1000000],\"xaxis\":\"x\",\"y\":[0.00014341123998747206,0.00012038291999488137,0.00012840456001868007,0.00012423370004398747,0.00011593923998589162,9.819694001635071e-05,0.00012067547999322414,0.0001083874599862611,0.0001084682799410075,0.00011986293997324537,0.0001146019400039222,0.0001287484799831873,0.0001832795199879911,0.0007101359799708007],\"yaxis\":\"y\",\"type\":\"scatter\"},{\"hovertemplate\":\"name=f_numexpr<br>x=%{x}<br>y=%{y}<extra></extra>\",\"legendgroup\":\"f_numexpr\",\"line\":{\"color\":\"#FF6692\",\"dash\":\"solid\"},\"marker\":{\"symbol\":\"circle\"},\"mode\":\"lines+markers\",\"name\":\"f_numexpr\",\"orientation\":\"v\",\"showlegend\":true,\"x\":[100,200,500,1000,2000,3000,5000,10000,20000,50000,100000,200000,500000,1000000],\"xaxis\":\"x\",\"y\":[1.5130460014916026e-05,1.3637180018122308e-05,1.401659996190574e-05,2.054320000752341e-05,1.572396002302412e-05,0.00010296717999153771,0.0001350160800211597,0.00010594274004688487,0.00010746336003649049,0.00013115895999362692,0.00016727730006095952,0.0003488489399751415,0.0008611145599570591,0.00170227911999973],\"yaxis\":\"y\",\"type\":\"scatter\"}],                        {\"template\":{\"data\":{\"histogram2dcontour\":[{\"type\":\"histogram2dcontour\",\"colorbar\":{\"outlinewidth\":0,\"ticks\":\"\"},\"colorscale\":[[0.0,\"#0d0887\"],[0.1111111111111111,\"#46039f\"],[0.2222222222222222,\"#7201a8\"],[0.3333333333333333,\"#9c179e\"],[0.4444444444444444,\"#bd3786\"],[0.5555555555555556,\"#d8576b\"],[0.6666666666666666,\"#ed7953\"],[0.7777777777777778,\"#fb9f3a\"],[0.8888888888888888,\"#fdca26\"],[1.0,\"#f0f921\"]]}],\"choropleth\":[{\"type\":\"choropleth\",\"colorbar\":{\"outlinewidth\":0,\"ticks\":\"\"}}],\"histogram2d\":[{\"type\":\"histogram2d\",\"colorbar\":{\"outlinewidth\":0,\"ticks\":\"\"},\"colorscale\":[[0.0,\"#0d0887\"],[0.1111111111111111,\"#46039f\"],[0.2222222222222222,\"#7201a8\"],[0.3333333333333333,\"#9c179e\"],[0.4444444444444444,\"#bd3786\"],[0.5555555555555556,\"#d8576b\"],[0.6666666666666666,\"#ed7953\"],[0.7777777777777778,\"#fb9f3a\"],[0.8888888888888888,\"#fdca26\"],[1.0,\"#f0f921\"]]}],\"heatmap\":[{\"type\":\"heatmap\",\"colorbar\":{\"outlinewidth\":0,\"ticks\":\"\"},\"colorscale\":[[0.0,\"#0d0887\"],[0.1111111111111111,\"#46039f\"],[0.2222222222222222,\"#7201a8\"],[0.3333333333333333,\"#9c179e\"],[0.4444444444444444,\"#bd3786\"],[0.5555555555555556,\"#d8576b\"],[0.6666666666666666,\"#ed7953\"],[0.7777777777777778,\"#fb9f3a\"],[0.8888888888888888,\"#fdca26\"],[1.0,\"#f0f921\"]]}],\"heatmapgl\":[{\"type\":\"heatmapgl\",\"colorbar\":{\"outlinewidth\":0,\"ticks\":\"\"},\"colorscale\":[[0.0,\"#0d0887\"],[0.1111111111111111,\"#46039f\"],[0.2222222222222222,\"#7201a8\"],[0.3333333333333333,\"#9c179e\"],[0.4444444444444444,\"#bd3786\"],[0.5555555555555556,\"#d8576b\"],[0.6666666666666666,\"#ed7953\"],[0.7777777777777778,\"#fb9f3a\"],[0.8888888888888888,\"#fdca26\"],[1.0,\"#f0f921\"]]}],\"contourcarpet\":[{\"type\":\"contourcarpet\",\"colorbar\":{\"outlinewidth\":0,\"ticks\":\"\"}}],\"contour\":[{\"type\":\"contour\",\"colorbar\":{\"outlinewidth\":0,\"ticks\":\"\"},\"colorscale\":[[0.0,\"#0d0887\"],[0.1111111111111111,\"#46039f\"],[0.2222222222222222,\"#7201a8\"],[0.3333333333333333,\"#9c179e\"],[0.4444444444444444,\"#bd3786\"],[0.5555555555555556,\"#d8576b\"],[0.6666666666666666,\"#ed7953\"],[0.7777777777777778,\"#fb9f3a\"],[0.8888888888888888,\"#fdca26\"],[1.0,\"#f0f921\"]]}],\"surface\":[{\"type\":\"surface\",\"colorbar\":{\"outlinewidth\":0,\"ticks\":\"\"},\"colorscale\":[[0.0,\"#0d0887\"],[0.1111111111111111,\"#46039f\"],[0.2222222222222222,\"#7201a8\"],[0.3333333333333333,\"#9c179e\"],[0.4444444444444444,\"#bd3786\"],[0.5555555555555556,\"#d8576b\"],[0.6666666666666666,\"#ed7953\"],[0.7777777777777778,\"#fb9f3a\"],[0.8888888888888888,\"#fdca26\"],[1.0,\"#f0f921\"]]}],\"mesh3d\":[{\"type\":\"mesh3d\",\"colorbar\":{\"outlinewidth\":0,\"ticks\":\"\"}}],\"scatter\":[{\"fillpattern\":{\"fillmode\":\"overlay\",\"size\":10,\"solidity\":0.2},\"type\":\"scatter\"}],\"parcoords\":[{\"type\":\"parcoords\",\"line\":{\"colorbar\":{\"outlinewidth\":0,\"ticks\":\"\"}}}],\"scatterpolargl\":[{\"type\":\"scatterpolargl\",\"marker\":{\"colorbar\":{\"outlinewidth\":0,\"ticks\":\"\"}}}],\"bar\":[{\"error_x\":{\"color\":\"#2a3f5f\"},\"error_y\":{\"color\":\"#2a3f5f\"},\"marker\":{\"line\":{\"color\":\"#E5ECF6\",\"width\":0.5},\"pattern\":{\"fillmode\":\"overlay\",\"size\":10,\"solidity\":0.2}},\"type\":\"bar\"}],\"scattergeo\":[{\"type\":\"scattergeo\",\"marker\":{\"colorbar\":{\"outlinewidth\":0,\"ticks\":\"\"}}}],\"scatterpolar\":[{\"type\":\"scatterpolar\",\"marker\":{\"colorbar\":{\"outlinewidth\":0,\"ticks\":\"\"}}}],\"histogram\":[{\"marker\":{\"pattern\":{\"fillmode\":\"overlay\",\"size\":10,\"solidity\":0.2}},\"type\":\"histogram\"}],\"scattergl\":[{\"type\":\"scattergl\",\"marker\":{\"colorbar\":{\"outlinewidth\":0,\"ticks\":\"\"}}}],\"scatter3d\":[{\"type\":\"scatter3d\",\"line\":{\"colorbar\":{\"outlinewidth\":0,\"ticks\":\"\"}},\"marker\":{\"colorbar\":{\"outlinewidth\":0,\"ticks\":\"\"}}}],\"scattermapbox\":[{\"type\":\"scattermapbox\",\"marker\":{\"colorbar\":{\"outlinewidth\":0,\"ticks\":\"\"}}}],\"scatterternary\":[{\"type\":\"scatterternary\",\"marker\":{\"colorbar\":{\"outlinewidth\":0,\"ticks\":\"\"}}}],\"scattercarpet\":[{\"type\":\"scattercarpet\",\"marker\":{\"colorbar\":{\"outlinewidth\":0,\"ticks\":\"\"}}}],\"carpet\":[{\"aaxis\":{\"endlinecolor\":\"#2a3f5f\",\"gridcolor\":\"white\",\"linecolor\":\"white\",\"minorgridcolor\":\"white\",\"startlinecolor\":\"#2a3f5f\"},\"baxis\":{\"endlinecolor\":\"#2a3f5f\",\"gridcolor\":\"white\",\"linecolor\":\"white\",\"minorgridcolor\":\"white\",\"startlinecolor\":\"#2a3f5f\"},\"type\":\"carpet\"}],\"table\":[{\"cells\":{\"fill\":{\"color\":\"#EBF0F8\"},\"line\":{\"color\":\"white\"}},\"header\":{\"fill\":{\"color\":\"#C8D4E3\"},\"line\":{\"color\":\"white\"}},\"type\":\"table\"}],\"barpolar\":[{\"marker\":{\"line\":{\"color\":\"#E5ECF6\",\"width\":0.5},\"pattern\":{\"fillmode\":\"overlay\",\"size\":10,\"solidity\":0.2}},\"type\":\"barpolar\"}],\"pie\":[{\"automargin\":true,\"type\":\"pie\"}]},\"layout\":{\"autotypenumbers\":\"strict\",\"colorway\":[\"#636efa\",\"#EF553B\",\"#00cc96\",\"#ab63fa\",\"#FFA15A\",\"#19d3f3\",\"#FF6692\",\"#B6E880\",\"#FF97FF\",\"#FECB52\"],\"font\":{\"color\":\"#2a3f5f\"},\"hovermode\":\"closest\",\"hoverlabel\":{\"align\":\"left\"},\"paper_bgcolor\":\"white\",\"plot_bgcolor\":\"#E5ECF6\",\"polar\":{\"bgcolor\":\"#E5ECF6\",\"angularaxis\":{\"gridcolor\":\"white\",\"linecolor\":\"white\",\"ticks\":\"\"},\"radialaxis\":{\"gridcolor\":\"white\",\"linecolor\":\"white\",\"ticks\":\"\"}},\"ternary\":{\"bgcolor\":\"#E5ECF6\",\"aaxis\":{\"gridcolor\":\"white\",\"linecolor\":\"white\",\"ticks\":\"\"},\"baxis\":{\"gridcolor\":\"white\",\"linecolor\":\"white\",\"ticks\":\"\"},\"caxis\":{\"gridcolor\":\"white\",\"linecolor\":\"white\",\"ticks\":\"\"}},\"coloraxis\":{\"colorbar\":{\"outlinewidth\":0,\"ticks\":\"\"}},\"colorscale\":{\"sequential\":[[0.0,\"#0d0887\"],[0.1111111111111111,\"#46039f\"],[0.2222222222222222,\"#7201a8\"],[0.3333333333333333,\"#9c179e\"],[0.4444444444444444,\"#bd3786\"],[0.5555555555555556,\"#d8576b\"],[0.6666666666666666,\"#ed7953\"],[0.7777777777777778,\"#fb9f3a\"],[0.8888888888888888,\"#fdca26\"],[1.0,\"#f0f921\"]],\"sequentialminus\":[[0.0,\"#0d0887\"],[0.1111111111111111,\"#46039f\"],[0.2222222222222222,\"#7201a8\"],[0.3333333333333333,\"#9c179e\"],[0.4444444444444444,\"#bd3786\"],[0.5555555555555556,\"#d8576b\"],[0.6666666666666666,\"#ed7953\"],[0.7777777777777778,\"#fb9f3a\"],[0.8888888888888888,\"#fdca26\"],[1.0,\"#f0f921\"]],\"diverging\":[[0,\"#8e0152\"],[0.1,\"#c51b7d\"],[0.2,\"#de77ae\"],[0.3,\"#f1b6da\"],[0.4,\"#fde0ef\"],[0.5,\"#f7f7f7\"],[0.6,\"#e6f5d0\"],[0.7,\"#b8e186\"],[0.8,\"#7fbc41\"],[0.9,\"#4d9221\"],[1,\"#276419\"]]},\"xaxis\":{\"gridcolor\":\"white\",\"linecolor\":\"white\",\"ticks\":\"\",\"title\":{\"standoff\":15},\"zerolinecolor\":\"white\",\"automargin\":true,\"zerolinewidth\":2},\"yaxis\":{\"gridcolor\":\"white\",\"linecolor\":\"white\",\"ticks\":\"\",\"title\":{\"standoff\":15},\"zerolinecolor\":\"white\",\"automargin\":true,\"zerolinewidth\":2},\"scene\":{\"xaxis\":{\"backgroundcolor\":\"#E5ECF6\",\"gridcolor\":\"white\",\"linecolor\":\"white\",\"showbackground\":true,\"ticks\":\"\",\"zerolinecolor\":\"white\",\"gridwidth\":2},\"yaxis\":{\"backgroundcolor\":\"#E5ECF6\",\"gridcolor\":\"white\",\"linecolor\":\"white\",\"showbackground\":true,\"ticks\":\"\",\"zerolinecolor\":\"white\",\"gridwidth\":2},\"zaxis\":{\"backgroundcolor\":\"#E5ECF6\",\"gridcolor\":\"white\",\"linecolor\":\"white\",\"showbackground\":true,\"ticks\":\"\",\"zerolinecolor\":\"white\",\"gridwidth\":2}},\"shapedefaults\":{\"line\":{\"color\":\"#2a3f5f\"}},\"annotationdefaults\":{\"arrowcolor\":\"#2a3f5f\",\"arrowhead\":0,\"arrowwidth\":1},\"geo\":{\"bgcolor\":\"white\",\"landcolor\":\"#E5ECF6\",\"subunitcolor\":\"white\",\"showland\":true,\"showlakes\":true,\"lakecolor\":\"white\"},\"title\":{\"x\":0.05},\"mapbox\":{\"style\":\"light\"}}},\"xaxis\":{\"anchor\":\"y\",\"domain\":[0.0,1.0],\"title\":{\"text\":\"x\"},\"type\":\"log\"},\"yaxis\":{\"anchor\":\"x\",\"domain\":[0.0,1.0],\"title\":{\"text\":\"y\"},\"type\":\"log\"},\"legend\":{\"title\":{\"text\":\"name\"},\"tracegroupgap\":0},\"title\":{\"text\":\"extra time per point: 0.0\"}},                        {\"responsive\": true}                    ).then(function(){\n",
       "                            \n",
       "var gd = document.getElementById('a6385b3c-20f5-4652-86e3-c6a0993f6a25');\n",
       "var x = new MutationObserver(function (mutations, observer) {{\n",
       "        var display = window.getComputedStyle(gd).display;\n",
       "        if (!display || display === 'none') {{\n",
       "            console.log([gd, 'removed!']);\n",
       "            Plotly.purge(gd);\n",
       "            observer.disconnect();\n",
       "        }}\n",
       "}});\n",
       "\n",
       "// Listen for the removal of the full notebook cells\n",
       "var notebookContainer = gd.closest('#notebook-container');\n",
       "if (notebookContainer) {{\n",
       "    x.observe(notebookContainer, {childList: true});\n",
       "}}\n",
       "\n",
       "// Listen for the clearing of the current output cell\n",
       "var outputEl = gd.closest('.output');\n",
       "if (outputEl) {{\n",
       "    x.observe(outputEl, {childList: true});\n",
       "}}\n",
       "\n",
       "                        })                };                });            </script>        </div>"
      ]
     },
     "metadata": {},
     "output_type": "display_data"
    },
    {
     "data": {
      "application/vnd.plotly.v1+json": {
       "config": {
        "plotlyServerURL": "https://plot.ly"
       },
       "data": [
        {
         "hovertemplate": "name=f_py_append<br>x=%{x}<br>y=%{y}<extra></extra>",
         "legendgroup": "f_py_append",
         "line": {
          "color": "#636efa",
          "dash": "solid"
         },
         "marker": {
          "symbol": "circle"
         },
         "mode": "lines+markers",
         "name": "f_py_append",
         "orientation": "v",
         "showlegend": true,
         "type": "scatter",
         "x": [
          100,
          200,
          500,
          1000,
          2000,
          3000,
          5000,
          10000,
          20000,
          50000,
          100000,
          200000,
          500000,
          1000000
         ],
         "xaxis": "x",
         "y": [
          2.105424002162181E-5,
          3.2268059983616696E-5,
          6.584028003795538E-5,
          1.2445672003901564E-4,
          2.2841868001502008E-4,
          3.234432800288778E-4,
          5.228094599785982E-4,
          0.0010466538199741626,
          0.0020399317999888443,
          0.005268420859972829,
          0.011957187800033135,
          0.022562211840011295,
          0.06043144920000283,
          0.12497942179997859
         ],
         "yaxis": "y"
        },
        {
         "hovertemplate": "name=f_py<br>x=%{x}<br>y=%{y}<extra></extra>",
         "legendgroup": "f_py",
         "line": {
          "color": "#EF553B",
          "dash": "solid"
         },
         "marker": {
          "symbol": "circle"
         },
         "mode": "lines+markers",
         "name": "f_py",
         "orientation": "v",
         "showlegend": true,
         "type": "scatter",
         "x": [
          100,
          200,
          500,
          1000,
          2000,
          3000,
          5000,
          10000,
          20000,
          50000,
          100000,
          200000,
          500000,
          1000000
         ],
         "xaxis": "x",
         "y": [
          1.9607780011720026E-5,
          3.64902799972333E-5,
          6.316449998645112E-5,
          1.1775399998237845E-4,
          2.332832200388657E-4,
          3.358577400265495E-4,
          5.486856399854878E-4,
          0.001077559400034952,
          0.002169571680022054,
          0.0055648583399649934,
          0.01107836202001432,
          0.02199681931993633,
          0.05528794153997093,
          0.1104341230199841
         ],
         "yaxis": "y"
        },
        {
         "hovertemplate": "name=f_py_listcompr<br>x=%{x}<br>y=%{y}<extra></extra>",
         "legendgroup": "f_py_listcompr",
         "line": {
          "color": "#00cc96",
          "dash": "solid"
         },
         "marker": {
          "symbol": "circle"
         },
         "mode": "lines+markers",
         "name": "f_py_listcompr",
         "orientation": "v",
         "showlegend": true,
         "type": "scatter",
         "x": [
          100,
          200,
          500,
          1000,
          2000,
          3000,
          5000,
          10000,
          20000,
          50000,
          100000,
          200000,
          500000,
          1000000
         ],
         "xaxis": "x",
         "y": [
          1.6627580005442724E-5,
          2.355243999569211E-5,
          4.5225399988121355E-5,
          7.623127999773715E-5,
          1.3948023999342695E-4,
          2.0479692004097159E-4,
          3.414594000403304E-4,
          5.919545400299831E-4,
          0.002104960219983477,
          0.0031566580599953886,
          0.007283869560012826,
          0.014125141500005847,
          0.04285195428001112,
          0.08277965381999616
         ],
         "yaxis": "y"
        },
        {
         "hovertemplate": "name=f_numpy<br>x=%{x}<br>y=%{y}<extra></extra>",
         "legendgroup": "f_numpy",
         "line": {
          "color": "#ab63fa",
          "dash": "solid"
         },
         "marker": {
          "symbol": "circle"
         },
         "mode": "lines+markers",
         "name": "f_numpy",
         "orientation": "v",
         "showlegend": true,
         "type": "scatter",
         "x": [
          100,
          200,
          500,
          1000,
          2000,
          3000,
          5000,
          10000,
          20000,
          50000,
          100000,
          200000,
          500000,
          1000000
         ],
         "xaxis": "x",
         "y": [
          1.1643119976506569E-5,
          1.1837439995142633E-5,
          1.1923740055644886E-5,
          1.223139999434352E-5,
          1.2608419963507914E-5,
          1.3025440018973314E-5,
          1.405749399762135E-4,
          1.5573580056079664E-5,
          2.490866001404356E-5,
          3.638557998579927E-5,
          5.9384620069758966E-5,
          1.1397361998911947E-4,
          2.766415400017286E-4,
          0.0019549383999744895
         ],
         "yaxis": "y"
        },
        {
         "hovertemplate": "name=f_numba<br>x=%{x}<br>y=%{y}<extra></extra>",
         "legendgroup": "f_numba",
         "line": {
          "color": "#FFA15A",
          "dash": "solid"
         },
         "marker": {
          "symbol": "circle"
         },
         "mode": "lines+markers",
         "name": "f_numba",
         "orientation": "v",
         "showlegend": true,
         "type": "scatter",
         "x": [
          100,
          200,
          500,
          1000,
          2000,
          3000,
          5000,
          10000,
          20000,
          50000,
          100000,
          200000,
          500000,
          1000000
         ],
         "xaxis": "x",
         "y": [
          1.1361459944746459E-5,
          1.1362620023428464E-5,
          1.1415699953213335E-5,
          1.155845998961013E-5,
          1.2055360018857756E-5,
          1.2313920049346053E-5,
          1.2664720013854095E-5,
          1.4420600016601384E-5,
          1.9766200018930252E-5,
          3.483938005752862E-5,
          5.818974004592747E-5,
          1.1166603999095969E-4,
          2.618874999805121E-4,
          7.71634079972282E-4
         ],
         "yaxis": "y"
        },
        {
         "hovertemplate": "name=f_numba_parall<br>x=%{x}<br>y=%{y}<extra></extra>",
         "legendgroup": "f_numba_parall",
         "line": {
          "color": "#19d3f3",
          "dash": "solid"
         },
         "marker": {
          "symbol": "circle"
         },
         "mode": "lines+markers",
         "name": "f_numba_parall",
         "orientation": "v",
         "showlegend": true,
         "type": "scatter",
         "x": [
          100,
          200,
          500,
          1000,
          2000,
          3000,
          5000,
          10000,
          20000,
          50000,
          100000,
          200000,
          500000,
          1000000
         ],
         "xaxis": "x",
         "y": [
          1.5341123998747206E-4,
          1.3038291999488137E-4,
          1.3840456001868007E-4,
          1.3423370004398747E-4,
          1.2593923998589163E-4,
          1.0819694001635071E-4,
          1.3067547999322414E-4,
          1.183874599862611E-4,
          1.184682799410075E-4,
          1.2986293997324538E-4,
          1.246019400039222E-4,
          1.387484799831873E-4,
          1.932795199879911E-4,
          7.201359799708007E-4
         ],
         "yaxis": "y"
        },
        {
         "hovertemplate": "name=f_numexpr<br>x=%{x}<br>y=%{y}<extra></extra>",
         "legendgroup": "f_numexpr",
         "line": {
          "color": "#FF6692",
          "dash": "solid"
         },
         "marker": {
          "symbol": "circle"
         },
         "mode": "lines+markers",
         "name": "f_numexpr",
         "orientation": "v",
         "showlegend": true,
         "type": "scatter",
         "x": [
          100,
          200,
          500,
          1000,
          2000,
          3000,
          5000,
          10000,
          20000,
          50000,
          100000,
          200000,
          500000,
          1000000
         ],
         "xaxis": "x",
         "y": [
          2.5130460014916027E-5,
          2.3637180018122307E-5,
          2.401659996190574E-5,
          3.054320000752341E-5,
          2.572396002302412E-5,
          1.1296717999153771E-4,
          1.450160800211597E-4,
          1.1594274004688487E-4,
          1.1746336003649049E-4,
          1.4115895999362692E-4,
          1.7727730006095952E-4,
          3.5884893997514155E-4,
          8.711145599570591E-4,
          0.0017122791199997301
         ],
         "yaxis": "y"
        }
       ],
       "layout": {
        "legend": {
         "title": {
          "text": "name"
         },
         "tracegroupgap": 0
        },
        "template": {
         "data": {
          "bar": [
           {
            "error_x": {
             "color": "#2a3f5f"
            },
            "error_y": {
             "color": "#2a3f5f"
            },
            "marker": {
             "line": {
              "color": "#E5ECF6",
              "width": 0.5
             },
             "pattern": {
              "fillmode": "overlay",
              "size": 10,
              "solidity": 0.2
             }
            },
            "type": "bar"
           }
          ],
          "barpolar": [
           {
            "marker": {
             "line": {
              "color": "#E5ECF6",
              "width": 0.5
             },
             "pattern": {
              "fillmode": "overlay",
              "size": 10,
              "solidity": 0.2
             }
            },
            "type": "barpolar"
           }
          ],
          "carpet": [
           {
            "aaxis": {
             "endlinecolor": "#2a3f5f",
             "gridcolor": "white",
             "linecolor": "white",
             "minorgridcolor": "white",
             "startlinecolor": "#2a3f5f"
            },
            "baxis": {
             "endlinecolor": "#2a3f5f",
             "gridcolor": "white",
             "linecolor": "white",
             "minorgridcolor": "white",
             "startlinecolor": "#2a3f5f"
            },
            "type": "carpet"
           }
          ],
          "choropleth": [
           {
            "colorbar": {
             "outlinewidth": 0,
             "ticks": ""
            },
            "type": "choropleth"
           }
          ],
          "contour": [
           {
            "colorbar": {
             "outlinewidth": 0,
             "ticks": ""
            },
            "colorscale": [
             [
              0,
              "#0d0887"
             ],
             [
              0.1111111111111111,
              "#46039f"
             ],
             [
              0.2222222222222222,
              "#7201a8"
             ],
             [
              0.3333333333333333,
              "#9c179e"
             ],
             [
              0.4444444444444444,
              "#bd3786"
             ],
             [
              0.5555555555555556,
              "#d8576b"
             ],
             [
              0.6666666666666666,
              "#ed7953"
             ],
             [
              0.7777777777777778,
              "#fb9f3a"
             ],
             [
              0.8888888888888888,
              "#fdca26"
             ],
             [
              1,
              "#f0f921"
             ]
            ],
            "type": "contour"
           }
          ],
          "contourcarpet": [
           {
            "colorbar": {
             "outlinewidth": 0,
             "ticks": ""
            },
            "type": "contourcarpet"
           }
          ],
          "heatmap": [
           {
            "colorbar": {
             "outlinewidth": 0,
             "ticks": ""
            },
            "colorscale": [
             [
              0,
              "#0d0887"
             ],
             [
              0.1111111111111111,
              "#46039f"
             ],
             [
              0.2222222222222222,
              "#7201a8"
             ],
             [
              0.3333333333333333,
              "#9c179e"
             ],
             [
              0.4444444444444444,
              "#bd3786"
             ],
             [
              0.5555555555555556,
              "#d8576b"
             ],
             [
              0.6666666666666666,
              "#ed7953"
             ],
             [
              0.7777777777777778,
              "#fb9f3a"
             ],
             [
              0.8888888888888888,
              "#fdca26"
             ],
             [
              1,
              "#f0f921"
             ]
            ],
            "type": "heatmap"
           }
          ],
          "heatmapgl": [
           {
            "colorbar": {
             "outlinewidth": 0,
             "ticks": ""
            },
            "colorscale": [
             [
              0,
              "#0d0887"
             ],
             [
              0.1111111111111111,
              "#46039f"
             ],
             [
              0.2222222222222222,
              "#7201a8"
             ],
             [
              0.3333333333333333,
              "#9c179e"
             ],
             [
              0.4444444444444444,
              "#bd3786"
             ],
             [
              0.5555555555555556,
              "#d8576b"
             ],
             [
              0.6666666666666666,
              "#ed7953"
             ],
             [
              0.7777777777777778,
              "#fb9f3a"
             ],
             [
              0.8888888888888888,
              "#fdca26"
             ],
             [
              1,
              "#f0f921"
             ]
            ],
            "type": "heatmapgl"
           }
          ],
          "histogram": [
           {
            "marker": {
             "pattern": {
              "fillmode": "overlay",
              "size": 10,
              "solidity": 0.2
             }
            },
            "type": "histogram"
           }
          ],
          "histogram2d": [
           {
            "colorbar": {
             "outlinewidth": 0,
             "ticks": ""
            },
            "colorscale": [
             [
              0,
              "#0d0887"
             ],
             [
              0.1111111111111111,
              "#46039f"
             ],
             [
              0.2222222222222222,
              "#7201a8"
             ],
             [
              0.3333333333333333,
              "#9c179e"
             ],
             [
              0.4444444444444444,
              "#bd3786"
             ],
             [
              0.5555555555555556,
              "#d8576b"
             ],
             [
              0.6666666666666666,
              "#ed7953"
             ],
             [
              0.7777777777777778,
              "#fb9f3a"
             ],
             [
              0.8888888888888888,
              "#fdca26"
             ],
             [
              1,
              "#f0f921"
             ]
            ],
            "type": "histogram2d"
           }
          ],
          "histogram2dcontour": [
           {
            "colorbar": {
             "outlinewidth": 0,
             "ticks": ""
            },
            "colorscale": [
             [
              0,
              "#0d0887"
             ],
             [
              0.1111111111111111,
              "#46039f"
             ],
             [
              0.2222222222222222,
              "#7201a8"
             ],
             [
              0.3333333333333333,
              "#9c179e"
             ],
             [
              0.4444444444444444,
              "#bd3786"
             ],
             [
              0.5555555555555556,
              "#d8576b"
             ],
             [
              0.6666666666666666,
              "#ed7953"
             ],
             [
              0.7777777777777778,
              "#fb9f3a"
             ],
             [
              0.8888888888888888,
              "#fdca26"
             ],
             [
              1,
              "#f0f921"
             ]
            ],
            "type": "histogram2dcontour"
           }
          ],
          "mesh3d": [
           {
            "colorbar": {
             "outlinewidth": 0,
             "ticks": ""
            },
            "type": "mesh3d"
           }
          ],
          "parcoords": [
           {
            "line": {
             "colorbar": {
              "outlinewidth": 0,
              "ticks": ""
             }
            },
            "type": "parcoords"
           }
          ],
          "pie": [
           {
            "automargin": true,
            "type": "pie"
           }
          ],
          "scatter": [
           {
            "fillpattern": {
             "fillmode": "overlay",
             "size": 10,
             "solidity": 0.2
            },
            "type": "scatter"
           }
          ],
          "scatter3d": [
           {
            "line": {
             "colorbar": {
              "outlinewidth": 0,
              "ticks": ""
             }
            },
            "marker": {
             "colorbar": {
              "outlinewidth": 0,
              "ticks": ""
             }
            },
            "type": "scatter3d"
           }
          ],
          "scattercarpet": [
           {
            "marker": {
             "colorbar": {
              "outlinewidth": 0,
              "ticks": ""
             }
            },
            "type": "scattercarpet"
           }
          ],
          "scattergeo": [
           {
            "marker": {
             "colorbar": {
              "outlinewidth": 0,
              "ticks": ""
             }
            },
            "type": "scattergeo"
           }
          ],
          "scattergl": [
           {
            "marker": {
             "colorbar": {
              "outlinewidth": 0,
              "ticks": ""
             }
            },
            "type": "scattergl"
           }
          ],
          "scattermapbox": [
           {
            "marker": {
             "colorbar": {
              "outlinewidth": 0,
              "ticks": ""
             }
            },
            "type": "scattermapbox"
           }
          ],
          "scatterpolar": [
           {
            "marker": {
             "colorbar": {
              "outlinewidth": 0,
              "ticks": ""
             }
            },
            "type": "scatterpolar"
           }
          ],
          "scatterpolargl": [
           {
            "marker": {
             "colorbar": {
              "outlinewidth": 0,
              "ticks": ""
             }
            },
            "type": "scatterpolargl"
           }
          ],
          "scatterternary": [
           {
            "marker": {
             "colorbar": {
              "outlinewidth": 0,
              "ticks": ""
             }
            },
            "type": "scatterternary"
           }
          ],
          "surface": [
           {
            "colorbar": {
             "outlinewidth": 0,
             "ticks": ""
            },
            "colorscale": [
             [
              0,
              "#0d0887"
             ],
             [
              0.1111111111111111,
              "#46039f"
             ],
             [
              0.2222222222222222,
              "#7201a8"
             ],
             [
              0.3333333333333333,
              "#9c179e"
             ],
             [
              0.4444444444444444,
              "#bd3786"
             ],
             [
              0.5555555555555556,
              "#d8576b"
             ],
             [
              0.6666666666666666,
              "#ed7953"
             ],
             [
              0.7777777777777778,
              "#fb9f3a"
             ],
             [
              0.8888888888888888,
              "#fdca26"
             ],
             [
              1,
              "#f0f921"
             ]
            ],
            "type": "surface"
           }
          ],
          "table": [
           {
            "cells": {
             "fill": {
              "color": "#EBF0F8"
             },
             "line": {
              "color": "white"
             }
            },
            "header": {
             "fill": {
              "color": "#C8D4E3"
             },
             "line": {
              "color": "white"
             }
            },
            "type": "table"
           }
          ]
         },
         "layout": {
          "annotationdefaults": {
           "arrowcolor": "#2a3f5f",
           "arrowhead": 0,
           "arrowwidth": 1
          },
          "autotypenumbers": "strict",
          "coloraxis": {
           "colorbar": {
            "outlinewidth": 0,
            "ticks": ""
           }
          },
          "colorscale": {
           "diverging": [
            [
             0,
             "#8e0152"
            ],
            [
             0.1,
             "#c51b7d"
            ],
            [
             0.2,
             "#de77ae"
            ],
            [
             0.3,
             "#f1b6da"
            ],
            [
             0.4,
             "#fde0ef"
            ],
            [
             0.5,
             "#f7f7f7"
            ],
            [
             0.6,
             "#e6f5d0"
            ],
            [
             0.7,
             "#b8e186"
            ],
            [
             0.8,
             "#7fbc41"
            ],
            [
             0.9,
             "#4d9221"
            ],
            [
             1,
             "#276419"
            ]
           ],
           "sequential": [
            [
             0,
             "#0d0887"
            ],
            [
             0.1111111111111111,
             "#46039f"
            ],
            [
             0.2222222222222222,
             "#7201a8"
            ],
            [
             0.3333333333333333,
             "#9c179e"
            ],
            [
             0.4444444444444444,
             "#bd3786"
            ],
            [
             0.5555555555555556,
             "#d8576b"
            ],
            [
             0.6666666666666666,
             "#ed7953"
            ],
            [
             0.7777777777777778,
             "#fb9f3a"
            ],
            [
             0.8888888888888888,
             "#fdca26"
            ],
            [
             1,
             "#f0f921"
            ]
           ],
           "sequentialminus": [
            [
             0,
             "#0d0887"
            ],
            [
             0.1111111111111111,
             "#46039f"
            ],
            [
             0.2222222222222222,
             "#7201a8"
            ],
            [
             0.3333333333333333,
             "#9c179e"
            ],
            [
             0.4444444444444444,
             "#bd3786"
            ],
            [
             0.5555555555555556,
             "#d8576b"
            ],
            [
             0.6666666666666666,
             "#ed7953"
            ],
            [
             0.7777777777777778,
             "#fb9f3a"
            ],
            [
             0.8888888888888888,
             "#fdca26"
            ],
            [
             1,
             "#f0f921"
            ]
           ]
          },
          "colorway": [
           "#636efa",
           "#EF553B",
           "#00cc96",
           "#ab63fa",
           "#FFA15A",
           "#19d3f3",
           "#FF6692",
           "#B6E880",
           "#FF97FF",
           "#FECB52"
          ],
          "font": {
           "color": "#2a3f5f"
          },
          "geo": {
           "bgcolor": "white",
           "lakecolor": "white",
           "landcolor": "#E5ECF6",
           "showlakes": true,
           "showland": true,
           "subunitcolor": "white"
          },
          "hoverlabel": {
           "align": "left"
          },
          "hovermode": "closest",
          "mapbox": {
           "style": "light"
          },
          "paper_bgcolor": "white",
          "plot_bgcolor": "#E5ECF6",
          "polar": {
           "angularaxis": {
            "gridcolor": "white",
            "linecolor": "white",
            "ticks": ""
           },
           "bgcolor": "#E5ECF6",
           "radialaxis": {
            "gridcolor": "white",
            "linecolor": "white",
            "ticks": ""
           }
          },
          "scene": {
           "xaxis": {
            "backgroundcolor": "#E5ECF6",
            "gridcolor": "white",
            "gridwidth": 2,
            "linecolor": "white",
            "showbackground": true,
            "ticks": "",
            "zerolinecolor": "white"
           },
           "yaxis": {
            "backgroundcolor": "#E5ECF6",
            "gridcolor": "white",
            "gridwidth": 2,
            "linecolor": "white",
            "showbackground": true,
            "ticks": "",
            "zerolinecolor": "white"
           },
           "zaxis": {
            "backgroundcolor": "#E5ECF6",
            "gridcolor": "white",
            "gridwidth": 2,
            "linecolor": "white",
            "showbackground": true,
            "ticks": "",
            "zerolinecolor": "white"
           }
          },
          "shapedefaults": {
           "line": {
            "color": "#2a3f5f"
           }
          },
          "ternary": {
           "aaxis": {
            "gridcolor": "white",
            "linecolor": "white",
            "ticks": ""
           },
           "baxis": {
            "gridcolor": "white",
            "linecolor": "white",
            "ticks": ""
           },
           "bgcolor": "#E5ECF6",
           "caxis": {
            "gridcolor": "white",
            "linecolor": "white",
            "ticks": ""
           }
          },
          "title": {
           "x": 0.05
          },
          "xaxis": {
           "automargin": true,
           "gridcolor": "white",
           "linecolor": "white",
           "ticks": "",
           "title": {
            "standoff": 15
           },
           "zerolinecolor": "white",
           "zerolinewidth": 2
          },
          "yaxis": {
           "automargin": true,
           "gridcolor": "white",
           "linecolor": "white",
           "ticks": "",
           "title": {
            "standoff": 15
           },
           "zerolinecolor": "white",
           "zerolinewidth": 2
          }
         }
        },
        "title": {
         "text": "extra time per point: 1e-05"
        },
        "xaxis": {
         "anchor": "y",
         "domain": [
          0,
          1
         ],
         "title": {
          "text": "x"
         },
         "type": "log"
        },
        "yaxis": {
         "anchor": "x",
         "domain": [
          0,
          1
         ],
         "title": {
          "text": "y"
         },
         "type": "log"
        }
       }
      },
      "text/html": [
       "<div>                            <div id=\"a9a2d1d0-31f7-4e06-8a3e-47e5b3938bb3\" class=\"plotly-graph-div\" style=\"height:525px; width:100%;\"></div>            <script type=\"text/javascript\">                require([\"plotly\"], function(Plotly) {                    window.PLOTLYENV=window.PLOTLYENV || {};                                    if (document.getElementById(\"a9a2d1d0-31f7-4e06-8a3e-47e5b3938bb3\")) {                    Plotly.newPlot(                        \"a9a2d1d0-31f7-4e06-8a3e-47e5b3938bb3\",                        [{\"hovertemplate\":\"name=f_py_append<br>x=%{x}<br>y=%{y}<extra></extra>\",\"legendgroup\":\"f_py_append\",\"line\":{\"color\":\"#636efa\",\"dash\":\"solid\"},\"marker\":{\"symbol\":\"circle\"},\"mode\":\"lines+markers\",\"name\":\"f_py_append\",\"orientation\":\"v\",\"showlegend\":true,\"x\":[100,200,500,1000,2000,3000,5000,10000,20000,50000,100000,200000,500000,1000000],\"xaxis\":\"x\",\"y\":[2.105424002162181e-05,3.2268059983616696e-05,6.584028003795538e-05,0.00012445672003901564,0.00022841868001502008,0.0003234432800288778,0.0005228094599785982,0.0010466538199741626,0.0020399317999888443,0.005268420859972829,0.011957187800033135,0.022562211840011295,0.06043144920000283,0.12497942179997859],\"yaxis\":\"y\",\"type\":\"scatter\"},{\"hovertemplate\":\"name=f_py<br>x=%{x}<br>y=%{y}<extra></extra>\",\"legendgroup\":\"f_py\",\"line\":{\"color\":\"#EF553B\",\"dash\":\"solid\"},\"marker\":{\"symbol\":\"circle\"},\"mode\":\"lines+markers\",\"name\":\"f_py\",\"orientation\":\"v\",\"showlegend\":true,\"x\":[100,200,500,1000,2000,3000,5000,10000,20000,50000,100000,200000,500000,1000000],\"xaxis\":\"x\",\"y\":[1.9607780011720026e-05,3.64902799972333e-05,6.316449998645112e-05,0.00011775399998237845,0.0002332832200388657,0.0003358577400265495,0.0005486856399854878,0.001077559400034952,0.002169571680022054,0.0055648583399649934,0.01107836202001432,0.02199681931993633,0.05528794153997093,0.1104341230199841],\"yaxis\":\"y\",\"type\":\"scatter\"},{\"hovertemplate\":\"name=f_py_listcompr<br>x=%{x}<br>y=%{y}<extra></extra>\",\"legendgroup\":\"f_py_listcompr\",\"line\":{\"color\":\"#00cc96\",\"dash\":\"solid\"},\"marker\":{\"symbol\":\"circle\"},\"mode\":\"lines+markers\",\"name\":\"f_py_listcompr\",\"orientation\":\"v\",\"showlegend\":true,\"x\":[100,200,500,1000,2000,3000,5000,10000,20000,50000,100000,200000,500000,1000000],\"xaxis\":\"x\",\"y\":[1.6627580005442724e-05,2.355243999569211e-05,4.5225399988121355e-05,7.623127999773715e-05,0.00013948023999342695,0.00020479692004097159,0.0003414594000403304,0.0005919545400299831,0.002104960219983477,0.0031566580599953886,0.007283869560012826,0.014125141500005847,0.04285195428001112,0.08277965381999616],\"yaxis\":\"y\",\"type\":\"scatter\"},{\"hovertemplate\":\"name=f_numpy<br>x=%{x}<br>y=%{y}<extra></extra>\",\"legendgroup\":\"f_numpy\",\"line\":{\"color\":\"#ab63fa\",\"dash\":\"solid\"},\"marker\":{\"symbol\":\"circle\"},\"mode\":\"lines+markers\",\"name\":\"f_numpy\",\"orientation\":\"v\",\"showlegend\":true,\"x\":[100,200,500,1000,2000,3000,5000,10000,20000,50000,100000,200000,500000,1000000],\"xaxis\":\"x\",\"y\":[1.1643119976506569e-05,1.1837439995142633e-05,1.1923740055644886e-05,1.223139999434352e-05,1.2608419963507914e-05,1.3025440018973314e-05,0.0001405749399762135,1.5573580056079664e-05,2.490866001404356e-05,3.638557998579927e-05,5.9384620069758966e-05,0.00011397361998911947,0.0002766415400017286,0.0019549383999744895],\"yaxis\":\"y\",\"type\":\"scatter\"},{\"hovertemplate\":\"name=f_numba<br>x=%{x}<br>y=%{y}<extra></extra>\",\"legendgroup\":\"f_numba\",\"line\":{\"color\":\"#FFA15A\",\"dash\":\"solid\"},\"marker\":{\"symbol\":\"circle\"},\"mode\":\"lines+markers\",\"name\":\"f_numba\",\"orientation\":\"v\",\"showlegend\":true,\"x\":[100,200,500,1000,2000,3000,5000,10000,20000,50000,100000,200000,500000,1000000],\"xaxis\":\"x\",\"y\":[1.1361459944746459e-05,1.1362620023428464e-05,1.1415699953213335e-05,1.155845998961013e-05,1.2055360018857756e-05,1.2313920049346053e-05,1.2664720013854095e-05,1.4420600016601384e-05,1.9766200018930252e-05,3.483938005752862e-05,5.818974004592747e-05,0.00011166603999095969,0.0002618874999805121,0.000771634079972282],\"yaxis\":\"y\",\"type\":\"scatter\"},{\"hovertemplate\":\"name=f_numba_parall<br>x=%{x}<br>y=%{y}<extra></extra>\",\"legendgroup\":\"f_numba_parall\",\"line\":{\"color\":\"#19d3f3\",\"dash\":\"solid\"},\"marker\":{\"symbol\":\"circle\"},\"mode\":\"lines+markers\",\"name\":\"f_numba_parall\",\"orientation\":\"v\",\"showlegend\":true,\"x\":[100,200,500,1000,2000,3000,5000,10000,20000,50000,100000,200000,500000,1000000],\"xaxis\":\"x\",\"y\":[0.00015341123998747206,0.00013038291999488137,0.00013840456001868007,0.00013423370004398747,0.00012593923998589163,0.00010819694001635071,0.00013067547999322414,0.0001183874599862611,0.0001184682799410075,0.00012986293997324538,0.0001246019400039222,0.0001387484799831873,0.0001932795199879911,0.0007201359799708007],\"yaxis\":\"y\",\"type\":\"scatter\"},{\"hovertemplate\":\"name=f_numexpr<br>x=%{x}<br>y=%{y}<extra></extra>\",\"legendgroup\":\"f_numexpr\",\"line\":{\"color\":\"#FF6692\",\"dash\":\"solid\"},\"marker\":{\"symbol\":\"circle\"},\"mode\":\"lines+markers\",\"name\":\"f_numexpr\",\"orientation\":\"v\",\"showlegend\":true,\"x\":[100,200,500,1000,2000,3000,5000,10000,20000,50000,100000,200000,500000,1000000],\"xaxis\":\"x\",\"y\":[2.5130460014916027e-05,2.3637180018122307e-05,2.401659996190574e-05,3.054320000752341e-05,2.572396002302412e-05,0.00011296717999153771,0.0001450160800211597,0.00011594274004688487,0.00011746336003649049,0.00014115895999362692,0.00017727730006095952,0.00035884893997514155,0.0008711145599570591,0.0017122791199997301],\"yaxis\":\"y\",\"type\":\"scatter\"}],                        {\"template\":{\"data\":{\"histogram2dcontour\":[{\"type\":\"histogram2dcontour\",\"colorbar\":{\"outlinewidth\":0,\"ticks\":\"\"},\"colorscale\":[[0.0,\"#0d0887\"],[0.1111111111111111,\"#46039f\"],[0.2222222222222222,\"#7201a8\"],[0.3333333333333333,\"#9c179e\"],[0.4444444444444444,\"#bd3786\"],[0.5555555555555556,\"#d8576b\"],[0.6666666666666666,\"#ed7953\"],[0.7777777777777778,\"#fb9f3a\"],[0.8888888888888888,\"#fdca26\"],[1.0,\"#f0f921\"]]}],\"choropleth\":[{\"type\":\"choropleth\",\"colorbar\":{\"outlinewidth\":0,\"ticks\":\"\"}}],\"histogram2d\":[{\"type\":\"histogram2d\",\"colorbar\":{\"outlinewidth\":0,\"ticks\":\"\"},\"colorscale\":[[0.0,\"#0d0887\"],[0.1111111111111111,\"#46039f\"],[0.2222222222222222,\"#7201a8\"],[0.3333333333333333,\"#9c179e\"],[0.4444444444444444,\"#bd3786\"],[0.5555555555555556,\"#d8576b\"],[0.6666666666666666,\"#ed7953\"],[0.7777777777777778,\"#fb9f3a\"],[0.8888888888888888,\"#fdca26\"],[1.0,\"#f0f921\"]]}],\"heatmap\":[{\"type\":\"heatmap\",\"colorbar\":{\"outlinewidth\":0,\"ticks\":\"\"},\"colorscale\":[[0.0,\"#0d0887\"],[0.1111111111111111,\"#46039f\"],[0.2222222222222222,\"#7201a8\"],[0.3333333333333333,\"#9c179e\"],[0.4444444444444444,\"#bd3786\"],[0.5555555555555556,\"#d8576b\"],[0.6666666666666666,\"#ed7953\"],[0.7777777777777778,\"#fb9f3a\"],[0.8888888888888888,\"#fdca26\"],[1.0,\"#f0f921\"]]}],\"heatmapgl\":[{\"type\":\"heatmapgl\",\"colorbar\":{\"outlinewidth\":0,\"ticks\":\"\"},\"colorscale\":[[0.0,\"#0d0887\"],[0.1111111111111111,\"#46039f\"],[0.2222222222222222,\"#7201a8\"],[0.3333333333333333,\"#9c179e\"],[0.4444444444444444,\"#bd3786\"],[0.5555555555555556,\"#d8576b\"],[0.6666666666666666,\"#ed7953\"],[0.7777777777777778,\"#fb9f3a\"],[0.8888888888888888,\"#fdca26\"],[1.0,\"#f0f921\"]]}],\"contourcarpet\":[{\"type\":\"contourcarpet\",\"colorbar\":{\"outlinewidth\":0,\"ticks\":\"\"}}],\"contour\":[{\"type\":\"contour\",\"colorbar\":{\"outlinewidth\":0,\"ticks\":\"\"},\"colorscale\":[[0.0,\"#0d0887\"],[0.1111111111111111,\"#46039f\"],[0.2222222222222222,\"#7201a8\"],[0.3333333333333333,\"#9c179e\"],[0.4444444444444444,\"#bd3786\"],[0.5555555555555556,\"#d8576b\"],[0.6666666666666666,\"#ed7953\"],[0.7777777777777778,\"#fb9f3a\"],[0.8888888888888888,\"#fdca26\"],[1.0,\"#f0f921\"]]}],\"surface\":[{\"type\":\"surface\",\"colorbar\":{\"outlinewidth\":0,\"ticks\":\"\"},\"colorscale\":[[0.0,\"#0d0887\"],[0.1111111111111111,\"#46039f\"],[0.2222222222222222,\"#7201a8\"],[0.3333333333333333,\"#9c179e\"],[0.4444444444444444,\"#bd3786\"],[0.5555555555555556,\"#d8576b\"],[0.6666666666666666,\"#ed7953\"],[0.7777777777777778,\"#fb9f3a\"],[0.8888888888888888,\"#fdca26\"],[1.0,\"#f0f921\"]]}],\"mesh3d\":[{\"type\":\"mesh3d\",\"colorbar\":{\"outlinewidth\":0,\"ticks\":\"\"}}],\"scatter\":[{\"fillpattern\":{\"fillmode\":\"overlay\",\"size\":10,\"solidity\":0.2},\"type\":\"scatter\"}],\"parcoords\":[{\"type\":\"parcoords\",\"line\":{\"colorbar\":{\"outlinewidth\":0,\"ticks\":\"\"}}}],\"scatterpolargl\":[{\"type\":\"scatterpolargl\",\"marker\":{\"colorbar\":{\"outlinewidth\":0,\"ticks\":\"\"}}}],\"bar\":[{\"error_x\":{\"color\":\"#2a3f5f\"},\"error_y\":{\"color\":\"#2a3f5f\"},\"marker\":{\"line\":{\"color\":\"#E5ECF6\",\"width\":0.5},\"pattern\":{\"fillmode\":\"overlay\",\"size\":10,\"solidity\":0.2}},\"type\":\"bar\"}],\"scattergeo\":[{\"type\":\"scattergeo\",\"marker\":{\"colorbar\":{\"outlinewidth\":0,\"ticks\":\"\"}}}],\"scatterpolar\":[{\"type\":\"scatterpolar\",\"marker\":{\"colorbar\":{\"outlinewidth\":0,\"ticks\":\"\"}}}],\"histogram\":[{\"marker\":{\"pattern\":{\"fillmode\":\"overlay\",\"size\":10,\"solidity\":0.2}},\"type\":\"histogram\"}],\"scattergl\":[{\"type\":\"scattergl\",\"marker\":{\"colorbar\":{\"outlinewidth\":0,\"ticks\":\"\"}}}],\"scatter3d\":[{\"type\":\"scatter3d\",\"line\":{\"colorbar\":{\"outlinewidth\":0,\"ticks\":\"\"}},\"marker\":{\"colorbar\":{\"outlinewidth\":0,\"ticks\":\"\"}}}],\"scattermapbox\":[{\"type\":\"scattermapbox\",\"marker\":{\"colorbar\":{\"outlinewidth\":0,\"ticks\":\"\"}}}],\"scatterternary\":[{\"type\":\"scatterternary\",\"marker\":{\"colorbar\":{\"outlinewidth\":0,\"ticks\":\"\"}}}],\"scattercarpet\":[{\"type\":\"scattercarpet\",\"marker\":{\"colorbar\":{\"outlinewidth\":0,\"ticks\":\"\"}}}],\"carpet\":[{\"aaxis\":{\"endlinecolor\":\"#2a3f5f\",\"gridcolor\":\"white\",\"linecolor\":\"white\",\"minorgridcolor\":\"white\",\"startlinecolor\":\"#2a3f5f\"},\"baxis\":{\"endlinecolor\":\"#2a3f5f\",\"gridcolor\":\"white\",\"linecolor\":\"white\",\"minorgridcolor\":\"white\",\"startlinecolor\":\"#2a3f5f\"},\"type\":\"carpet\"}],\"table\":[{\"cells\":{\"fill\":{\"color\":\"#EBF0F8\"},\"line\":{\"color\":\"white\"}},\"header\":{\"fill\":{\"color\":\"#C8D4E3\"},\"line\":{\"color\":\"white\"}},\"type\":\"table\"}],\"barpolar\":[{\"marker\":{\"line\":{\"color\":\"#E5ECF6\",\"width\":0.5},\"pattern\":{\"fillmode\":\"overlay\",\"size\":10,\"solidity\":0.2}},\"type\":\"barpolar\"}],\"pie\":[{\"automargin\":true,\"type\":\"pie\"}]},\"layout\":{\"autotypenumbers\":\"strict\",\"colorway\":[\"#636efa\",\"#EF553B\",\"#00cc96\",\"#ab63fa\",\"#FFA15A\",\"#19d3f3\",\"#FF6692\",\"#B6E880\",\"#FF97FF\",\"#FECB52\"],\"font\":{\"color\":\"#2a3f5f\"},\"hovermode\":\"closest\",\"hoverlabel\":{\"align\":\"left\"},\"paper_bgcolor\":\"white\",\"plot_bgcolor\":\"#E5ECF6\",\"polar\":{\"bgcolor\":\"#E5ECF6\",\"angularaxis\":{\"gridcolor\":\"white\",\"linecolor\":\"white\",\"ticks\":\"\"},\"radialaxis\":{\"gridcolor\":\"white\",\"linecolor\":\"white\",\"ticks\":\"\"}},\"ternary\":{\"bgcolor\":\"#E5ECF6\",\"aaxis\":{\"gridcolor\":\"white\",\"linecolor\":\"white\",\"ticks\":\"\"},\"baxis\":{\"gridcolor\":\"white\",\"linecolor\":\"white\",\"ticks\":\"\"},\"caxis\":{\"gridcolor\":\"white\",\"linecolor\":\"white\",\"ticks\":\"\"}},\"coloraxis\":{\"colorbar\":{\"outlinewidth\":0,\"ticks\":\"\"}},\"colorscale\":{\"sequential\":[[0.0,\"#0d0887\"],[0.1111111111111111,\"#46039f\"],[0.2222222222222222,\"#7201a8\"],[0.3333333333333333,\"#9c179e\"],[0.4444444444444444,\"#bd3786\"],[0.5555555555555556,\"#d8576b\"],[0.6666666666666666,\"#ed7953\"],[0.7777777777777778,\"#fb9f3a\"],[0.8888888888888888,\"#fdca26\"],[1.0,\"#f0f921\"]],\"sequentialminus\":[[0.0,\"#0d0887\"],[0.1111111111111111,\"#46039f\"],[0.2222222222222222,\"#7201a8\"],[0.3333333333333333,\"#9c179e\"],[0.4444444444444444,\"#bd3786\"],[0.5555555555555556,\"#d8576b\"],[0.6666666666666666,\"#ed7953\"],[0.7777777777777778,\"#fb9f3a\"],[0.8888888888888888,\"#fdca26\"],[1.0,\"#f0f921\"]],\"diverging\":[[0,\"#8e0152\"],[0.1,\"#c51b7d\"],[0.2,\"#de77ae\"],[0.3,\"#f1b6da\"],[0.4,\"#fde0ef\"],[0.5,\"#f7f7f7\"],[0.6,\"#e6f5d0\"],[0.7,\"#b8e186\"],[0.8,\"#7fbc41\"],[0.9,\"#4d9221\"],[1,\"#276419\"]]},\"xaxis\":{\"gridcolor\":\"white\",\"linecolor\":\"white\",\"ticks\":\"\",\"title\":{\"standoff\":15},\"zerolinecolor\":\"white\",\"automargin\":true,\"zerolinewidth\":2},\"yaxis\":{\"gridcolor\":\"white\",\"linecolor\":\"white\",\"ticks\":\"\",\"title\":{\"standoff\":15},\"zerolinecolor\":\"white\",\"automargin\":true,\"zerolinewidth\":2},\"scene\":{\"xaxis\":{\"backgroundcolor\":\"#E5ECF6\",\"gridcolor\":\"white\",\"linecolor\":\"white\",\"showbackground\":true,\"ticks\":\"\",\"zerolinecolor\":\"white\",\"gridwidth\":2},\"yaxis\":{\"backgroundcolor\":\"#E5ECF6\",\"gridcolor\":\"white\",\"linecolor\":\"white\",\"showbackground\":true,\"ticks\":\"\",\"zerolinecolor\":\"white\",\"gridwidth\":2},\"zaxis\":{\"backgroundcolor\":\"#E5ECF6\",\"gridcolor\":\"white\",\"linecolor\":\"white\",\"showbackground\":true,\"ticks\":\"\",\"zerolinecolor\":\"white\",\"gridwidth\":2}},\"shapedefaults\":{\"line\":{\"color\":\"#2a3f5f\"}},\"annotationdefaults\":{\"arrowcolor\":\"#2a3f5f\",\"arrowhead\":0,\"arrowwidth\":1},\"geo\":{\"bgcolor\":\"white\",\"landcolor\":\"#E5ECF6\",\"subunitcolor\":\"white\",\"showland\":true,\"showlakes\":true,\"lakecolor\":\"white\"},\"title\":{\"x\":0.05},\"mapbox\":{\"style\":\"light\"}}},\"xaxis\":{\"anchor\":\"y\",\"domain\":[0.0,1.0],\"title\":{\"text\":\"x\"},\"type\":\"log\"},\"yaxis\":{\"anchor\":\"x\",\"domain\":[0.0,1.0],\"title\":{\"text\":\"y\"},\"type\":\"log\"},\"legend\":{\"title\":{\"text\":\"name\"},\"tracegroupgap\":0},\"title\":{\"text\":\"extra time per point: 1e-05\"}},                        {\"responsive\": true}                    ).then(function(){\n",
       "                            \n",
       "var gd = document.getElementById('a9a2d1d0-31f7-4e06-8a3e-47e5b3938bb3');\n",
       "var x = new MutationObserver(function (mutations, observer) {{\n",
       "        var display = window.getComputedStyle(gd).display;\n",
       "        if (!display || display === 'none') {{\n",
       "            console.log([gd, 'removed!']);\n",
       "            Plotly.purge(gd);\n",
       "            observer.disconnect();\n",
       "        }}\n",
       "}});\n",
       "\n",
       "// Listen for the removal of the full notebook cells\n",
       "var notebookContainer = gd.closest('#notebook-container');\n",
       "if (notebookContainer) {{\n",
       "    x.observe(notebookContainer, {childList: true});\n",
       "}}\n",
       "\n",
       "// Listen for the clearing of the current output cell\n",
       "var outputEl = gd.closest('.output');\n",
       "if (outputEl) {{\n",
       "    x.observe(outputEl, {childList: true});\n",
       "}}\n",
       "\n",
       "                        })                };                });            </script>        </div>"
      ]
     },
     "metadata": {},
     "output_type": "display_data"
    },
    {
     "data": {
      "application/vnd.plotly.v1+json": {
       "config": {
        "plotlyServerURL": "https://plot.ly"
       },
       "data": [
        {
         "hovertemplate": "name=f_py_append<br>x=%{x}<br>y=%{y}<extra></extra>",
         "legendgroup": "f_py_append",
         "line": {
          "color": "#636efa",
          "dash": "solid"
         },
         "marker": {
          "symbol": "circle"
         },
         "mode": "lines+markers",
         "name": "f_py_append",
         "orientation": "v",
         "showlegend": true,
         "type": "scatter",
         "x": [
          100,
          200,
          500,
          1000,
          2000,
          3000,
          5000,
          10000,
          20000,
          50000,
          100000,
          200000,
          500000,
          1000000
         ],
         "xaxis": "x",
         "y": [
          1.1105424002162181E-4,
          1.222680599836167E-4,
          1.558402800379554E-4,
          2.1445672003901563E-4,
          3.184186800150201E-4,
          4.134432800288778E-4,
          6.128094599785983E-4,
          0.0011366538199741626,
          0.002129931799988844,
          0.00535842085997283,
          0.012047187800033134,
          0.022652211840011295,
          0.06052144920000283,
          0.1250694217999786
         ],
         "yaxis": "y"
        },
        {
         "hovertemplate": "name=f_py<br>x=%{x}<br>y=%{y}<extra></extra>",
         "legendgroup": "f_py",
         "line": {
          "color": "#EF553B",
          "dash": "solid"
         },
         "marker": {
          "symbol": "circle"
         },
         "mode": "lines+markers",
         "name": "f_py",
         "orientation": "v",
         "showlegend": true,
         "type": "scatter",
         "x": [
          100,
          200,
          500,
          1000,
          2000,
          3000,
          5000,
          10000,
          20000,
          50000,
          100000,
          200000,
          500000,
          1000000
         ],
         "xaxis": "x",
         "y": [
          1.0960778001172003E-4,
          1.2649027999723332E-4,
          1.5316449998645113E-4,
          2.0775399998237845E-4,
          3.232832200388657E-4,
          4.2585774002654945E-4,
          6.386856399854878E-4,
          0.001167559400034952,
          0.002259571680022054,
          0.005654858339964994,
          0.01116836202001432,
          0.02208681931993633,
          0.05537794153997093,
          0.11052412301998411
         ],
         "yaxis": "y"
        },
        {
         "hovertemplate": "name=f_py_listcompr<br>x=%{x}<br>y=%{y}<extra></extra>",
         "legendgroup": "f_py_listcompr",
         "line": {
          "color": "#00cc96",
          "dash": "solid"
         },
         "marker": {
          "symbol": "circle"
         },
         "mode": "lines+markers",
         "name": "f_py_listcompr",
         "orientation": "v",
         "showlegend": true,
         "type": "scatter",
         "x": [
          100,
          200,
          500,
          1000,
          2000,
          3000,
          5000,
          10000,
          20000,
          50000,
          100000,
          200000,
          500000,
          1000000
         ],
         "xaxis": "x",
         "y": [
          1.0662758000544273E-4,
          1.1355243999569212E-4,
          1.3522539998812137E-4,
          1.6623127999773716E-4,
          2.2948023999342694E-4,
          2.947969200409716E-4,
          4.314594000403304E-4,
          6.819545400299831E-4,
          0.002194960219983477,
          0.0032466580599953884,
          0.007373869560012827,
          0.014215141500005846,
          0.04294195428001112,
          0.08286965381999617
         ],
         "yaxis": "y"
        },
        {
         "hovertemplate": "name=f_numpy<br>x=%{x}<br>y=%{y}<extra></extra>",
         "legendgroup": "f_numpy",
         "line": {
          "color": "#ab63fa",
          "dash": "solid"
         },
         "marker": {
          "symbol": "circle"
         },
         "mode": "lines+markers",
         "name": "f_numpy",
         "orientation": "v",
         "showlegend": true,
         "type": "scatter",
         "x": [
          100,
          200,
          500,
          1000,
          2000,
          3000,
          5000,
          10000,
          20000,
          50000,
          100000,
          200000,
          500000,
          1000000
         ],
         "xaxis": "x",
         "y": [
          1.0164311997650657E-4,
          1.0183743999514264E-4,
          1.0192374005564489E-4,
          1.0223139999434352E-4,
          1.0260841996350792E-4,
          1.0302544001897332E-4,
          2.305749399762135E-4,
          1.0557358005607967E-4,
          1.1490866001404357E-4,
          1.2638557998579926E-4,
          1.4938462006975896E-4,
          2.0397361998911949E-4,
          3.6664154000172857E-4,
          0.0020449383999744893
         ],
         "yaxis": "y"
        },
        {
         "hovertemplate": "name=f_numba<br>x=%{x}<br>y=%{y}<extra></extra>",
         "legendgroup": "f_numba",
         "line": {
          "color": "#FFA15A",
          "dash": "solid"
         },
         "marker": {
          "symbol": "circle"
         },
         "mode": "lines+markers",
         "name": "f_numba",
         "orientation": "v",
         "showlegend": true,
         "type": "scatter",
         "x": [
          100,
          200,
          500,
          1000,
          2000,
          3000,
          5000,
          10000,
          20000,
          50000,
          100000,
          200000,
          500000,
          1000000
         ],
         "xaxis": "x",
         "y": [
          1.0136145994474647E-4,
          1.0136262002342847E-4,
          1.0141569995321334E-4,
          1.0155845998961013E-4,
          1.0205536001885775E-4,
          1.0231392004934606E-4,
          1.026647200138541E-4,
          1.0442060001660139E-4,
          1.0976620001893026E-4,
          1.2483938005752862E-4,
          1.4818974004592747E-4,
          2.0166603999095968E-4,
          3.5188749998051207E-4,
          8.616340799722821E-4
         ],
         "yaxis": "y"
        },
        {
         "hovertemplate": "name=f_numba_parall<br>x=%{x}<br>y=%{y}<extra></extra>",
         "legendgroup": "f_numba_parall",
         "line": {
          "color": "#19d3f3",
          "dash": "solid"
         },
         "marker": {
          "symbol": "circle"
         },
         "mode": "lines+markers",
         "name": "f_numba_parall",
         "orientation": "v",
         "showlegend": true,
         "type": "scatter",
         "x": [
          100,
          200,
          500,
          1000,
          2000,
          3000,
          5000,
          10000,
          20000,
          50000,
          100000,
          200000,
          500000,
          1000000
         ],
         "xaxis": "x",
         "y": [
          2.4341123998747208E-4,
          2.2038291999488136E-4,
          2.2840456001868006E-4,
          2.2423370004398747E-4,
          2.1593923998589163E-4,
          1.981969400163507E-4,
          2.2067547999322413E-4,
          2.0838745998626109E-4,
          2.084682799410075E-4,
          2.1986293997324537E-4,
          2.1460194000392222E-4,
          2.2874847998318728E-4,
          2.832795199879911E-4,
          8.101359799708007E-4
         ],
         "yaxis": "y"
        },
        {
         "hovertemplate": "name=f_numexpr<br>x=%{x}<br>y=%{y}<extra></extra>",
         "legendgroup": "f_numexpr",
         "line": {
          "color": "#FF6692",
          "dash": "solid"
         },
         "marker": {
          "symbol": "circle"
         },
         "mode": "lines+markers",
         "name": "f_numexpr",
         "orientation": "v",
         "showlegend": true,
         "type": "scatter",
         "x": [
          100,
          200,
          500,
          1000,
          2000,
          3000,
          5000,
          10000,
          20000,
          50000,
          100000,
          200000,
          500000,
          1000000
         ],
         "xaxis": "x",
         "y": [
          1.1513046001491603E-4,
          1.1363718001812231E-4,
          1.1401659996190575E-4,
          1.2054320000752342E-4,
          1.1572396002302412E-4,
          2.029671799915377E-4,
          2.3501608002115973E-4,
          2.0594274004688486E-4,
          2.074633600364905E-4,
          2.3115895999362694E-4,
          2.6727730006095954E-4,
          4.488489399751415E-4,
          9.611145599570591E-4,
          0.0018022791199997302
         ],
         "yaxis": "y"
        }
       ],
       "layout": {
        "legend": {
         "title": {
          "text": "name"
         },
         "tracegroupgap": 0
        },
        "template": {
         "data": {
          "bar": [
           {
            "error_x": {
             "color": "#2a3f5f"
            },
            "error_y": {
             "color": "#2a3f5f"
            },
            "marker": {
             "line": {
              "color": "#E5ECF6",
              "width": 0.5
             },
             "pattern": {
              "fillmode": "overlay",
              "size": 10,
              "solidity": 0.2
             }
            },
            "type": "bar"
           }
          ],
          "barpolar": [
           {
            "marker": {
             "line": {
              "color": "#E5ECF6",
              "width": 0.5
             },
             "pattern": {
              "fillmode": "overlay",
              "size": 10,
              "solidity": 0.2
             }
            },
            "type": "barpolar"
           }
          ],
          "carpet": [
           {
            "aaxis": {
             "endlinecolor": "#2a3f5f",
             "gridcolor": "white",
             "linecolor": "white",
             "minorgridcolor": "white",
             "startlinecolor": "#2a3f5f"
            },
            "baxis": {
             "endlinecolor": "#2a3f5f",
             "gridcolor": "white",
             "linecolor": "white",
             "minorgridcolor": "white",
             "startlinecolor": "#2a3f5f"
            },
            "type": "carpet"
           }
          ],
          "choropleth": [
           {
            "colorbar": {
             "outlinewidth": 0,
             "ticks": ""
            },
            "type": "choropleth"
           }
          ],
          "contour": [
           {
            "colorbar": {
             "outlinewidth": 0,
             "ticks": ""
            },
            "colorscale": [
             [
              0,
              "#0d0887"
             ],
             [
              0.1111111111111111,
              "#46039f"
             ],
             [
              0.2222222222222222,
              "#7201a8"
             ],
             [
              0.3333333333333333,
              "#9c179e"
             ],
             [
              0.4444444444444444,
              "#bd3786"
             ],
             [
              0.5555555555555556,
              "#d8576b"
             ],
             [
              0.6666666666666666,
              "#ed7953"
             ],
             [
              0.7777777777777778,
              "#fb9f3a"
             ],
             [
              0.8888888888888888,
              "#fdca26"
             ],
             [
              1,
              "#f0f921"
             ]
            ],
            "type": "contour"
           }
          ],
          "contourcarpet": [
           {
            "colorbar": {
             "outlinewidth": 0,
             "ticks": ""
            },
            "type": "contourcarpet"
           }
          ],
          "heatmap": [
           {
            "colorbar": {
             "outlinewidth": 0,
             "ticks": ""
            },
            "colorscale": [
             [
              0,
              "#0d0887"
             ],
             [
              0.1111111111111111,
              "#46039f"
             ],
             [
              0.2222222222222222,
              "#7201a8"
             ],
             [
              0.3333333333333333,
              "#9c179e"
             ],
             [
              0.4444444444444444,
              "#bd3786"
             ],
             [
              0.5555555555555556,
              "#d8576b"
             ],
             [
              0.6666666666666666,
              "#ed7953"
             ],
             [
              0.7777777777777778,
              "#fb9f3a"
             ],
             [
              0.8888888888888888,
              "#fdca26"
             ],
             [
              1,
              "#f0f921"
             ]
            ],
            "type": "heatmap"
           }
          ],
          "heatmapgl": [
           {
            "colorbar": {
             "outlinewidth": 0,
             "ticks": ""
            },
            "colorscale": [
             [
              0,
              "#0d0887"
             ],
             [
              0.1111111111111111,
              "#46039f"
             ],
             [
              0.2222222222222222,
              "#7201a8"
             ],
             [
              0.3333333333333333,
              "#9c179e"
             ],
             [
              0.4444444444444444,
              "#bd3786"
             ],
             [
              0.5555555555555556,
              "#d8576b"
             ],
             [
              0.6666666666666666,
              "#ed7953"
             ],
             [
              0.7777777777777778,
              "#fb9f3a"
             ],
             [
              0.8888888888888888,
              "#fdca26"
             ],
             [
              1,
              "#f0f921"
             ]
            ],
            "type": "heatmapgl"
           }
          ],
          "histogram": [
           {
            "marker": {
             "pattern": {
              "fillmode": "overlay",
              "size": 10,
              "solidity": 0.2
             }
            },
            "type": "histogram"
           }
          ],
          "histogram2d": [
           {
            "colorbar": {
             "outlinewidth": 0,
             "ticks": ""
            },
            "colorscale": [
             [
              0,
              "#0d0887"
             ],
             [
              0.1111111111111111,
              "#46039f"
             ],
             [
              0.2222222222222222,
              "#7201a8"
             ],
             [
              0.3333333333333333,
              "#9c179e"
             ],
             [
              0.4444444444444444,
              "#bd3786"
             ],
             [
              0.5555555555555556,
              "#d8576b"
             ],
             [
              0.6666666666666666,
              "#ed7953"
             ],
             [
              0.7777777777777778,
              "#fb9f3a"
             ],
             [
              0.8888888888888888,
              "#fdca26"
             ],
             [
              1,
              "#f0f921"
             ]
            ],
            "type": "histogram2d"
           }
          ],
          "histogram2dcontour": [
           {
            "colorbar": {
             "outlinewidth": 0,
             "ticks": ""
            },
            "colorscale": [
             [
              0,
              "#0d0887"
             ],
             [
              0.1111111111111111,
              "#46039f"
             ],
             [
              0.2222222222222222,
              "#7201a8"
             ],
             [
              0.3333333333333333,
              "#9c179e"
             ],
             [
              0.4444444444444444,
              "#bd3786"
             ],
             [
              0.5555555555555556,
              "#d8576b"
             ],
             [
              0.6666666666666666,
              "#ed7953"
             ],
             [
              0.7777777777777778,
              "#fb9f3a"
             ],
             [
              0.8888888888888888,
              "#fdca26"
             ],
             [
              1,
              "#f0f921"
             ]
            ],
            "type": "histogram2dcontour"
           }
          ],
          "mesh3d": [
           {
            "colorbar": {
             "outlinewidth": 0,
             "ticks": ""
            },
            "type": "mesh3d"
           }
          ],
          "parcoords": [
           {
            "line": {
             "colorbar": {
              "outlinewidth": 0,
              "ticks": ""
             }
            },
            "type": "parcoords"
           }
          ],
          "pie": [
           {
            "automargin": true,
            "type": "pie"
           }
          ],
          "scatter": [
           {
            "fillpattern": {
             "fillmode": "overlay",
             "size": 10,
             "solidity": 0.2
            },
            "type": "scatter"
           }
          ],
          "scatter3d": [
           {
            "line": {
             "colorbar": {
              "outlinewidth": 0,
              "ticks": ""
             }
            },
            "marker": {
             "colorbar": {
              "outlinewidth": 0,
              "ticks": ""
             }
            },
            "type": "scatter3d"
           }
          ],
          "scattercarpet": [
           {
            "marker": {
             "colorbar": {
              "outlinewidth": 0,
              "ticks": ""
             }
            },
            "type": "scattercarpet"
           }
          ],
          "scattergeo": [
           {
            "marker": {
             "colorbar": {
              "outlinewidth": 0,
              "ticks": ""
             }
            },
            "type": "scattergeo"
           }
          ],
          "scattergl": [
           {
            "marker": {
             "colorbar": {
              "outlinewidth": 0,
              "ticks": ""
             }
            },
            "type": "scattergl"
           }
          ],
          "scattermapbox": [
           {
            "marker": {
             "colorbar": {
              "outlinewidth": 0,
              "ticks": ""
             }
            },
            "type": "scattermapbox"
           }
          ],
          "scatterpolar": [
           {
            "marker": {
             "colorbar": {
              "outlinewidth": 0,
              "ticks": ""
             }
            },
            "type": "scatterpolar"
           }
          ],
          "scatterpolargl": [
           {
            "marker": {
             "colorbar": {
              "outlinewidth": 0,
              "ticks": ""
             }
            },
            "type": "scatterpolargl"
           }
          ],
          "scatterternary": [
           {
            "marker": {
             "colorbar": {
              "outlinewidth": 0,
              "ticks": ""
             }
            },
            "type": "scatterternary"
           }
          ],
          "surface": [
           {
            "colorbar": {
             "outlinewidth": 0,
             "ticks": ""
            },
            "colorscale": [
             [
              0,
              "#0d0887"
             ],
             [
              0.1111111111111111,
              "#46039f"
             ],
             [
              0.2222222222222222,
              "#7201a8"
             ],
             [
              0.3333333333333333,
              "#9c179e"
             ],
             [
              0.4444444444444444,
              "#bd3786"
             ],
             [
              0.5555555555555556,
              "#d8576b"
             ],
             [
              0.6666666666666666,
              "#ed7953"
             ],
             [
              0.7777777777777778,
              "#fb9f3a"
             ],
             [
              0.8888888888888888,
              "#fdca26"
             ],
             [
              1,
              "#f0f921"
             ]
            ],
            "type": "surface"
           }
          ],
          "table": [
           {
            "cells": {
             "fill": {
              "color": "#EBF0F8"
             },
             "line": {
              "color": "white"
             }
            },
            "header": {
             "fill": {
              "color": "#C8D4E3"
             },
             "line": {
              "color": "white"
             }
            },
            "type": "table"
           }
          ]
         },
         "layout": {
          "annotationdefaults": {
           "arrowcolor": "#2a3f5f",
           "arrowhead": 0,
           "arrowwidth": 1
          },
          "autotypenumbers": "strict",
          "coloraxis": {
           "colorbar": {
            "outlinewidth": 0,
            "ticks": ""
           }
          },
          "colorscale": {
           "diverging": [
            [
             0,
             "#8e0152"
            ],
            [
             0.1,
             "#c51b7d"
            ],
            [
             0.2,
             "#de77ae"
            ],
            [
             0.3,
             "#f1b6da"
            ],
            [
             0.4,
             "#fde0ef"
            ],
            [
             0.5,
             "#f7f7f7"
            ],
            [
             0.6,
             "#e6f5d0"
            ],
            [
             0.7,
             "#b8e186"
            ],
            [
             0.8,
             "#7fbc41"
            ],
            [
             0.9,
             "#4d9221"
            ],
            [
             1,
             "#276419"
            ]
           ],
           "sequential": [
            [
             0,
             "#0d0887"
            ],
            [
             0.1111111111111111,
             "#46039f"
            ],
            [
             0.2222222222222222,
             "#7201a8"
            ],
            [
             0.3333333333333333,
             "#9c179e"
            ],
            [
             0.4444444444444444,
             "#bd3786"
            ],
            [
             0.5555555555555556,
             "#d8576b"
            ],
            [
             0.6666666666666666,
             "#ed7953"
            ],
            [
             0.7777777777777778,
             "#fb9f3a"
            ],
            [
             0.8888888888888888,
             "#fdca26"
            ],
            [
             1,
             "#f0f921"
            ]
           ],
           "sequentialminus": [
            [
             0,
             "#0d0887"
            ],
            [
             0.1111111111111111,
             "#46039f"
            ],
            [
             0.2222222222222222,
             "#7201a8"
            ],
            [
             0.3333333333333333,
             "#9c179e"
            ],
            [
             0.4444444444444444,
             "#bd3786"
            ],
            [
             0.5555555555555556,
             "#d8576b"
            ],
            [
             0.6666666666666666,
             "#ed7953"
            ],
            [
             0.7777777777777778,
             "#fb9f3a"
            ],
            [
             0.8888888888888888,
             "#fdca26"
            ],
            [
             1,
             "#f0f921"
            ]
           ]
          },
          "colorway": [
           "#636efa",
           "#EF553B",
           "#00cc96",
           "#ab63fa",
           "#FFA15A",
           "#19d3f3",
           "#FF6692",
           "#B6E880",
           "#FF97FF",
           "#FECB52"
          ],
          "font": {
           "color": "#2a3f5f"
          },
          "geo": {
           "bgcolor": "white",
           "lakecolor": "white",
           "landcolor": "#E5ECF6",
           "showlakes": true,
           "showland": true,
           "subunitcolor": "white"
          },
          "hoverlabel": {
           "align": "left"
          },
          "hovermode": "closest",
          "mapbox": {
           "style": "light"
          },
          "paper_bgcolor": "white",
          "plot_bgcolor": "#E5ECF6",
          "polar": {
           "angularaxis": {
            "gridcolor": "white",
            "linecolor": "white",
            "ticks": ""
           },
           "bgcolor": "#E5ECF6",
           "radialaxis": {
            "gridcolor": "white",
            "linecolor": "white",
            "ticks": ""
           }
          },
          "scene": {
           "xaxis": {
            "backgroundcolor": "#E5ECF6",
            "gridcolor": "white",
            "gridwidth": 2,
            "linecolor": "white",
            "showbackground": true,
            "ticks": "",
            "zerolinecolor": "white"
           },
           "yaxis": {
            "backgroundcolor": "#E5ECF6",
            "gridcolor": "white",
            "gridwidth": 2,
            "linecolor": "white",
            "showbackground": true,
            "ticks": "",
            "zerolinecolor": "white"
           },
           "zaxis": {
            "backgroundcolor": "#E5ECF6",
            "gridcolor": "white",
            "gridwidth": 2,
            "linecolor": "white",
            "showbackground": true,
            "ticks": "",
            "zerolinecolor": "white"
           }
          },
          "shapedefaults": {
           "line": {
            "color": "#2a3f5f"
           }
          },
          "ternary": {
           "aaxis": {
            "gridcolor": "white",
            "linecolor": "white",
            "ticks": ""
           },
           "baxis": {
            "gridcolor": "white",
            "linecolor": "white",
            "ticks": ""
           },
           "bgcolor": "#E5ECF6",
           "caxis": {
            "gridcolor": "white",
            "linecolor": "white",
            "ticks": ""
           }
          },
          "title": {
           "x": 0.05
          },
          "xaxis": {
           "automargin": true,
           "gridcolor": "white",
           "linecolor": "white",
           "ticks": "",
           "title": {
            "standoff": 15
           },
           "zerolinecolor": "white",
           "zerolinewidth": 2
          },
          "yaxis": {
           "automargin": true,
           "gridcolor": "white",
           "linecolor": "white",
           "ticks": "",
           "title": {
            "standoff": 15
           },
           "zerolinecolor": "white",
           "zerolinewidth": 2
          }
         }
        },
        "title": {
         "text": "extra time per point: 0.0001"
        },
        "xaxis": {
         "anchor": "y",
         "domain": [
          0,
          1
         ],
         "title": {
          "text": "x"
         },
         "type": "log"
        },
        "yaxis": {
         "anchor": "x",
         "domain": [
          0,
          1
         ],
         "title": {
          "text": "y"
         },
         "type": "log"
        }
       }
      },
      "text/html": [
       "<div>                            <div id=\"8677942f-261c-4825-bc46-90d270fdad2a\" class=\"plotly-graph-div\" style=\"height:525px; width:100%;\"></div>            <script type=\"text/javascript\">                require([\"plotly\"], function(Plotly) {                    window.PLOTLYENV=window.PLOTLYENV || {};                                    if (document.getElementById(\"8677942f-261c-4825-bc46-90d270fdad2a\")) {                    Plotly.newPlot(                        \"8677942f-261c-4825-bc46-90d270fdad2a\",                        [{\"hovertemplate\":\"name=f_py_append<br>x=%{x}<br>y=%{y}<extra></extra>\",\"legendgroup\":\"f_py_append\",\"line\":{\"color\":\"#636efa\",\"dash\":\"solid\"},\"marker\":{\"symbol\":\"circle\"},\"mode\":\"lines+markers\",\"name\":\"f_py_append\",\"orientation\":\"v\",\"showlegend\":true,\"x\":[100,200,500,1000,2000,3000,5000,10000,20000,50000,100000,200000,500000,1000000],\"xaxis\":\"x\",\"y\":[0.00011105424002162181,0.0001222680599836167,0.0001558402800379554,0.00021445672003901563,0.0003184186800150201,0.0004134432800288778,0.0006128094599785983,0.0011366538199741626,0.002129931799988844,0.00535842085997283,0.012047187800033134,0.022652211840011295,0.06052144920000283,0.1250694217999786],\"yaxis\":\"y\",\"type\":\"scatter\"},{\"hovertemplate\":\"name=f_py<br>x=%{x}<br>y=%{y}<extra></extra>\",\"legendgroup\":\"f_py\",\"line\":{\"color\":\"#EF553B\",\"dash\":\"solid\"},\"marker\":{\"symbol\":\"circle\"},\"mode\":\"lines+markers\",\"name\":\"f_py\",\"orientation\":\"v\",\"showlegend\":true,\"x\":[100,200,500,1000,2000,3000,5000,10000,20000,50000,100000,200000,500000,1000000],\"xaxis\":\"x\",\"y\":[0.00010960778001172003,0.00012649027999723332,0.00015316449998645113,0.00020775399998237845,0.0003232832200388657,0.00042585774002654945,0.0006386856399854878,0.001167559400034952,0.002259571680022054,0.005654858339964994,0.01116836202001432,0.02208681931993633,0.05537794153997093,0.11052412301998411],\"yaxis\":\"y\",\"type\":\"scatter\"},{\"hovertemplate\":\"name=f_py_listcompr<br>x=%{x}<br>y=%{y}<extra></extra>\",\"legendgroup\":\"f_py_listcompr\",\"line\":{\"color\":\"#00cc96\",\"dash\":\"solid\"},\"marker\":{\"symbol\":\"circle\"},\"mode\":\"lines+markers\",\"name\":\"f_py_listcompr\",\"orientation\":\"v\",\"showlegend\":true,\"x\":[100,200,500,1000,2000,3000,5000,10000,20000,50000,100000,200000,500000,1000000],\"xaxis\":\"x\",\"y\":[0.00010662758000544273,0.00011355243999569212,0.00013522539998812137,0.00016623127999773716,0.00022948023999342694,0.0002947969200409716,0.0004314594000403304,0.0006819545400299831,0.002194960219983477,0.0032466580599953884,0.007373869560012827,0.014215141500005846,0.04294195428001112,0.08286965381999617],\"yaxis\":\"y\",\"type\":\"scatter\"},{\"hovertemplate\":\"name=f_numpy<br>x=%{x}<br>y=%{y}<extra></extra>\",\"legendgroup\":\"f_numpy\",\"line\":{\"color\":\"#ab63fa\",\"dash\":\"solid\"},\"marker\":{\"symbol\":\"circle\"},\"mode\":\"lines+markers\",\"name\":\"f_numpy\",\"orientation\":\"v\",\"showlegend\":true,\"x\":[100,200,500,1000,2000,3000,5000,10000,20000,50000,100000,200000,500000,1000000],\"xaxis\":\"x\",\"y\":[0.00010164311997650657,0.00010183743999514264,0.00010192374005564489,0.00010223139999434352,0.00010260841996350792,0.00010302544001897332,0.0002305749399762135,0.00010557358005607967,0.00011490866001404357,0.00012638557998579926,0.00014938462006975896,0.00020397361998911949,0.00036664154000172857,0.0020449383999744893],\"yaxis\":\"y\",\"type\":\"scatter\"},{\"hovertemplate\":\"name=f_numba<br>x=%{x}<br>y=%{y}<extra></extra>\",\"legendgroup\":\"f_numba\",\"line\":{\"color\":\"#FFA15A\",\"dash\":\"solid\"},\"marker\":{\"symbol\":\"circle\"},\"mode\":\"lines+markers\",\"name\":\"f_numba\",\"orientation\":\"v\",\"showlegend\":true,\"x\":[100,200,500,1000,2000,3000,5000,10000,20000,50000,100000,200000,500000,1000000],\"xaxis\":\"x\",\"y\":[0.00010136145994474647,0.00010136262002342847,0.00010141569995321334,0.00010155845998961013,0.00010205536001885775,0.00010231392004934606,0.0001026647200138541,0.00010442060001660139,0.00010976620001893026,0.00012483938005752862,0.00014818974004592747,0.00020166603999095968,0.00035188749998051207,0.0008616340799722821],\"yaxis\":\"y\",\"type\":\"scatter\"},{\"hovertemplate\":\"name=f_numba_parall<br>x=%{x}<br>y=%{y}<extra></extra>\",\"legendgroup\":\"f_numba_parall\",\"line\":{\"color\":\"#19d3f3\",\"dash\":\"solid\"},\"marker\":{\"symbol\":\"circle\"},\"mode\":\"lines+markers\",\"name\":\"f_numba_parall\",\"orientation\":\"v\",\"showlegend\":true,\"x\":[100,200,500,1000,2000,3000,5000,10000,20000,50000,100000,200000,500000,1000000],\"xaxis\":\"x\",\"y\":[0.00024341123998747208,0.00022038291999488136,0.00022840456001868006,0.00022423370004398747,0.00021593923998589163,0.0001981969400163507,0.00022067547999322413,0.00020838745998626109,0.0002084682799410075,0.00021986293997324537,0.00021460194000392222,0.00022874847998318728,0.0002832795199879911,0.0008101359799708007],\"yaxis\":\"y\",\"type\":\"scatter\"},{\"hovertemplate\":\"name=f_numexpr<br>x=%{x}<br>y=%{y}<extra></extra>\",\"legendgroup\":\"f_numexpr\",\"line\":{\"color\":\"#FF6692\",\"dash\":\"solid\"},\"marker\":{\"symbol\":\"circle\"},\"mode\":\"lines+markers\",\"name\":\"f_numexpr\",\"orientation\":\"v\",\"showlegend\":true,\"x\":[100,200,500,1000,2000,3000,5000,10000,20000,50000,100000,200000,500000,1000000],\"xaxis\":\"x\",\"y\":[0.00011513046001491603,0.00011363718001812231,0.00011401659996190575,0.00012054320000752342,0.00011572396002302412,0.0002029671799915377,0.00023501608002115973,0.00020594274004688486,0.0002074633600364905,0.00023115895999362694,0.00026727730006095954,0.0004488489399751415,0.0009611145599570591,0.0018022791199997302],\"yaxis\":\"y\",\"type\":\"scatter\"}],                        {\"template\":{\"data\":{\"histogram2dcontour\":[{\"type\":\"histogram2dcontour\",\"colorbar\":{\"outlinewidth\":0,\"ticks\":\"\"},\"colorscale\":[[0.0,\"#0d0887\"],[0.1111111111111111,\"#46039f\"],[0.2222222222222222,\"#7201a8\"],[0.3333333333333333,\"#9c179e\"],[0.4444444444444444,\"#bd3786\"],[0.5555555555555556,\"#d8576b\"],[0.6666666666666666,\"#ed7953\"],[0.7777777777777778,\"#fb9f3a\"],[0.8888888888888888,\"#fdca26\"],[1.0,\"#f0f921\"]]}],\"choropleth\":[{\"type\":\"choropleth\",\"colorbar\":{\"outlinewidth\":0,\"ticks\":\"\"}}],\"histogram2d\":[{\"type\":\"histogram2d\",\"colorbar\":{\"outlinewidth\":0,\"ticks\":\"\"},\"colorscale\":[[0.0,\"#0d0887\"],[0.1111111111111111,\"#46039f\"],[0.2222222222222222,\"#7201a8\"],[0.3333333333333333,\"#9c179e\"],[0.4444444444444444,\"#bd3786\"],[0.5555555555555556,\"#d8576b\"],[0.6666666666666666,\"#ed7953\"],[0.7777777777777778,\"#fb9f3a\"],[0.8888888888888888,\"#fdca26\"],[1.0,\"#f0f921\"]]}],\"heatmap\":[{\"type\":\"heatmap\",\"colorbar\":{\"outlinewidth\":0,\"ticks\":\"\"},\"colorscale\":[[0.0,\"#0d0887\"],[0.1111111111111111,\"#46039f\"],[0.2222222222222222,\"#7201a8\"],[0.3333333333333333,\"#9c179e\"],[0.4444444444444444,\"#bd3786\"],[0.5555555555555556,\"#d8576b\"],[0.6666666666666666,\"#ed7953\"],[0.7777777777777778,\"#fb9f3a\"],[0.8888888888888888,\"#fdca26\"],[1.0,\"#f0f921\"]]}],\"heatmapgl\":[{\"type\":\"heatmapgl\",\"colorbar\":{\"outlinewidth\":0,\"ticks\":\"\"},\"colorscale\":[[0.0,\"#0d0887\"],[0.1111111111111111,\"#46039f\"],[0.2222222222222222,\"#7201a8\"],[0.3333333333333333,\"#9c179e\"],[0.4444444444444444,\"#bd3786\"],[0.5555555555555556,\"#d8576b\"],[0.6666666666666666,\"#ed7953\"],[0.7777777777777778,\"#fb9f3a\"],[0.8888888888888888,\"#fdca26\"],[1.0,\"#f0f921\"]]}],\"contourcarpet\":[{\"type\":\"contourcarpet\",\"colorbar\":{\"outlinewidth\":0,\"ticks\":\"\"}}],\"contour\":[{\"type\":\"contour\",\"colorbar\":{\"outlinewidth\":0,\"ticks\":\"\"},\"colorscale\":[[0.0,\"#0d0887\"],[0.1111111111111111,\"#46039f\"],[0.2222222222222222,\"#7201a8\"],[0.3333333333333333,\"#9c179e\"],[0.4444444444444444,\"#bd3786\"],[0.5555555555555556,\"#d8576b\"],[0.6666666666666666,\"#ed7953\"],[0.7777777777777778,\"#fb9f3a\"],[0.8888888888888888,\"#fdca26\"],[1.0,\"#f0f921\"]]}],\"surface\":[{\"type\":\"surface\",\"colorbar\":{\"outlinewidth\":0,\"ticks\":\"\"},\"colorscale\":[[0.0,\"#0d0887\"],[0.1111111111111111,\"#46039f\"],[0.2222222222222222,\"#7201a8\"],[0.3333333333333333,\"#9c179e\"],[0.4444444444444444,\"#bd3786\"],[0.5555555555555556,\"#d8576b\"],[0.6666666666666666,\"#ed7953\"],[0.7777777777777778,\"#fb9f3a\"],[0.8888888888888888,\"#fdca26\"],[1.0,\"#f0f921\"]]}],\"mesh3d\":[{\"type\":\"mesh3d\",\"colorbar\":{\"outlinewidth\":0,\"ticks\":\"\"}}],\"scatter\":[{\"fillpattern\":{\"fillmode\":\"overlay\",\"size\":10,\"solidity\":0.2},\"type\":\"scatter\"}],\"parcoords\":[{\"type\":\"parcoords\",\"line\":{\"colorbar\":{\"outlinewidth\":0,\"ticks\":\"\"}}}],\"scatterpolargl\":[{\"type\":\"scatterpolargl\",\"marker\":{\"colorbar\":{\"outlinewidth\":0,\"ticks\":\"\"}}}],\"bar\":[{\"error_x\":{\"color\":\"#2a3f5f\"},\"error_y\":{\"color\":\"#2a3f5f\"},\"marker\":{\"line\":{\"color\":\"#E5ECF6\",\"width\":0.5},\"pattern\":{\"fillmode\":\"overlay\",\"size\":10,\"solidity\":0.2}},\"type\":\"bar\"}],\"scattergeo\":[{\"type\":\"scattergeo\",\"marker\":{\"colorbar\":{\"outlinewidth\":0,\"ticks\":\"\"}}}],\"scatterpolar\":[{\"type\":\"scatterpolar\",\"marker\":{\"colorbar\":{\"outlinewidth\":0,\"ticks\":\"\"}}}],\"histogram\":[{\"marker\":{\"pattern\":{\"fillmode\":\"overlay\",\"size\":10,\"solidity\":0.2}},\"type\":\"histogram\"}],\"scattergl\":[{\"type\":\"scattergl\",\"marker\":{\"colorbar\":{\"outlinewidth\":0,\"ticks\":\"\"}}}],\"scatter3d\":[{\"type\":\"scatter3d\",\"line\":{\"colorbar\":{\"outlinewidth\":0,\"ticks\":\"\"}},\"marker\":{\"colorbar\":{\"outlinewidth\":0,\"ticks\":\"\"}}}],\"scattermapbox\":[{\"type\":\"scattermapbox\",\"marker\":{\"colorbar\":{\"outlinewidth\":0,\"ticks\":\"\"}}}],\"scatterternary\":[{\"type\":\"scatterternary\",\"marker\":{\"colorbar\":{\"outlinewidth\":0,\"ticks\":\"\"}}}],\"scattercarpet\":[{\"type\":\"scattercarpet\",\"marker\":{\"colorbar\":{\"outlinewidth\":0,\"ticks\":\"\"}}}],\"carpet\":[{\"aaxis\":{\"endlinecolor\":\"#2a3f5f\",\"gridcolor\":\"white\",\"linecolor\":\"white\",\"minorgridcolor\":\"white\",\"startlinecolor\":\"#2a3f5f\"},\"baxis\":{\"endlinecolor\":\"#2a3f5f\",\"gridcolor\":\"white\",\"linecolor\":\"white\",\"minorgridcolor\":\"white\",\"startlinecolor\":\"#2a3f5f\"},\"type\":\"carpet\"}],\"table\":[{\"cells\":{\"fill\":{\"color\":\"#EBF0F8\"},\"line\":{\"color\":\"white\"}},\"header\":{\"fill\":{\"color\":\"#C8D4E3\"},\"line\":{\"color\":\"white\"}},\"type\":\"table\"}],\"barpolar\":[{\"marker\":{\"line\":{\"color\":\"#E5ECF6\",\"width\":0.5},\"pattern\":{\"fillmode\":\"overlay\",\"size\":10,\"solidity\":0.2}},\"type\":\"barpolar\"}],\"pie\":[{\"automargin\":true,\"type\":\"pie\"}]},\"layout\":{\"autotypenumbers\":\"strict\",\"colorway\":[\"#636efa\",\"#EF553B\",\"#00cc96\",\"#ab63fa\",\"#FFA15A\",\"#19d3f3\",\"#FF6692\",\"#B6E880\",\"#FF97FF\",\"#FECB52\"],\"font\":{\"color\":\"#2a3f5f\"},\"hovermode\":\"closest\",\"hoverlabel\":{\"align\":\"left\"},\"paper_bgcolor\":\"white\",\"plot_bgcolor\":\"#E5ECF6\",\"polar\":{\"bgcolor\":\"#E5ECF6\",\"angularaxis\":{\"gridcolor\":\"white\",\"linecolor\":\"white\",\"ticks\":\"\"},\"radialaxis\":{\"gridcolor\":\"white\",\"linecolor\":\"white\",\"ticks\":\"\"}},\"ternary\":{\"bgcolor\":\"#E5ECF6\",\"aaxis\":{\"gridcolor\":\"white\",\"linecolor\":\"white\",\"ticks\":\"\"},\"baxis\":{\"gridcolor\":\"white\",\"linecolor\":\"white\",\"ticks\":\"\"},\"caxis\":{\"gridcolor\":\"white\",\"linecolor\":\"white\",\"ticks\":\"\"}},\"coloraxis\":{\"colorbar\":{\"outlinewidth\":0,\"ticks\":\"\"}},\"colorscale\":{\"sequential\":[[0.0,\"#0d0887\"],[0.1111111111111111,\"#46039f\"],[0.2222222222222222,\"#7201a8\"],[0.3333333333333333,\"#9c179e\"],[0.4444444444444444,\"#bd3786\"],[0.5555555555555556,\"#d8576b\"],[0.6666666666666666,\"#ed7953\"],[0.7777777777777778,\"#fb9f3a\"],[0.8888888888888888,\"#fdca26\"],[1.0,\"#f0f921\"]],\"sequentialminus\":[[0.0,\"#0d0887\"],[0.1111111111111111,\"#46039f\"],[0.2222222222222222,\"#7201a8\"],[0.3333333333333333,\"#9c179e\"],[0.4444444444444444,\"#bd3786\"],[0.5555555555555556,\"#d8576b\"],[0.6666666666666666,\"#ed7953\"],[0.7777777777777778,\"#fb9f3a\"],[0.8888888888888888,\"#fdca26\"],[1.0,\"#f0f921\"]],\"diverging\":[[0,\"#8e0152\"],[0.1,\"#c51b7d\"],[0.2,\"#de77ae\"],[0.3,\"#f1b6da\"],[0.4,\"#fde0ef\"],[0.5,\"#f7f7f7\"],[0.6,\"#e6f5d0\"],[0.7,\"#b8e186\"],[0.8,\"#7fbc41\"],[0.9,\"#4d9221\"],[1,\"#276419\"]]},\"xaxis\":{\"gridcolor\":\"white\",\"linecolor\":\"white\",\"ticks\":\"\",\"title\":{\"standoff\":15},\"zerolinecolor\":\"white\",\"automargin\":true,\"zerolinewidth\":2},\"yaxis\":{\"gridcolor\":\"white\",\"linecolor\":\"white\",\"ticks\":\"\",\"title\":{\"standoff\":15},\"zerolinecolor\":\"white\",\"automargin\":true,\"zerolinewidth\":2},\"scene\":{\"xaxis\":{\"backgroundcolor\":\"#E5ECF6\",\"gridcolor\":\"white\",\"linecolor\":\"white\",\"showbackground\":true,\"ticks\":\"\",\"zerolinecolor\":\"white\",\"gridwidth\":2},\"yaxis\":{\"backgroundcolor\":\"#E5ECF6\",\"gridcolor\":\"white\",\"linecolor\":\"white\",\"showbackground\":true,\"ticks\":\"\",\"zerolinecolor\":\"white\",\"gridwidth\":2},\"zaxis\":{\"backgroundcolor\":\"#E5ECF6\",\"gridcolor\":\"white\",\"linecolor\":\"white\",\"showbackground\":true,\"ticks\":\"\",\"zerolinecolor\":\"white\",\"gridwidth\":2}},\"shapedefaults\":{\"line\":{\"color\":\"#2a3f5f\"}},\"annotationdefaults\":{\"arrowcolor\":\"#2a3f5f\",\"arrowhead\":0,\"arrowwidth\":1},\"geo\":{\"bgcolor\":\"white\",\"landcolor\":\"#E5ECF6\",\"subunitcolor\":\"white\",\"showland\":true,\"showlakes\":true,\"lakecolor\":\"white\"},\"title\":{\"x\":0.05},\"mapbox\":{\"style\":\"light\"}}},\"xaxis\":{\"anchor\":\"y\",\"domain\":[0.0,1.0],\"title\":{\"text\":\"x\"},\"type\":\"log\"},\"yaxis\":{\"anchor\":\"x\",\"domain\":[0.0,1.0],\"title\":{\"text\":\"y\"},\"type\":\"log\"},\"legend\":{\"title\":{\"text\":\"name\"},\"tracegroupgap\":0},\"title\":{\"text\":\"extra time per point: 0.0001\"}},                        {\"responsive\": true}                    ).then(function(){\n",
       "                            \n",
       "var gd = document.getElementById('8677942f-261c-4825-bc46-90d270fdad2a');\n",
       "var x = new MutationObserver(function (mutations, observer) {{\n",
       "        var display = window.getComputedStyle(gd).display;\n",
       "        if (!display || display === 'none') {{\n",
       "            console.log([gd, 'removed!']);\n",
       "            Plotly.purge(gd);\n",
       "            observer.disconnect();\n",
       "        }}\n",
       "}});\n",
       "\n",
       "// Listen for the removal of the full notebook cells\n",
       "var notebookContainer = gd.closest('#notebook-container');\n",
       "if (notebookContainer) {{\n",
       "    x.observe(notebookContainer, {childList: true});\n",
       "}}\n",
       "\n",
       "// Listen for the clearing of the current output cell\n",
       "var outputEl = gd.closest('.output');\n",
       "if (outputEl) {{\n",
       "    x.observe(outputEl, {childList: true});\n",
       "}}\n",
       "\n",
       "                        })                };                });            </script>        </div>"
      ]
     },
     "metadata": {},
     "output_type": "display_data"
    },
    {
     "data": {
      "application/vnd.plotly.v1+json": {
       "config": {
        "plotlyServerURL": "https://plot.ly"
       },
       "data": [
        {
         "hovertemplate": "name=f_py_append<br>x=%{x}<br>y=%{y}<extra></extra>",
         "legendgroup": "f_py_append",
         "line": {
          "color": "#636efa",
          "dash": "solid"
         },
         "marker": {
          "symbol": "circle"
         },
         "mode": "lines+markers",
         "name": "f_py_append",
         "orientation": "v",
         "showlegend": true,
         "type": "scatter",
         "x": [
          100,
          200,
          500,
          1000,
          2000,
          3000,
          5000,
          10000,
          20000,
          50000,
          100000,
          200000,
          500000,
          1000000
         ],
         "xaxis": "x",
         "y": [
          0.0010110542400216219,
          0.0010222680599836168,
          0.0010558402800379554,
          0.0011144567200390156,
          0.0012184186800150202,
          0.0013134432800288778,
          0.0015128094599785981,
          0.0020366538199741626,
          0.0030299317999888443,
          0.00625842085997283,
          0.012947187800033136,
          0.023552211840011297,
          0.06142144920000283,
          0.12596942179997858
         ],
         "yaxis": "y"
        },
        {
         "hovertemplate": "name=f_py<br>x=%{x}<br>y=%{y}<extra></extra>",
         "legendgroup": "f_py",
         "line": {
          "color": "#EF553B",
          "dash": "solid"
         },
         "marker": {
          "symbol": "circle"
         },
         "mode": "lines+markers",
         "name": "f_py",
         "orientation": "v",
         "showlegend": true,
         "type": "scatter",
         "x": [
          100,
          200,
          500,
          1000,
          2000,
          3000,
          5000,
          10000,
          20000,
          50000,
          100000,
          200000,
          500000,
          1000000
         ],
         "xaxis": "x",
         "y": [
          0.00100960778001172,
          0.0010264902799972334,
          0.0010531644999864512,
          0.0011077539999823785,
          0.0012232832200388657,
          0.0013258577400265495,
          0.001538685639985488,
          0.0020675594000349523,
          0.003159571680022054,
          0.006554858339964994,
          0.01206836202001432,
          0.022986819319936333,
          0.05627794153997093,
          0.11142412301998411
         ],
         "yaxis": "y"
        },
        {
         "hovertemplate": "name=f_py_listcompr<br>x=%{x}<br>y=%{y}<extra></extra>",
         "legendgroup": "f_py_listcompr",
         "line": {
          "color": "#00cc96",
          "dash": "solid"
         },
         "marker": {
          "symbol": "circle"
         },
         "mode": "lines+markers",
         "name": "f_py_listcompr",
         "orientation": "v",
         "showlegend": true,
         "type": "scatter",
         "x": [
          100,
          200,
          500,
          1000,
          2000,
          3000,
          5000,
          10000,
          20000,
          50000,
          100000,
          200000,
          500000,
          1000000
         ],
         "xaxis": "x",
         "y": [
          0.0010066275800054427,
          0.001013552439995692,
          0.0010352253999881215,
          0.0010662312799977372,
          0.001129480239993427,
          0.0011947969200409715,
          0.0013314594000403304,
          0.001581954540029983,
          0.003094960219983477,
          0.004146658059995388,
          0.008273869560012827,
          0.015115141500005848,
          0.04384195428001112,
          0.08376965381999617
         ],
         "yaxis": "y"
        },
        {
         "hovertemplate": "name=f_numpy<br>x=%{x}<br>y=%{y}<extra></extra>",
         "legendgroup": "f_numpy",
         "line": {
          "color": "#ab63fa",
          "dash": "solid"
         },
         "marker": {
          "symbol": "circle"
         },
         "mode": "lines+markers",
         "name": "f_numpy",
         "orientation": "v",
         "showlegend": true,
         "type": "scatter",
         "x": [
          100,
          200,
          500,
          1000,
          2000,
          3000,
          5000,
          10000,
          20000,
          50000,
          100000,
          200000,
          500000,
          1000000
         ],
         "xaxis": "x",
         "y": [
          0.0010016431199765066,
          0.0010018374399951427,
          0.0010019237400556449,
          0.0010022313999943435,
          0.0010026084199635079,
          0.0010030254400189734,
          0.0011305749399762135,
          0.0010055735800560796,
          0.0010149086600140435,
          0.0010263855799857993,
          0.001049384620069759,
          0.0011039736199891196,
          0.0012666415400017287,
          0.0029449383999744895
         ],
         "yaxis": "y"
        },
        {
         "hovertemplate": "name=f_numba<br>x=%{x}<br>y=%{y}<extra></extra>",
         "legendgroup": "f_numba",
         "line": {
          "color": "#FFA15A",
          "dash": "solid"
         },
         "marker": {
          "symbol": "circle"
         },
         "mode": "lines+markers",
         "name": "f_numba",
         "orientation": "v",
         "showlegend": true,
         "type": "scatter",
         "x": [
          100,
          200,
          500,
          1000,
          2000,
          3000,
          5000,
          10000,
          20000,
          50000,
          100000,
          200000,
          500000,
          1000000
         ],
         "xaxis": "x",
         "y": [
          0.0010013614599447464,
          0.0010013626200234284,
          0.0010014156999532133,
          0.0010015584599896103,
          0.0010020553600188578,
          0.001002313920049346,
          0.0010026647200138542,
          0.0010044206000166013,
          0.0010097662000189303,
          0.0010248393800575287,
          0.0010481897400459275,
          0.0011016660399909596,
          0.001251887499980512,
          0.001761634079972282
         ],
         "yaxis": "y"
        },
        {
         "hovertemplate": "name=f_numba_parall<br>x=%{x}<br>y=%{y}<extra></extra>",
         "legendgroup": "f_numba_parall",
         "line": {
          "color": "#19d3f3",
          "dash": "solid"
         },
         "marker": {
          "symbol": "circle"
         },
         "mode": "lines+markers",
         "name": "f_numba_parall",
         "orientation": "v",
         "showlegend": true,
         "type": "scatter",
         "x": [
          100,
          200,
          500,
          1000,
          2000,
          3000,
          5000,
          10000,
          20000,
          50000,
          100000,
          200000,
          500000,
          1000000
         ],
         "xaxis": "x",
         "y": [
          0.0011434112399874722,
          0.0011203829199948813,
          0.00112840456001868,
          0.0011242337000439875,
          0.0011159392399858917,
          0.0010981969400163506,
          0.0011206754799932242,
          0.001108387459986261,
          0.0011084682799410075,
          0.0011198629399732454,
          0.0011146019400039221,
          0.0011287484799831873,
          0.0011832795199879912,
          0.0017101359799708007
         ],
         "yaxis": "y"
        },
        {
         "hovertemplate": "name=f_numexpr<br>x=%{x}<br>y=%{y}<extra></extra>",
         "legendgroup": "f_numexpr",
         "line": {
          "color": "#FF6692",
          "dash": "solid"
         },
         "marker": {
          "symbol": "circle"
         },
         "mode": "lines+markers",
         "name": "f_numexpr",
         "orientation": "v",
         "showlegend": true,
         "type": "scatter",
         "x": [
          100,
          200,
          500,
          1000,
          2000,
          3000,
          5000,
          10000,
          20000,
          50000,
          100000,
          200000,
          500000,
          1000000
         ],
         "xaxis": "x",
         "y": [
          0.001015130460014916,
          0.0010136371800181223,
          0.0010140165999619059,
          0.0010205432000075234,
          0.0010157239600230242,
          0.0011029671799915378,
          0.0011350160800211598,
          0.0011059427400468848,
          0.0011074633600364906,
          0.0011311589599936269,
          0.0011672773000609596,
          0.0013488489399751415,
          0.001861114559957059,
          0.00270227911999973
         ],
         "yaxis": "y"
        }
       ],
       "layout": {
        "legend": {
         "title": {
          "text": "name"
         },
         "tracegroupgap": 0
        },
        "template": {
         "data": {
          "bar": [
           {
            "error_x": {
             "color": "#2a3f5f"
            },
            "error_y": {
             "color": "#2a3f5f"
            },
            "marker": {
             "line": {
              "color": "#E5ECF6",
              "width": 0.5
             },
             "pattern": {
              "fillmode": "overlay",
              "size": 10,
              "solidity": 0.2
             }
            },
            "type": "bar"
           }
          ],
          "barpolar": [
           {
            "marker": {
             "line": {
              "color": "#E5ECF6",
              "width": 0.5
             },
             "pattern": {
              "fillmode": "overlay",
              "size": 10,
              "solidity": 0.2
             }
            },
            "type": "barpolar"
           }
          ],
          "carpet": [
           {
            "aaxis": {
             "endlinecolor": "#2a3f5f",
             "gridcolor": "white",
             "linecolor": "white",
             "minorgridcolor": "white",
             "startlinecolor": "#2a3f5f"
            },
            "baxis": {
             "endlinecolor": "#2a3f5f",
             "gridcolor": "white",
             "linecolor": "white",
             "minorgridcolor": "white",
             "startlinecolor": "#2a3f5f"
            },
            "type": "carpet"
           }
          ],
          "choropleth": [
           {
            "colorbar": {
             "outlinewidth": 0,
             "ticks": ""
            },
            "type": "choropleth"
           }
          ],
          "contour": [
           {
            "colorbar": {
             "outlinewidth": 0,
             "ticks": ""
            },
            "colorscale": [
             [
              0,
              "#0d0887"
             ],
             [
              0.1111111111111111,
              "#46039f"
             ],
             [
              0.2222222222222222,
              "#7201a8"
             ],
             [
              0.3333333333333333,
              "#9c179e"
             ],
             [
              0.4444444444444444,
              "#bd3786"
             ],
             [
              0.5555555555555556,
              "#d8576b"
             ],
             [
              0.6666666666666666,
              "#ed7953"
             ],
             [
              0.7777777777777778,
              "#fb9f3a"
             ],
             [
              0.8888888888888888,
              "#fdca26"
             ],
             [
              1,
              "#f0f921"
             ]
            ],
            "type": "contour"
           }
          ],
          "contourcarpet": [
           {
            "colorbar": {
             "outlinewidth": 0,
             "ticks": ""
            },
            "type": "contourcarpet"
           }
          ],
          "heatmap": [
           {
            "colorbar": {
             "outlinewidth": 0,
             "ticks": ""
            },
            "colorscale": [
             [
              0,
              "#0d0887"
             ],
             [
              0.1111111111111111,
              "#46039f"
             ],
             [
              0.2222222222222222,
              "#7201a8"
             ],
             [
              0.3333333333333333,
              "#9c179e"
             ],
             [
              0.4444444444444444,
              "#bd3786"
             ],
             [
              0.5555555555555556,
              "#d8576b"
             ],
             [
              0.6666666666666666,
              "#ed7953"
             ],
             [
              0.7777777777777778,
              "#fb9f3a"
             ],
             [
              0.8888888888888888,
              "#fdca26"
             ],
             [
              1,
              "#f0f921"
             ]
            ],
            "type": "heatmap"
           }
          ],
          "heatmapgl": [
           {
            "colorbar": {
             "outlinewidth": 0,
             "ticks": ""
            },
            "colorscale": [
             [
              0,
              "#0d0887"
             ],
             [
              0.1111111111111111,
              "#46039f"
             ],
             [
              0.2222222222222222,
              "#7201a8"
             ],
             [
              0.3333333333333333,
              "#9c179e"
             ],
             [
              0.4444444444444444,
              "#bd3786"
             ],
             [
              0.5555555555555556,
              "#d8576b"
             ],
             [
              0.6666666666666666,
              "#ed7953"
             ],
             [
              0.7777777777777778,
              "#fb9f3a"
             ],
             [
              0.8888888888888888,
              "#fdca26"
             ],
             [
              1,
              "#f0f921"
             ]
            ],
            "type": "heatmapgl"
           }
          ],
          "histogram": [
           {
            "marker": {
             "pattern": {
              "fillmode": "overlay",
              "size": 10,
              "solidity": 0.2
             }
            },
            "type": "histogram"
           }
          ],
          "histogram2d": [
           {
            "colorbar": {
             "outlinewidth": 0,
             "ticks": ""
            },
            "colorscale": [
             [
              0,
              "#0d0887"
             ],
             [
              0.1111111111111111,
              "#46039f"
             ],
             [
              0.2222222222222222,
              "#7201a8"
             ],
             [
              0.3333333333333333,
              "#9c179e"
             ],
             [
              0.4444444444444444,
              "#bd3786"
             ],
             [
              0.5555555555555556,
              "#d8576b"
             ],
             [
              0.6666666666666666,
              "#ed7953"
             ],
             [
              0.7777777777777778,
              "#fb9f3a"
             ],
             [
              0.8888888888888888,
              "#fdca26"
             ],
             [
              1,
              "#f0f921"
             ]
            ],
            "type": "histogram2d"
           }
          ],
          "histogram2dcontour": [
           {
            "colorbar": {
             "outlinewidth": 0,
             "ticks": ""
            },
            "colorscale": [
             [
              0,
              "#0d0887"
             ],
             [
              0.1111111111111111,
              "#46039f"
             ],
             [
              0.2222222222222222,
              "#7201a8"
             ],
             [
              0.3333333333333333,
              "#9c179e"
             ],
             [
              0.4444444444444444,
              "#bd3786"
             ],
             [
              0.5555555555555556,
              "#d8576b"
             ],
             [
              0.6666666666666666,
              "#ed7953"
             ],
             [
              0.7777777777777778,
              "#fb9f3a"
             ],
             [
              0.8888888888888888,
              "#fdca26"
             ],
             [
              1,
              "#f0f921"
             ]
            ],
            "type": "histogram2dcontour"
           }
          ],
          "mesh3d": [
           {
            "colorbar": {
             "outlinewidth": 0,
             "ticks": ""
            },
            "type": "mesh3d"
           }
          ],
          "parcoords": [
           {
            "line": {
             "colorbar": {
              "outlinewidth": 0,
              "ticks": ""
             }
            },
            "type": "parcoords"
           }
          ],
          "pie": [
           {
            "automargin": true,
            "type": "pie"
           }
          ],
          "scatter": [
           {
            "fillpattern": {
             "fillmode": "overlay",
             "size": 10,
             "solidity": 0.2
            },
            "type": "scatter"
           }
          ],
          "scatter3d": [
           {
            "line": {
             "colorbar": {
              "outlinewidth": 0,
              "ticks": ""
             }
            },
            "marker": {
             "colorbar": {
              "outlinewidth": 0,
              "ticks": ""
             }
            },
            "type": "scatter3d"
           }
          ],
          "scattercarpet": [
           {
            "marker": {
             "colorbar": {
              "outlinewidth": 0,
              "ticks": ""
             }
            },
            "type": "scattercarpet"
           }
          ],
          "scattergeo": [
           {
            "marker": {
             "colorbar": {
              "outlinewidth": 0,
              "ticks": ""
             }
            },
            "type": "scattergeo"
           }
          ],
          "scattergl": [
           {
            "marker": {
             "colorbar": {
              "outlinewidth": 0,
              "ticks": ""
             }
            },
            "type": "scattergl"
           }
          ],
          "scattermapbox": [
           {
            "marker": {
             "colorbar": {
              "outlinewidth": 0,
              "ticks": ""
             }
            },
            "type": "scattermapbox"
           }
          ],
          "scatterpolar": [
           {
            "marker": {
             "colorbar": {
              "outlinewidth": 0,
              "ticks": ""
             }
            },
            "type": "scatterpolar"
           }
          ],
          "scatterpolargl": [
           {
            "marker": {
             "colorbar": {
              "outlinewidth": 0,
              "ticks": ""
             }
            },
            "type": "scatterpolargl"
           }
          ],
          "scatterternary": [
           {
            "marker": {
             "colorbar": {
              "outlinewidth": 0,
              "ticks": ""
             }
            },
            "type": "scatterternary"
           }
          ],
          "surface": [
           {
            "colorbar": {
             "outlinewidth": 0,
             "ticks": ""
            },
            "colorscale": [
             [
              0,
              "#0d0887"
             ],
             [
              0.1111111111111111,
              "#46039f"
             ],
             [
              0.2222222222222222,
              "#7201a8"
             ],
             [
              0.3333333333333333,
              "#9c179e"
             ],
             [
              0.4444444444444444,
              "#bd3786"
             ],
             [
              0.5555555555555556,
              "#d8576b"
             ],
             [
              0.6666666666666666,
              "#ed7953"
             ],
             [
              0.7777777777777778,
              "#fb9f3a"
             ],
             [
              0.8888888888888888,
              "#fdca26"
             ],
             [
              1,
              "#f0f921"
             ]
            ],
            "type": "surface"
           }
          ],
          "table": [
           {
            "cells": {
             "fill": {
              "color": "#EBF0F8"
             },
             "line": {
              "color": "white"
             }
            },
            "header": {
             "fill": {
              "color": "#C8D4E3"
             },
             "line": {
              "color": "white"
             }
            },
            "type": "table"
           }
          ]
         },
         "layout": {
          "annotationdefaults": {
           "arrowcolor": "#2a3f5f",
           "arrowhead": 0,
           "arrowwidth": 1
          },
          "autotypenumbers": "strict",
          "coloraxis": {
           "colorbar": {
            "outlinewidth": 0,
            "ticks": ""
           }
          },
          "colorscale": {
           "diverging": [
            [
             0,
             "#8e0152"
            ],
            [
             0.1,
             "#c51b7d"
            ],
            [
             0.2,
             "#de77ae"
            ],
            [
             0.3,
             "#f1b6da"
            ],
            [
             0.4,
             "#fde0ef"
            ],
            [
             0.5,
             "#f7f7f7"
            ],
            [
             0.6,
             "#e6f5d0"
            ],
            [
             0.7,
             "#b8e186"
            ],
            [
             0.8,
             "#7fbc41"
            ],
            [
             0.9,
             "#4d9221"
            ],
            [
             1,
             "#276419"
            ]
           ],
           "sequential": [
            [
             0,
             "#0d0887"
            ],
            [
             0.1111111111111111,
             "#46039f"
            ],
            [
             0.2222222222222222,
             "#7201a8"
            ],
            [
             0.3333333333333333,
             "#9c179e"
            ],
            [
             0.4444444444444444,
             "#bd3786"
            ],
            [
             0.5555555555555556,
             "#d8576b"
            ],
            [
             0.6666666666666666,
             "#ed7953"
            ],
            [
             0.7777777777777778,
             "#fb9f3a"
            ],
            [
             0.8888888888888888,
             "#fdca26"
            ],
            [
             1,
             "#f0f921"
            ]
           ],
           "sequentialminus": [
            [
             0,
             "#0d0887"
            ],
            [
             0.1111111111111111,
             "#46039f"
            ],
            [
             0.2222222222222222,
             "#7201a8"
            ],
            [
             0.3333333333333333,
             "#9c179e"
            ],
            [
             0.4444444444444444,
             "#bd3786"
            ],
            [
             0.5555555555555556,
             "#d8576b"
            ],
            [
             0.6666666666666666,
             "#ed7953"
            ],
            [
             0.7777777777777778,
             "#fb9f3a"
            ],
            [
             0.8888888888888888,
             "#fdca26"
            ],
            [
             1,
             "#f0f921"
            ]
           ]
          },
          "colorway": [
           "#636efa",
           "#EF553B",
           "#00cc96",
           "#ab63fa",
           "#FFA15A",
           "#19d3f3",
           "#FF6692",
           "#B6E880",
           "#FF97FF",
           "#FECB52"
          ],
          "font": {
           "color": "#2a3f5f"
          },
          "geo": {
           "bgcolor": "white",
           "lakecolor": "white",
           "landcolor": "#E5ECF6",
           "showlakes": true,
           "showland": true,
           "subunitcolor": "white"
          },
          "hoverlabel": {
           "align": "left"
          },
          "hovermode": "closest",
          "mapbox": {
           "style": "light"
          },
          "paper_bgcolor": "white",
          "plot_bgcolor": "#E5ECF6",
          "polar": {
           "angularaxis": {
            "gridcolor": "white",
            "linecolor": "white",
            "ticks": ""
           },
           "bgcolor": "#E5ECF6",
           "radialaxis": {
            "gridcolor": "white",
            "linecolor": "white",
            "ticks": ""
           }
          },
          "scene": {
           "xaxis": {
            "backgroundcolor": "#E5ECF6",
            "gridcolor": "white",
            "gridwidth": 2,
            "linecolor": "white",
            "showbackground": true,
            "ticks": "",
            "zerolinecolor": "white"
           },
           "yaxis": {
            "backgroundcolor": "#E5ECF6",
            "gridcolor": "white",
            "gridwidth": 2,
            "linecolor": "white",
            "showbackground": true,
            "ticks": "",
            "zerolinecolor": "white"
           },
           "zaxis": {
            "backgroundcolor": "#E5ECF6",
            "gridcolor": "white",
            "gridwidth": 2,
            "linecolor": "white",
            "showbackground": true,
            "ticks": "",
            "zerolinecolor": "white"
           }
          },
          "shapedefaults": {
           "line": {
            "color": "#2a3f5f"
           }
          },
          "ternary": {
           "aaxis": {
            "gridcolor": "white",
            "linecolor": "white",
            "ticks": ""
           },
           "baxis": {
            "gridcolor": "white",
            "linecolor": "white",
            "ticks": ""
           },
           "bgcolor": "#E5ECF6",
           "caxis": {
            "gridcolor": "white",
            "linecolor": "white",
            "ticks": ""
           }
          },
          "title": {
           "x": 0.05
          },
          "xaxis": {
           "automargin": true,
           "gridcolor": "white",
           "linecolor": "white",
           "ticks": "",
           "title": {
            "standoff": 15
           },
           "zerolinecolor": "white",
           "zerolinewidth": 2
          },
          "yaxis": {
           "automargin": true,
           "gridcolor": "white",
           "linecolor": "white",
           "ticks": "",
           "title": {
            "standoff": 15
           },
           "zerolinecolor": "white",
           "zerolinewidth": 2
          }
         }
        },
        "title": {
         "text": "extra time per point: 0.001"
        },
        "xaxis": {
         "anchor": "y",
         "domain": [
          0,
          1
         ],
         "title": {
          "text": "x"
         },
         "type": "log"
        },
        "yaxis": {
         "anchor": "x",
         "domain": [
          0,
          1
         ],
         "title": {
          "text": "y"
         },
         "type": "log"
        }
       }
      },
      "text/html": [
       "<div>                            <div id=\"03bf3ace-a947-443e-9193-01cb82222d9d\" class=\"plotly-graph-div\" style=\"height:525px; width:100%;\"></div>            <script type=\"text/javascript\">                require([\"plotly\"], function(Plotly) {                    window.PLOTLYENV=window.PLOTLYENV || {};                                    if (document.getElementById(\"03bf3ace-a947-443e-9193-01cb82222d9d\")) {                    Plotly.newPlot(                        \"03bf3ace-a947-443e-9193-01cb82222d9d\",                        [{\"hovertemplate\":\"name=f_py_append<br>x=%{x}<br>y=%{y}<extra></extra>\",\"legendgroup\":\"f_py_append\",\"line\":{\"color\":\"#636efa\",\"dash\":\"solid\"},\"marker\":{\"symbol\":\"circle\"},\"mode\":\"lines+markers\",\"name\":\"f_py_append\",\"orientation\":\"v\",\"showlegend\":true,\"x\":[100,200,500,1000,2000,3000,5000,10000,20000,50000,100000,200000,500000,1000000],\"xaxis\":\"x\",\"y\":[0.0010110542400216219,0.0010222680599836168,0.0010558402800379554,0.0011144567200390156,0.0012184186800150202,0.0013134432800288778,0.0015128094599785981,0.0020366538199741626,0.0030299317999888443,0.00625842085997283,0.012947187800033136,0.023552211840011297,0.06142144920000283,0.12596942179997858],\"yaxis\":\"y\",\"type\":\"scatter\"},{\"hovertemplate\":\"name=f_py<br>x=%{x}<br>y=%{y}<extra></extra>\",\"legendgroup\":\"f_py\",\"line\":{\"color\":\"#EF553B\",\"dash\":\"solid\"},\"marker\":{\"symbol\":\"circle\"},\"mode\":\"lines+markers\",\"name\":\"f_py\",\"orientation\":\"v\",\"showlegend\":true,\"x\":[100,200,500,1000,2000,3000,5000,10000,20000,50000,100000,200000,500000,1000000],\"xaxis\":\"x\",\"y\":[0.00100960778001172,0.0010264902799972334,0.0010531644999864512,0.0011077539999823785,0.0012232832200388657,0.0013258577400265495,0.001538685639985488,0.0020675594000349523,0.003159571680022054,0.006554858339964994,0.01206836202001432,0.022986819319936333,0.05627794153997093,0.11142412301998411],\"yaxis\":\"y\",\"type\":\"scatter\"},{\"hovertemplate\":\"name=f_py_listcompr<br>x=%{x}<br>y=%{y}<extra></extra>\",\"legendgroup\":\"f_py_listcompr\",\"line\":{\"color\":\"#00cc96\",\"dash\":\"solid\"},\"marker\":{\"symbol\":\"circle\"},\"mode\":\"lines+markers\",\"name\":\"f_py_listcompr\",\"orientation\":\"v\",\"showlegend\":true,\"x\":[100,200,500,1000,2000,3000,5000,10000,20000,50000,100000,200000,500000,1000000],\"xaxis\":\"x\",\"y\":[0.0010066275800054427,0.001013552439995692,0.0010352253999881215,0.0010662312799977372,0.001129480239993427,0.0011947969200409715,0.0013314594000403304,0.001581954540029983,0.003094960219983477,0.004146658059995388,0.008273869560012827,0.015115141500005848,0.04384195428001112,0.08376965381999617],\"yaxis\":\"y\",\"type\":\"scatter\"},{\"hovertemplate\":\"name=f_numpy<br>x=%{x}<br>y=%{y}<extra></extra>\",\"legendgroup\":\"f_numpy\",\"line\":{\"color\":\"#ab63fa\",\"dash\":\"solid\"},\"marker\":{\"symbol\":\"circle\"},\"mode\":\"lines+markers\",\"name\":\"f_numpy\",\"orientation\":\"v\",\"showlegend\":true,\"x\":[100,200,500,1000,2000,3000,5000,10000,20000,50000,100000,200000,500000,1000000],\"xaxis\":\"x\",\"y\":[0.0010016431199765066,0.0010018374399951427,0.0010019237400556449,0.0010022313999943435,0.0010026084199635079,0.0010030254400189734,0.0011305749399762135,0.0010055735800560796,0.0010149086600140435,0.0010263855799857993,0.001049384620069759,0.0011039736199891196,0.0012666415400017287,0.0029449383999744895],\"yaxis\":\"y\",\"type\":\"scatter\"},{\"hovertemplate\":\"name=f_numba<br>x=%{x}<br>y=%{y}<extra></extra>\",\"legendgroup\":\"f_numba\",\"line\":{\"color\":\"#FFA15A\",\"dash\":\"solid\"},\"marker\":{\"symbol\":\"circle\"},\"mode\":\"lines+markers\",\"name\":\"f_numba\",\"orientation\":\"v\",\"showlegend\":true,\"x\":[100,200,500,1000,2000,3000,5000,10000,20000,50000,100000,200000,500000,1000000],\"xaxis\":\"x\",\"y\":[0.0010013614599447464,0.0010013626200234284,0.0010014156999532133,0.0010015584599896103,0.0010020553600188578,0.001002313920049346,0.0010026647200138542,0.0010044206000166013,0.0010097662000189303,0.0010248393800575287,0.0010481897400459275,0.0011016660399909596,0.001251887499980512,0.001761634079972282],\"yaxis\":\"y\",\"type\":\"scatter\"},{\"hovertemplate\":\"name=f_numba_parall<br>x=%{x}<br>y=%{y}<extra></extra>\",\"legendgroup\":\"f_numba_parall\",\"line\":{\"color\":\"#19d3f3\",\"dash\":\"solid\"},\"marker\":{\"symbol\":\"circle\"},\"mode\":\"lines+markers\",\"name\":\"f_numba_parall\",\"orientation\":\"v\",\"showlegend\":true,\"x\":[100,200,500,1000,2000,3000,5000,10000,20000,50000,100000,200000,500000,1000000],\"xaxis\":\"x\",\"y\":[0.0011434112399874722,0.0011203829199948813,0.00112840456001868,0.0011242337000439875,0.0011159392399858917,0.0010981969400163506,0.0011206754799932242,0.001108387459986261,0.0011084682799410075,0.0011198629399732454,0.0011146019400039221,0.0011287484799831873,0.0011832795199879912,0.0017101359799708007],\"yaxis\":\"y\",\"type\":\"scatter\"},{\"hovertemplate\":\"name=f_numexpr<br>x=%{x}<br>y=%{y}<extra></extra>\",\"legendgroup\":\"f_numexpr\",\"line\":{\"color\":\"#FF6692\",\"dash\":\"solid\"},\"marker\":{\"symbol\":\"circle\"},\"mode\":\"lines+markers\",\"name\":\"f_numexpr\",\"orientation\":\"v\",\"showlegend\":true,\"x\":[100,200,500,1000,2000,3000,5000,10000,20000,50000,100000,200000,500000,1000000],\"xaxis\":\"x\",\"y\":[0.001015130460014916,0.0010136371800181223,0.0010140165999619059,0.0010205432000075234,0.0010157239600230242,0.0011029671799915378,0.0011350160800211598,0.0011059427400468848,0.0011074633600364906,0.0011311589599936269,0.0011672773000609596,0.0013488489399751415,0.001861114559957059,0.00270227911999973],\"yaxis\":\"y\",\"type\":\"scatter\"}],                        {\"template\":{\"data\":{\"histogram2dcontour\":[{\"type\":\"histogram2dcontour\",\"colorbar\":{\"outlinewidth\":0,\"ticks\":\"\"},\"colorscale\":[[0.0,\"#0d0887\"],[0.1111111111111111,\"#46039f\"],[0.2222222222222222,\"#7201a8\"],[0.3333333333333333,\"#9c179e\"],[0.4444444444444444,\"#bd3786\"],[0.5555555555555556,\"#d8576b\"],[0.6666666666666666,\"#ed7953\"],[0.7777777777777778,\"#fb9f3a\"],[0.8888888888888888,\"#fdca26\"],[1.0,\"#f0f921\"]]}],\"choropleth\":[{\"type\":\"choropleth\",\"colorbar\":{\"outlinewidth\":0,\"ticks\":\"\"}}],\"histogram2d\":[{\"type\":\"histogram2d\",\"colorbar\":{\"outlinewidth\":0,\"ticks\":\"\"},\"colorscale\":[[0.0,\"#0d0887\"],[0.1111111111111111,\"#46039f\"],[0.2222222222222222,\"#7201a8\"],[0.3333333333333333,\"#9c179e\"],[0.4444444444444444,\"#bd3786\"],[0.5555555555555556,\"#d8576b\"],[0.6666666666666666,\"#ed7953\"],[0.7777777777777778,\"#fb9f3a\"],[0.8888888888888888,\"#fdca26\"],[1.0,\"#f0f921\"]]}],\"heatmap\":[{\"type\":\"heatmap\",\"colorbar\":{\"outlinewidth\":0,\"ticks\":\"\"},\"colorscale\":[[0.0,\"#0d0887\"],[0.1111111111111111,\"#46039f\"],[0.2222222222222222,\"#7201a8\"],[0.3333333333333333,\"#9c179e\"],[0.4444444444444444,\"#bd3786\"],[0.5555555555555556,\"#d8576b\"],[0.6666666666666666,\"#ed7953\"],[0.7777777777777778,\"#fb9f3a\"],[0.8888888888888888,\"#fdca26\"],[1.0,\"#f0f921\"]]}],\"heatmapgl\":[{\"type\":\"heatmapgl\",\"colorbar\":{\"outlinewidth\":0,\"ticks\":\"\"},\"colorscale\":[[0.0,\"#0d0887\"],[0.1111111111111111,\"#46039f\"],[0.2222222222222222,\"#7201a8\"],[0.3333333333333333,\"#9c179e\"],[0.4444444444444444,\"#bd3786\"],[0.5555555555555556,\"#d8576b\"],[0.6666666666666666,\"#ed7953\"],[0.7777777777777778,\"#fb9f3a\"],[0.8888888888888888,\"#fdca26\"],[1.0,\"#f0f921\"]]}],\"contourcarpet\":[{\"type\":\"contourcarpet\",\"colorbar\":{\"outlinewidth\":0,\"ticks\":\"\"}}],\"contour\":[{\"type\":\"contour\",\"colorbar\":{\"outlinewidth\":0,\"ticks\":\"\"},\"colorscale\":[[0.0,\"#0d0887\"],[0.1111111111111111,\"#46039f\"],[0.2222222222222222,\"#7201a8\"],[0.3333333333333333,\"#9c179e\"],[0.4444444444444444,\"#bd3786\"],[0.5555555555555556,\"#d8576b\"],[0.6666666666666666,\"#ed7953\"],[0.7777777777777778,\"#fb9f3a\"],[0.8888888888888888,\"#fdca26\"],[1.0,\"#f0f921\"]]}],\"surface\":[{\"type\":\"surface\",\"colorbar\":{\"outlinewidth\":0,\"ticks\":\"\"},\"colorscale\":[[0.0,\"#0d0887\"],[0.1111111111111111,\"#46039f\"],[0.2222222222222222,\"#7201a8\"],[0.3333333333333333,\"#9c179e\"],[0.4444444444444444,\"#bd3786\"],[0.5555555555555556,\"#d8576b\"],[0.6666666666666666,\"#ed7953\"],[0.7777777777777778,\"#fb9f3a\"],[0.8888888888888888,\"#fdca26\"],[1.0,\"#f0f921\"]]}],\"mesh3d\":[{\"type\":\"mesh3d\",\"colorbar\":{\"outlinewidth\":0,\"ticks\":\"\"}}],\"scatter\":[{\"fillpattern\":{\"fillmode\":\"overlay\",\"size\":10,\"solidity\":0.2},\"type\":\"scatter\"}],\"parcoords\":[{\"type\":\"parcoords\",\"line\":{\"colorbar\":{\"outlinewidth\":0,\"ticks\":\"\"}}}],\"scatterpolargl\":[{\"type\":\"scatterpolargl\",\"marker\":{\"colorbar\":{\"outlinewidth\":0,\"ticks\":\"\"}}}],\"bar\":[{\"error_x\":{\"color\":\"#2a3f5f\"},\"error_y\":{\"color\":\"#2a3f5f\"},\"marker\":{\"line\":{\"color\":\"#E5ECF6\",\"width\":0.5},\"pattern\":{\"fillmode\":\"overlay\",\"size\":10,\"solidity\":0.2}},\"type\":\"bar\"}],\"scattergeo\":[{\"type\":\"scattergeo\",\"marker\":{\"colorbar\":{\"outlinewidth\":0,\"ticks\":\"\"}}}],\"scatterpolar\":[{\"type\":\"scatterpolar\",\"marker\":{\"colorbar\":{\"outlinewidth\":0,\"ticks\":\"\"}}}],\"histogram\":[{\"marker\":{\"pattern\":{\"fillmode\":\"overlay\",\"size\":10,\"solidity\":0.2}},\"type\":\"histogram\"}],\"scattergl\":[{\"type\":\"scattergl\",\"marker\":{\"colorbar\":{\"outlinewidth\":0,\"ticks\":\"\"}}}],\"scatter3d\":[{\"type\":\"scatter3d\",\"line\":{\"colorbar\":{\"outlinewidth\":0,\"ticks\":\"\"}},\"marker\":{\"colorbar\":{\"outlinewidth\":0,\"ticks\":\"\"}}}],\"scattermapbox\":[{\"type\":\"scattermapbox\",\"marker\":{\"colorbar\":{\"outlinewidth\":0,\"ticks\":\"\"}}}],\"scatterternary\":[{\"type\":\"scatterternary\",\"marker\":{\"colorbar\":{\"outlinewidth\":0,\"ticks\":\"\"}}}],\"scattercarpet\":[{\"type\":\"scattercarpet\",\"marker\":{\"colorbar\":{\"outlinewidth\":0,\"ticks\":\"\"}}}],\"carpet\":[{\"aaxis\":{\"endlinecolor\":\"#2a3f5f\",\"gridcolor\":\"white\",\"linecolor\":\"white\",\"minorgridcolor\":\"white\",\"startlinecolor\":\"#2a3f5f\"},\"baxis\":{\"endlinecolor\":\"#2a3f5f\",\"gridcolor\":\"white\",\"linecolor\":\"white\",\"minorgridcolor\":\"white\",\"startlinecolor\":\"#2a3f5f\"},\"type\":\"carpet\"}],\"table\":[{\"cells\":{\"fill\":{\"color\":\"#EBF0F8\"},\"line\":{\"color\":\"white\"}},\"header\":{\"fill\":{\"color\":\"#C8D4E3\"},\"line\":{\"color\":\"white\"}},\"type\":\"table\"}],\"barpolar\":[{\"marker\":{\"line\":{\"color\":\"#E5ECF6\",\"width\":0.5},\"pattern\":{\"fillmode\":\"overlay\",\"size\":10,\"solidity\":0.2}},\"type\":\"barpolar\"}],\"pie\":[{\"automargin\":true,\"type\":\"pie\"}]},\"layout\":{\"autotypenumbers\":\"strict\",\"colorway\":[\"#636efa\",\"#EF553B\",\"#00cc96\",\"#ab63fa\",\"#FFA15A\",\"#19d3f3\",\"#FF6692\",\"#B6E880\",\"#FF97FF\",\"#FECB52\"],\"font\":{\"color\":\"#2a3f5f\"},\"hovermode\":\"closest\",\"hoverlabel\":{\"align\":\"left\"},\"paper_bgcolor\":\"white\",\"plot_bgcolor\":\"#E5ECF6\",\"polar\":{\"bgcolor\":\"#E5ECF6\",\"angularaxis\":{\"gridcolor\":\"white\",\"linecolor\":\"white\",\"ticks\":\"\"},\"radialaxis\":{\"gridcolor\":\"white\",\"linecolor\":\"white\",\"ticks\":\"\"}},\"ternary\":{\"bgcolor\":\"#E5ECF6\",\"aaxis\":{\"gridcolor\":\"white\",\"linecolor\":\"white\",\"ticks\":\"\"},\"baxis\":{\"gridcolor\":\"white\",\"linecolor\":\"white\",\"ticks\":\"\"},\"caxis\":{\"gridcolor\":\"white\",\"linecolor\":\"white\",\"ticks\":\"\"}},\"coloraxis\":{\"colorbar\":{\"outlinewidth\":0,\"ticks\":\"\"}},\"colorscale\":{\"sequential\":[[0.0,\"#0d0887\"],[0.1111111111111111,\"#46039f\"],[0.2222222222222222,\"#7201a8\"],[0.3333333333333333,\"#9c179e\"],[0.4444444444444444,\"#bd3786\"],[0.5555555555555556,\"#d8576b\"],[0.6666666666666666,\"#ed7953\"],[0.7777777777777778,\"#fb9f3a\"],[0.8888888888888888,\"#fdca26\"],[1.0,\"#f0f921\"]],\"sequentialminus\":[[0.0,\"#0d0887\"],[0.1111111111111111,\"#46039f\"],[0.2222222222222222,\"#7201a8\"],[0.3333333333333333,\"#9c179e\"],[0.4444444444444444,\"#bd3786\"],[0.5555555555555556,\"#d8576b\"],[0.6666666666666666,\"#ed7953\"],[0.7777777777777778,\"#fb9f3a\"],[0.8888888888888888,\"#fdca26\"],[1.0,\"#f0f921\"]],\"diverging\":[[0,\"#8e0152\"],[0.1,\"#c51b7d\"],[0.2,\"#de77ae\"],[0.3,\"#f1b6da\"],[0.4,\"#fde0ef\"],[0.5,\"#f7f7f7\"],[0.6,\"#e6f5d0\"],[0.7,\"#b8e186\"],[0.8,\"#7fbc41\"],[0.9,\"#4d9221\"],[1,\"#276419\"]]},\"xaxis\":{\"gridcolor\":\"white\",\"linecolor\":\"white\",\"ticks\":\"\",\"title\":{\"standoff\":15},\"zerolinecolor\":\"white\",\"automargin\":true,\"zerolinewidth\":2},\"yaxis\":{\"gridcolor\":\"white\",\"linecolor\":\"white\",\"ticks\":\"\",\"title\":{\"standoff\":15},\"zerolinecolor\":\"white\",\"automargin\":true,\"zerolinewidth\":2},\"scene\":{\"xaxis\":{\"backgroundcolor\":\"#E5ECF6\",\"gridcolor\":\"white\",\"linecolor\":\"white\",\"showbackground\":true,\"ticks\":\"\",\"zerolinecolor\":\"white\",\"gridwidth\":2},\"yaxis\":{\"backgroundcolor\":\"#E5ECF6\",\"gridcolor\":\"white\",\"linecolor\":\"white\",\"showbackground\":true,\"ticks\":\"\",\"zerolinecolor\":\"white\",\"gridwidth\":2},\"zaxis\":{\"backgroundcolor\":\"#E5ECF6\",\"gridcolor\":\"white\",\"linecolor\":\"white\",\"showbackground\":true,\"ticks\":\"\",\"zerolinecolor\":\"white\",\"gridwidth\":2}},\"shapedefaults\":{\"line\":{\"color\":\"#2a3f5f\"}},\"annotationdefaults\":{\"arrowcolor\":\"#2a3f5f\",\"arrowhead\":0,\"arrowwidth\":1},\"geo\":{\"bgcolor\":\"white\",\"landcolor\":\"#E5ECF6\",\"subunitcolor\":\"white\",\"showland\":true,\"showlakes\":true,\"lakecolor\":\"white\"},\"title\":{\"x\":0.05},\"mapbox\":{\"style\":\"light\"}}},\"xaxis\":{\"anchor\":\"y\",\"domain\":[0.0,1.0],\"title\":{\"text\":\"x\"},\"type\":\"log\"},\"yaxis\":{\"anchor\":\"x\",\"domain\":[0.0,1.0],\"title\":{\"text\":\"y\"},\"type\":\"log\"},\"legend\":{\"title\":{\"text\":\"name\"},\"tracegroupgap\":0},\"title\":{\"text\":\"extra time per point: 0.001\"}},                        {\"responsive\": true}                    ).then(function(){\n",
       "                            \n",
       "var gd = document.getElementById('03bf3ace-a947-443e-9193-01cb82222d9d');\n",
       "var x = new MutationObserver(function (mutations, observer) {{\n",
       "        var display = window.getComputedStyle(gd).display;\n",
       "        if (!display || display === 'none') {{\n",
       "            console.log([gd, 'removed!']);\n",
       "            Plotly.purge(gd);\n",
       "            observer.disconnect();\n",
       "        }}\n",
       "}});\n",
       "\n",
       "// Listen for the removal of the full notebook cells\n",
       "var notebookContainer = gd.closest('#notebook-container');\n",
       "if (notebookContainer) {{\n",
       "    x.observe(notebookContainer, {childList: true});\n",
       "}}\n",
       "\n",
       "// Listen for the clearing of the current output cell\n",
       "var outputEl = gd.closest('.output');\n",
       "if (outputEl) {{\n",
       "    x.observe(outputEl, {childList: true});\n",
       "}}\n",
       "\n",
       "                        })                };                });            </script>        </div>"
      ]
     },
     "metadata": {},
     "output_type": "display_data"
    }
   ],
   "source": [
    "for t in addons:\n",
    "    l = [pd.DataFrame({'name': f.__name__, \n",
    "                       'x': sizes, \n",
    "                       'y': times[:, j] + t\n",
    "                      }) \n",
    "        for j, f in enumerate(funcs)]\n",
    "    df = pd.concat(l)\n",
    "    px.line(df, x='x', y='y', color='name', title=f'extra time per point: {t}', log_x=True, log_y=True, markers=True).show()"
   ]
  },
  {
   "cell_type": "code",
   "execution_count": 389,
   "id": "bdc49038",
   "metadata": {},
   "outputs": [
    {
     "data": {
      "text/plain": [
       "0.02"
      ]
     },
     "execution_count": 389,
     "metadata": {},
     "output_type": "execute_result"
    }
   ],
   "source": [
    "0.00001 * 2000 "
   ]
  },
  {
   "cell_type": "code",
   "execution_count": 97,
   "id": "0e8a05c0",
   "metadata": {},
   "outputs": [
    {
     "data": {
      "application/vnd.plotly.v1+json": {
       "config": {
        "plotlyServerURL": "https://plot.ly"
       },
       "data": [
        {
         "hovertemplate": "name=f_py_append<br>x=%{x}<br>y=%{y}<extra></extra>",
         "legendgroup": "f_py_append",
         "line": {
          "color": "#636efa",
          "dash": "solid"
         },
         "marker": {
          "symbol": "circle"
         },
         "mode": "lines+markers",
         "name": "f_py_append",
         "orientation": "v",
         "showlegend": true,
         "type": "scatter",
         "x": [
          1,
          5,
          10,
          50,
          100,
          1000,
          10000,
          100000
         ],
         "xaxis": "x",
         "y": [
          3.0694000000330845E-6,
          6.9693999999564936E-6,
          1.2536000000018533E-5,
          5.8535500000012064E-5,
          1.1669890000005622E-4,
          0.001158883199999927,
          0.011371230600000004,
          0.11673200210000001
         ],
         "yaxis": "y"
        },
        {
         "hovertemplate": "name=f_py<br>x=%{x}<br>y=%{y}<extra></extra>",
         "legendgroup": "f_py",
         "line": {
          "color": "#EF553B",
          "dash": "solid"
         },
         "marker": {
          "symbol": "circle"
         },
         "mode": "lines+markers",
         "name": "f_py",
         "orientation": "v",
         "showlegend": true,
         "type": "scatter",
         "x": [
          1,
          5,
          10,
          50,
          100,
          1000,
          10000,
          100000
         ],
         "xaxis": "x",
         "y": [
          2.6985999999951104E-6,
          7.352200000010356E-6,
          1.3329199999922992E-5,
          6.004700000001861E-5,
          1.208646999999452E-4,
          0.0011976222999999565,
          0.012108730299999948,
          0.1207487209
         ],
         "yaxis": "y"
        },
        {
         "hovertemplate": "name=f_py_listcompr<br>x=%{x}<br>y=%{y}<extra></extra>",
         "legendgroup": "f_py_listcompr",
         "line": {
          "color": "#00cc96",
          "dash": "solid"
         },
         "marker": {
          "symbol": "circle"
         },
         "mode": "lines+markers",
         "name": "f_py_listcompr",
         "orientation": "v",
         "showlegend": true,
         "type": "scatter",
         "x": [
          1,
          5,
          10,
          50,
          100,
          1000,
          10000,
          100000
         ],
         "xaxis": "x",
         "y": [
          3.01080000006948E-6,
          6.818499999994288E-6,
          1.2330800000004415E-5,
          5.604749999994496E-5,
          1.1191190000001683E-4,
          0.0011188264000000282,
          0.011114725799999902,
          0.11197872170000008
         ],
         "yaxis": "y"
        },
        {
         "hovertemplate": "name=f_numpy<br>x=%{x}<br>y=%{y}<extra></extra>",
         "legendgroup": "f_numpy",
         "line": {
          "color": "#ab63fa",
          "dash": "solid"
         },
         "marker": {
          "symbol": "circle"
         },
         "mode": "lines+markers",
         "name": "f_numpy",
         "orientation": "v",
         "showlegend": true,
         "type": "scatter",
         "x": [
          1,
          5,
          10,
          50,
          100,
          1000,
          10000,
          100000
         ],
         "xaxis": "x",
         "y": [
          2.0620999999998447E-6,
          1.4053999999319444E-6,
          1.405200000004214E-6,
          1.88740000002241E-6,
          2.4106999999773394E-6,
          1.2398899999954693E-5,
          1.1431950000009294E-4,
          0.0010729690999999875
         ],
         "yaxis": "y"
        },
        {
         "hovertemplate": "name=f_numba<br>x=%{x}<br>y=%{y}<extra></extra>",
         "legendgroup": "f_numba",
         "line": {
          "color": "#FFA15A",
          "dash": "solid"
         },
         "marker": {
          "symbol": "circle"
         },
         "mode": "lines+markers",
         "name": "f_numba",
         "orientation": "v",
         "showlegend": true,
         "type": "scatter",
         "x": [
          1,
          5,
          10,
          50,
          100,
          1000,
          10000,
          100000
         ],
         "xaxis": "x",
         "y": [
          0.031971451600000034,
          1.8293000000113579E-6,
          1.7803999999621566E-6,
          2.201599999995807E-6,
          2.6795000000134906E-6,
          1.1214100000067617E-5,
          9.656129999999764E-5,
          9.431700000000376E-4
         ],
         "yaxis": "y"
        },
        {
         "hovertemplate": "name=f_numba_parall<br>x=%{x}<br>y=%{y}<extra></extra>",
         "legendgroup": "f_numba_parall",
         "line": {
          "color": "#19d3f3",
          "dash": "solid"
         },
         "marker": {
          "symbol": "circle"
         },
         "mode": "lines+markers",
         "name": "f_numba_parall",
         "orientation": "v",
         "showlegend": true,
         "type": "scatter",
         "x": [
          1,
          5,
          10,
          50,
          100,
          1000,
          10000,
          100000
         ],
         "xaxis": "x",
         "y": [
          0.0308414258,
          1.5021250000000209E-4,
          1.2897020000002257E-4,
          1.309775999999374E-4,
          1.310750000000027E-4,
          1.39695200000034E-4,
          1.559406000000152E-4,
          2.859872000000152E-4
         ],
         "yaxis": "y"
        },
        {
         "hovertemplate": "name=f_numexpr<br>x=%{x}<br>y=%{y}<extra></extra>",
         "legendgroup": "f_numexpr",
         "line": {
          "color": "#FF6692",
          "dash": "solid"
         },
         "marker": {
          "symbol": "circle"
         },
         "mode": "lines+markers",
         "name": "f_numexpr",
         "orientation": "v",
         "showlegend": true,
         "type": "scatter",
         "x": [
          1,
          5,
          10,
          50,
          100,
          1000,
          10000,
          100000
         ],
         "xaxis": "x",
         "y": [
          5.374270000002568E-5,
          1.5361600000041165E-5,
          1.5578300000029798E-5,
          1.624819999994642E-5,
          1.6740700000017483E-5,
          2.642509999999376E-5,
          1.2872289999990016E-4,
          3.5068750000011306E-4
         ],
         "yaxis": "y"
        }
       ],
       "layout": {
        "legend": {
         "title": {
          "text": "name"
         },
         "tracegroupgap": 0
        },
        "margin": {
         "t": 60
        },
        "template": {
         "data": {
          "bar": [
           {
            "error_x": {
             "color": "#2a3f5f"
            },
            "error_y": {
             "color": "#2a3f5f"
            },
            "marker": {
             "line": {
              "color": "#E5ECF6",
              "width": 0.5
             },
             "pattern": {
              "fillmode": "overlay",
              "size": 10,
              "solidity": 0.2
             }
            },
            "type": "bar"
           }
          ],
          "barpolar": [
           {
            "marker": {
             "line": {
              "color": "#E5ECF6",
              "width": 0.5
             },
             "pattern": {
              "fillmode": "overlay",
              "size": 10,
              "solidity": 0.2
             }
            },
            "type": "barpolar"
           }
          ],
          "carpet": [
           {
            "aaxis": {
             "endlinecolor": "#2a3f5f",
             "gridcolor": "white",
             "linecolor": "white",
             "minorgridcolor": "white",
             "startlinecolor": "#2a3f5f"
            },
            "baxis": {
             "endlinecolor": "#2a3f5f",
             "gridcolor": "white",
             "linecolor": "white",
             "minorgridcolor": "white",
             "startlinecolor": "#2a3f5f"
            },
            "type": "carpet"
           }
          ],
          "choropleth": [
           {
            "colorbar": {
             "outlinewidth": 0,
             "ticks": ""
            },
            "type": "choropleth"
           }
          ],
          "contour": [
           {
            "colorbar": {
             "outlinewidth": 0,
             "ticks": ""
            },
            "colorscale": [
             [
              0,
              "#0d0887"
             ],
             [
              0.1111111111111111,
              "#46039f"
             ],
             [
              0.2222222222222222,
              "#7201a8"
             ],
             [
              0.3333333333333333,
              "#9c179e"
             ],
             [
              0.4444444444444444,
              "#bd3786"
             ],
             [
              0.5555555555555556,
              "#d8576b"
             ],
             [
              0.6666666666666666,
              "#ed7953"
             ],
             [
              0.7777777777777778,
              "#fb9f3a"
             ],
             [
              0.8888888888888888,
              "#fdca26"
             ],
             [
              1,
              "#f0f921"
             ]
            ],
            "type": "contour"
           }
          ],
          "contourcarpet": [
           {
            "colorbar": {
             "outlinewidth": 0,
             "ticks": ""
            },
            "type": "contourcarpet"
           }
          ],
          "heatmap": [
           {
            "colorbar": {
             "outlinewidth": 0,
             "ticks": ""
            },
            "colorscale": [
             [
              0,
              "#0d0887"
             ],
             [
              0.1111111111111111,
              "#46039f"
             ],
             [
              0.2222222222222222,
              "#7201a8"
             ],
             [
              0.3333333333333333,
              "#9c179e"
             ],
             [
              0.4444444444444444,
              "#bd3786"
             ],
             [
              0.5555555555555556,
              "#d8576b"
             ],
             [
              0.6666666666666666,
              "#ed7953"
             ],
             [
              0.7777777777777778,
              "#fb9f3a"
             ],
             [
              0.8888888888888888,
              "#fdca26"
             ],
             [
              1,
              "#f0f921"
             ]
            ],
            "type": "heatmap"
           }
          ],
          "heatmapgl": [
           {
            "colorbar": {
             "outlinewidth": 0,
             "ticks": ""
            },
            "colorscale": [
             [
              0,
              "#0d0887"
             ],
             [
              0.1111111111111111,
              "#46039f"
             ],
             [
              0.2222222222222222,
              "#7201a8"
             ],
             [
              0.3333333333333333,
              "#9c179e"
             ],
             [
              0.4444444444444444,
              "#bd3786"
             ],
             [
              0.5555555555555556,
              "#d8576b"
             ],
             [
              0.6666666666666666,
              "#ed7953"
             ],
             [
              0.7777777777777778,
              "#fb9f3a"
             ],
             [
              0.8888888888888888,
              "#fdca26"
             ],
             [
              1,
              "#f0f921"
             ]
            ],
            "type": "heatmapgl"
           }
          ],
          "histogram": [
           {
            "marker": {
             "pattern": {
              "fillmode": "overlay",
              "size": 10,
              "solidity": 0.2
             }
            },
            "type": "histogram"
           }
          ],
          "histogram2d": [
           {
            "colorbar": {
             "outlinewidth": 0,
             "ticks": ""
            },
            "colorscale": [
             [
              0,
              "#0d0887"
             ],
             [
              0.1111111111111111,
              "#46039f"
             ],
             [
              0.2222222222222222,
              "#7201a8"
             ],
             [
              0.3333333333333333,
              "#9c179e"
             ],
             [
              0.4444444444444444,
              "#bd3786"
             ],
             [
              0.5555555555555556,
              "#d8576b"
             ],
             [
              0.6666666666666666,
              "#ed7953"
             ],
             [
              0.7777777777777778,
              "#fb9f3a"
             ],
             [
              0.8888888888888888,
              "#fdca26"
             ],
             [
              1,
              "#f0f921"
             ]
            ],
            "type": "histogram2d"
           }
          ],
          "histogram2dcontour": [
           {
            "colorbar": {
             "outlinewidth": 0,
             "ticks": ""
            },
            "colorscale": [
             [
              0,
              "#0d0887"
             ],
             [
              0.1111111111111111,
              "#46039f"
             ],
             [
              0.2222222222222222,
              "#7201a8"
             ],
             [
              0.3333333333333333,
              "#9c179e"
             ],
             [
              0.4444444444444444,
              "#bd3786"
             ],
             [
              0.5555555555555556,
              "#d8576b"
             ],
             [
              0.6666666666666666,
              "#ed7953"
             ],
             [
              0.7777777777777778,
              "#fb9f3a"
             ],
             [
              0.8888888888888888,
              "#fdca26"
             ],
             [
              1,
              "#f0f921"
             ]
            ],
            "type": "histogram2dcontour"
           }
          ],
          "mesh3d": [
           {
            "colorbar": {
             "outlinewidth": 0,
             "ticks": ""
            },
            "type": "mesh3d"
           }
          ],
          "parcoords": [
           {
            "line": {
             "colorbar": {
              "outlinewidth": 0,
              "ticks": ""
             }
            },
            "type": "parcoords"
           }
          ],
          "pie": [
           {
            "automargin": true,
            "type": "pie"
           }
          ],
          "scatter": [
           {
            "fillpattern": {
             "fillmode": "overlay",
             "size": 10,
             "solidity": 0.2
            },
            "type": "scatter"
           }
          ],
          "scatter3d": [
           {
            "line": {
             "colorbar": {
              "outlinewidth": 0,
              "ticks": ""
             }
            },
            "marker": {
             "colorbar": {
              "outlinewidth": 0,
              "ticks": ""
             }
            },
            "type": "scatter3d"
           }
          ],
          "scattercarpet": [
           {
            "marker": {
             "colorbar": {
              "outlinewidth": 0,
              "ticks": ""
             }
            },
            "type": "scattercarpet"
           }
          ],
          "scattergeo": [
           {
            "marker": {
             "colorbar": {
              "outlinewidth": 0,
              "ticks": ""
             }
            },
            "type": "scattergeo"
           }
          ],
          "scattergl": [
           {
            "marker": {
             "colorbar": {
              "outlinewidth": 0,
              "ticks": ""
             }
            },
            "type": "scattergl"
           }
          ],
          "scattermapbox": [
           {
            "marker": {
             "colorbar": {
              "outlinewidth": 0,
              "ticks": ""
             }
            },
            "type": "scattermapbox"
           }
          ],
          "scatterpolar": [
           {
            "marker": {
             "colorbar": {
              "outlinewidth": 0,
              "ticks": ""
             }
            },
            "type": "scatterpolar"
           }
          ],
          "scatterpolargl": [
           {
            "marker": {
             "colorbar": {
              "outlinewidth": 0,
              "ticks": ""
             }
            },
            "type": "scatterpolargl"
           }
          ],
          "scatterternary": [
           {
            "marker": {
             "colorbar": {
              "outlinewidth": 0,
              "ticks": ""
             }
            },
            "type": "scatterternary"
           }
          ],
          "surface": [
           {
            "colorbar": {
             "outlinewidth": 0,
             "ticks": ""
            },
            "colorscale": [
             [
              0,
              "#0d0887"
             ],
             [
              0.1111111111111111,
              "#46039f"
             ],
             [
              0.2222222222222222,
              "#7201a8"
             ],
             [
              0.3333333333333333,
              "#9c179e"
             ],
             [
              0.4444444444444444,
              "#bd3786"
             ],
             [
              0.5555555555555556,
              "#d8576b"
             ],
             [
              0.6666666666666666,
              "#ed7953"
             ],
             [
              0.7777777777777778,
              "#fb9f3a"
             ],
             [
              0.8888888888888888,
              "#fdca26"
             ],
             [
              1,
              "#f0f921"
             ]
            ],
            "type": "surface"
           }
          ],
          "table": [
           {
            "cells": {
             "fill": {
              "color": "#EBF0F8"
             },
             "line": {
              "color": "white"
             }
            },
            "header": {
             "fill": {
              "color": "#C8D4E3"
             },
             "line": {
              "color": "white"
             }
            },
            "type": "table"
           }
          ]
         },
         "layout": {
          "annotationdefaults": {
           "arrowcolor": "#2a3f5f",
           "arrowhead": 0,
           "arrowwidth": 1
          },
          "autotypenumbers": "strict",
          "coloraxis": {
           "colorbar": {
            "outlinewidth": 0,
            "ticks": ""
           }
          },
          "colorscale": {
           "diverging": [
            [
             0,
             "#8e0152"
            ],
            [
             0.1,
             "#c51b7d"
            ],
            [
             0.2,
             "#de77ae"
            ],
            [
             0.3,
             "#f1b6da"
            ],
            [
             0.4,
             "#fde0ef"
            ],
            [
             0.5,
             "#f7f7f7"
            ],
            [
             0.6,
             "#e6f5d0"
            ],
            [
             0.7,
             "#b8e186"
            ],
            [
             0.8,
             "#7fbc41"
            ],
            [
             0.9,
             "#4d9221"
            ],
            [
             1,
             "#276419"
            ]
           ],
           "sequential": [
            [
             0,
             "#0d0887"
            ],
            [
             0.1111111111111111,
             "#46039f"
            ],
            [
             0.2222222222222222,
             "#7201a8"
            ],
            [
             0.3333333333333333,
             "#9c179e"
            ],
            [
             0.4444444444444444,
             "#bd3786"
            ],
            [
             0.5555555555555556,
             "#d8576b"
            ],
            [
             0.6666666666666666,
             "#ed7953"
            ],
            [
             0.7777777777777778,
             "#fb9f3a"
            ],
            [
             0.8888888888888888,
             "#fdca26"
            ],
            [
             1,
             "#f0f921"
            ]
           ],
           "sequentialminus": [
            [
             0,
             "#0d0887"
            ],
            [
             0.1111111111111111,
             "#46039f"
            ],
            [
             0.2222222222222222,
             "#7201a8"
            ],
            [
             0.3333333333333333,
             "#9c179e"
            ],
            [
             0.4444444444444444,
             "#bd3786"
            ],
            [
             0.5555555555555556,
             "#d8576b"
            ],
            [
             0.6666666666666666,
             "#ed7953"
            ],
            [
             0.7777777777777778,
             "#fb9f3a"
            ],
            [
             0.8888888888888888,
             "#fdca26"
            ],
            [
             1,
             "#f0f921"
            ]
           ]
          },
          "colorway": [
           "#636efa",
           "#EF553B",
           "#00cc96",
           "#ab63fa",
           "#FFA15A",
           "#19d3f3",
           "#FF6692",
           "#B6E880",
           "#FF97FF",
           "#FECB52"
          ],
          "font": {
           "color": "#2a3f5f"
          },
          "geo": {
           "bgcolor": "white",
           "lakecolor": "white",
           "landcolor": "#E5ECF6",
           "showlakes": true,
           "showland": true,
           "subunitcolor": "white"
          },
          "hoverlabel": {
           "align": "left"
          },
          "hovermode": "closest",
          "mapbox": {
           "style": "light"
          },
          "paper_bgcolor": "white",
          "plot_bgcolor": "#E5ECF6",
          "polar": {
           "angularaxis": {
            "gridcolor": "white",
            "linecolor": "white",
            "ticks": ""
           },
           "bgcolor": "#E5ECF6",
           "radialaxis": {
            "gridcolor": "white",
            "linecolor": "white",
            "ticks": ""
           }
          },
          "scene": {
           "xaxis": {
            "backgroundcolor": "#E5ECF6",
            "gridcolor": "white",
            "gridwidth": 2,
            "linecolor": "white",
            "showbackground": true,
            "ticks": "",
            "zerolinecolor": "white"
           },
           "yaxis": {
            "backgroundcolor": "#E5ECF6",
            "gridcolor": "white",
            "gridwidth": 2,
            "linecolor": "white",
            "showbackground": true,
            "ticks": "",
            "zerolinecolor": "white"
           },
           "zaxis": {
            "backgroundcolor": "#E5ECF6",
            "gridcolor": "white",
            "gridwidth": 2,
            "linecolor": "white",
            "showbackground": true,
            "ticks": "",
            "zerolinecolor": "white"
           }
          },
          "shapedefaults": {
           "line": {
            "color": "#2a3f5f"
           }
          },
          "ternary": {
           "aaxis": {
            "gridcolor": "white",
            "linecolor": "white",
            "ticks": ""
           },
           "baxis": {
            "gridcolor": "white",
            "linecolor": "white",
            "ticks": ""
           },
           "bgcolor": "#E5ECF6",
           "caxis": {
            "gridcolor": "white",
            "linecolor": "white",
            "ticks": ""
           }
          },
          "title": {
           "x": 0.05
          },
          "xaxis": {
           "automargin": true,
           "gridcolor": "white",
           "linecolor": "white",
           "ticks": "",
           "title": {
            "standoff": 15
           },
           "zerolinecolor": "white",
           "zerolinewidth": 2
          },
          "yaxis": {
           "automargin": true,
           "gridcolor": "white",
           "linecolor": "white",
           "ticks": "",
           "title": {
            "standoff": 15
           },
           "zerolinecolor": "white",
           "zerolinewidth": 2
          }
         }
        },
        "xaxis": {
         "anchor": "y",
         "domain": [
          0,
          1
         ],
         "range": [
          10000,
          1000000
         ],
         "title": {
          "text": "x"
         },
         "type": "log"
        },
        "yaxis": {
         "anchor": "x",
         "domain": [
          0,
          1
         ],
         "range": [
          1,
          10
         ],
         "title": {
          "text": "y"
         },
         "type": "log"
        }
       }
      },
      "text/html": [
       "<div>                            <div id=\"1d93327f-9429-49c9-9a1d-501a9dde081e\" class=\"plotly-graph-div\" style=\"height:525px; width:100%;\"></div>            <script type=\"text/javascript\">                require([\"plotly\"], function(Plotly) {                    window.PLOTLYENV=window.PLOTLYENV || {};                                    if (document.getElementById(\"1d93327f-9429-49c9-9a1d-501a9dde081e\")) {                    Plotly.newPlot(                        \"1d93327f-9429-49c9-9a1d-501a9dde081e\",                        [{\"hovertemplate\":\"name=f_py_append<br>x=%{x}<br>y=%{y}<extra></extra>\",\"legendgroup\":\"f_py_append\",\"line\":{\"color\":\"#636efa\",\"dash\":\"solid\"},\"marker\":{\"symbol\":\"circle\"},\"mode\":\"lines+markers\",\"name\":\"f_py_append\",\"orientation\":\"v\",\"showlegend\":true,\"x\":[1,5,10,50,100,1000,10000,100000],\"xaxis\":\"x\",\"y\":[3.0694000000330845e-06,6.9693999999564936e-06,1.2536000000018533e-05,5.8535500000012064e-05,0.00011669890000005622,0.001158883199999927,0.011371230600000004,0.11673200210000001],\"yaxis\":\"y\",\"type\":\"scatter\"},{\"hovertemplate\":\"name=f_py<br>x=%{x}<br>y=%{y}<extra></extra>\",\"legendgroup\":\"f_py\",\"line\":{\"color\":\"#EF553B\",\"dash\":\"solid\"},\"marker\":{\"symbol\":\"circle\"},\"mode\":\"lines+markers\",\"name\":\"f_py\",\"orientation\":\"v\",\"showlegend\":true,\"x\":[1,5,10,50,100,1000,10000,100000],\"xaxis\":\"x\",\"y\":[2.6985999999951104e-06,7.352200000010356e-06,1.3329199999922992e-05,6.004700000001861e-05,0.0001208646999999452,0.0011976222999999565,0.012108730299999948,0.1207487209],\"yaxis\":\"y\",\"type\":\"scatter\"},{\"hovertemplate\":\"name=f_py_listcompr<br>x=%{x}<br>y=%{y}<extra></extra>\",\"legendgroup\":\"f_py_listcompr\",\"line\":{\"color\":\"#00cc96\",\"dash\":\"solid\"},\"marker\":{\"symbol\":\"circle\"},\"mode\":\"lines+markers\",\"name\":\"f_py_listcompr\",\"orientation\":\"v\",\"showlegend\":true,\"x\":[1,5,10,50,100,1000,10000,100000],\"xaxis\":\"x\",\"y\":[3.01080000006948e-06,6.818499999994288e-06,1.2330800000004415e-05,5.604749999994496e-05,0.00011191190000001683,0.0011188264000000282,0.011114725799999902,0.11197872170000008],\"yaxis\":\"y\",\"type\":\"scatter\"},{\"hovertemplate\":\"name=f_numpy<br>x=%{x}<br>y=%{y}<extra></extra>\",\"legendgroup\":\"f_numpy\",\"line\":{\"color\":\"#ab63fa\",\"dash\":\"solid\"},\"marker\":{\"symbol\":\"circle\"},\"mode\":\"lines+markers\",\"name\":\"f_numpy\",\"orientation\":\"v\",\"showlegend\":true,\"x\":[1,5,10,50,100,1000,10000,100000],\"xaxis\":\"x\",\"y\":[2.0620999999998447e-06,1.4053999999319444e-06,1.405200000004214e-06,1.88740000002241e-06,2.4106999999773394e-06,1.2398899999954693e-05,0.00011431950000009294,0.0010729690999999875],\"yaxis\":\"y\",\"type\":\"scatter\"},{\"hovertemplate\":\"name=f_numba<br>x=%{x}<br>y=%{y}<extra></extra>\",\"legendgroup\":\"f_numba\",\"line\":{\"color\":\"#FFA15A\",\"dash\":\"solid\"},\"marker\":{\"symbol\":\"circle\"},\"mode\":\"lines+markers\",\"name\":\"f_numba\",\"orientation\":\"v\",\"showlegend\":true,\"x\":[1,5,10,50,100,1000,10000,100000],\"xaxis\":\"x\",\"y\":[0.031971451600000034,1.8293000000113579e-06,1.7803999999621566e-06,2.201599999995807e-06,2.6795000000134906e-06,1.1214100000067617e-05,9.656129999999764e-05,0.0009431700000000376],\"yaxis\":\"y\",\"type\":\"scatter\"},{\"hovertemplate\":\"name=f_numba_parall<br>x=%{x}<br>y=%{y}<extra></extra>\",\"legendgroup\":\"f_numba_parall\",\"line\":{\"color\":\"#19d3f3\",\"dash\":\"solid\"},\"marker\":{\"symbol\":\"circle\"},\"mode\":\"lines+markers\",\"name\":\"f_numba_parall\",\"orientation\":\"v\",\"showlegend\":true,\"x\":[1,5,10,50,100,1000,10000,100000],\"xaxis\":\"x\",\"y\":[0.0308414258,0.00015021250000000209,0.00012897020000002257,0.0001309775999999374,0.0001310750000000027,0.000139695200000034,0.0001559406000000152,0.0002859872000000152],\"yaxis\":\"y\",\"type\":\"scatter\"},{\"hovertemplate\":\"name=f_numexpr<br>x=%{x}<br>y=%{y}<extra></extra>\",\"legendgroup\":\"f_numexpr\",\"line\":{\"color\":\"#FF6692\",\"dash\":\"solid\"},\"marker\":{\"symbol\":\"circle\"},\"mode\":\"lines+markers\",\"name\":\"f_numexpr\",\"orientation\":\"v\",\"showlegend\":true,\"x\":[1,5,10,50,100,1000,10000,100000],\"xaxis\":\"x\",\"y\":[5.374270000002568e-05,1.5361600000041165e-05,1.5578300000029798e-05,1.624819999994642e-05,1.6740700000017483e-05,2.642509999999376e-05,0.00012872289999990016,0.00035068750000011306],\"yaxis\":\"y\",\"type\":\"scatter\"}],                        {\"template\":{\"data\":{\"histogram2dcontour\":[{\"type\":\"histogram2dcontour\",\"colorbar\":{\"outlinewidth\":0,\"ticks\":\"\"},\"colorscale\":[[0.0,\"#0d0887\"],[0.1111111111111111,\"#46039f\"],[0.2222222222222222,\"#7201a8\"],[0.3333333333333333,\"#9c179e\"],[0.4444444444444444,\"#bd3786\"],[0.5555555555555556,\"#d8576b\"],[0.6666666666666666,\"#ed7953\"],[0.7777777777777778,\"#fb9f3a\"],[0.8888888888888888,\"#fdca26\"],[1.0,\"#f0f921\"]]}],\"choropleth\":[{\"type\":\"choropleth\",\"colorbar\":{\"outlinewidth\":0,\"ticks\":\"\"}}],\"histogram2d\":[{\"type\":\"histogram2d\",\"colorbar\":{\"outlinewidth\":0,\"ticks\":\"\"},\"colorscale\":[[0.0,\"#0d0887\"],[0.1111111111111111,\"#46039f\"],[0.2222222222222222,\"#7201a8\"],[0.3333333333333333,\"#9c179e\"],[0.4444444444444444,\"#bd3786\"],[0.5555555555555556,\"#d8576b\"],[0.6666666666666666,\"#ed7953\"],[0.7777777777777778,\"#fb9f3a\"],[0.8888888888888888,\"#fdca26\"],[1.0,\"#f0f921\"]]}],\"heatmap\":[{\"type\":\"heatmap\",\"colorbar\":{\"outlinewidth\":0,\"ticks\":\"\"},\"colorscale\":[[0.0,\"#0d0887\"],[0.1111111111111111,\"#46039f\"],[0.2222222222222222,\"#7201a8\"],[0.3333333333333333,\"#9c179e\"],[0.4444444444444444,\"#bd3786\"],[0.5555555555555556,\"#d8576b\"],[0.6666666666666666,\"#ed7953\"],[0.7777777777777778,\"#fb9f3a\"],[0.8888888888888888,\"#fdca26\"],[1.0,\"#f0f921\"]]}],\"heatmapgl\":[{\"type\":\"heatmapgl\",\"colorbar\":{\"outlinewidth\":0,\"ticks\":\"\"},\"colorscale\":[[0.0,\"#0d0887\"],[0.1111111111111111,\"#46039f\"],[0.2222222222222222,\"#7201a8\"],[0.3333333333333333,\"#9c179e\"],[0.4444444444444444,\"#bd3786\"],[0.5555555555555556,\"#d8576b\"],[0.6666666666666666,\"#ed7953\"],[0.7777777777777778,\"#fb9f3a\"],[0.8888888888888888,\"#fdca26\"],[1.0,\"#f0f921\"]]}],\"contourcarpet\":[{\"type\":\"contourcarpet\",\"colorbar\":{\"outlinewidth\":0,\"ticks\":\"\"}}],\"contour\":[{\"type\":\"contour\",\"colorbar\":{\"outlinewidth\":0,\"ticks\":\"\"},\"colorscale\":[[0.0,\"#0d0887\"],[0.1111111111111111,\"#46039f\"],[0.2222222222222222,\"#7201a8\"],[0.3333333333333333,\"#9c179e\"],[0.4444444444444444,\"#bd3786\"],[0.5555555555555556,\"#d8576b\"],[0.6666666666666666,\"#ed7953\"],[0.7777777777777778,\"#fb9f3a\"],[0.8888888888888888,\"#fdca26\"],[1.0,\"#f0f921\"]]}],\"surface\":[{\"type\":\"surface\",\"colorbar\":{\"outlinewidth\":0,\"ticks\":\"\"},\"colorscale\":[[0.0,\"#0d0887\"],[0.1111111111111111,\"#46039f\"],[0.2222222222222222,\"#7201a8\"],[0.3333333333333333,\"#9c179e\"],[0.4444444444444444,\"#bd3786\"],[0.5555555555555556,\"#d8576b\"],[0.6666666666666666,\"#ed7953\"],[0.7777777777777778,\"#fb9f3a\"],[0.8888888888888888,\"#fdca26\"],[1.0,\"#f0f921\"]]}],\"mesh3d\":[{\"type\":\"mesh3d\",\"colorbar\":{\"outlinewidth\":0,\"ticks\":\"\"}}],\"scatter\":[{\"fillpattern\":{\"fillmode\":\"overlay\",\"size\":10,\"solidity\":0.2},\"type\":\"scatter\"}],\"parcoords\":[{\"type\":\"parcoords\",\"line\":{\"colorbar\":{\"outlinewidth\":0,\"ticks\":\"\"}}}],\"scatterpolargl\":[{\"type\":\"scatterpolargl\",\"marker\":{\"colorbar\":{\"outlinewidth\":0,\"ticks\":\"\"}}}],\"bar\":[{\"error_x\":{\"color\":\"#2a3f5f\"},\"error_y\":{\"color\":\"#2a3f5f\"},\"marker\":{\"line\":{\"color\":\"#E5ECF6\",\"width\":0.5},\"pattern\":{\"fillmode\":\"overlay\",\"size\":10,\"solidity\":0.2}},\"type\":\"bar\"}],\"scattergeo\":[{\"type\":\"scattergeo\",\"marker\":{\"colorbar\":{\"outlinewidth\":0,\"ticks\":\"\"}}}],\"scatterpolar\":[{\"type\":\"scatterpolar\",\"marker\":{\"colorbar\":{\"outlinewidth\":0,\"ticks\":\"\"}}}],\"histogram\":[{\"marker\":{\"pattern\":{\"fillmode\":\"overlay\",\"size\":10,\"solidity\":0.2}},\"type\":\"histogram\"}],\"scattergl\":[{\"type\":\"scattergl\",\"marker\":{\"colorbar\":{\"outlinewidth\":0,\"ticks\":\"\"}}}],\"scatter3d\":[{\"type\":\"scatter3d\",\"line\":{\"colorbar\":{\"outlinewidth\":0,\"ticks\":\"\"}},\"marker\":{\"colorbar\":{\"outlinewidth\":0,\"ticks\":\"\"}}}],\"scattermapbox\":[{\"type\":\"scattermapbox\",\"marker\":{\"colorbar\":{\"outlinewidth\":0,\"ticks\":\"\"}}}],\"scatterternary\":[{\"type\":\"scatterternary\",\"marker\":{\"colorbar\":{\"outlinewidth\":0,\"ticks\":\"\"}}}],\"scattercarpet\":[{\"type\":\"scattercarpet\",\"marker\":{\"colorbar\":{\"outlinewidth\":0,\"ticks\":\"\"}}}],\"carpet\":[{\"aaxis\":{\"endlinecolor\":\"#2a3f5f\",\"gridcolor\":\"white\",\"linecolor\":\"white\",\"minorgridcolor\":\"white\",\"startlinecolor\":\"#2a3f5f\"},\"baxis\":{\"endlinecolor\":\"#2a3f5f\",\"gridcolor\":\"white\",\"linecolor\":\"white\",\"minorgridcolor\":\"white\",\"startlinecolor\":\"#2a3f5f\"},\"type\":\"carpet\"}],\"table\":[{\"cells\":{\"fill\":{\"color\":\"#EBF0F8\"},\"line\":{\"color\":\"white\"}},\"header\":{\"fill\":{\"color\":\"#C8D4E3\"},\"line\":{\"color\":\"white\"}},\"type\":\"table\"}],\"barpolar\":[{\"marker\":{\"line\":{\"color\":\"#E5ECF6\",\"width\":0.5},\"pattern\":{\"fillmode\":\"overlay\",\"size\":10,\"solidity\":0.2}},\"type\":\"barpolar\"}],\"pie\":[{\"automargin\":true,\"type\":\"pie\"}]},\"layout\":{\"autotypenumbers\":\"strict\",\"colorway\":[\"#636efa\",\"#EF553B\",\"#00cc96\",\"#ab63fa\",\"#FFA15A\",\"#19d3f3\",\"#FF6692\",\"#B6E880\",\"#FF97FF\",\"#FECB52\"],\"font\":{\"color\":\"#2a3f5f\"},\"hovermode\":\"closest\",\"hoverlabel\":{\"align\":\"left\"},\"paper_bgcolor\":\"white\",\"plot_bgcolor\":\"#E5ECF6\",\"polar\":{\"bgcolor\":\"#E5ECF6\",\"angularaxis\":{\"gridcolor\":\"white\",\"linecolor\":\"white\",\"ticks\":\"\"},\"radialaxis\":{\"gridcolor\":\"white\",\"linecolor\":\"white\",\"ticks\":\"\"}},\"ternary\":{\"bgcolor\":\"#E5ECF6\",\"aaxis\":{\"gridcolor\":\"white\",\"linecolor\":\"white\",\"ticks\":\"\"},\"baxis\":{\"gridcolor\":\"white\",\"linecolor\":\"white\",\"ticks\":\"\"},\"caxis\":{\"gridcolor\":\"white\",\"linecolor\":\"white\",\"ticks\":\"\"}},\"coloraxis\":{\"colorbar\":{\"outlinewidth\":0,\"ticks\":\"\"}},\"colorscale\":{\"sequential\":[[0.0,\"#0d0887\"],[0.1111111111111111,\"#46039f\"],[0.2222222222222222,\"#7201a8\"],[0.3333333333333333,\"#9c179e\"],[0.4444444444444444,\"#bd3786\"],[0.5555555555555556,\"#d8576b\"],[0.6666666666666666,\"#ed7953\"],[0.7777777777777778,\"#fb9f3a\"],[0.8888888888888888,\"#fdca26\"],[1.0,\"#f0f921\"]],\"sequentialminus\":[[0.0,\"#0d0887\"],[0.1111111111111111,\"#46039f\"],[0.2222222222222222,\"#7201a8\"],[0.3333333333333333,\"#9c179e\"],[0.4444444444444444,\"#bd3786\"],[0.5555555555555556,\"#d8576b\"],[0.6666666666666666,\"#ed7953\"],[0.7777777777777778,\"#fb9f3a\"],[0.8888888888888888,\"#fdca26\"],[1.0,\"#f0f921\"]],\"diverging\":[[0,\"#8e0152\"],[0.1,\"#c51b7d\"],[0.2,\"#de77ae\"],[0.3,\"#f1b6da\"],[0.4,\"#fde0ef\"],[0.5,\"#f7f7f7\"],[0.6,\"#e6f5d0\"],[0.7,\"#b8e186\"],[0.8,\"#7fbc41\"],[0.9,\"#4d9221\"],[1,\"#276419\"]]},\"xaxis\":{\"gridcolor\":\"white\",\"linecolor\":\"white\",\"ticks\":\"\",\"title\":{\"standoff\":15},\"zerolinecolor\":\"white\",\"automargin\":true,\"zerolinewidth\":2},\"yaxis\":{\"gridcolor\":\"white\",\"linecolor\":\"white\",\"ticks\":\"\",\"title\":{\"standoff\":15},\"zerolinecolor\":\"white\",\"automargin\":true,\"zerolinewidth\":2},\"scene\":{\"xaxis\":{\"backgroundcolor\":\"#E5ECF6\",\"gridcolor\":\"white\",\"linecolor\":\"white\",\"showbackground\":true,\"ticks\":\"\",\"zerolinecolor\":\"white\",\"gridwidth\":2},\"yaxis\":{\"backgroundcolor\":\"#E5ECF6\",\"gridcolor\":\"white\",\"linecolor\":\"white\",\"showbackground\":true,\"ticks\":\"\",\"zerolinecolor\":\"white\",\"gridwidth\":2},\"zaxis\":{\"backgroundcolor\":\"#E5ECF6\",\"gridcolor\":\"white\",\"linecolor\":\"white\",\"showbackground\":true,\"ticks\":\"\",\"zerolinecolor\":\"white\",\"gridwidth\":2}},\"shapedefaults\":{\"line\":{\"color\":\"#2a3f5f\"}},\"annotationdefaults\":{\"arrowcolor\":\"#2a3f5f\",\"arrowhead\":0,\"arrowwidth\":1},\"geo\":{\"bgcolor\":\"white\",\"landcolor\":\"#E5ECF6\",\"subunitcolor\":\"white\",\"showland\":true,\"showlakes\":true,\"lakecolor\":\"white\"},\"title\":{\"x\":0.05},\"mapbox\":{\"style\":\"light\"}}},\"xaxis\":{\"anchor\":\"y\",\"domain\":[0.0,1.0],\"title\":{\"text\":\"x\"},\"type\":\"log\",\"range\":[10000,1000000]},\"yaxis\":{\"anchor\":\"x\",\"domain\":[0.0,1.0],\"title\":{\"text\":\"y\"},\"type\":\"log\",\"range\":[1,10]},\"legend\":{\"title\":{\"text\":\"name\"},\"tracegroupgap\":0},\"margin\":{\"t\":60}},                        {\"responsive\": true}                    ).then(function(){\n",
       "                            \n",
       "var gd = document.getElementById('1d93327f-9429-49c9-9a1d-501a9dde081e');\n",
       "var x = new MutationObserver(function (mutations, observer) {{\n",
       "        var display = window.getComputedStyle(gd).display;\n",
       "        if (!display || display === 'none') {{\n",
       "            console.log([gd, 'removed!']);\n",
       "            Plotly.purge(gd);\n",
       "            observer.disconnect();\n",
       "        }}\n",
       "}});\n",
       "\n",
       "// Listen for the removal of the full notebook cells\n",
       "var notebookContainer = gd.closest('#notebook-container');\n",
       "if (notebookContainer) {{\n",
       "    x.observe(notebookContainer, {childList: true});\n",
       "}}\n",
       "\n",
       "// Listen for the clearing of the current output cell\n",
       "var outputEl = gd.closest('.output');\n",
       "if (outputEl) {{\n",
       "    x.observe(outputEl, {childList: true});\n",
       "}}\n",
       "\n",
       "                        })                };                });            </script>        </div>"
      ]
     },
     "metadata": {},
     "output_type": "display_data"
    }
   ],
   "source": [
    "#fig.update_xaxes(range=[10000,1000000])\n",
    "fig.update_layout(yaxis_range=[1,10])\n",
    "fig.show()"
   ]
  },
  {
   "cell_type": "code",
   "execution_count": 19,
   "id": "73546d38",
   "metadata": {},
   "outputs": [
    {
     "ename": "ValueError",
     "evalue": "All arguments should have the same length. The length of argument `wide_variable_0` is 7, whereas the length of  previously-processed arguments ['x'] is 8",
     "output_type": "error",
     "traceback": [
      "\u001B[0;31m---------------------------------------------------------------------------\u001B[0m",
      "\u001B[0;31mValueError\u001B[0m                                Traceback (most recent call last)",
      "Cell \u001B[0;32mIn[19], line 1\u001B[0m\n\u001B[0;32m----> 1\u001B[0m fig \u001B[38;5;241m=\u001B[39m \u001B[43mpx\u001B[49m\u001B[38;5;241;43m.\u001B[39;49m\u001B[43mline\u001B[49m\u001B[43m(\u001B[49m\u001B[43mx\u001B[49m\u001B[38;5;241;43m=\u001B[39;49m\u001B[43msizes\u001B[49m\u001B[43m \u001B[49m\u001B[43m,\u001B[49m\u001B[43m \u001B[49m\u001B[43my\u001B[49m\u001B[38;5;241;43m=\u001B[39;49m\u001B[43mtimes\u001B[49m\u001B[43m[\u001B[49m\u001B[43m:\u001B[49m\u001B[43m,\u001B[49m\u001B[43m \u001B[49m\u001B[43m:\u001B[49m\u001B[43m]\u001B[49m\u001B[43m)\u001B[49m\n\u001B[1;32m      2\u001B[0m \u001B[38;5;66;03m#fig = px.bar(x=[\"a\", \"b\", \"c\"], y=[1, 3, 2])\u001B[39;00m\n",
      "File \u001B[0;32m~/Development/GitHub/easyScience/EasyExampleApp/.venv/lib/python3.9/site-packages/plotly/express/_chart_types.py:264\u001B[0m, in \u001B[0;36mline\u001B[0;34m(data_frame, x, y, line_group, color, line_dash, symbol, hover_name, hover_data, custom_data, text, facet_row, facet_col, facet_col_wrap, facet_row_spacing, facet_col_spacing, error_x, error_x_minus, error_y, error_y_minus, animation_frame, animation_group, category_orders, labels, orientation, color_discrete_sequence, color_discrete_map, line_dash_sequence, line_dash_map, symbol_sequence, symbol_map, markers, log_x, log_y, range_x, range_y, line_shape, render_mode, title, template, width, height)\u001B[0m\n\u001B[1;32m    216\u001B[0m \u001B[38;5;28;01mdef\u001B[39;00m \u001B[38;5;21mline\u001B[39m(\n\u001B[1;32m    217\u001B[0m     data_frame\u001B[38;5;241m=\u001B[39m\u001B[38;5;28;01mNone\u001B[39;00m,\n\u001B[1;32m    218\u001B[0m     x\u001B[38;5;241m=\u001B[39m\u001B[38;5;28;01mNone\u001B[39;00m,\n\u001B[0;32m   (...)\u001B[0m\n\u001B[1;32m    258\u001B[0m     height\u001B[38;5;241m=\u001B[39m\u001B[38;5;28;01mNone\u001B[39;00m,\n\u001B[1;32m    259\u001B[0m ) \u001B[38;5;241m-\u001B[39m\u001B[38;5;241m>\u001B[39m go\u001B[38;5;241m.\u001B[39mFigure:\n\u001B[1;32m    260\u001B[0m \u001B[38;5;250m    \u001B[39m\u001B[38;5;124;03m\"\"\"\u001B[39;00m\n\u001B[1;32m    261\u001B[0m \u001B[38;5;124;03m    In a 2D line plot, each row of `data_frame` is represented as vertex of\u001B[39;00m\n\u001B[1;32m    262\u001B[0m \u001B[38;5;124;03m    a polyline mark in 2D space.\u001B[39;00m\n\u001B[1;32m    263\u001B[0m \u001B[38;5;124;03m    \"\"\"\u001B[39;00m\n\u001B[0;32m--> 264\u001B[0m     \u001B[38;5;28;01mreturn\u001B[39;00m \u001B[43mmake_figure\u001B[49m\u001B[43m(\u001B[49m\u001B[43margs\u001B[49m\u001B[38;5;241;43m=\u001B[39;49m\u001B[38;5;28;43mlocals\u001B[39;49m\u001B[43m(\u001B[49m\u001B[43m)\u001B[49m\u001B[43m,\u001B[49m\u001B[43m \u001B[49m\u001B[43mconstructor\u001B[49m\u001B[38;5;241;43m=\u001B[39;49m\u001B[43mgo\u001B[49m\u001B[38;5;241;43m.\u001B[39;49m\u001B[43mScatter\u001B[49m\u001B[43m)\u001B[49m\n",
      "File \u001B[0;32m~/Development/GitHub/easyScience/EasyExampleApp/.venv/lib/python3.9/site-packages/plotly/express/_core.py:1991\u001B[0m, in \u001B[0;36mmake_figure\u001B[0;34m(args, constructor, trace_patch, layout_patch)\u001B[0m\n\u001B[1;32m   1988\u001B[0m layout_patch \u001B[38;5;241m=\u001B[39m layout_patch \u001B[38;5;129;01mor\u001B[39;00m {}\n\u001B[1;32m   1989\u001B[0m apply_default_cascade(args)\n\u001B[0;32m-> 1991\u001B[0m args \u001B[38;5;241m=\u001B[39m \u001B[43mbuild_dataframe\u001B[49m\u001B[43m(\u001B[49m\u001B[43margs\u001B[49m\u001B[43m,\u001B[49m\u001B[43m \u001B[49m\u001B[43mconstructor\u001B[49m\u001B[43m)\u001B[49m\n\u001B[1;32m   1992\u001B[0m \u001B[38;5;28;01mif\u001B[39;00m constructor \u001B[38;5;129;01min\u001B[39;00m [go\u001B[38;5;241m.\u001B[39mTreemap, go\u001B[38;5;241m.\u001B[39mSunburst, go\u001B[38;5;241m.\u001B[39mIcicle] \u001B[38;5;129;01mand\u001B[39;00m args[\u001B[38;5;124m\"\u001B[39m\u001B[38;5;124mpath\u001B[39m\u001B[38;5;124m\"\u001B[39m] \u001B[38;5;129;01mis\u001B[39;00m \u001B[38;5;129;01mnot\u001B[39;00m \u001B[38;5;28;01mNone\u001B[39;00m:\n\u001B[1;32m   1993\u001B[0m     args \u001B[38;5;241m=\u001B[39m process_dataframe_hierarchy(args)\n",
      "File \u001B[0;32m~/Development/GitHub/easyScience/EasyExampleApp/.venv/lib/python3.9/site-packages/plotly/express/_core.py:1406\u001B[0m, in \u001B[0;36mbuild_dataframe\u001B[0;34m(args, constructor)\u001B[0m\n\u001B[1;32m   1403\u001B[0m     args[\u001B[38;5;124m\"\u001B[39m\u001B[38;5;124mcolor\u001B[39m\u001B[38;5;124m\"\u001B[39m] \u001B[38;5;241m=\u001B[39m \u001B[38;5;28;01mNone\u001B[39;00m\n\u001B[1;32m   1404\u001B[0m \u001B[38;5;66;03m# now that things have been prepped, we do the systematic rewriting of `args`\u001B[39;00m\n\u001B[0;32m-> 1406\u001B[0m df_output, wide_id_vars \u001B[38;5;241m=\u001B[39m \u001B[43mprocess_args_into_dataframe\u001B[49m\u001B[43m(\u001B[49m\n\u001B[1;32m   1407\u001B[0m \u001B[43m    \u001B[49m\u001B[43margs\u001B[49m\u001B[43m,\u001B[49m\u001B[43m \u001B[49m\u001B[43mwide_mode\u001B[49m\u001B[43m,\u001B[49m\u001B[43m \u001B[49m\u001B[43mvar_name\u001B[49m\u001B[43m,\u001B[49m\u001B[43m \u001B[49m\u001B[43mvalue_name\u001B[49m\n\u001B[1;32m   1408\u001B[0m \u001B[43m\u001B[49m\u001B[43m)\u001B[49m\n\u001B[1;32m   1410\u001B[0m \u001B[38;5;66;03m# now that `df_output` exists and `args` contains only references, we complete\u001B[39;00m\n\u001B[1;32m   1411\u001B[0m \u001B[38;5;66;03m# the special-case and wide-mode handling by further rewriting args and/or mutating\u001B[39;00m\n\u001B[1;32m   1412\u001B[0m \u001B[38;5;66;03m# df_output\u001B[39;00m\n\u001B[1;32m   1414\u001B[0m count_name \u001B[38;5;241m=\u001B[39m _escape_col_name(df_output, \u001B[38;5;124m\"\u001B[39m\u001B[38;5;124mcount\u001B[39m\u001B[38;5;124m\"\u001B[39m, [var_name, value_name])\n",
      "File \u001B[0;32m~/Development/GitHub/easyScience/EasyExampleApp/.venv/lib/python3.9/site-packages/plotly/express/_core.py:1246\u001B[0m, in \u001B[0;36mprocess_args_into_dataframe\u001B[0;34m(args, wide_mode, var_name, value_name)\u001B[0m\n\u001B[1;32m   1243\u001B[0m         col_name \u001B[38;5;241m=\u001B[39m _check_name_not_reserved(field, reserved_names)\n\u001B[1;32m   1245\u001B[0m     \u001B[38;5;28;01mif\u001B[39;00m length \u001B[38;5;129;01mand\u001B[39;00m \u001B[38;5;28mlen\u001B[39m(argument) \u001B[38;5;241m!=\u001B[39m length:\n\u001B[0;32m-> 1246\u001B[0m         \u001B[38;5;28;01mraise\u001B[39;00m \u001B[38;5;167;01mValueError\u001B[39;00m(\n\u001B[1;32m   1247\u001B[0m             \u001B[38;5;124m\"\u001B[39m\u001B[38;5;124mAll arguments should have the same length. \u001B[39m\u001B[38;5;124m\"\u001B[39m\n\u001B[1;32m   1248\u001B[0m             \u001B[38;5;124m\"\u001B[39m\u001B[38;5;124mThe length of argument `\u001B[39m\u001B[38;5;132;01m%s\u001B[39;00m\u001B[38;5;124m` is \u001B[39m\u001B[38;5;132;01m%d\u001B[39;00m\u001B[38;5;124m, whereas the \u001B[39m\u001B[38;5;124m\"\u001B[39m\n\u001B[1;32m   1249\u001B[0m             \u001B[38;5;124m\"\u001B[39m\u001B[38;5;124mlength of  previously-processed arguments \u001B[39m\u001B[38;5;132;01m%s\u001B[39;00m\u001B[38;5;124m is \u001B[39m\u001B[38;5;132;01m%d\u001B[39;00m\u001B[38;5;124m\"\u001B[39m\n\u001B[1;32m   1250\u001B[0m             \u001B[38;5;241m%\u001B[39m (field, \u001B[38;5;28mlen\u001B[39m(argument), \u001B[38;5;28mstr\u001B[39m(\u001B[38;5;28mlist\u001B[39m(df_output\u001B[38;5;241m.\u001B[39mcolumns)), length)\n\u001B[1;32m   1251\u001B[0m         )\n\u001B[1;32m   1252\u001B[0m     df_output[\u001B[38;5;28mstr\u001B[39m(col_name)] \u001B[38;5;241m=\u001B[39m to_unindexed_series(argument)\n\u001B[1;32m   1254\u001B[0m \u001B[38;5;66;03m# Finally, update argument with column name now that column exists\u001B[39;00m\n",
      "\u001B[0;31mValueError\u001B[0m: All arguments should have the same length. The length of argument `wide_variable_0` is 7, whereas the length of  previously-processed arguments ['x'] is 8"
     ]
    }
   ],
   "source": [
    "fig = px.line(x=sizes , y=times[:, :])\n",
    "#fig = px.bar(x=[\"a\", \"b\", \"c\"], y=[1, 3, 2])"
   ]
  },
  {
   "cell_type": "code",
   "execution_count": 20,
   "id": "91648f52",
   "metadata": {},
   "outputs": [
    {
     "data": {
      "application/vnd.plotly.v1+json": {
       "config": {
        "plotlyServerURL": "https://plot.ly"
       },
       "data": [
        {
         "hovertemplate": "x=%{x}<br>y=%{y}<extra></extra>",
         "legendgroup": "",
         "line": {
          "color": "#636efa",
          "dash": "solid"
         },
         "marker": {
          "symbol": "circle"
         },
         "mode": "lines",
         "name": "",
         "orientation": "v",
         "showlegend": false,
         "type": "scatter",
         "x": [
          1,
          5,
          10,
          50,
          100,
          1000,
          10000,
          100000
         ],
         "xaxis": "x",
         "y": [
          5.374270000002568E-5,
          1.5361600000041165E-5,
          1.5578300000029798E-5,
          1.624819999994642E-5,
          1.6740700000017483E-5,
          2.642509999999376E-5,
          1.2872289999990016E-4,
          3.5068750000011306E-4
         ],
         "yaxis": "y"
        }
       ],
       "layout": {
        "legend": {
         "tracegroupgap": 0
        },
        "margin": {
         "t": 60
        },
        "template": {
         "data": {
          "bar": [
           {
            "error_x": {
             "color": "#2a3f5f"
            },
            "error_y": {
             "color": "#2a3f5f"
            },
            "marker": {
             "line": {
              "color": "#E5ECF6",
              "width": 0.5
             },
             "pattern": {
              "fillmode": "overlay",
              "size": 10,
              "solidity": 0.2
             }
            },
            "type": "bar"
           }
          ],
          "barpolar": [
           {
            "marker": {
             "line": {
              "color": "#E5ECF6",
              "width": 0.5
             },
             "pattern": {
              "fillmode": "overlay",
              "size": 10,
              "solidity": 0.2
             }
            },
            "type": "barpolar"
           }
          ],
          "carpet": [
           {
            "aaxis": {
             "endlinecolor": "#2a3f5f",
             "gridcolor": "white",
             "linecolor": "white",
             "minorgridcolor": "white",
             "startlinecolor": "#2a3f5f"
            },
            "baxis": {
             "endlinecolor": "#2a3f5f",
             "gridcolor": "white",
             "linecolor": "white",
             "minorgridcolor": "white",
             "startlinecolor": "#2a3f5f"
            },
            "type": "carpet"
           }
          ],
          "choropleth": [
           {
            "colorbar": {
             "outlinewidth": 0,
             "ticks": ""
            },
            "type": "choropleth"
           }
          ],
          "contour": [
           {
            "colorbar": {
             "outlinewidth": 0,
             "ticks": ""
            },
            "colorscale": [
             [
              0,
              "#0d0887"
             ],
             [
              0.1111111111111111,
              "#46039f"
             ],
             [
              0.2222222222222222,
              "#7201a8"
             ],
             [
              0.3333333333333333,
              "#9c179e"
             ],
             [
              0.4444444444444444,
              "#bd3786"
             ],
             [
              0.5555555555555556,
              "#d8576b"
             ],
             [
              0.6666666666666666,
              "#ed7953"
             ],
             [
              0.7777777777777778,
              "#fb9f3a"
             ],
             [
              0.8888888888888888,
              "#fdca26"
             ],
             [
              1,
              "#f0f921"
             ]
            ],
            "type": "contour"
           }
          ],
          "contourcarpet": [
           {
            "colorbar": {
             "outlinewidth": 0,
             "ticks": ""
            },
            "type": "contourcarpet"
           }
          ],
          "heatmap": [
           {
            "colorbar": {
             "outlinewidth": 0,
             "ticks": ""
            },
            "colorscale": [
             [
              0,
              "#0d0887"
             ],
             [
              0.1111111111111111,
              "#46039f"
             ],
             [
              0.2222222222222222,
              "#7201a8"
             ],
             [
              0.3333333333333333,
              "#9c179e"
             ],
             [
              0.4444444444444444,
              "#bd3786"
             ],
             [
              0.5555555555555556,
              "#d8576b"
             ],
             [
              0.6666666666666666,
              "#ed7953"
             ],
             [
              0.7777777777777778,
              "#fb9f3a"
             ],
             [
              0.8888888888888888,
              "#fdca26"
             ],
             [
              1,
              "#f0f921"
             ]
            ],
            "type": "heatmap"
           }
          ],
          "heatmapgl": [
           {
            "colorbar": {
             "outlinewidth": 0,
             "ticks": ""
            },
            "colorscale": [
             [
              0,
              "#0d0887"
             ],
             [
              0.1111111111111111,
              "#46039f"
             ],
             [
              0.2222222222222222,
              "#7201a8"
             ],
             [
              0.3333333333333333,
              "#9c179e"
             ],
             [
              0.4444444444444444,
              "#bd3786"
             ],
             [
              0.5555555555555556,
              "#d8576b"
             ],
             [
              0.6666666666666666,
              "#ed7953"
             ],
             [
              0.7777777777777778,
              "#fb9f3a"
             ],
             [
              0.8888888888888888,
              "#fdca26"
             ],
             [
              1,
              "#f0f921"
             ]
            ],
            "type": "heatmapgl"
           }
          ],
          "histogram": [
           {
            "marker": {
             "pattern": {
              "fillmode": "overlay",
              "size": 10,
              "solidity": 0.2
             }
            },
            "type": "histogram"
           }
          ],
          "histogram2d": [
           {
            "colorbar": {
             "outlinewidth": 0,
             "ticks": ""
            },
            "colorscale": [
             [
              0,
              "#0d0887"
             ],
             [
              0.1111111111111111,
              "#46039f"
             ],
             [
              0.2222222222222222,
              "#7201a8"
             ],
             [
              0.3333333333333333,
              "#9c179e"
             ],
             [
              0.4444444444444444,
              "#bd3786"
             ],
             [
              0.5555555555555556,
              "#d8576b"
             ],
             [
              0.6666666666666666,
              "#ed7953"
             ],
             [
              0.7777777777777778,
              "#fb9f3a"
             ],
             [
              0.8888888888888888,
              "#fdca26"
             ],
             [
              1,
              "#f0f921"
             ]
            ],
            "type": "histogram2d"
           }
          ],
          "histogram2dcontour": [
           {
            "colorbar": {
             "outlinewidth": 0,
             "ticks": ""
            },
            "colorscale": [
             [
              0,
              "#0d0887"
             ],
             [
              0.1111111111111111,
              "#46039f"
             ],
             [
              0.2222222222222222,
              "#7201a8"
             ],
             [
              0.3333333333333333,
              "#9c179e"
             ],
             [
              0.4444444444444444,
              "#bd3786"
             ],
             [
              0.5555555555555556,
              "#d8576b"
             ],
             [
              0.6666666666666666,
              "#ed7953"
             ],
             [
              0.7777777777777778,
              "#fb9f3a"
             ],
             [
              0.8888888888888888,
              "#fdca26"
             ],
             [
              1,
              "#f0f921"
             ]
            ],
            "type": "histogram2dcontour"
           }
          ],
          "mesh3d": [
           {
            "colorbar": {
             "outlinewidth": 0,
             "ticks": ""
            },
            "type": "mesh3d"
           }
          ],
          "parcoords": [
           {
            "line": {
             "colorbar": {
              "outlinewidth": 0,
              "ticks": ""
             }
            },
            "type": "parcoords"
           }
          ],
          "pie": [
           {
            "automargin": true,
            "type": "pie"
           }
          ],
          "scatter": [
           {
            "fillpattern": {
             "fillmode": "overlay",
             "size": 10,
             "solidity": 0.2
            },
            "type": "scatter"
           }
          ],
          "scatter3d": [
           {
            "line": {
             "colorbar": {
              "outlinewidth": 0,
              "ticks": ""
             }
            },
            "marker": {
             "colorbar": {
              "outlinewidth": 0,
              "ticks": ""
             }
            },
            "type": "scatter3d"
           }
          ],
          "scattercarpet": [
           {
            "marker": {
             "colorbar": {
              "outlinewidth": 0,
              "ticks": ""
             }
            },
            "type": "scattercarpet"
           }
          ],
          "scattergeo": [
           {
            "marker": {
             "colorbar": {
              "outlinewidth": 0,
              "ticks": ""
             }
            },
            "type": "scattergeo"
           }
          ],
          "scattergl": [
           {
            "marker": {
             "colorbar": {
              "outlinewidth": 0,
              "ticks": ""
             }
            },
            "type": "scattergl"
           }
          ],
          "scattermapbox": [
           {
            "marker": {
             "colorbar": {
              "outlinewidth": 0,
              "ticks": ""
             }
            },
            "type": "scattermapbox"
           }
          ],
          "scatterpolar": [
           {
            "marker": {
             "colorbar": {
              "outlinewidth": 0,
              "ticks": ""
             }
            },
            "type": "scatterpolar"
           }
          ],
          "scatterpolargl": [
           {
            "marker": {
             "colorbar": {
              "outlinewidth": 0,
              "ticks": ""
             }
            },
            "type": "scatterpolargl"
           }
          ],
          "scatterternary": [
           {
            "marker": {
             "colorbar": {
              "outlinewidth": 0,
              "ticks": ""
             }
            },
            "type": "scatterternary"
           }
          ],
          "surface": [
           {
            "colorbar": {
             "outlinewidth": 0,
             "ticks": ""
            },
            "colorscale": [
             [
              0,
              "#0d0887"
             ],
             [
              0.1111111111111111,
              "#46039f"
             ],
             [
              0.2222222222222222,
              "#7201a8"
             ],
             [
              0.3333333333333333,
              "#9c179e"
             ],
             [
              0.4444444444444444,
              "#bd3786"
             ],
             [
              0.5555555555555556,
              "#d8576b"
             ],
             [
              0.6666666666666666,
              "#ed7953"
             ],
             [
              0.7777777777777778,
              "#fb9f3a"
             ],
             [
              0.8888888888888888,
              "#fdca26"
             ],
             [
              1,
              "#f0f921"
             ]
            ],
            "type": "surface"
           }
          ],
          "table": [
           {
            "cells": {
             "fill": {
              "color": "#EBF0F8"
             },
             "line": {
              "color": "white"
             }
            },
            "header": {
             "fill": {
              "color": "#C8D4E3"
             },
             "line": {
              "color": "white"
             }
            },
            "type": "table"
           }
          ]
         },
         "layout": {
          "annotationdefaults": {
           "arrowcolor": "#2a3f5f",
           "arrowhead": 0,
           "arrowwidth": 1
          },
          "autotypenumbers": "strict",
          "coloraxis": {
           "colorbar": {
            "outlinewidth": 0,
            "ticks": ""
           }
          },
          "colorscale": {
           "diverging": [
            [
             0,
             "#8e0152"
            ],
            [
             0.1,
             "#c51b7d"
            ],
            [
             0.2,
             "#de77ae"
            ],
            [
             0.3,
             "#f1b6da"
            ],
            [
             0.4,
             "#fde0ef"
            ],
            [
             0.5,
             "#f7f7f7"
            ],
            [
             0.6,
             "#e6f5d0"
            ],
            [
             0.7,
             "#b8e186"
            ],
            [
             0.8,
             "#7fbc41"
            ],
            [
             0.9,
             "#4d9221"
            ],
            [
             1,
             "#276419"
            ]
           ],
           "sequential": [
            [
             0,
             "#0d0887"
            ],
            [
             0.1111111111111111,
             "#46039f"
            ],
            [
             0.2222222222222222,
             "#7201a8"
            ],
            [
             0.3333333333333333,
             "#9c179e"
            ],
            [
             0.4444444444444444,
             "#bd3786"
            ],
            [
             0.5555555555555556,
             "#d8576b"
            ],
            [
             0.6666666666666666,
             "#ed7953"
            ],
            [
             0.7777777777777778,
             "#fb9f3a"
            ],
            [
             0.8888888888888888,
             "#fdca26"
            ],
            [
             1,
             "#f0f921"
            ]
           ],
           "sequentialminus": [
            [
             0,
             "#0d0887"
            ],
            [
             0.1111111111111111,
             "#46039f"
            ],
            [
             0.2222222222222222,
             "#7201a8"
            ],
            [
             0.3333333333333333,
             "#9c179e"
            ],
            [
             0.4444444444444444,
             "#bd3786"
            ],
            [
             0.5555555555555556,
             "#d8576b"
            ],
            [
             0.6666666666666666,
             "#ed7953"
            ],
            [
             0.7777777777777778,
             "#fb9f3a"
            ],
            [
             0.8888888888888888,
             "#fdca26"
            ],
            [
             1,
             "#f0f921"
            ]
           ]
          },
          "colorway": [
           "#636efa",
           "#EF553B",
           "#00cc96",
           "#ab63fa",
           "#FFA15A",
           "#19d3f3",
           "#FF6692",
           "#B6E880",
           "#FF97FF",
           "#FECB52"
          ],
          "font": {
           "color": "#2a3f5f"
          },
          "geo": {
           "bgcolor": "white",
           "lakecolor": "white",
           "landcolor": "#E5ECF6",
           "showlakes": true,
           "showland": true,
           "subunitcolor": "white"
          },
          "hoverlabel": {
           "align": "left"
          },
          "hovermode": "closest",
          "mapbox": {
           "style": "light"
          },
          "paper_bgcolor": "white",
          "plot_bgcolor": "#E5ECF6",
          "polar": {
           "angularaxis": {
            "gridcolor": "white",
            "linecolor": "white",
            "ticks": ""
           },
           "bgcolor": "#E5ECF6",
           "radialaxis": {
            "gridcolor": "white",
            "linecolor": "white",
            "ticks": ""
           }
          },
          "scene": {
           "xaxis": {
            "backgroundcolor": "#E5ECF6",
            "gridcolor": "white",
            "gridwidth": 2,
            "linecolor": "white",
            "showbackground": true,
            "ticks": "",
            "zerolinecolor": "white"
           },
           "yaxis": {
            "backgroundcolor": "#E5ECF6",
            "gridcolor": "white",
            "gridwidth": 2,
            "linecolor": "white",
            "showbackground": true,
            "ticks": "",
            "zerolinecolor": "white"
           },
           "zaxis": {
            "backgroundcolor": "#E5ECF6",
            "gridcolor": "white",
            "gridwidth": 2,
            "linecolor": "white",
            "showbackground": true,
            "ticks": "",
            "zerolinecolor": "white"
           }
          },
          "shapedefaults": {
           "line": {
            "color": "#2a3f5f"
           }
          },
          "ternary": {
           "aaxis": {
            "gridcolor": "white",
            "linecolor": "white",
            "ticks": ""
           },
           "baxis": {
            "gridcolor": "white",
            "linecolor": "white",
            "ticks": ""
           },
           "bgcolor": "#E5ECF6",
           "caxis": {
            "gridcolor": "white",
            "linecolor": "white",
            "ticks": ""
           }
          },
          "title": {
           "x": 0.05
          },
          "xaxis": {
           "automargin": true,
           "gridcolor": "white",
           "linecolor": "white",
           "ticks": "",
           "title": {
            "standoff": 15
           },
           "zerolinecolor": "white",
           "zerolinewidth": 2
          },
          "yaxis": {
           "automargin": true,
           "gridcolor": "white",
           "linecolor": "white",
           "ticks": "",
           "title": {
            "standoff": 15
           },
           "zerolinecolor": "white",
           "zerolinewidth": 2
          }
         }
        },
        "xaxis": {
         "anchor": "y",
         "domain": [
          0,
          1
         ],
         "title": {
          "text": "x"
         }
        },
        "yaxis": {
         "anchor": "x",
         "domain": [
          0,
          1
         ],
         "title": {
          "text": "y"
         }
        }
       }
      },
      "text/html": [
       "<div>                            <div id=\"69992fa0-bc92-4499-9e96-4c0d55f6f9ae\" class=\"plotly-graph-div\" style=\"height:525px; width:100%;\"></div>            <script type=\"text/javascript\">                require([\"plotly\"], function(Plotly) {                    window.PLOTLYENV=window.PLOTLYENV || {};                                    if (document.getElementById(\"69992fa0-bc92-4499-9e96-4c0d55f6f9ae\")) {                    Plotly.newPlot(                        \"69992fa0-bc92-4499-9e96-4c0d55f6f9ae\",                        [{\"hovertemplate\":\"x=%{x}<br>y=%{y}<extra></extra>\",\"legendgroup\":\"\",\"line\":{\"color\":\"#636efa\",\"dash\":\"solid\"},\"marker\":{\"symbol\":\"circle\"},\"mode\":\"lines\",\"name\":\"\",\"orientation\":\"v\",\"showlegend\":false,\"x\":[1,5,10,50,100,1000,10000,100000],\"xaxis\":\"x\",\"y\":[5.374270000002568e-05,1.5361600000041165e-05,1.5578300000029798e-05,1.624819999994642e-05,1.6740700000017483e-05,2.642509999999376e-05,0.00012872289999990016,0.00035068750000011306],\"yaxis\":\"y\",\"type\":\"scatter\"}],                        {\"template\":{\"data\":{\"histogram2dcontour\":[{\"type\":\"histogram2dcontour\",\"colorbar\":{\"outlinewidth\":0,\"ticks\":\"\"},\"colorscale\":[[0.0,\"#0d0887\"],[0.1111111111111111,\"#46039f\"],[0.2222222222222222,\"#7201a8\"],[0.3333333333333333,\"#9c179e\"],[0.4444444444444444,\"#bd3786\"],[0.5555555555555556,\"#d8576b\"],[0.6666666666666666,\"#ed7953\"],[0.7777777777777778,\"#fb9f3a\"],[0.8888888888888888,\"#fdca26\"],[1.0,\"#f0f921\"]]}],\"choropleth\":[{\"type\":\"choropleth\",\"colorbar\":{\"outlinewidth\":0,\"ticks\":\"\"}}],\"histogram2d\":[{\"type\":\"histogram2d\",\"colorbar\":{\"outlinewidth\":0,\"ticks\":\"\"},\"colorscale\":[[0.0,\"#0d0887\"],[0.1111111111111111,\"#46039f\"],[0.2222222222222222,\"#7201a8\"],[0.3333333333333333,\"#9c179e\"],[0.4444444444444444,\"#bd3786\"],[0.5555555555555556,\"#d8576b\"],[0.6666666666666666,\"#ed7953\"],[0.7777777777777778,\"#fb9f3a\"],[0.8888888888888888,\"#fdca26\"],[1.0,\"#f0f921\"]]}],\"heatmap\":[{\"type\":\"heatmap\",\"colorbar\":{\"outlinewidth\":0,\"ticks\":\"\"},\"colorscale\":[[0.0,\"#0d0887\"],[0.1111111111111111,\"#46039f\"],[0.2222222222222222,\"#7201a8\"],[0.3333333333333333,\"#9c179e\"],[0.4444444444444444,\"#bd3786\"],[0.5555555555555556,\"#d8576b\"],[0.6666666666666666,\"#ed7953\"],[0.7777777777777778,\"#fb9f3a\"],[0.8888888888888888,\"#fdca26\"],[1.0,\"#f0f921\"]]}],\"heatmapgl\":[{\"type\":\"heatmapgl\",\"colorbar\":{\"outlinewidth\":0,\"ticks\":\"\"},\"colorscale\":[[0.0,\"#0d0887\"],[0.1111111111111111,\"#46039f\"],[0.2222222222222222,\"#7201a8\"],[0.3333333333333333,\"#9c179e\"],[0.4444444444444444,\"#bd3786\"],[0.5555555555555556,\"#d8576b\"],[0.6666666666666666,\"#ed7953\"],[0.7777777777777778,\"#fb9f3a\"],[0.8888888888888888,\"#fdca26\"],[1.0,\"#f0f921\"]]}],\"contourcarpet\":[{\"type\":\"contourcarpet\",\"colorbar\":{\"outlinewidth\":0,\"ticks\":\"\"}}],\"contour\":[{\"type\":\"contour\",\"colorbar\":{\"outlinewidth\":0,\"ticks\":\"\"},\"colorscale\":[[0.0,\"#0d0887\"],[0.1111111111111111,\"#46039f\"],[0.2222222222222222,\"#7201a8\"],[0.3333333333333333,\"#9c179e\"],[0.4444444444444444,\"#bd3786\"],[0.5555555555555556,\"#d8576b\"],[0.6666666666666666,\"#ed7953\"],[0.7777777777777778,\"#fb9f3a\"],[0.8888888888888888,\"#fdca26\"],[1.0,\"#f0f921\"]]}],\"surface\":[{\"type\":\"surface\",\"colorbar\":{\"outlinewidth\":0,\"ticks\":\"\"},\"colorscale\":[[0.0,\"#0d0887\"],[0.1111111111111111,\"#46039f\"],[0.2222222222222222,\"#7201a8\"],[0.3333333333333333,\"#9c179e\"],[0.4444444444444444,\"#bd3786\"],[0.5555555555555556,\"#d8576b\"],[0.6666666666666666,\"#ed7953\"],[0.7777777777777778,\"#fb9f3a\"],[0.8888888888888888,\"#fdca26\"],[1.0,\"#f0f921\"]]}],\"mesh3d\":[{\"type\":\"mesh3d\",\"colorbar\":{\"outlinewidth\":0,\"ticks\":\"\"}}],\"scatter\":[{\"fillpattern\":{\"fillmode\":\"overlay\",\"size\":10,\"solidity\":0.2},\"type\":\"scatter\"}],\"parcoords\":[{\"type\":\"parcoords\",\"line\":{\"colorbar\":{\"outlinewidth\":0,\"ticks\":\"\"}}}],\"scatterpolargl\":[{\"type\":\"scatterpolargl\",\"marker\":{\"colorbar\":{\"outlinewidth\":0,\"ticks\":\"\"}}}],\"bar\":[{\"error_x\":{\"color\":\"#2a3f5f\"},\"error_y\":{\"color\":\"#2a3f5f\"},\"marker\":{\"line\":{\"color\":\"#E5ECF6\",\"width\":0.5},\"pattern\":{\"fillmode\":\"overlay\",\"size\":10,\"solidity\":0.2}},\"type\":\"bar\"}],\"scattergeo\":[{\"type\":\"scattergeo\",\"marker\":{\"colorbar\":{\"outlinewidth\":0,\"ticks\":\"\"}}}],\"scatterpolar\":[{\"type\":\"scatterpolar\",\"marker\":{\"colorbar\":{\"outlinewidth\":0,\"ticks\":\"\"}}}],\"histogram\":[{\"marker\":{\"pattern\":{\"fillmode\":\"overlay\",\"size\":10,\"solidity\":0.2}},\"type\":\"histogram\"}],\"scattergl\":[{\"type\":\"scattergl\",\"marker\":{\"colorbar\":{\"outlinewidth\":0,\"ticks\":\"\"}}}],\"scatter3d\":[{\"type\":\"scatter3d\",\"line\":{\"colorbar\":{\"outlinewidth\":0,\"ticks\":\"\"}},\"marker\":{\"colorbar\":{\"outlinewidth\":0,\"ticks\":\"\"}}}],\"scattermapbox\":[{\"type\":\"scattermapbox\",\"marker\":{\"colorbar\":{\"outlinewidth\":0,\"ticks\":\"\"}}}],\"scatterternary\":[{\"type\":\"scatterternary\",\"marker\":{\"colorbar\":{\"outlinewidth\":0,\"ticks\":\"\"}}}],\"scattercarpet\":[{\"type\":\"scattercarpet\",\"marker\":{\"colorbar\":{\"outlinewidth\":0,\"ticks\":\"\"}}}],\"carpet\":[{\"aaxis\":{\"endlinecolor\":\"#2a3f5f\",\"gridcolor\":\"white\",\"linecolor\":\"white\",\"minorgridcolor\":\"white\",\"startlinecolor\":\"#2a3f5f\"},\"baxis\":{\"endlinecolor\":\"#2a3f5f\",\"gridcolor\":\"white\",\"linecolor\":\"white\",\"minorgridcolor\":\"white\",\"startlinecolor\":\"#2a3f5f\"},\"type\":\"carpet\"}],\"table\":[{\"cells\":{\"fill\":{\"color\":\"#EBF0F8\"},\"line\":{\"color\":\"white\"}},\"header\":{\"fill\":{\"color\":\"#C8D4E3\"},\"line\":{\"color\":\"white\"}},\"type\":\"table\"}],\"barpolar\":[{\"marker\":{\"line\":{\"color\":\"#E5ECF6\",\"width\":0.5},\"pattern\":{\"fillmode\":\"overlay\",\"size\":10,\"solidity\":0.2}},\"type\":\"barpolar\"}],\"pie\":[{\"automargin\":true,\"type\":\"pie\"}]},\"layout\":{\"autotypenumbers\":\"strict\",\"colorway\":[\"#636efa\",\"#EF553B\",\"#00cc96\",\"#ab63fa\",\"#FFA15A\",\"#19d3f3\",\"#FF6692\",\"#B6E880\",\"#FF97FF\",\"#FECB52\"],\"font\":{\"color\":\"#2a3f5f\"},\"hovermode\":\"closest\",\"hoverlabel\":{\"align\":\"left\"},\"paper_bgcolor\":\"white\",\"plot_bgcolor\":\"#E5ECF6\",\"polar\":{\"bgcolor\":\"#E5ECF6\",\"angularaxis\":{\"gridcolor\":\"white\",\"linecolor\":\"white\",\"ticks\":\"\"},\"radialaxis\":{\"gridcolor\":\"white\",\"linecolor\":\"white\",\"ticks\":\"\"}},\"ternary\":{\"bgcolor\":\"#E5ECF6\",\"aaxis\":{\"gridcolor\":\"white\",\"linecolor\":\"white\",\"ticks\":\"\"},\"baxis\":{\"gridcolor\":\"white\",\"linecolor\":\"white\",\"ticks\":\"\"},\"caxis\":{\"gridcolor\":\"white\",\"linecolor\":\"white\",\"ticks\":\"\"}},\"coloraxis\":{\"colorbar\":{\"outlinewidth\":0,\"ticks\":\"\"}},\"colorscale\":{\"sequential\":[[0.0,\"#0d0887\"],[0.1111111111111111,\"#46039f\"],[0.2222222222222222,\"#7201a8\"],[0.3333333333333333,\"#9c179e\"],[0.4444444444444444,\"#bd3786\"],[0.5555555555555556,\"#d8576b\"],[0.6666666666666666,\"#ed7953\"],[0.7777777777777778,\"#fb9f3a\"],[0.8888888888888888,\"#fdca26\"],[1.0,\"#f0f921\"]],\"sequentialminus\":[[0.0,\"#0d0887\"],[0.1111111111111111,\"#46039f\"],[0.2222222222222222,\"#7201a8\"],[0.3333333333333333,\"#9c179e\"],[0.4444444444444444,\"#bd3786\"],[0.5555555555555556,\"#d8576b\"],[0.6666666666666666,\"#ed7953\"],[0.7777777777777778,\"#fb9f3a\"],[0.8888888888888888,\"#fdca26\"],[1.0,\"#f0f921\"]],\"diverging\":[[0,\"#8e0152\"],[0.1,\"#c51b7d\"],[0.2,\"#de77ae\"],[0.3,\"#f1b6da\"],[0.4,\"#fde0ef\"],[0.5,\"#f7f7f7\"],[0.6,\"#e6f5d0\"],[0.7,\"#b8e186\"],[0.8,\"#7fbc41\"],[0.9,\"#4d9221\"],[1,\"#276419\"]]},\"xaxis\":{\"gridcolor\":\"white\",\"linecolor\":\"white\",\"ticks\":\"\",\"title\":{\"standoff\":15},\"zerolinecolor\":\"white\",\"automargin\":true,\"zerolinewidth\":2},\"yaxis\":{\"gridcolor\":\"white\",\"linecolor\":\"white\",\"ticks\":\"\",\"title\":{\"standoff\":15},\"zerolinecolor\":\"white\",\"automargin\":true,\"zerolinewidth\":2},\"scene\":{\"xaxis\":{\"backgroundcolor\":\"#E5ECF6\",\"gridcolor\":\"white\",\"linecolor\":\"white\",\"showbackground\":true,\"ticks\":\"\",\"zerolinecolor\":\"white\",\"gridwidth\":2},\"yaxis\":{\"backgroundcolor\":\"#E5ECF6\",\"gridcolor\":\"white\",\"linecolor\":\"white\",\"showbackground\":true,\"ticks\":\"\",\"zerolinecolor\":\"white\",\"gridwidth\":2},\"zaxis\":{\"backgroundcolor\":\"#E5ECF6\",\"gridcolor\":\"white\",\"linecolor\":\"white\",\"showbackground\":true,\"ticks\":\"\",\"zerolinecolor\":\"white\",\"gridwidth\":2}},\"shapedefaults\":{\"line\":{\"color\":\"#2a3f5f\"}},\"annotationdefaults\":{\"arrowcolor\":\"#2a3f5f\",\"arrowhead\":0,\"arrowwidth\":1},\"geo\":{\"bgcolor\":\"white\",\"landcolor\":\"#E5ECF6\",\"subunitcolor\":\"white\",\"showland\":true,\"showlakes\":true,\"lakecolor\":\"white\"},\"title\":{\"x\":0.05},\"mapbox\":{\"style\":\"light\"}}},\"xaxis\":{\"anchor\":\"y\",\"domain\":[0.0,1.0],\"title\":{\"text\":\"x\"}},\"yaxis\":{\"anchor\":\"x\",\"domain\":[0.0,1.0],\"title\":{\"text\":\"y\"}},\"legend\":{\"tracegroupgap\":0},\"margin\":{\"t\":60}},                        {\"responsive\": true}                    ).then(function(){\n",
       "                            \n",
       "var gd = document.getElementById('69992fa0-bc92-4499-9e96-4c0d55f6f9ae');\n",
       "var x = new MutationObserver(function (mutations, observer) {{\n",
       "        var display = window.getComputedStyle(gd).display;\n",
       "        if (!display || display === 'none') {{\n",
       "            console.log([gd, 'removed!']);\n",
       "            Plotly.purge(gd);\n",
       "            observer.disconnect();\n",
       "        }}\n",
       "}});\n",
       "\n",
       "// Listen for the removal of the full notebook cells\n",
       "var notebookContainer = gd.closest('#notebook-container');\n",
       "if (notebookContainer) {{\n",
       "    x.observe(notebookContainer, {childList: true});\n",
       "}}\n",
       "\n",
       "// Listen for the clearing of the current output cell\n",
       "var outputEl = gd.closest('.output');\n",
       "if (outputEl) {{\n",
       "    x.observe(outputEl, {childList: true});\n",
       "}}\n",
       "\n",
       "                        })                };                });            </script>        </div>"
      ]
     },
     "metadata": {},
     "output_type": "display_data"
    }
   ],
   "source": [
    "fig.show()"
   ]
  },
  {
   "cell_type": "code",
   "execution_count": 11,
   "id": "33602600",
   "metadata": {},
   "outputs": [],
   "source": [
    "fig, ax = plt.subplots()\n",
    "for j, f in enumerate(funcs):\n",
    "    ax.plot(sizes, times[:, j], label=f.__name__)\n",
    "ax.set_xlabel(\"Array size\")\n",
    "ax.set_ylabel(\"Time per function call (s)\")\n",
    "ax.set_xscale(\"log\")\n",
    "ax.set_yscale(\"log\")\n",
    "ax.legend()\n",
    "ax.grid()\n",
    "#fig.tight_layout()"
   ]
  },
  {
   "cell_type": "code",
   "execution_count": 9,
   "id": "9f9d8579",
   "metadata": {},
   "outputs": [
    {
     "data": {
      "text/plain": [
       "(0.0001, 1)"
      ]
     },
     "execution_count": 9,
     "metadata": {},
     "output_type": "execute_result"
    }
   ],
   "source": [
    "plt.xlim([1e4, 1e6])\n",
    "plt.ylim([1e-4, 1])"
   ]
  },
  {
   "cell_type": "code",
   "execution_count": 10,
   "id": "b53af784",
   "metadata": {},
   "outputs": [
    {
     "data": {
      "application/javascript": [
       "/* Put everything inside the global mpl namespace */\n",
       "/* global mpl */\n",
       "window.mpl = {};\n",
       "\n",
       "mpl.get_websocket_type = function () {\n",
       "    if (typeof WebSocket !== 'undefined') {\n",
       "        return WebSocket;\n",
       "    } else if (typeof MozWebSocket !== 'undefined') {\n",
       "        return MozWebSocket;\n",
       "    } else {\n",
       "        alert(\n",
       "            'Your browser does not have WebSocket support. ' +\n",
       "                'Please try Chrome, Safari or Firefox ≥ 6. ' +\n",
       "                'Firefox 4 and 5 are also supported but you ' +\n",
       "                'have to enable WebSockets in about:config.'\n",
       "        );\n",
       "    }\n",
       "};\n",
       "\n",
       "mpl.figure = function (figure_id, websocket, ondownload, parent_element) {\n",
       "    this.id = figure_id;\n",
       "\n",
       "    this.ws = websocket;\n",
       "\n",
       "    this.supports_binary = this.ws.binaryType !== undefined;\n",
       "\n",
       "    if (!this.supports_binary) {\n",
       "        var warnings = document.getElementById('mpl-warnings');\n",
       "        if (warnings) {\n",
       "            warnings.style.display = 'block';\n",
       "            warnings.textContent =\n",
       "                'This browser does not support binary websocket messages. ' +\n",
       "                'Performance may be slow.';\n",
       "        }\n",
       "    }\n",
       "\n",
       "    this.imageObj = new Image();\n",
       "\n",
       "    this.context = undefined;\n",
       "    this.message = undefined;\n",
       "    this.canvas = undefined;\n",
       "    this.rubberband_canvas = undefined;\n",
       "    this.rubberband_context = undefined;\n",
       "    this.format_dropdown = undefined;\n",
       "\n",
       "    this.image_mode = 'full';\n",
       "\n",
       "    this.root = document.createElement('div');\n",
       "    this.root.setAttribute('style', 'display: inline-block');\n",
       "    this._root_extra_style(this.root);\n",
       "\n",
       "    parent_element.appendChild(this.root);\n",
       "\n",
       "    this._init_header(this);\n",
       "    this._init_canvas(this);\n",
       "    this._init_toolbar(this);\n",
       "\n",
       "    var fig = this;\n",
       "\n",
       "    this.waiting = false;\n",
       "\n",
       "    this.ws.onopen = function () {\n",
       "        fig.send_message('supports_binary', { value: fig.supports_binary });\n",
       "        fig.send_message('send_image_mode', {});\n",
       "        if (fig.ratio !== 1) {\n",
       "            fig.send_message('set_device_pixel_ratio', {\n",
       "                device_pixel_ratio: fig.ratio,\n",
       "            });\n",
       "        }\n",
       "        fig.send_message('refresh', {});\n",
       "    };\n",
       "\n",
       "    this.imageObj.onload = function () {\n",
       "        if (fig.image_mode === 'full') {\n",
       "            // Full images could contain transparency (where diff images\n",
       "            // almost always do), so we need to clear the canvas so that\n",
       "            // there is no ghosting.\n",
       "            fig.context.clearRect(0, 0, fig.canvas.width, fig.canvas.height);\n",
       "        }\n",
       "        fig.context.drawImage(fig.imageObj, 0, 0);\n",
       "    };\n",
       "\n",
       "    this.imageObj.onunload = function () {\n",
       "        fig.ws.close();\n",
       "    };\n",
       "\n",
       "    this.ws.onmessage = this._make_on_message_function(this);\n",
       "\n",
       "    this.ondownload = ondownload;\n",
       "};\n",
       "\n",
       "mpl.figure.prototype._init_header = function () {\n",
       "    var titlebar = document.createElement('div');\n",
       "    titlebar.classList =\n",
       "        'ui-dialog-titlebar ui-widget-header ui-corner-all ui-helper-clearfix';\n",
       "    var titletext = document.createElement('div');\n",
       "    titletext.classList = 'ui-dialog-title';\n",
       "    titletext.setAttribute(\n",
       "        'style',\n",
       "        'width: 100%; text-align: center; padding: 3px;'\n",
       "    );\n",
       "    titlebar.appendChild(titletext);\n",
       "    this.root.appendChild(titlebar);\n",
       "    this.header = titletext;\n",
       "};\n",
       "\n",
       "mpl.figure.prototype._canvas_extra_style = function (_canvas_div) {};\n",
       "\n",
       "mpl.figure.prototype._root_extra_style = function (_canvas_div) {};\n",
       "\n",
       "mpl.figure.prototype._init_canvas = function () {\n",
       "    var fig = this;\n",
       "\n",
       "    var canvas_div = (this.canvas_div = document.createElement('div'));\n",
       "    canvas_div.setAttribute('tabindex', '0');\n",
       "    canvas_div.setAttribute(\n",
       "        'style',\n",
       "        'border: 1px solid #ddd;' +\n",
       "            'box-sizing: content-box;' +\n",
       "            'clear: both;' +\n",
       "            'min-height: 1px;' +\n",
       "            'min-width: 1px;' +\n",
       "            'outline: 0;' +\n",
       "            'overflow: hidden;' +\n",
       "            'position: relative;' +\n",
       "            'resize: both;' +\n",
       "            'z-index: 2;'\n",
       "    );\n",
       "\n",
       "    function on_keyboard_event_closure(name) {\n",
       "        return function (event) {\n",
       "            return fig.key_event(event, name);\n",
       "        };\n",
       "    }\n",
       "\n",
       "    canvas_div.addEventListener(\n",
       "        'keydown',\n",
       "        on_keyboard_event_closure('key_press')\n",
       "    );\n",
       "    canvas_div.addEventListener(\n",
       "        'keyup',\n",
       "        on_keyboard_event_closure('key_release')\n",
       "    );\n",
       "\n",
       "    this._canvas_extra_style(canvas_div);\n",
       "    this.root.appendChild(canvas_div);\n",
       "\n",
       "    var canvas = (this.canvas = document.createElement('canvas'));\n",
       "    canvas.classList.add('mpl-canvas');\n",
       "    canvas.setAttribute(\n",
       "        'style',\n",
       "        'box-sizing: content-box;' +\n",
       "            'pointer-events: none;' +\n",
       "            'position: relative;' +\n",
       "            'z-index: 0;'\n",
       "    );\n",
       "\n",
       "    this.context = canvas.getContext('2d');\n",
       "\n",
       "    var backingStore =\n",
       "        this.context.backingStorePixelRatio ||\n",
       "        this.context.webkitBackingStorePixelRatio ||\n",
       "        this.context.mozBackingStorePixelRatio ||\n",
       "        this.context.msBackingStorePixelRatio ||\n",
       "        this.context.oBackingStorePixelRatio ||\n",
       "        this.context.backingStorePixelRatio ||\n",
       "        1;\n",
       "\n",
       "    this.ratio = (window.devicePixelRatio || 1) / backingStore;\n",
       "\n",
       "    var rubberband_canvas = (this.rubberband_canvas = document.createElement(\n",
       "        'canvas'\n",
       "    ));\n",
       "    rubberband_canvas.setAttribute(\n",
       "        'style',\n",
       "        'box-sizing: content-box;' +\n",
       "            'left: 0;' +\n",
       "            'pointer-events: none;' +\n",
       "            'position: absolute;' +\n",
       "            'top: 0;' +\n",
       "            'z-index: 1;'\n",
       "    );\n",
       "\n",
       "    // Apply a ponyfill if ResizeObserver is not implemented by browser.\n",
       "    if (this.ResizeObserver === undefined) {\n",
       "        if (window.ResizeObserver !== undefined) {\n",
       "            this.ResizeObserver = window.ResizeObserver;\n",
       "        } else {\n",
       "            var obs = _JSXTOOLS_RESIZE_OBSERVER({});\n",
       "            this.ResizeObserver = obs.ResizeObserver;\n",
       "        }\n",
       "    }\n",
       "\n",
       "    this.resizeObserverInstance = new this.ResizeObserver(function (entries) {\n",
       "        var nentries = entries.length;\n",
       "        for (var i = 0; i < nentries; i++) {\n",
       "            var entry = entries[i];\n",
       "            var width, height;\n",
       "            if (entry.contentBoxSize) {\n",
       "                if (entry.contentBoxSize instanceof Array) {\n",
       "                    // Chrome 84 implements new version of spec.\n",
       "                    width = entry.contentBoxSize[0].inlineSize;\n",
       "                    height = entry.contentBoxSize[0].blockSize;\n",
       "                } else {\n",
       "                    // Firefox implements old version of spec.\n",
       "                    width = entry.contentBoxSize.inlineSize;\n",
       "                    height = entry.contentBoxSize.blockSize;\n",
       "                }\n",
       "            } else {\n",
       "                // Chrome <84 implements even older version of spec.\n",
       "                width = entry.contentRect.width;\n",
       "                height = entry.contentRect.height;\n",
       "            }\n",
       "\n",
       "            // Keep the size of the canvas and rubber band canvas in sync with\n",
       "            // the canvas container.\n",
       "            if (entry.devicePixelContentBoxSize) {\n",
       "                // Chrome 84 implements new version of spec.\n",
       "                canvas.setAttribute(\n",
       "                    'width',\n",
       "                    entry.devicePixelContentBoxSize[0].inlineSize\n",
       "                );\n",
       "                canvas.setAttribute(\n",
       "                    'height',\n",
       "                    entry.devicePixelContentBoxSize[0].blockSize\n",
       "                );\n",
       "            } else {\n",
       "                canvas.setAttribute('width', width * fig.ratio);\n",
       "                canvas.setAttribute('height', height * fig.ratio);\n",
       "            }\n",
       "            /* This rescales the canvas back to display pixels, so that it\n",
       "             * appears correct on HiDPI screens. */\n",
       "            canvas.style.width = width + 'px';\n",
       "            canvas.style.height = height + 'px';\n",
       "\n",
       "            rubberband_canvas.setAttribute('width', width);\n",
       "            rubberband_canvas.setAttribute('height', height);\n",
       "\n",
       "            // And update the size in Python. We ignore the initial 0/0 size\n",
       "            // that occurs as the element is placed into the DOM, which should\n",
       "            // otherwise not happen due to the minimum size styling.\n",
       "            if (fig.ws.readyState == 1 && width != 0 && height != 0) {\n",
       "                fig.request_resize(width, height);\n",
       "            }\n",
       "        }\n",
       "    });\n",
       "    this.resizeObserverInstance.observe(canvas_div);\n",
       "\n",
       "    function on_mouse_event_closure(name) {\n",
       "        /* User Agent sniffing is bad, but WebKit is busted:\n",
       "         * https://bugs.webkit.org/show_bug.cgi?id=144526\n",
       "         * https://bugs.webkit.org/show_bug.cgi?id=181818\n",
       "         * The worst that happens here is that they get an extra browser\n",
       "         * selection when dragging, if this check fails to catch them.\n",
       "         */\n",
       "        var UA = navigator.userAgent;\n",
       "        var isWebKit = /AppleWebKit/.test(UA) && !/Chrome/.test(UA);\n",
       "        if(isWebKit) {\n",
       "            return function (event) {\n",
       "                /* This prevents the web browser from automatically changing to\n",
       "                 * the text insertion cursor when the button is pressed. We\n",
       "                 * want to control all of the cursor setting manually through\n",
       "                 * the 'cursor' event from matplotlib */\n",
       "                event.preventDefault()\n",
       "                return fig.mouse_event(event, name);\n",
       "            };\n",
       "        } else {\n",
       "            return function (event) {\n",
       "                return fig.mouse_event(event, name);\n",
       "            };\n",
       "        }\n",
       "    }\n",
       "\n",
       "    canvas_div.addEventListener(\n",
       "        'mousedown',\n",
       "        on_mouse_event_closure('button_press')\n",
       "    );\n",
       "    canvas_div.addEventListener(\n",
       "        'mouseup',\n",
       "        on_mouse_event_closure('button_release')\n",
       "    );\n",
       "    canvas_div.addEventListener(\n",
       "        'dblclick',\n",
       "        on_mouse_event_closure('dblclick')\n",
       "    );\n",
       "    // Throttle sequential mouse events to 1 every 20ms.\n",
       "    canvas_div.addEventListener(\n",
       "        'mousemove',\n",
       "        on_mouse_event_closure('motion_notify')\n",
       "    );\n",
       "\n",
       "    canvas_div.addEventListener(\n",
       "        'mouseenter',\n",
       "        on_mouse_event_closure('figure_enter')\n",
       "    );\n",
       "    canvas_div.addEventListener(\n",
       "        'mouseleave',\n",
       "        on_mouse_event_closure('figure_leave')\n",
       "    );\n",
       "\n",
       "    canvas_div.addEventListener('wheel', function (event) {\n",
       "        if (event.deltaY < 0) {\n",
       "            event.step = 1;\n",
       "        } else {\n",
       "            event.step = -1;\n",
       "        }\n",
       "        on_mouse_event_closure('scroll')(event);\n",
       "    });\n",
       "\n",
       "    canvas_div.appendChild(canvas);\n",
       "    canvas_div.appendChild(rubberband_canvas);\n",
       "\n",
       "    this.rubberband_context = rubberband_canvas.getContext('2d');\n",
       "    this.rubberband_context.strokeStyle = '#000000';\n",
       "\n",
       "    this._resize_canvas = function (width, height, forward) {\n",
       "        if (forward) {\n",
       "            canvas_div.style.width = width + 'px';\n",
       "            canvas_div.style.height = height + 'px';\n",
       "        }\n",
       "    };\n",
       "\n",
       "    // Disable right mouse context menu.\n",
       "    canvas_div.addEventListener('contextmenu', function (_e) {\n",
       "        event.preventDefault();\n",
       "        return false;\n",
       "    });\n",
       "\n",
       "    function set_focus() {\n",
       "        canvas.focus();\n",
       "        canvas_div.focus();\n",
       "    }\n",
       "\n",
       "    window.setTimeout(set_focus, 100);\n",
       "};\n",
       "\n",
       "mpl.figure.prototype._init_toolbar = function () {\n",
       "    var fig = this;\n",
       "\n",
       "    var toolbar = document.createElement('div');\n",
       "    toolbar.classList = 'mpl-toolbar';\n",
       "    this.root.appendChild(toolbar);\n",
       "\n",
       "    function on_click_closure(name) {\n",
       "        return function (_event) {\n",
       "            return fig.toolbar_button_onclick(name);\n",
       "        };\n",
       "    }\n",
       "\n",
       "    function on_mouseover_closure(tooltip) {\n",
       "        return function (event) {\n",
       "            if (!event.currentTarget.disabled) {\n",
       "                return fig.toolbar_button_onmouseover(tooltip);\n",
       "            }\n",
       "        };\n",
       "    }\n",
       "\n",
       "    fig.buttons = {};\n",
       "    var buttonGroup = document.createElement('div');\n",
       "    buttonGroup.classList = 'mpl-button-group';\n",
       "    for (var toolbar_ind in mpl.toolbar_items) {\n",
       "        var name = mpl.toolbar_items[toolbar_ind][0];\n",
       "        var tooltip = mpl.toolbar_items[toolbar_ind][1];\n",
       "        var image = mpl.toolbar_items[toolbar_ind][2];\n",
       "        var method_name = mpl.toolbar_items[toolbar_ind][3];\n",
       "\n",
       "        if (!name) {\n",
       "            /* Instead of a spacer, we start a new button group. */\n",
       "            if (buttonGroup.hasChildNodes()) {\n",
       "                toolbar.appendChild(buttonGroup);\n",
       "            }\n",
       "            buttonGroup = document.createElement('div');\n",
       "            buttonGroup.classList = 'mpl-button-group';\n",
       "            continue;\n",
       "        }\n",
       "\n",
       "        var button = (fig.buttons[name] = document.createElement('button'));\n",
       "        button.classList = 'mpl-widget';\n",
       "        button.setAttribute('role', 'button');\n",
       "        button.setAttribute('aria-disabled', 'false');\n",
       "        button.addEventListener('click', on_click_closure(method_name));\n",
       "        button.addEventListener('mouseover', on_mouseover_closure(tooltip));\n",
       "\n",
       "        var icon_img = document.createElement('img');\n",
       "        icon_img.src = '_images/' + image + '.png';\n",
       "        icon_img.srcset = '_images/' + image + '_large.png 2x';\n",
       "        icon_img.alt = tooltip;\n",
       "        button.appendChild(icon_img);\n",
       "\n",
       "        buttonGroup.appendChild(button);\n",
       "    }\n",
       "\n",
       "    if (buttonGroup.hasChildNodes()) {\n",
       "        toolbar.appendChild(buttonGroup);\n",
       "    }\n",
       "\n",
       "    var fmt_picker = document.createElement('select');\n",
       "    fmt_picker.classList = 'mpl-widget';\n",
       "    toolbar.appendChild(fmt_picker);\n",
       "    this.format_dropdown = fmt_picker;\n",
       "\n",
       "    for (var ind in mpl.extensions) {\n",
       "        var fmt = mpl.extensions[ind];\n",
       "        var option = document.createElement('option');\n",
       "        option.selected = fmt === mpl.default_extension;\n",
       "        option.innerHTML = fmt;\n",
       "        fmt_picker.appendChild(option);\n",
       "    }\n",
       "\n",
       "    var status_bar = document.createElement('span');\n",
       "    status_bar.classList = 'mpl-message';\n",
       "    toolbar.appendChild(status_bar);\n",
       "    this.message = status_bar;\n",
       "};\n",
       "\n",
       "mpl.figure.prototype.request_resize = function (x_pixels, y_pixels) {\n",
       "    // Request matplotlib to resize the figure. Matplotlib will then trigger a resize in the client,\n",
       "    // which will in turn request a refresh of the image.\n",
       "    this.send_message('resize', { width: x_pixels, height: y_pixels });\n",
       "};\n",
       "\n",
       "mpl.figure.prototype.send_message = function (type, properties) {\n",
       "    properties['type'] = type;\n",
       "    properties['figure_id'] = this.id;\n",
       "    this.ws.send(JSON.stringify(properties));\n",
       "};\n",
       "\n",
       "mpl.figure.prototype.send_draw_message = function () {\n",
       "    if (!this.waiting) {\n",
       "        this.waiting = true;\n",
       "        this.ws.send(JSON.stringify({ type: 'draw', figure_id: this.id }));\n",
       "    }\n",
       "};\n",
       "\n",
       "mpl.figure.prototype.handle_save = function (fig, _msg) {\n",
       "    var format_dropdown = fig.format_dropdown;\n",
       "    var format = format_dropdown.options[format_dropdown.selectedIndex].value;\n",
       "    fig.ondownload(fig, format);\n",
       "};\n",
       "\n",
       "mpl.figure.prototype.handle_resize = function (fig, msg) {\n",
       "    var size = msg['size'];\n",
       "    if (size[0] !== fig.canvas.width || size[1] !== fig.canvas.height) {\n",
       "        fig._resize_canvas(size[0], size[1], msg['forward']);\n",
       "        fig.send_message('refresh', {});\n",
       "    }\n",
       "};\n",
       "\n",
       "mpl.figure.prototype.handle_rubberband = function (fig, msg) {\n",
       "    var x0 = msg['x0'] / fig.ratio;\n",
       "    var y0 = (fig.canvas.height - msg['y0']) / fig.ratio;\n",
       "    var x1 = msg['x1'] / fig.ratio;\n",
       "    var y1 = (fig.canvas.height - msg['y1']) / fig.ratio;\n",
       "    x0 = Math.floor(x0) + 0.5;\n",
       "    y0 = Math.floor(y0) + 0.5;\n",
       "    x1 = Math.floor(x1) + 0.5;\n",
       "    y1 = Math.floor(y1) + 0.5;\n",
       "    var min_x = Math.min(x0, x1);\n",
       "    var min_y = Math.min(y0, y1);\n",
       "    var width = Math.abs(x1 - x0);\n",
       "    var height = Math.abs(y1 - y0);\n",
       "\n",
       "    fig.rubberband_context.clearRect(\n",
       "        0,\n",
       "        0,\n",
       "        fig.canvas.width / fig.ratio,\n",
       "        fig.canvas.height / fig.ratio\n",
       "    );\n",
       "\n",
       "    fig.rubberband_context.strokeRect(min_x, min_y, width, height);\n",
       "};\n",
       "\n",
       "mpl.figure.prototype.handle_figure_label = function (fig, msg) {\n",
       "    // Updates the figure title.\n",
       "    fig.header.textContent = msg['label'];\n",
       "};\n",
       "\n",
       "mpl.figure.prototype.handle_cursor = function (fig, msg) {\n",
       "    fig.canvas_div.style.cursor = msg['cursor'];\n",
       "};\n",
       "\n",
       "mpl.figure.prototype.handle_message = function (fig, msg) {\n",
       "    fig.message.textContent = msg['message'];\n",
       "};\n",
       "\n",
       "mpl.figure.prototype.handle_draw = function (fig, _msg) {\n",
       "    // Request the server to send over a new figure.\n",
       "    fig.send_draw_message();\n",
       "};\n",
       "\n",
       "mpl.figure.prototype.handle_image_mode = function (fig, msg) {\n",
       "    fig.image_mode = msg['mode'];\n",
       "};\n",
       "\n",
       "mpl.figure.prototype.handle_history_buttons = function (fig, msg) {\n",
       "    for (var key in msg) {\n",
       "        if (!(key in fig.buttons)) {\n",
       "            continue;\n",
       "        }\n",
       "        fig.buttons[key].disabled = !msg[key];\n",
       "        fig.buttons[key].setAttribute('aria-disabled', !msg[key]);\n",
       "    }\n",
       "};\n",
       "\n",
       "mpl.figure.prototype.handle_navigate_mode = function (fig, msg) {\n",
       "    if (msg['mode'] === 'PAN') {\n",
       "        fig.buttons['Pan'].classList.add('active');\n",
       "        fig.buttons['Zoom'].classList.remove('active');\n",
       "    } else if (msg['mode'] === 'ZOOM') {\n",
       "        fig.buttons['Pan'].classList.remove('active');\n",
       "        fig.buttons['Zoom'].classList.add('active');\n",
       "    } else {\n",
       "        fig.buttons['Pan'].classList.remove('active');\n",
       "        fig.buttons['Zoom'].classList.remove('active');\n",
       "    }\n",
       "};\n",
       "\n",
       "mpl.figure.prototype.updated_canvas_event = function () {\n",
       "    // Called whenever the canvas gets updated.\n",
       "    this.send_message('ack', {});\n",
       "};\n",
       "\n",
       "// A function to construct a web socket function for onmessage handling.\n",
       "// Called in the figure constructor.\n",
       "mpl.figure.prototype._make_on_message_function = function (fig) {\n",
       "    return function socket_on_message(evt) {\n",
       "        if (evt.data instanceof Blob) {\n",
       "            var img = evt.data;\n",
       "            if (img.type !== 'image/png') {\n",
       "                /* FIXME: We get \"Resource interpreted as Image but\n",
       "                 * transferred with MIME type text/plain:\" errors on\n",
       "                 * Chrome.  But how to set the MIME type?  It doesn't seem\n",
       "                 * to be part of the websocket stream */\n",
       "                img.type = 'image/png';\n",
       "            }\n",
       "\n",
       "            /* Free the memory for the previous frames */\n",
       "            if (fig.imageObj.src) {\n",
       "                (window.URL || window.webkitURL).revokeObjectURL(\n",
       "                    fig.imageObj.src\n",
       "                );\n",
       "            }\n",
       "\n",
       "            fig.imageObj.src = (window.URL || window.webkitURL).createObjectURL(\n",
       "                img\n",
       "            );\n",
       "            fig.updated_canvas_event();\n",
       "            fig.waiting = false;\n",
       "            return;\n",
       "        } else if (\n",
       "            typeof evt.data === 'string' &&\n",
       "            evt.data.slice(0, 21) === 'data:image/png;base64'\n",
       "        ) {\n",
       "            fig.imageObj.src = evt.data;\n",
       "            fig.updated_canvas_event();\n",
       "            fig.waiting = false;\n",
       "            return;\n",
       "        }\n",
       "\n",
       "        var msg = JSON.parse(evt.data);\n",
       "        var msg_type = msg['type'];\n",
       "\n",
       "        // Call the  \"handle_{type}\" callback, which takes\n",
       "        // the figure and JSON message as its only arguments.\n",
       "        try {\n",
       "            var callback = fig['handle_' + msg_type];\n",
       "        } catch (e) {\n",
       "            console.log(\n",
       "                \"No handler for the '\" + msg_type + \"' message type: \",\n",
       "                msg\n",
       "            );\n",
       "            return;\n",
       "        }\n",
       "\n",
       "        if (callback) {\n",
       "            try {\n",
       "                // console.log(\"Handling '\" + msg_type + \"' message: \", msg);\n",
       "                callback(fig, msg);\n",
       "            } catch (e) {\n",
       "                console.log(\n",
       "                    \"Exception inside the 'handler_\" + msg_type + \"' callback:\",\n",
       "                    e,\n",
       "                    e.stack,\n",
       "                    msg\n",
       "                );\n",
       "            }\n",
       "        }\n",
       "    };\n",
       "};\n",
       "\n",
       "function getModifiers(event) {\n",
       "    var mods = [];\n",
       "    if (event.ctrlKey) {\n",
       "        mods.push('ctrl');\n",
       "    }\n",
       "    if (event.altKey) {\n",
       "        mods.push('alt');\n",
       "    }\n",
       "    if (event.shiftKey) {\n",
       "        mods.push('shift');\n",
       "    }\n",
       "    if (event.metaKey) {\n",
       "        mods.push('meta');\n",
       "    }\n",
       "    return mods;\n",
       "}\n",
       "\n",
       "/*\n",
       " * return a copy of an object with only non-object keys\n",
       " * we need this to avoid circular references\n",
       " * https://stackoverflow.com/a/24161582/3208463\n",
       " */\n",
       "function simpleKeys(original) {\n",
       "    return Object.keys(original).reduce(function (obj, key) {\n",
       "        if (typeof original[key] !== 'object') {\n",
       "            obj[key] = original[key];\n",
       "        }\n",
       "        return obj;\n",
       "    }, {});\n",
       "}\n",
       "\n",
       "mpl.figure.prototype.mouse_event = function (event, name) {\n",
       "    if (name === 'button_press') {\n",
       "        this.canvas.focus();\n",
       "        this.canvas_div.focus();\n",
       "    }\n",
       "\n",
       "    // from https://stackoverflow.com/q/1114465\n",
       "    var boundingRect = this.canvas.getBoundingClientRect();\n",
       "    var x = (event.clientX - boundingRect.left) * this.ratio;\n",
       "    var y = (event.clientY - boundingRect.top) * this.ratio;\n",
       "\n",
       "    this.send_message(name, {\n",
       "        x: x,\n",
       "        y: y,\n",
       "        button: event.button,\n",
       "        step: event.step,\n",
       "        modifiers: getModifiers(event),\n",
       "        guiEvent: simpleKeys(event),\n",
       "    });\n",
       "\n",
       "    return false;\n",
       "};\n",
       "\n",
       "mpl.figure.prototype._key_event_extra = function (_event, _name) {\n",
       "    // Handle any extra behaviour associated with a key event\n",
       "};\n",
       "\n",
       "mpl.figure.prototype.key_event = function (event, name) {\n",
       "    // Prevent repeat events\n",
       "    if (name === 'key_press') {\n",
       "        if (event.key === this._key) {\n",
       "            return;\n",
       "        } else {\n",
       "            this._key = event.key;\n",
       "        }\n",
       "    }\n",
       "    if (name === 'key_release') {\n",
       "        this._key = null;\n",
       "    }\n",
       "\n",
       "    var value = '';\n",
       "    if (event.ctrlKey && event.key !== 'Control') {\n",
       "        value += 'ctrl+';\n",
       "    }\n",
       "    else if (event.altKey && event.key !== 'Alt') {\n",
       "        value += 'alt+';\n",
       "    }\n",
       "    else if (event.shiftKey && event.key !== 'Shift') {\n",
       "        value += 'shift+';\n",
       "    }\n",
       "\n",
       "    value += 'k' + event.key;\n",
       "\n",
       "    this._key_event_extra(event, name);\n",
       "\n",
       "    this.send_message(name, { key: value, guiEvent: simpleKeys(event) });\n",
       "    return false;\n",
       "};\n",
       "\n",
       "mpl.figure.prototype.toolbar_button_onclick = function (name) {\n",
       "    if (name === 'download') {\n",
       "        this.handle_save(this, null);\n",
       "    } else {\n",
       "        this.send_message('toolbar_button', { name: name });\n",
       "    }\n",
       "};\n",
       "\n",
       "mpl.figure.prototype.toolbar_button_onmouseover = function (tooltip) {\n",
       "    this.message.textContent = tooltip;\n",
       "};\n",
       "\n",
       "///////////////// REMAINING CONTENT GENERATED BY embed_js.py /////////////////\n",
       "// prettier-ignore\n",
       "var _JSXTOOLS_RESIZE_OBSERVER=function(A){var t,i=new WeakMap,n=new WeakMap,a=new WeakMap,r=new WeakMap,o=new Set;function s(e){if(!(this instanceof s))throw new TypeError(\"Constructor requires 'new' operator\");i.set(this,e)}function h(){throw new TypeError(\"Function is not a constructor\")}function c(e,t,i,n){e=0 in arguments?Number(arguments[0]):0,t=1 in arguments?Number(arguments[1]):0,i=2 in arguments?Number(arguments[2]):0,n=3 in arguments?Number(arguments[3]):0,this.right=(this.x=this.left=e)+(this.width=i),this.bottom=(this.y=this.top=t)+(this.height=n),Object.freeze(this)}function d(){t=requestAnimationFrame(d);var s=new WeakMap,p=new Set;o.forEach((function(t){r.get(t).forEach((function(i){var r=t instanceof window.SVGElement,o=a.get(t),d=r?0:parseFloat(o.paddingTop),f=r?0:parseFloat(o.paddingRight),l=r?0:parseFloat(o.paddingBottom),u=r?0:parseFloat(o.paddingLeft),g=r?0:parseFloat(o.borderTopWidth),m=r?0:parseFloat(o.borderRightWidth),w=r?0:parseFloat(o.borderBottomWidth),b=u+f,F=d+l,v=(r?0:parseFloat(o.borderLeftWidth))+m,W=g+w,y=r?0:t.offsetHeight-W-t.clientHeight,E=r?0:t.offsetWidth-v-t.clientWidth,R=b+v,z=F+W,M=r?t.width:parseFloat(o.width)-R-E,O=r?t.height:parseFloat(o.height)-z-y;if(n.has(t)){var k=n.get(t);if(k[0]===M&&k[1]===O)return}n.set(t,[M,O]);var S=Object.create(h.prototype);S.target=t,S.contentRect=new c(u,d,M,O),s.has(i)||(s.set(i,[]),p.add(i)),s.get(i).push(S)}))})),p.forEach((function(e){i.get(e).call(e,s.get(e),e)}))}return s.prototype.observe=function(i){if(i instanceof window.Element){r.has(i)||(r.set(i,new Set),o.add(i),a.set(i,window.getComputedStyle(i)));var n=r.get(i);n.has(this)||n.add(this),cancelAnimationFrame(t),t=requestAnimationFrame(d)}},s.prototype.unobserve=function(i){if(i instanceof window.Element&&r.has(i)){var n=r.get(i);n.has(this)&&(n.delete(this),n.size||(r.delete(i),o.delete(i))),n.size||r.delete(i),o.size||cancelAnimationFrame(t)}},A.DOMRectReadOnly=c,A.ResizeObserver=s,A.ResizeObserverEntry=h,A}; // eslint-disable-line\n",
       "mpl.toolbar_items = [[\"Home\", \"Reset original view\", \"fa fa-home\", \"home\"], [\"Back\", \"Back to previous view\", \"fa fa-arrow-left\", \"back\"], [\"Forward\", \"Forward to next view\", \"fa fa-arrow-right\", \"forward\"], [\"\", \"\", \"\", \"\"], [\"Pan\", \"Left button pans, Right button zooms\\nx/y fixes axis, CTRL fixes aspect\", \"fa fa-arrows\", \"pan\"], [\"Zoom\", \"Zoom to rectangle\\nx/y fixes axis\", \"fa fa-square-o\", \"zoom\"], [\"\", \"\", \"\", \"\"], [\"Download\", \"Download plot\", \"fa fa-floppy-o\", \"download\"]];\n",
       "\n",
       "mpl.extensions = [\"eps\", \"jpeg\", \"pgf\", \"pdf\", \"png\", \"ps\", \"raw\", \"svg\", \"tif\", \"webp\"];\n",
       "\n",
       "mpl.default_extension = \"png\";/* global mpl */\n",
       "\n",
       "var comm_websocket_adapter = function (comm) {\n",
       "    // Create a \"websocket\"-like object which calls the given IPython comm\n",
       "    // object with the appropriate methods. Currently this is a non binary\n",
       "    // socket, so there is still some room for performance tuning.\n",
       "    var ws = {};\n",
       "\n",
       "    ws.binaryType = comm.kernel.ws.binaryType;\n",
       "    ws.readyState = comm.kernel.ws.readyState;\n",
       "    function updateReadyState(_event) {\n",
       "        if (comm.kernel.ws) {\n",
       "            ws.readyState = comm.kernel.ws.readyState;\n",
       "        } else {\n",
       "            ws.readyState = 3; // Closed state.\n",
       "        }\n",
       "    }\n",
       "    comm.kernel.ws.addEventListener('open', updateReadyState);\n",
       "    comm.kernel.ws.addEventListener('close', updateReadyState);\n",
       "    comm.kernel.ws.addEventListener('error', updateReadyState);\n",
       "\n",
       "    ws.close = function () {\n",
       "        comm.close();\n",
       "    };\n",
       "    ws.send = function (m) {\n",
       "        //console.log('sending', m);\n",
       "        comm.send(m);\n",
       "    };\n",
       "    // Register the callback with on_msg.\n",
       "    comm.on_msg(function (msg) {\n",
       "        //console.log('receiving', msg['content']['data'], msg);\n",
       "        var data = msg['content']['data'];\n",
       "        if (data['blob'] !== undefined) {\n",
       "            data = {\n",
       "                data: new Blob(msg['buffers'], { type: data['blob'] }),\n",
       "            };\n",
       "        }\n",
       "        // Pass the mpl event to the overridden (by mpl) onmessage function.\n",
       "        ws.onmessage(data);\n",
       "    });\n",
       "    return ws;\n",
       "};\n",
       "\n",
       "mpl.mpl_figure_comm = function (comm, msg) {\n",
       "    // This is the function which gets called when the mpl process\n",
       "    // starts-up an IPython Comm through the \"matplotlib\" channel.\n",
       "\n",
       "    var id = msg.content.data.id;\n",
       "    // Get hold of the div created by the display call when the Comm\n",
       "    // socket was opened in Python.\n",
       "    var element = document.getElementById(id);\n",
       "    var ws_proxy = comm_websocket_adapter(comm);\n",
       "\n",
       "    function ondownload(figure, _format) {\n",
       "        window.open(figure.canvas.toDataURL());\n",
       "    }\n",
       "\n",
       "    var fig = new mpl.figure(id, ws_proxy, ondownload, element);\n",
       "\n",
       "    // Call onopen now - mpl needs it, as it is assuming we've passed it a real\n",
       "    // web socket which is closed, not our websocket->open comm proxy.\n",
       "    ws_proxy.onopen();\n",
       "\n",
       "    fig.parent_element = element;\n",
       "    fig.cell_info = mpl.find_output_cell(\"<div id='\" + id + \"'></div>\");\n",
       "    if (!fig.cell_info) {\n",
       "        console.error('Failed to find cell for figure', id, fig);\n",
       "        return;\n",
       "    }\n",
       "    fig.cell_info[0].output_area.element.on(\n",
       "        'cleared',\n",
       "        { fig: fig },\n",
       "        fig._remove_fig_handler\n",
       "    );\n",
       "};\n",
       "\n",
       "mpl.figure.prototype.handle_close = function (fig, msg) {\n",
       "    var width = fig.canvas.width / fig.ratio;\n",
       "    fig.cell_info[0].output_area.element.off(\n",
       "        'cleared',\n",
       "        fig._remove_fig_handler\n",
       "    );\n",
       "    fig.resizeObserverInstance.unobserve(fig.canvas_div);\n",
       "\n",
       "    // Update the output cell to use the data from the current canvas.\n",
       "    fig.push_to_output();\n",
       "    var dataURL = fig.canvas.toDataURL();\n",
       "    // Re-enable the keyboard manager in IPython - without this line, in FF,\n",
       "    // the notebook keyboard shortcuts fail.\n",
       "    IPython.keyboard_manager.enable();\n",
       "    fig.parent_element.innerHTML =\n",
       "        '<img src=\"' + dataURL + '\" width=\"' + width + '\">';\n",
       "    fig.close_ws(fig, msg);\n",
       "};\n",
       "\n",
       "mpl.figure.prototype.close_ws = function (fig, msg) {\n",
       "    fig.send_message('closing', msg);\n",
       "    // fig.ws.close()\n",
       "};\n",
       "\n",
       "mpl.figure.prototype.push_to_output = function (_remove_interactive) {\n",
       "    // Turn the data on the canvas into data in the output cell.\n",
       "    var width = this.canvas.width / this.ratio;\n",
       "    var dataURL = this.canvas.toDataURL();\n",
       "    this.cell_info[1]['text/html'] =\n",
       "        '<img src=\"' + dataURL + '\" width=\"' + width + '\">';\n",
       "};\n",
       "\n",
       "mpl.figure.prototype.updated_canvas_event = function () {\n",
       "    // Tell IPython that the notebook contents must change.\n",
       "    IPython.notebook.set_dirty(true);\n",
       "    this.send_message('ack', {});\n",
       "    var fig = this;\n",
       "    // Wait a second, then push the new image to the DOM so\n",
       "    // that it is saved nicely (might be nice to debounce this).\n",
       "    setTimeout(function () {\n",
       "        fig.push_to_output();\n",
       "    }, 1000);\n",
       "};\n",
       "\n",
       "mpl.figure.prototype._init_toolbar = function () {\n",
       "    var fig = this;\n",
       "\n",
       "    var toolbar = document.createElement('div');\n",
       "    toolbar.classList = 'btn-toolbar';\n",
       "    this.root.appendChild(toolbar);\n",
       "\n",
       "    function on_click_closure(name) {\n",
       "        return function (_event) {\n",
       "            return fig.toolbar_button_onclick(name);\n",
       "        };\n",
       "    }\n",
       "\n",
       "    function on_mouseover_closure(tooltip) {\n",
       "        return function (event) {\n",
       "            if (!event.currentTarget.disabled) {\n",
       "                return fig.toolbar_button_onmouseover(tooltip);\n",
       "            }\n",
       "        };\n",
       "    }\n",
       "\n",
       "    fig.buttons = {};\n",
       "    var buttonGroup = document.createElement('div');\n",
       "    buttonGroup.classList = 'btn-group';\n",
       "    var button;\n",
       "    for (var toolbar_ind in mpl.toolbar_items) {\n",
       "        var name = mpl.toolbar_items[toolbar_ind][0];\n",
       "        var tooltip = mpl.toolbar_items[toolbar_ind][1];\n",
       "        var image = mpl.toolbar_items[toolbar_ind][2];\n",
       "        var method_name = mpl.toolbar_items[toolbar_ind][3];\n",
       "\n",
       "        if (!name) {\n",
       "            /* Instead of a spacer, we start a new button group. */\n",
       "            if (buttonGroup.hasChildNodes()) {\n",
       "                toolbar.appendChild(buttonGroup);\n",
       "            }\n",
       "            buttonGroup = document.createElement('div');\n",
       "            buttonGroup.classList = 'btn-group';\n",
       "            continue;\n",
       "        }\n",
       "\n",
       "        button = fig.buttons[name] = document.createElement('button');\n",
       "        button.classList = 'btn btn-default';\n",
       "        button.href = '#';\n",
       "        button.title = name;\n",
       "        button.innerHTML = '<i class=\"fa ' + image + ' fa-lg\"></i>';\n",
       "        button.addEventListener('click', on_click_closure(method_name));\n",
       "        button.addEventListener('mouseover', on_mouseover_closure(tooltip));\n",
       "        buttonGroup.appendChild(button);\n",
       "    }\n",
       "\n",
       "    if (buttonGroup.hasChildNodes()) {\n",
       "        toolbar.appendChild(buttonGroup);\n",
       "    }\n",
       "\n",
       "    // Add the status bar.\n",
       "    var status_bar = document.createElement('span');\n",
       "    status_bar.classList = 'mpl-message pull-right';\n",
       "    toolbar.appendChild(status_bar);\n",
       "    this.message = status_bar;\n",
       "\n",
       "    // Add the close button to the window.\n",
       "    var buttongrp = document.createElement('div');\n",
       "    buttongrp.classList = 'btn-group inline pull-right';\n",
       "    button = document.createElement('button');\n",
       "    button.classList = 'btn btn-mini btn-primary';\n",
       "    button.href = '#';\n",
       "    button.title = 'Stop Interaction';\n",
       "    button.innerHTML = '<i class=\"fa fa-power-off icon-remove icon-large\"></i>';\n",
       "    button.addEventListener('click', function (_evt) {\n",
       "        fig.handle_close(fig, {});\n",
       "    });\n",
       "    button.addEventListener(\n",
       "        'mouseover',\n",
       "        on_mouseover_closure('Stop Interaction')\n",
       "    );\n",
       "    buttongrp.appendChild(button);\n",
       "    var titlebar = this.root.querySelector('.ui-dialog-titlebar');\n",
       "    titlebar.insertBefore(buttongrp, titlebar.firstChild);\n",
       "};\n",
       "\n",
       "mpl.figure.prototype._remove_fig_handler = function (event) {\n",
       "    var fig = event.data.fig;\n",
       "    if (event.target !== this) {\n",
       "        // Ignore bubbled events from children.\n",
       "        return;\n",
       "    }\n",
       "    fig.close_ws(fig, {});\n",
       "};\n",
       "\n",
       "mpl.figure.prototype._root_extra_style = function (el) {\n",
       "    el.style.boxSizing = 'content-box'; // override notebook setting of border-box.\n",
       "};\n",
       "\n",
       "mpl.figure.prototype._canvas_extra_style = function (el) {\n",
       "    // this is important to make the div 'focusable\n",
       "    el.setAttribute('tabindex', 0);\n",
       "    // reach out to IPython and tell the keyboard manager to turn it's self\n",
       "    // off when our div gets focus\n",
       "\n",
       "    // location in version 3\n",
       "    if (IPython.notebook.keyboard_manager) {\n",
       "        IPython.notebook.keyboard_manager.register_events(el);\n",
       "    } else {\n",
       "        // location in version 2\n",
       "        IPython.keyboard_manager.register_events(el);\n",
       "    }\n",
       "};\n",
       "\n",
       "mpl.figure.prototype._key_event_extra = function (event, _name) {\n",
       "    // Check for shift+enter\n",
       "    if (event.shiftKey && event.which === 13) {\n",
       "        this.canvas_div.blur();\n",
       "        // select the cell after this one\n",
       "        var index = IPython.notebook.find_cell_index(this.cell_info[0]);\n",
       "        IPython.notebook.select(index + 1);\n",
       "    }\n",
       "};\n",
       "\n",
       "mpl.figure.prototype.handle_save = function (fig, _msg) {\n",
       "    fig.ondownload(fig, null);\n",
       "};\n",
       "\n",
       "mpl.find_output_cell = function (html_output) {\n",
       "    // Return the cell and output element which can be found *uniquely* in the notebook.\n",
       "    // Note - this is a bit hacky, but it is done because the \"notebook_saving.Notebook\"\n",
       "    // IPython event is triggered only after the cells have been serialised, which for\n",
       "    // our purposes (turning an active figure into a static one), is too late.\n",
       "    var cells = IPython.notebook.get_cells();\n",
       "    var ncells = cells.length;\n",
       "    for (var i = 0; i < ncells; i++) {\n",
       "        var cell = cells[i];\n",
       "        if (cell.cell_type === 'code') {\n",
       "            for (var j = 0; j < cell.output_area.outputs.length; j++) {\n",
       "                var data = cell.output_area.outputs[j];\n",
       "                if (data.data) {\n",
       "                    // IPython >= 3 moved mimebundle to data attribute of output\n",
       "                    data = data.data;\n",
       "                }\n",
       "                if (data['text/html'] === html_output) {\n",
       "                    return [cell, data, j];\n",
       "                }\n",
       "            }\n",
       "        }\n",
       "    }\n",
       "};\n",
       "\n",
       "// Register the function which deals with the matplotlib target/channel.\n",
       "// The kernel may be null if the page has been refreshed.\n",
       "if (IPython.notebook.kernel !== null) {\n",
       "    IPython.notebook.kernel.comm_manager.register_target(\n",
       "        'matplotlib',\n",
       "        mpl.mpl_figure_comm\n",
       "    );\n",
       "}\n"
      ],
      "text/plain": [
       "<IPython.core.display.Javascript object>"
      ]
     },
     "metadata": {},
     "output_type": "display_data"
    },
    {
     "data": {
      "text/html": [
       "<img src=\"data:image/png;base64,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\" width=\"640\">"
      ],
      "text/plain": [
       "<IPython.core.display.HTML object>"
      ]
     },
     "metadata": {},
     "output_type": "display_data"
    }
   ],
   "source": [
    "fig"
   ]
  },
  {
   "cell_type": "code",
   "execution_count": 10,
   "id": "5d1cede6",
   "metadata": {},
   "outputs": [],
   "source": []
  },
  {
   "cell_type": "code",
   "execution_count": null,
   "id": "3b467829",
   "metadata": {},
   "outputs": [],
   "source": [
    "plt.xlim([1e4, 1e6])\n",
    "plt.ylim([1e-4, 1])\n",
    "fig.tight_layout()"
   ]
  },
  {
   "cell_type": "code",
   "execution_count": null,
   "id": "3ae65123",
   "metadata": {},
   "outputs": [],
   "source": []
  }
 ],
 "metadata": {
  "kernelspec": {
   "display_name": "Python 3 (ipykernel)",
   "language": "python",
   "name": "python3"
  },
  "language_info": {
   "codemirror_mode": {
    "name": "ipython",
    "version": 3
   },
   "file_extension": ".py",
   "mimetype": "text/x-python",
   "name": "python",
   "nbconvert_exporter": "python",
   "pygments_lexer": "ipython3",
   "version": "3.9.10"
  }
 },
 "nbformat": 4,
 "nbformat_minor": 5
}
